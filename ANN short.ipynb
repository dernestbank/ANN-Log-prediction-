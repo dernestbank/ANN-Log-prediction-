{
 "cells": [
  {
   "cell_type": "code",
   "execution_count": 17,
   "metadata": {},
   "outputs": [],
   "source": [
    "import numpy as np\n",
    "import pandas as pd\n",
    "import matplotlib.pyplot as plt\n",
    "import seaborn as sns\n",
    "\n",
    "import tensorflow as tf\n",
    "\n",
    "from tensorflow import keras\n",
    "from tensorflow.keras import layers\n",
    "from tensorflow.keras.layers.experimental import preprocessing\n",
    "\n",
    "from sklearn import datasets, metrics, model_selection\n"
   ]
  },
  {
   "cell_type": "code",
   "execution_count": 46,
   "metadata": {
    "scrolled": true
   },
   "outputs": [
    {
     "name": "stdout",
     "output_type": "stream",
     "text": [
      "[[-1.73163915  2.51697914  0.14781493 ... -2.87725798 -0.02998333\n",
      "  -3.06763472]\n",
      " [-1.73081574  2.52923055  0.4129627  ... -2.93944911 -0.31479146\n",
      "  -3.7477384 ]\n",
      " [-1.72999232  2.54148197  0.80347369 ... -3.00164023 -0.25737338\n",
      "  -4.21784884]\n",
      " ...\n",
      " [ 1.72999232 -0.57576699 -0.63341287 ...  0.06032096 -0.12310411\n",
      "   1.7543647 ]\n",
      " [ 1.73081574 -0.57596783 -0.60694777 ...  0.14599241 -0.13214277\n",
      "   1.74230317]\n",
      " [ 1.73163915 -0.57616867 -0.90593453 ...  0.15804987 -0.15340622\n",
      "   1.7008101 ]]\n",
      "train samples: 2944\n",
      "test samples 1263\n"
     ]
    }
   ],
   "source": [
    "# non pcas\n",
    "\n",
    "xlsx = pd.ExcelFile('./Data/Outlier_thresh1_50.xlsx')\n",
    "df = pd.read_excel(xlsx, '1S 4X')\n",
    "dataset1= df.copy()\n",
    "\n",
    "\n",
    "\n",
    "\n",
    "from sklearn.preprocessing import StandardScaler\n",
    "scaler1 = StandardScaler()\n",
    "Sd_scaler1 =scaler1.fit(dataset1)\n",
    "data1_Sd= Sd_scaler1.transform(dataset1)\n",
    "print(data1_Sd)\n",
    "    \n",
    "    #convert to dataframe\n",
    "dataset= pd.DataFrame(data1_Sd, columns=dataset1.keys())\n",
    "\n",
    "# dropping columns\n",
    "droppies= [ 'SFL' , 'NPHI', 'LLS', 'LLD']\n",
    "\n",
    "dataset.drop(droppies, inplace=True, axis=1)\n",
    "\n",
    "# split datat into input and target\n",
    "\n",
    "inputs = dataset.copy()\n",
    "\n",
    "target = inputs.pop('RHOB')\n",
    "\n",
    "\n",
    "train_input, test_input, train_target, test_target = model_selection.train_test_split(inputs, target, train_size=0.7)\n",
    "\n",
    "print('train samples:', len(train_input))\n",
    "print('test samples', len(test_input))\n"
   ]
  },
  {
   "cell_type": "code",
   "execution_count": 47,
   "metadata": {},
   "outputs": [
    {
     "data": {
      "text/html": [
       "<div>\n",
       "<style scoped>\n",
       "    .dataframe tbody tr th:only-of-type {\n",
       "        vertical-align: middle;\n",
       "    }\n",
       "\n",
       "    .dataframe tbody tr th {\n",
       "        vertical-align: top;\n",
       "    }\n",
       "\n",
       "    .dataframe thead th {\n",
       "        text-align: right;\n",
       "    }\n",
       "</style>\n",
       "<table border=\"1\" class=\"dataframe\">\n",
       "  <thead>\n",
       "    <tr style=\"text-align: right;\">\n",
       "      <th></th>\n",
       "      <th>DEPTH</th>\n",
       "      <th>CALI</th>\n",
       "      <th>GR</th>\n",
       "      <th>ILD</th>\n",
       "      <th>ITT</th>\n",
       "      <th>MSFL</th>\n",
       "      <th>RHOB</th>\n",
       "      <th>SP</th>\n",
       "    </tr>\n",
       "  </thead>\n",
       "  <tbody>\n",
       "    <tr>\n",
       "      <th>0</th>\n",
       "      <td>-1.731639</td>\n",
       "      <td>2.516979</td>\n",
       "      <td>0.147815</td>\n",
       "      <td>0.637840</td>\n",
       "      <td>-0.317773</td>\n",
       "      <td>-0.685180</td>\n",
       "      <td>-2.877258</td>\n",
       "      <td>-3.067635</td>\n",
       "    </tr>\n",
       "    <tr>\n",
       "      <th>1</th>\n",
       "      <td>-1.730816</td>\n",
       "      <td>2.529231</td>\n",
       "      <td>0.412963</td>\n",
       "      <td>-0.218280</td>\n",
       "      <td>-0.412743</td>\n",
       "      <td>-0.685559</td>\n",
       "      <td>-2.939449</td>\n",
       "      <td>-3.747738</td>\n",
       "    </tr>\n",
       "    <tr>\n",
       "      <th>2</th>\n",
       "      <td>-1.729992</td>\n",
       "      <td>2.541482</td>\n",
       "      <td>0.803474</td>\n",
       "      <td>-0.114471</td>\n",
       "      <td>-0.507713</td>\n",
       "      <td>-0.685904</td>\n",
       "      <td>-3.001640</td>\n",
       "      <td>-4.217849</td>\n",
       "    </tr>\n",
       "    <tr>\n",
       "      <th>3</th>\n",
       "      <td>-1.729169</td>\n",
       "      <td>2.553733</td>\n",
       "      <td>1.058458</td>\n",
       "      <td>0.136484</td>\n",
       "      <td>-0.602683</td>\n",
       "      <td>-0.685559</td>\n",
       "      <td>-3.063831</td>\n",
       "      <td>-4.944131</td>\n",
       "    </tr>\n",
       "    <tr>\n",
       "      <th>4</th>\n",
       "      <td>-1.728345</td>\n",
       "      <td>2.565985</td>\n",
       "      <td>1.026933</td>\n",
       "      <td>0.278547</td>\n",
       "      <td>-0.593186</td>\n",
       "      <td>-0.685870</td>\n",
       "      <td>-3.126022</td>\n",
       "      <td>-5.242861</td>\n",
       "    </tr>\n",
       "    <tr>\n",
       "      <th>...</th>\n",
       "      <td>...</td>\n",
       "      <td>...</td>\n",
       "      <td>...</td>\n",
       "      <td>...</td>\n",
       "      <td>...</td>\n",
       "      <td>...</td>\n",
       "      <td>...</td>\n",
       "      <td>...</td>\n",
       "    </tr>\n",
       "    <tr>\n",
       "      <th>4202</th>\n",
       "      <td>1.728345</td>\n",
       "      <td>-0.575181</td>\n",
       "      <td>-0.686343</td>\n",
       "      <td>-0.077954</td>\n",
       "      <td>-1.386187</td>\n",
       "      <td>-0.267572</td>\n",
       "      <td>-0.008639</td>\n",
       "      <td>1.709306</td>\n",
       "    </tr>\n",
       "    <tr>\n",
       "      <th>4203</th>\n",
       "      <td>1.729169</td>\n",
       "      <td>-0.575474</td>\n",
       "      <td>-0.659878</td>\n",
       "      <td>-0.065343</td>\n",
       "      <td>-1.362445</td>\n",
       "      <td>-0.270226</td>\n",
       "      <td>-0.029158</td>\n",
       "      <td>1.746619</td>\n",
       "    </tr>\n",
       "    <tr>\n",
       "      <th>4204</th>\n",
       "      <td>1.729992</td>\n",
       "      <td>-0.575767</td>\n",
       "      <td>-0.633413</td>\n",
       "      <td>-0.044466</td>\n",
       "      <td>-1.343451</td>\n",
       "      <td>-0.272881</td>\n",
       "      <td>0.060321</td>\n",
       "      <td>1.754365</td>\n",
       "    </tr>\n",
       "    <tr>\n",
       "      <th>4205</th>\n",
       "      <td>1.730816</td>\n",
       "      <td>-0.575968</td>\n",
       "      <td>-0.606948</td>\n",
       "      <td>-0.023588</td>\n",
       "      <td>-1.329205</td>\n",
       "      <td>-0.275536</td>\n",
       "      <td>0.145992</td>\n",
       "      <td>1.742303</td>\n",
       "    </tr>\n",
       "    <tr>\n",
       "      <th>4206</th>\n",
       "      <td>1.731639</td>\n",
       "      <td>-0.576169</td>\n",
       "      <td>-0.905935</td>\n",
       "      <td>-0.002710</td>\n",
       "      <td>-1.357696</td>\n",
       "      <td>-0.278190</td>\n",
       "      <td>0.158050</td>\n",
       "      <td>1.700810</td>\n",
       "    </tr>\n",
       "  </tbody>\n",
       "</table>\n",
       "<p>4207 rows × 8 columns</p>\n",
       "</div>"
      ],
      "text/plain": [
       "         DEPTH      CALI        GR       ILD       ITT      MSFL      RHOB  \\\n",
       "0    -1.731639  2.516979  0.147815  0.637840 -0.317773 -0.685180 -2.877258   \n",
       "1    -1.730816  2.529231  0.412963 -0.218280 -0.412743 -0.685559 -2.939449   \n",
       "2    -1.729992  2.541482  0.803474 -0.114471 -0.507713 -0.685904 -3.001640   \n",
       "3    -1.729169  2.553733  1.058458  0.136484 -0.602683 -0.685559 -3.063831   \n",
       "4    -1.728345  2.565985  1.026933  0.278547 -0.593186 -0.685870 -3.126022   \n",
       "...        ...       ...       ...       ...       ...       ...       ...   \n",
       "4202  1.728345 -0.575181 -0.686343 -0.077954 -1.386187 -0.267572 -0.008639   \n",
       "4203  1.729169 -0.575474 -0.659878 -0.065343 -1.362445 -0.270226 -0.029158   \n",
       "4204  1.729992 -0.575767 -0.633413 -0.044466 -1.343451 -0.272881  0.060321   \n",
       "4205  1.730816 -0.575968 -0.606948 -0.023588 -1.329205 -0.275536  0.145992   \n",
       "4206  1.731639 -0.576169 -0.905935 -0.002710 -1.357696 -0.278190  0.158050   \n",
       "\n",
       "            SP  \n",
       "0    -3.067635  \n",
       "1    -3.747738  \n",
       "2    -4.217849  \n",
       "3    -4.944131  \n",
       "4    -5.242861  \n",
       "...        ...  \n",
       "4202  1.709306  \n",
       "4203  1.746619  \n",
       "4204  1.754365  \n",
       "4205  1.742303  \n",
       "4206  1.700810  \n",
       "\n",
       "[4207 rows x 8 columns]"
      ]
     },
     "execution_count": 47,
     "metadata": {},
     "output_type": "execute_result"
    }
   ],
   "source": [
    "dataset"
   ]
  },
  {
   "cell_type": "code",
   "execution_count": 48,
   "metadata": {},
   "outputs": [
    {
     "data": {
      "text/plain": [
       "8"
      ]
     },
     "execution_count": 48,
     "metadata": {},
     "output_type": "execute_result"
    }
   ],
   "source": [
    "dataset.shape[1]"
   ]
  },
  {
   "cell_type": "markdown",
   "metadata": {},
   "source": [
    "# model"
   ]
  },
  {
   "cell_type": "code",
   "execution_count": 49,
   "metadata": {},
   "outputs": [
    {
     "name": "stdout",
     "output_type": "stream",
     "text": [
      "Model: \"sequential_4\"\n",
      "_________________________________________________________________\n",
      "Layer (type)                 Output Shape              Param #   \n",
      "=================================================================\n",
      "dense_12 (Dense)             (None, 64)                512       \n",
      "_________________________________________________________________\n",
      "dropout_8 (Dropout)          (None, 64)                0         \n",
      "_________________________________________________________________\n",
      "dense_13 (Dense)             (None, 64)                4160      \n",
      "_________________________________________________________________\n",
      "dropout_9 (Dropout)          (None, 64)                0         \n",
      "_________________________________________________________________\n",
      "dense_14 (Dense)             (None, 1)                 65        \n",
      "=================================================================\n",
      "Total params: 4,737\n",
      "Trainable params: 4,737\n",
      "Non-trainable params: 0\n",
      "_________________________________________________________________\n"
     ]
    }
   ],
   "source": [
    "from keras.models import Sequential\n",
    "from keras.layers import Dense\n",
    "from keras.layers import Dropout\n",
    "\n",
    "\n",
    "model = Sequential()\n",
    "\n",
    "model.add(Dense(64,activation=\"relu\"\n",
    "                          , input_shape=(dataset.shape[1]-1,), \n",
    "#                           kernel_regularizer=\"l2\"\n",
    "                         ))\n",
    "    \n",
    "    \n",
    "#     LSTM(units = 50, return_sequences = True, input_shape = (X_train.shape[1], 1)))\n",
    "model.add(Dropout(0.2))\n",
    "\n",
    "model.add(Dense(64,activation=\"relu\"\n",
    "#                           kernel_regularizer=\"l2\"\n",
    "                         ))\n",
    "model.add(Dropout(0.2))\n",
    "\n",
    "\n",
    "model.add(Dense(units = 1))\n",
    "              \n",
    "\n",
    "model.compile(optimizer = 'adam', loss = 'mae')\n",
    "\n",
    "model.summary()\n",
    "    "
   ]
  },
  {
   "cell_type": "markdown",
   "metadata": {},
   "source": [
    "# train"
   ]
  },
  {
   "cell_type": "code",
   "execution_count": 50,
   "metadata": {},
   "outputs": [
    {
     "name": "stdout",
     "output_type": "stream",
     "text": [
      "Wall time: 1.38 s\n"
     ]
    },
    {
     "data": {
      "text/plain": [
       "<tensorflow.python.keras.callbacks.History at 0x24c2c9e34c0>"
      ]
     },
     "execution_count": 50,
     "metadata": {},
     "output_type": "execute_result"
    }
   ],
   "source": [
    "%%time\n",
    "tb_callback = tf.keras.callbacks.TensorBoard(log_dir=\"logs/\", histogram_freq=1)\n",
    "\n",
    "model.fit(\n",
    "    train_input, train_target,\n",
    "    validation_split=0.3,\n",
    "    verbose=0,\n",
    "    batch_size = 4,\n",
    "    \n",
    "\n",
    "    #early stopping\n",
    "    callbacks= keras.callbacks.EarlyStopping(monitor='val_loss',patience=10)\n",
    "    \n",
    "    #to store callbacks in logs\n",
    "#     callbacks =[tb_callback]\n",
    ")"
   ]
  },
  {
   "cell_type": "markdown",
   "metadata": {},
   "source": [
    "# tunning"
   ]
  },
  {
   "cell_type": "code",
   "execution_count": null,
   "metadata": {},
   "outputs": [],
   "source": [
    "from sklearn.model_selection import GridSearchCV \n",
    "from keras.models import Sequential\n",
    "from keras.layers import Dense\n",
    "import warnings\n",
    "warnings.filterwarnings('ignore')\n",
    "from keras.wrappers.scikit_learn import KerasRegressor\n",
    "\n",
    "# Function to create model,for KerasClassifier\n",
    "def create_my_model():\n",
    "    #defining my model\n",
    "    mymodel = Sequential()\n",
    "    mymodel.add(Dense(64, input_dim=11, activation='relu'))\n",
    "    mymodel.add(Dropout(0.2))\n",
    "    mymodel.add(Dense(64, input_dim=11, activation='relu'))\n",
    "    mymodel.add(Dropout(0.2))\n",
    "    mymodel.add(Dense(1))\n",
    "    \n",
    "    # Compile the model\n",
    "    mymodel.compile(loss='mae', optimizer='adam', metrics=['mse'])\n",
    "    return mymodel\n",
    "\n",
    "# create model\n",
    "model_BE = KerasRegressor(build_fn=create_my_model)\n",
    "\n",
    "\n",
    "# define the grid search parameters\n",
    "batchSize = [2,3,4,5,7, 10, 12, 15, 20, 30, 40, 50, 60,70, 80, 90, 100]\n",
    "# epochs = [5,10,15, 30, 50,70,100,150]\n",
    "\n",
    "parameter_grid = dict(batch_size=batchSize,\n",
    "#                       epochs=epochs\n",
    "                     )\n",
    "\n",
    "from sklearn.model_selection import GridSearchCV \n",
    "from keras.models import Sequential\n",
    "from keras.layers import Dense\n",
    "import warnings\n",
    "warnings.filterwarnings('ignore')\n",
    "from keras.wrappers.scikit_learn import KerasRegressor\n",
    "mygrid = GridSearchCV(estimator=model_BE, param_grid=parameter_grid, n_jobs=-1, cv=3)\n",
    "grid_result = mygrid.fit(train_input, train_target)\n"
   ]
  },
  {
   "cell_type": "code",
   "execution_count": null,
   "metadata": {},
   "outputs": [],
   "source": [
    "# summarize results\n",
    "print(\"Best: %f using %s\" % (grid_result.best_score_, grid_result.best_params_))"
   ]
  },
  {
   "cell_type": "code",
   "execution_count": null,
   "metadata": {},
   "outputs": [],
   "source": [
    "from kerastuner.tuners import RandomSearch\n",
    "\n",
    "def build_model(hp):\n",
    "    model = keras.Sequential()\n",
    "\n",
    "    for i in range(hp.Int('num_layers', 1, 10)):\n",
    "        model.add(layers.Dense(units=hp.Int('units_' + str(i),\n",
    "                                            min_value=2,\n",
    "                                            max_value=64,\n",
    "                                            step=2,            \n",
    "#                                             sampling=\"log\"\n",
    "                                           ),\n",
    "                                            activation= 'relu'\n",
    "                              ))\n",
    "#         for i in [0.0,0.1,0.2,0.3,0.4,0.5,0.6,0.7,0.8,0.9,1] \n",
    "#         model.add(layers.Dropout(rate=hp.Float('D_rate_'+ str(i),\n",
    "#                                               min_value=0.0,\n",
    "#                                               max_value=1.0,\n",
    "#                                               step=0.1\n",
    "#                                                                                           ),       \n",
    "#                                 ))\n",
    "\n",
    "    model.add(layers.Dense(1,\n",
    "#                            activation='linear'\n",
    "                          ))\n",
    "    model.compile(\n",
    "        optimizer='adam',\n",
    "#         keras.optimizers.Adam\n",
    "#         (\n",
    "#         hp.Choice('learning_rate', [0.15, 0.1, 1e-2, 1e-3, 1e-4])),\n",
    "        loss='mae',\n",
    "        metrics=['mse'])\n",
    "    return model\n",
    "\n",
    "\n",
    "tuner = RandomSearch(\n",
    "    build_model,\n",
    "    objective=  'val_loss',   #   'val_mean_absolute_error', #(['loss', 'mse', 'val_loss', 'val_mse']\n",
    "    max_trials=10,\n",
    "    executions_per_trial=5,\n",
    "    directory='Test_weights2',\n",
    "    project_name='ANNTuning2')\n",
    "\n",
    "\n",
    "mygrid = GridSearchCV(estimator=model_BE, param_grid=parameter_grid, n_jobs=-1, cv=3)\n",
    "grid_result = mygrid.fit(train_input, train_target)\n",
    "\n",
    "\n",
    "\n",
    "\n",
    "tuner.search_space_summary()"
   ]
  },
  {
   "cell_type": "code",
   "execution_count": null,
   "metadata": {},
   "outputs": [],
   "source": [
    "from tensorflow.keras.layers.experimental import preprocessing\n",
    "\n",
    "\n",
    "tuner.search(train_input, train_target,\n",
    "#              epochs=35,\n",
    "             validation_data=(test_input, test_target)\n",
    "    \n",
    "            \n",
    "            \n",
    "            )"
   ]
  },
  {
   "cell_type": "code",
   "execution_count": null,
   "metadata": {},
   "outputs": [],
   "source": [
    "tuner.results_summary()"
   ]
  },
  {
   "cell_type": "code",
   "execution_count": 51,
   "metadata": {},
   "outputs": [
    {
     "data": {
      "text/plain": [
       "Text(0, 0.5, 'Predicted')"
      ]
     },
     "execution_count": 51,
     "metadata": {},
     "output_type": "execute_result"
    },
    {
     "data": {
      "image/png": "[encoded data removed]",
      "text/plain": [
       "<Figure size 432x288 with 1 Axes>"
      ]
     },
     "metadata": {
      "needs_background": "light"
     },
     "output_type": "display_data"
    }
   ],
   "source": [
    "\n",
    "\n",
    "# predicted = myFFBP.predict(test_input) #.flatten() ##Flattening converts multidimensional lists into one-dimensional lists\n",
    "\n",
    "predicted = model.predict(test_input)\n",
    "\n",
    "fig, ax = plt.subplots()\n",
    "ax.scatter(test_target, predicted, alpha=0.5)\n",
    "\n",
    "ax.set_xlabel('True Values')\n",
    "ax.set_ylabel('Predicted')\n"
   ]
  },
  {
   "cell_type": "code",
   "execution_count": 52,
   "metadata": {},
   "outputs": [
    {
     "name": "stdout",
     "output_type": "stream",
     "text": [
      "r2 score: 0.8721124682866437\n",
      "mse: 0.13085125318957233\n",
      "rmse: 0.36173367715706584\n",
      "mae: 0.25132791736146226\n"
     ]
    }
   ],
   "source": [
    "# using sklearn\n",
    "print(\"r2 score: {}\".format(metrics.r2_score(test_target,predicted)))\n",
    "print(\"mse: {}\".format(metrics.mean_squared_error(test_target, predicted)))\n",
    "print(\"rmse: {}\".format(np.sqrt(metrics.mean_squared_error(test_target, predicted))))\n",
    "print(\"mae: {}\".format(metrics.mean_absolute_error(test_target, predicted)))"
   ]
  },
  {
   "cell_type": "markdown",
   "metadata": {},
   "source": [
    "# Testing model on different wells"
   ]
  },
  {
   "cell_type": "code",
   "execution_count": 56,
   "metadata": {},
   "outputs": [
    {
     "name": "stdout",
     "output_type": "stream",
     "text": [
      "         DEPTH      CALI        GR       ILD       ITT      MSFL      RHOB  \\\n",
      "0    -1.731814  0.316453 -0.829876 -0.699847  1.634745 -0.538424  0.063099   \n",
      "1    -1.731341  0.288699 -0.936744 -0.688403  1.621596 -0.535204 -0.066989   \n",
      "2    -1.730867  0.260945 -0.941118 -0.676901  1.608446 -0.530878 -0.197077   \n",
      "3    -1.730394  0.189632 -0.945492 -0.672055  1.615021 -0.527859 -0.327165   \n",
      "4    -1.729920  0.145044 -0.949866 -0.668260  1.647895 -0.525042 -0.457253   \n",
      "...        ...       ...       ...       ...       ...       ...       ...   \n",
      "7312  1.729920 -1.119598  0.738279 -0.170576 -0.854434 -0.709215  1.784956   \n",
      "7313  1.730394 -1.119810  0.712989 -0.160358 -0.855748 -0.860840  1.728946   \n",
      "7314  1.730867 -1.120022  0.753378 -0.151075 -0.857063 -0.882875  1.760564   \n",
      "7315  1.731341 -1.120234  0.797045 -0.141791 -0.837339 -0.899526  1.626863   \n",
      "7316  1.731814 -1.120446  0.840713 -0.132508 -0.830765 -0.894546  1.493162   \n",
      "\n",
      "            SP  \n",
      "0    -1.370831  \n",
      "1    -1.365787  \n",
      "2    -1.361059  \n",
      "3    -1.356322  \n",
      "4    -1.353682  \n",
      "...        ...  \n",
      "7312  2.773669  \n",
      "7313  2.767314  \n",
      "7314  2.761058  \n",
      "7315  2.755317  \n",
      "7316  2.760742  \n",
      "\n",
      "[7317 rows x 8 columns]\n",
      "r2 score: 0.49471930701746014\n",
      "mse: 0.5052806929825397\n",
      "rmse: 0.7108309876352745\n",
      "mae: 0.5436106144938636\n"
     ]
    },
    {
     "data": {
      "image/png": "[encoded data removed]",
      "text/plain": [
       "<Figure size 432x288 with 1 Axes>"
      ]
     },
     "metadata": {
      "needs_background": "light"
     },
     "output_type": "display_data"
    }
   ],
   "source": [
    "# Feat_extracts well3\n",
    "\n",
    "\n",
    "def predictme(wellname):\n",
    "    \n",
    "    xlsx = pd.ExcelFile('./Data/Outlier_thresh1_50.xlsx')\n",
    "    df = pd.read_excel(xlsx, wellname)\n",
    "    dataset_ext= df.copy()\n",
    "\n",
    "\n",
    "    from sklearn.preprocessing import StandardScaler\n",
    "    scaler1 = StandardScaler()\n",
    "    Sd_scaler1 =scaler1.fit(dataset_ext)\n",
    "    data1_Sd= Sd_scaler1.transform(dataset_ext)\n",
    "    # print(data1_Sd)\n",
    "\n",
    "            #convert to dataframe\n",
    "    dataset= pd.DataFrame(data1_Sd, columns=dataset_ext.keys())\n",
    "\n",
    "\n",
    "    # dropping columns\n",
    "    dataset.drop(droppies, inplace=True, axis=1)\n",
    "\n",
    "    print(dataset)\n",
    "    # split datat into input and target\n",
    "\n",
    "    inputs2 = dataset.copy()\n",
    "    target = inputs2.pop('RHOB')\n",
    "\n",
    "\n",
    "    predicted = model.predict(inputs2)\n",
    "\n",
    "    fig, ax = plt.subplots()\n",
    "    ax.scatter(target, predicted, alpha=0.5)\n",
    "\n",
    "    ax.set_xlabel('True Values')\n",
    "    ax.set_ylabel('Predicted')\n",
    "\n",
    "\n",
    "    print(\"r2 score: {}\".format(metrics.r2_score(target, predicted)))\n",
    "    print(\"mse: {}\".format(metrics.mean_squared_error(target, predicted)))\n",
    "    print(\"rmse: {}\".format(np.sqrt(metrics.mean_squared_error(target, predicted))))\n",
    "    print(\"mae: {}\".format(metrics.mean_absolute_error(target, predicted)))\n",
    "    \n",
    "    return \n",
    "\n",
    "predictme('1S 3X')\n"
   ]
  },
  {
   "cell_type": "code",
   "execution_count": null,
   "metadata": {},
   "outputs": [],
   "source": []
  },
  {
   "cell_type": "code",
   "execution_count": null,
   "metadata": {},
   "outputs": [],
   "source": []
  },
  {
   "cell_type": "code",
   "execution_count": null,
   "metadata": {},
   "outputs": [],
   "source": []
  },
  {
   "cell_type": "code",
   "execution_count": null,
   "metadata": {},
   "outputs": [],
   "source": []
  }
 ],
 "metadata": {
  "kernelspec": {
   "display_name": "Python 3",
   "language": "python",
   "name": "python3"
  },
  "language_info": {
   "codemirror_mode": {
    "name": "ipython",
    "version": 3
   },
   "file_extension": ".py",
   "mimetype": "text/x-python",
   "name": "python",
   "nbconvert_exporter": "python",
   "pygments_lexer": "ipython3",
   "version": "3.8.5"
  },
  "varInspector": {
   "cols": {
    "lenName": 16,
    "lenType": 16,
    "lenVar": 40
   },
   "kernels_config": {
    "python": {
     "delete_cmd_postfix": "",
     "delete_cmd_prefix": "del ",
     "library": "var_list.py",
     "varRefreshCmd": "print(var_dic_list())"
    },
    "r": {
     "delete_cmd_postfix": ") ",
     "delete_cmd_prefix": "rm(",
     "library": "var_list.r",
     "varRefreshCmd": "cat(var_dic_list()) "
    }
   },
   "types_to_exclude": [
    "module",
    "function",
    "builtin_function_or_method",
    "instance",
    "_Feature"
   ],
   "window_display": false
  }
 },
 "nbformat": 4,
 "nbformat_minor": 4
}
