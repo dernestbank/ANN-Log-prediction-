{
 "cells": [
  {
   "cell_type": "code",
   "execution_count": null,
   "metadata": {},
   "outputs": [],
   "source": []
  },
  {
   "cell_type": "code",
   "execution_count": 1,
   "metadata": {},
   "outputs": [],
   "source": [
    "import numpy as np\n",
    "import pandas as pd\n",
    "import matplotlib.pyplot as plt\n",
    "import seaborn as sns\n",
    "\n",
    "import tensorflow as tf\n",
    "\n",
    "from tensorflow import keras\n",
    "from tensorflow.keras import layers\n",
    "from tensorflow.keras.layers.experimental import preprocessing\n",
    "\n",
    "from sklearn import datasets, metrics, model_selection\n"
   ]
  },
  {
   "cell_type": "code",
   "execution_count": 23,
   "metadata": {},
   "outputs": [
    {
     "ename": "SyntaxError",
     "evalue": "invalid syntax (<ipython-input-23-6b2ffe73a884>, line 1)",
     "output_type": "error",
     "traceback": [
      "\u001b[1;36m  File \u001b[1;32m\"<ipython-input-23-6b2ffe73a884>\"\u001b[1;36m, line \u001b[1;32m1\u001b[0m\n\u001b[1;33m    For tensorboard\u001b[0m\n\u001b[1;37m        ^\u001b[0m\n\u001b[1;31mSyntaxError\u001b[0m\u001b[1;31m:\u001b[0m invalid syntax\n"
     ]
    }
   ],
   "source": [
    " For tensorboard\n",
    "    logdir=\"/logs/ANN/\" # + datetime.datetime.now().strfto,e()"
   ]
  },
  {
   "cell_type": "markdown",
   "metadata": {},
   "source": [
    "# read data\n",
    "\n",
    "xlsx = pd.ExcelFile('./Data/Outliers_out.xlsx')\n",
    "df = pd.read_excel(xlsx, '1x 5s')\n",
    "dataset= df.copy()"
   ]
  },
  {
   "cell_type": "code",
   "execution_count": null,
   "metadata": {},
   "outputs": [],
   "source": [
    "#### Split the data into train and test"
   ]
  },
  {
   "cell_type": "code",
   "execution_count": 4,
   "metadata": {},
   "outputs": [],
   "source": [
    "# the 'sample' method takes a certain fraction randomly\n",
    "#Note that we use `random_state` to ensure the reproducibility of the examples.\n",
    "train_dataset = dataset.sample(frac=0.7, random_state=0)\n",
    "test_dataset = dataset.drop(train_dataset.index)"
   ]
  },
  {
   "cell_type": "code",
   "execution_count": 5,
   "metadata": {},
   "outputs": [],
   "source": [
    "\n",
    "# split datat into input and target\n",
    "\n",
    "train_input = train_dataset.copy()\n",
    "test_input = test_dataset.copy()\n",
    "\n",
    "train_target = train_input.pop('RHOB')\n",
    "test_target = test_input.pop('RHOB')\n",
    "\n"
   ]
  },
  {
   "cell_type": "code",
   "execution_count": null,
   "metadata": {},
   "outputs": [],
   "source": [
    "normalizer = preprocessing.Normalization()\n",
    "\n",
    "#then adapt it to the data\n",
    "normalizer.adapt(np.array(train_input))\n",
    "\n",
    "# This calculates the mean and variance, and stores them in the layer.\n",
    "print(normalizer.mean.numpy())"
   ]
  },
  {
   "cell_type": "code",
   "execution_count": 6,
   "metadata": {},
   "outputs": [
    {
     "name": "stdout",
     "output_type": "stream",
     "text": [
      "Model: \"sequential\"\n",
      "_________________________________________________________________\n",
      "Layer (type)                 Output Shape              Param #   \n",
      "=================================================================\n",
      "normalization (Normalization (None, 5)                 11        \n",
      "_________________________________________________________________\n",
      "dense (Dense)                (None, 64)                384       \n",
      "_________________________________________________________________\n",
      "dense_1 (Dense)              (None, 64)                4160      \n",
      "_________________________________________________________________\n",
      "dense_2 (Dense)              (None, 1)                 65        \n",
      "=================================================================\n",
      "Total params: 4,620\n",
      "Trainable params: 4,609\n",
      "Non-trainable params: 11\n",
      "_________________________________________________________________\n"
     ]
    }
   ],
   "source": [
    "# A function to hold preprocessor, layers, model and compiler \n",
    "def FFBackProp(inputs, output):\n",
    "    #normalization\n",
    "    normalizer=preprocessing.Normalization()\n",
    "    #then adapt it to the data\n",
    "    normalizer.adapt(np.array(inputs))\n",
    "    \n",
    "    \n",
    "    #  Create layers\n",
    "    l0=normalizer\n",
    "    #Dense layers using the relu nonlinearity. #with an l2 regularization to reduce overfitting by reducing weight size\n",
    "    l1=tf.keras.layers.Dense(64,activation=\"relu\", input_shape=(5,), kernel_regularizer=\"l2\")\n",
    "    \n",
    "    layers.Dropout(0.1), #a droput layer # an attempt to reduce overfitting\n",
    "    \n",
    "    l2=tf.keras.layers.Dense(64,activation=\"relu\", kernel_regularizer=\"l2\")\n",
    "    \n",
    "    layers.Dropout(0.1),\n",
    "    \n",
    "    #A linear output layer\n",
    "    l3=tf.keras.layers.Dense(1)\n",
    "    \n",
    "    \n",
    "#     create the model with the layers formed\n",
    "    model1 =tf.keras.models.Sequential([l0,l1,l2,l3])\n",
    "    \n",
    "    \n",
    "#     compile the model\n",
    "    model1.compile(optimizer='adam',\n",
    "                loss='mean_absolute_error', #(from_logits=True),\n",
    "                metrics=[\"mse\"]\n",
    "               )\n",
    "    \n",
    "    model1.summary()\n",
    "    \n",
    "    return model1\n",
    "    \n",
    "myFFBP= FFBackProp(train_input,train_target)\n"
   ]
  },
  {
   "cell_type": "code",
   "execution_count": null,
   "metadata": {},
   "outputs": [],
   "source": [
    "# Training"
   ]
  },
  {
   "cell_type": "code",
   "execution_count": 7,
   "metadata": {},
   "outputs": [
    {
     "name": "stdout",
     "output_type": "stream",
     "text": [
      "Wall time: 5.31 s\n"
     ]
    }
   ],
   "source": [
    "%%time\n",
    "tb_callback = tf.keras.callbacks.TensorBoard(log_dir=\"logs/\", histogram_freq=1)\n",
    "\n",
    "myFFBPtraining = myFFBP.fit(\n",
    "    train_input, train_target,\n",
    "    # Calculate validation results on 30% of the training data\n",
    "    validation_split=0.3,\n",
    "     # suppress logging\n",
    "    verbose=0,\n",
    "    epochs=100,\n",
    "    \n",
    "\n",
    "    #early stopping\n",
    "    #an attempt to prevent overfitting\n",
    "    #the fuction to stop the trianing by tracking the validation loss\n",
    "    callbacks= keras.callbacks.EarlyStopping(monitor='val_loss',patience=5)\n",
    "    \n",
    "    #to store callbacks in logs\n",
    "#     callbacks =[tb_callback]\n",
    ")"
   ]
  },
  {
   "cell_type": "code",
   "execution_count": 8,
   "metadata": {},
   "outputs": [
    {
     "data": {
      "text/html": [
       "<div>\n",
       "<style scoped>\n",
       "    .dataframe tbody tr th:only-of-type {\n",
       "        vertical-align: middle;\n",
       "    }\n",
       "\n",
       "    .dataframe tbody tr th {\n",
       "        vertical-align: top;\n",
       "    }\n",
       "\n",
       "    .dataframe thead th {\n",
       "        text-align: right;\n",
       "    }\n",
       "</style>\n",
       "<table border=\"1\" class=\"dataframe\">\n",
       "  <thead>\n",
       "    <tr style=\"text-align: right;\">\n",
       "      <th></th>\n",
       "      <th>loss</th>\n",
       "      <th>mse</th>\n",
       "      <th>val_loss</th>\n",
       "      <th>val_mse</th>\n",
       "      <th>epoch</th>\n",
       "    </tr>\n",
       "  </thead>\n",
       "  <tbody>\n",
       "    <tr>\n",
       "      <th>34</th>\n",
       "      <td>0.082569</td>\n",
       "      <td>0.009821</td>\n",
       "      <td>0.080984</td>\n",
       "      <td>0.009530</td>\n",
       "      <td>34</td>\n",
       "    </tr>\n",
       "    <tr>\n",
       "      <th>35</th>\n",
       "      <td>0.080081</td>\n",
       "      <td>0.009425</td>\n",
       "      <td>0.081852</td>\n",
       "      <td>0.009806</td>\n",
       "      <td>35</td>\n",
       "    </tr>\n",
       "    <tr>\n",
       "      <th>36</th>\n",
       "      <td>0.080440</td>\n",
       "      <td>0.009630</td>\n",
       "      <td>0.090026</td>\n",
       "      <td>0.011428</td>\n",
       "      <td>36</td>\n",
       "    </tr>\n",
       "    <tr>\n",
       "      <th>37</th>\n",
       "      <td>0.081490</td>\n",
       "      <td>0.009744</td>\n",
       "      <td>0.083138</td>\n",
       "      <td>0.010244</td>\n",
       "      <td>37</td>\n",
       "    </tr>\n",
       "    <tr>\n",
       "      <th>38</th>\n",
       "      <td>0.079200</td>\n",
       "      <td>0.009369</td>\n",
       "      <td>0.081241</td>\n",
       "      <td>0.009810</td>\n",
       "      <td>38</td>\n",
       "    </tr>\n",
       "  </tbody>\n",
       "</table>\n",
       "</div>"
      ],
      "text/plain": [
       "        loss       mse  val_loss   val_mse  epoch\n",
       "34  0.082569  0.009821  0.080984  0.009530     34\n",
       "35  0.080081  0.009425  0.081852  0.009806     35\n",
       "36  0.080440  0.009630  0.090026  0.011428     36\n",
       "37  0.081490  0.009744  0.083138  0.010244     37\n",
       "38  0.079200  0.009369  0.081241  0.009810     38"
      ]
     },
     "execution_count": 8,
     "metadata": {},
     "output_type": "execute_result"
    }
   ],
   "source": [
    "\n",
    "hist = pd.DataFrame(myFFBPtraining.history)\n",
    "hist['epoch'] = myFFBPtraining.epoch\n",
    "hist.tail()"
   ]
  },
  {
   "cell_type": "code",
   "execution_count": null,
   "metadata": {},
   "outputs": [],
   "source": [
    "# a function to plot loss \n",
    "def plot_loss(arg):\n",
    "  plt.plot(arg.history['loss'], label='loss')\n",
    "  plt.plot(arg.history['val_loss'], label='val_loss')\n",
    "  plt.ylim([0, 1])\n",
    "  plt.xlabel('Epoch')\n",
    "  plt.ylabel('Error [RHOB]')\n",
    "  plt.legend()\n",
    "  plt.grid(True)\n",
    "\n",
    "\n",
    "plot_loss(myFFBPtraining)"
   ]
  },
  {
   "cell_type": "code",
   "execution_count": 9,
   "metadata": {},
   "outputs": [
    {
     "data": {
      "image/png": "[encoded data removed]",
      "text/plain": [
       "<Figure size 432x288 with 2 Axes>"
      ]
     },
     "metadata": {
      "needs_background": "light"
     },
     "output_type": "display_data"
    }
   ],
   "source": [
    "# Plot regression between predicted and actual (Validation)\n",
    "# test_predictions = dnn_model.predict(test_input).flatten()\n",
    "\n",
    "\n",
    "def plot_regre_resid(true, predicted):\n",
    "    fig, (ax1,ax2)=plt.subplots(1,2)\n",
    "    ax1.scatter(true, predicted)\n",
    "    ax1.set_xlabel('True values [RHOB]')\n",
    "    ax1.set_ylabel('Predictions [RHOB]')\n",
    "    ax1.set_title(\"Regression plot\")\n",
    "#     _ = ax1.plot([0, true.max()], [0, true.max()], ls='-', color='red')\n",
    "\n",
    "    residual = true - predicted\n",
    "    ax2.scatter(true, residual)\n",
    "    ax2.set_xlabel('actual')\n",
    "    ax2.set_ylabel('residual')\n",
    "    ax2.set_title(\"Residual plot\")\n",
    "    _ = plt.axhline(0, color='red', ls='--')\n",
    "        \n",
    "    plt.tight_layout()\n",
    "    plt.show\n",
    "    \n",
    "        \n",
    "\n",
    "test_target_actual=test_target\n",
    "\n",
    "test_target_predicted = myFFBP.predict(test_input).flatten()\n",
    "plot_regre_resid(test_target_actual,test_target_predicted)"
   ]
  },
  {
   "cell_type": "code",
   "execution_count": 10,
   "metadata": {},
   "outputs": [
    {
     "data": {
      "image/png": "[encoded data removed]",
      "text/plain": [
       "<Figure size 360x360 with 1 Axes>"
      ]
     },
     "metadata": {
      "needs_background": "light"
     },
     "output_type": "display_data"
    }
   ],
   "source": [
    "\n",
    "def plot_residual_KDE(true, predicted):\n",
    "    residual = true - predicted\n",
    "    _ = sns.displot(residual, kind=\"kde\");\n",
    "    \n",
    "    \n",
    "plot_residual_KDE(test_target_actual,test_target_predicted)"
   ]
  },
  {
   "cell_type": "code",
   "execution_count": 11,
   "metadata": {},
   "outputs": [
    {
     "name": "stdout",
     "output_type": "stream",
     "text": [
      "r2 score: 0.8036897345448937\n",
      "mse: 0.00939993615378104\n",
      "rmse: 0.09695326788603384\n",
      "mae: 0.06980218458849069\n"
     ]
    }
   ],
   "source": [
    "# using sklearn\n",
    "print(\"r2 score: {}\".format(metrics.r2_score(test_target_actual, test_target_predicted)))\n",
    "print(\"mse: {}\".format(metrics.mean_squared_error(test_target_actual, test_target_predicted)))\n",
    "print(\"rmse: {}\".format(np.sqrt(metrics.mean_squared_error(test_target_actual, test_target_predicted))))\n",
    "print(\"mae: {}\".format(metrics.mean_absolute_error(test_target_actual, test_target_predicted)))"
   ]
  },
  {
   "cell_type": "markdown",
   "metadata": {},
   "source": [
    "# Predict a different well"
   ]
  },
  {
   "cell_type": "code",
   "execution_count": 19,
   "metadata": {},
   "outputs": [],
   "source": [
    "# read different sheet from same excel book\n",
    "xlsx = pd.ExcelFile('./Data/Outliers_out.xlsx')\n",
    "df = pd.read_excel(xlsx, '1x 4s')\n",
    "dataset2= df.copy()\n",
    "\n",
    "\n",
    "# split datat into input and target\n",
    "\n",
    "inputs2 = dataset2.copy()\n",
    "target2 = inputs2.pop('RHOB')"
   ]
  },
  {
   "cell_type": "code",
   "execution_count": 20,
   "metadata": {},
   "outputs": [
    {
     "data": {
      "text/plain": [
       "Text(0, 0.5, 'predicted')"
      ]
     },
     "execution_count": 20,
     "metadata": {},
     "output_type": "execute_result"
    },
    {
     "data": {
      "image/png": "[encoded data removed]",
      "text/plain": [
       "<Figure size 432x288 with 1 Axes>"
      ]
     },
     "metadata": {
      "needs_background": "light"
     },
     "output_type": "display_data"
    }
   ],
   "source": [
    "predicted2 = myFFBP.predict(inputs2)\n",
    "fig, ax= plt.subplots()\n",
    "ax.scatter(target2,predicted2)\n",
    "ax.set_xlabel(\"True\")\n",
    "ax.set_ylabel(\"predicted\")"
   ]
  },
  {
   "cell_type": "code",
   "execution_count": 21,
   "metadata": {},
   "outputs": [
    {
     "name": "stdout",
     "output_type": "stream",
     "text": [
      "r2 score: 0.14934021113565865\n",
      "mse: 0.020142697420542914\n",
      "rmse: 0.14192497109579735\n",
      "mae: 0.10926993228534461\n"
     ]
    }
   ],
   "source": [
    "print(\"r2 score: {}\".format(metrics.r2_score( target2, predicted2)))\n",
    "print(\"mse: {}\".format(metrics.mean_squared_error( target2, predicted2)))\n",
    "print(\"rmse: {}\".format(np.sqrt(metrics.mean_squared_error( target2, predicted2))))\n",
    "print(\"mae: {}\".format(metrics.mean_absolute_error( target2, predicted2)))"
   ]
  },
  {
   "cell_type": "code",
   "execution_count": 22,
   "metadata": {},
   "outputs": [
    {
     "data": {
      "text/plain": [
       "Text(0.5, 0, 'RHOB')"
      ]
     },
     "execution_count": 22,
     "metadata": {},
     "output_type": "execute_result"
    },
    {
     "data": {
      "image/png": "[encoded data removed]",
      "text/plain": [
       "<Figure size 432x288 with 3 Axes>"
      ]
     },
     "metadata": {
      "needs_background": "light"
     },
     "output_type": "display_data"
    }
   ],
   "source": [
    "#plot subplots of predicted and actual\n",
    "inputs2 = dataset2.copy()\n",
    "Depth2= inputs2.pop(\"DEPTH\")\n",
    "\n",
    "\n",
    "fig, (ax1,ax2,ax3)=plt.subplots(1,3,sharey=True)\n",
    "fig.suptitle('A comparism of the predicted against the actual')\n",
    "ax1.set_ylabel(\"Depth\")\n",
    "ax1.plot(predicted2,Depth2)\n",
    "ax1.set_xlabel('predicted2')\n",
    "\n",
    "ax2.plot(target2,Depth2)\n",
    "ax2.set_xlabel(\"target2\")\n",
    "\n",
    "ax3.plot(predicted2,Depth2)\n",
    "ax3.plot(target2, Depth2)\n",
    "ax3.set_xlabel(\"RHOB\")"
   ]
  },
  {
   "cell_type": "code",
   "execution_count": null,
   "metadata": {},
   "outputs": [],
   "source": []
  },
  {
   "cell_type": "code",
   "execution_count": null,
   "metadata": {},
   "outputs": [],
   "source": [
    "# TENSORBOARD"
   ]
  },
  {
   "cell_type": "code",
   "execution_count": null,
   "metadata": {},
   "outputs": [],
   "source": [
    "%load_ext tensorboard\n",
    "\n",
    "%tensorboard --logdir /cont"
   ]
  }
 ],
 "metadata": {
  "kernelspec": {
   "display_name": "Python 3",
   "language": "python",
   "name": "python3"
  },
  "language_info": {
   "codemirror_mode": {
    "name": "ipython",
    "version": 3
   },
   "file_extension": ".py",
   "mimetype": "text/x-python",
   "name": "python",
   "nbconvert_exporter": "python",
   "pygments_lexer": "ipython3",
   "version": "3.8.5"
  },
  "varInspector": {
   "cols": {
    "lenName": 16,
    "lenType": 16,
    "lenVar": 40
   },
   "kernels_config": {
    "python": {
     "delete_cmd_postfix": "",
     "delete_cmd_prefix": "del ",
     "library": "var_list.py",
     "varRefreshCmd": "print(var_dic_list())"
    },
    "r": {
     "delete_cmd_postfix": ") ",
     "delete_cmd_prefix": "rm(",
     "library": "var_list.r",
     "varRefreshCmd": "cat(var_dic_list()) "
    }
   },
   "types_to_exclude": [
    "module",
    "function",
    "builtin_function_or_method",
    "instance",
    "_Feature"
   ],
   "window_display": false
  }
 },
 "nbformat": 4,
 "nbformat_minor": 4
}
