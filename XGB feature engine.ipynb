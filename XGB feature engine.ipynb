{
 "cells": [
  {
   "cell_type": "markdown",
   "metadata": {},
   "source": [
    "# AFTER FEATURE ENGINEERING"
   ]
  },
  {
   "cell_type": "code",
   "execution_count": 1,
   "metadata": {},
   "outputs": [],
   "source": [
    "#Importing Packages\n",
    "import pandas as pd\n",
    "import numpy as np\n",
    "import matplotlib.pyplot as plt\n",
    "\n",
    "from xgboost import XGBRegressor\n",
    "from xgboost import XGBRFRegressor\n",
    "\n",
    "\n",
    "from sklearn import metrics, model_selection\n",
    "from sklearn.model_selection import GridSearchCV\n",
    "from sklearn.model_selection import RandomizedSearchCV\n",
    "from sklearn.metrics import mean_squared_error\n",
    "from sklearn.metrics import mean_absolute_error\n",
    "\n",
    "# from sklearn.preprocessing import Imputer\n",
    "\n",
    "\n",
    "from sklearn.impute import SimpleImputer\n",
    "# imputer = SimpleImputer(missing_values=np.nan, strategy='mean')"
   ]
  },
  {
   "cell_type": "code",
   "execution_count": 4,
   "metadata": {},
   "outputs": [],
   "source": [
    "import sklearn.model_selection\n",
    "# help(sklearn.model_selection)"
   ]
  },
  {
   "cell_type": "code",
   "execution_count": null,
   "metadata": {},
   "outputs": [],
   "source": [
    "xlsx = pd.ExcelFile('Feat_extracts well3.xlsx')\n",
    "df = pd.read_excel(xlsx, 'PCAs')\n",
    "dataset_pca= df.copy()\n",
    "dataset_pca"
   ]
  },
  {
   "cell_type": "code",
   "execution_count": null,
   "metadata": {},
   "outputs": [],
   "source": [
    "# import treated data\n",
    "# dataset_pca['PC1', 'PC2']\n",
    "\n",
    "convert 3d to 2d\n",
    "# dataset_pca.pop('PC3')\n",
    "\n",
    "# print(dataset_pca[:,[1,2]])"
   ]
  },
  {
   "cell_type": "code",
   "execution_count": null,
   "metadata": {},
   "outputs": [],
   "source": [
    "dataset_pca\n"
   ]
  },
  {
   "cell_type": "code",
   "execution_count": null,
   "metadata": {},
   "outputs": [],
   "source": [
    "\n",
    "\n",
    "dataset_pca.pop('index')\n",
    "\n",
    "# dataset_pca1= dataset_pca('PC1','PC1','PC3')\n",
    "dataset_pca"
   ]
  },
  {
   "cell_type": "code",
   "execution_count": null,
   "metadata": {},
   "outputs": [],
   "source": [
    "\n",
    "dataset_pca.describe()"
   ]
  },
  {
   "cell_type": "code",
   "execution_count": null,
   "metadata": {},
   "outputs": [],
   "source": [
    "# import treated data\n",
    "\n",
    "xlsx_3 = pd.ExcelFile('Feat_extracts well3.xlsx')\n",
    "df_3 = pd.read_excel(xlsx_3, 'target')\n",
    "pca_target= df_3.copy()\n",
    "\n",
    "pca_target"
   ]
  },
  {
   "cell_type": "code",
   "execution_count": null,
   "metadata": {},
   "outputs": [],
   "source": [
    "train_input, test_input, train_target, test_target = model_selection.train_test_split(dataset_pca, pca_target['RHOB'], train_size=0.7)\n",
    "\n",
    "print('train samples:', len(train_input))\n",
    "print('test samples', len(test_input))\n",
    "\n",
    "# df_set = pca_input_train.append(pca_input_test)\n",
    "\n",
    "# _ = sns.displot(df_set, x=\"RHOB\" ,hue=\"type\", kind=\"kde\", log_scale=False)\n",
    "\n",
    "\n",
    "\n"
   ]
  },
  {
   "cell_type": "code",
   "execution_count": 7,
   "metadata": {},
   "outputs": [
    {
     "name": "stdout",
     "output_type": "stream",
     "text": [
      "[[-1.73192582  0.92328989 -1.24778008 ... -1.52040625 -0.81974287\n",
      "   0.2471976 ]\n",
      " [-1.73167583  0.79296935 -1.20528985 ... -1.41882247 -0.83080071\n",
      "   0.19688167]\n",
      " [-1.73142584  0.66264882 -1.1503758  ... -1.41707103 -0.84349003\n",
      "   0.14656574]\n",
      " ...\n",
      " [ 1.73142584 -1.66620868  1.17928032 ...  0.91804219 -0.17453623\n",
      "  -2.00849727]\n",
      " [ 1.73167583 -1.67133066  1.18623864 ...  0.91497716 -0.16837285\n",
      "  -2.02142083]\n",
      " [ 1.73192582 -1.66857639  1.24497167 ...  0.98415921 -0.16488329\n",
      "  -2.06777966]]\n",
      "train samples: 9699\n",
      "test samples 4158\n"
     ]
    }
   ],
   "source": [
    "# non pcas\n",
    "\n",
    "xlsx = pd.ExcelFile('./Data/Outlier_thresh1_50.xlsx')\n",
    "df = pd.read_excel(xlsx, '1S 1X')\n",
    "dataset1= df.copy()\n",
    "\n",
    "\n",
    "\n",
    "\n",
    "from sklearn.preprocessing import StandardScaler\n",
    "scaler1 = StandardScaler()\n",
    "Sd_scaler1 =scaler1.fit(dataset1)\n",
    "data1_Sd= Sd_scaler1.transform(dataset1)\n",
    "print(data1_Sd)\n",
    "    \n",
    "    #convert to dataframe\n",
    "dataset= pd.DataFrame(data1_Sd, columns=dataset1.keys())\n",
    "\n",
    "    # dropping columns\n",
    "droppies= ['SFL', 'LLS', 'ITT']\n",
    "dataset.drop(droppies, inplace=True, axis=1)\n",
    "\n",
    "# split datat into input and target\n",
    "\n",
    "inputs = dataset.copy()\n",
    "\n",
    "target = inputs.pop('RHOB')\n",
    "\n",
    "\n",
    "train_input, test_input, train_target, test_target = model_selection.train_test_split(inputs, target, train_size=0.7)\n",
    "\n",
    "print('train samples:', len(train_input))\n",
    "print('test samples', len(test_input))\n"
   ]
  },
  {
   "cell_type": "code",
   "execution_count": 6,
   "metadata": {},
   "outputs": [
    {
     "data": {
      "text/html": [
       "<div>\n",
       "<style scoped>\n",
       "    .dataframe tbody tr th:only-of-type {\n",
       "        vertical-align: middle;\n",
       "    }\n",
       "\n",
       "    .dataframe tbody tr th {\n",
       "        vertical-align: top;\n",
       "    }\n",
       "\n",
       "    .dataframe thead th {\n",
       "        text-align: right;\n",
       "    }\n",
       "</style>\n",
       "<table border=\"1\" class=\"dataframe\">\n",
       "  <thead>\n",
       "    <tr style=\"text-align: right;\">\n",
       "      <th></th>\n",
       "      <th>DEPTH</th>\n",
       "      <th>CALI</th>\n",
       "      <th>GR</th>\n",
       "      <th>ILD</th>\n",
       "      <th>ITT</th>\n",
       "      <th>MSFL</th>\n",
       "      <th>RHOB</th>\n",
       "      <th>SP</th>\n",
       "    </tr>\n",
       "  </thead>\n",
       "  <tbody>\n",
       "    <tr>\n",
       "      <th>0</th>\n",
       "      <td>-1.731639</td>\n",
       "      <td>2.516979</td>\n",
       "      <td>0.147815</td>\n",
       "      <td>0.637840</td>\n",
       "      <td>-0.317773</td>\n",
       "      <td>-0.685180</td>\n",
       "      <td>-2.877258</td>\n",
       "      <td>-3.067635</td>\n",
       "    </tr>\n",
       "    <tr>\n",
       "      <th>1</th>\n",
       "      <td>-1.730816</td>\n",
       "      <td>2.529231</td>\n",
       "      <td>0.412963</td>\n",
       "      <td>-0.218280</td>\n",
       "      <td>-0.412743</td>\n",
       "      <td>-0.685559</td>\n",
       "      <td>-2.939449</td>\n",
       "      <td>-3.747738</td>\n",
       "    </tr>\n",
       "    <tr>\n",
       "      <th>2</th>\n",
       "      <td>-1.729992</td>\n",
       "      <td>2.541482</td>\n",
       "      <td>0.803474</td>\n",
       "      <td>-0.114471</td>\n",
       "      <td>-0.507713</td>\n",
       "      <td>-0.685904</td>\n",
       "      <td>-3.001640</td>\n",
       "      <td>-4.217849</td>\n",
       "    </tr>\n",
       "    <tr>\n",
       "      <th>3</th>\n",
       "      <td>-1.729169</td>\n",
       "      <td>2.553733</td>\n",
       "      <td>1.058458</td>\n",
       "      <td>0.136484</td>\n",
       "      <td>-0.602683</td>\n",
       "      <td>-0.685559</td>\n",
       "      <td>-3.063831</td>\n",
       "      <td>-4.944131</td>\n",
       "    </tr>\n",
       "    <tr>\n",
       "      <th>4</th>\n",
       "      <td>-1.728345</td>\n",
       "      <td>2.565985</td>\n",
       "      <td>1.026933</td>\n",
       "      <td>0.278547</td>\n",
       "      <td>-0.593186</td>\n",
       "      <td>-0.685870</td>\n",
       "      <td>-3.126022</td>\n",
       "      <td>-5.242861</td>\n",
       "    </tr>\n",
       "    <tr>\n",
       "      <th>...</th>\n",
       "      <td>...</td>\n",
       "      <td>...</td>\n",
       "      <td>...</td>\n",
       "      <td>...</td>\n",
       "      <td>...</td>\n",
       "      <td>...</td>\n",
       "      <td>...</td>\n",
       "      <td>...</td>\n",
       "    </tr>\n",
       "    <tr>\n",
       "      <th>4202</th>\n",
       "      <td>1.728345</td>\n",
       "      <td>-0.575181</td>\n",
       "      <td>-0.686343</td>\n",
       "      <td>-0.077954</td>\n",
       "      <td>-1.386187</td>\n",
       "      <td>-0.267572</td>\n",
       "      <td>-0.008639</td>\n",
       "      <td>1.709306</td>\n",
       "    </tr>\n",
       "    <tr>\n",
       "      <th>4203</th>\n",
       "      <td>1.729169</td>\n",
       "      <td>-0.575474</td>\n",
       "      <td>-0.659878</td>\n",
       "      <td>-0.065343</td>\n",
       "      <td>-1.362445</td>\n",
       "      <td>-0.270226</td>\n",
       "      <td>-0.029158</td>\n",
       "      <td>1.746619</td>\n",
       "    </tr>\n",
       "    <tr>\n",
       "      <th>4204</th>\n",
       "      <td>1.729992</td>\n",
       "      <td>-0.575767</td>\n",
       "      <td>-0.633413</td>\n",
       "      <td>-0.044466</td>\n",
       "      <td>-1.343451</td>\n",
       "      <td>-0.272881</td>\n",
       "      <td>0.060321</td>\n",
       "      <td>1.754365</td>\n",
       "    </tr>\n",
       "    <tr>\n",
       "      <th>4205</th>\n",
       "      <td>1.730816</td>\n",
       "      <td>-0.575968</td>\n",
       "      <td>-0.606948</td>\n",
       "      <td>-0.023588</td>\n",
       "      <td>-1.329205</td>\n",
       "      <td>-0.275536</td>\n",
       "      <td>0.145992</td>\n",
       "      <td>1.742303</td>\n",
       "    </tr>\n",
       "    <tr>\n",
       "      <th>4206</th>\n",
       "      <td>1.731639</td>\n",
       "      <td>-0.576169</td>\n",
       "      <td>-0.905935</td>\n",
       "      <td>-0.002710</td>\n",
       "      <td>-1.357696</td>\n",
       "      <td>-0.278190</td>\n",
       "      <td>0.158050</td>\n",
       "      <td>1.700810</td>\n",
       "    </tr>\n",
       "  </tbody>\n",
       "</table>\n",
       "<p>4207 rows × 8 columns</p>\n",
       "</div>"
      ],
      "text/plain": [
       "         DEPTH      CALI        GR       ILD       ITT      MSFL      RHOB  \\\n",
       "0    -1.731639  2.516979  0.147815  0.637840 -0.317773 -0.685180 -2.877258   \n",
       "1    -1.730816  2.529231  0.412963 -0.218280 -0.412743 -0.685559 -2.939449   \n",
       "2    -1.729992  2.541482  0.803474 -0.114471 -0.507713 -0.685904 -3.001640   \n",
       "3    -1.729169  2.553733  1.058458  0.136484 -0.602683 -0.685559 -3.063831   \n",
       "4    -1.728345  2.565985  1.026933  0.278547 -0.593186 -0.685870 -3.126022   \n",
       "...        ...       ...       ...       ...       ...       ...       ...   \n",
       "4202  1.728345 -0.575181 -0.686343 -0.077954 -1.386187 -0.267572 -0.008639   \n",
       "4203  1.729169 -0.575474 -0.659878 -0.065343 -1.362445 -0.270226 -0.029158   \n",
       "4204  1.729992 -0.575767 -0.633413 -0.044466 -1.343451 -0.272881  0.060321   \n",
       "4205  1.730816 -0.575968 -0.606948 -0.023588 -1.329205 -0.275536  0.145992   \n",
       "4206  1.731639 -0.576169 -0.905935 -0.002710 -1.357696 -0.278190  0.158050   \n",
       "\n",
       "            SP  \n",
       "0    -3.067635  \n",
       "1    -3.747738  \n",
       "2    -4.217849  \n",
       "3    -4.944131  \n",
       "4    -5.242861  \n",
       "...        ...  \n",
       "4202  1.709306  \n",
       "4203  1.746619  \n",
       "4204  1.754365  \n",
       "4205  1.742303  \n",
       "4206  1.700810  \n",
       "\n",
       "[4207 rows x 8 columns]"
      ]
     },
     "execution_count": 6,
     "metadata": {},
     "output_type": "execute_result"
    }
   ],
   "source": [
    "dataset"
   ]
  },
  {
   "cell_type": "code",
   "execution_count": 8,
   "metadata": {},
   "outputs": [],
   "source": [
    "## Hyper Parameter Optimization\n",
    "\n",
    "booster=['gbtree','gblinear']\n",
    "base_score=[0.25,0.5,0.75,1]\n",
    "objective = ['reg:squarederror']\n",
    "\n",
    "\n",
    "subsample = [0.5, 0.7]\n",
    "colsample_bytree= [0.5, 0.7]\n",
    "n_estimators = [100, 500, 900, 1100, 1500]\n",
    "\n",
    "learning_rate=[0.05,0.01,0.05, 0.08,0.095, 0.1,0.15,0.20]\n",
    "max_depth = [2, 3, 5, 10, 15 ]\n",
    "min_child_weight=[1,2,3,4,6,8,10]"
   ]
  },
  {
   "cell_type": "code",
   "execution_count": 9,
   "metadata": {},
   "outputs": [],
   "source": [
    "# Define the grid of hyperparameters to search\n",
    "hyperparameter_grid = {\n",
    "    'n_estimators': n_estimators,\n",
    "    'max_depth':max_depth,\n",
    "    'learning_rate':learning_rate,\n",
    "    'min_child_weight':min_child_weight,\n",
    "    'booster':booster,\n",
    "    'base_score':base_score\n",
    "    }\n",
    "\n",
    "\n",
    "hyperparameter_grid2={\n",
    "    \n",
    "}\n",
    "\n",
    "param_tuning = {\n",
    "        'learning_rate': [0.01, 0.1],\n",
    "        'max_depth': [3, 5, 7, 10],\n",
    "        'min_child_weight': [1, 3, 5],\n",
    "        'subsample': [0.5, 0.7],\n",
    "        'colsample_bytree': [0.5, 0.7],\n",
    "        'n_estimators' : [100, 200, 500],\n",
    "        'objective': ['reg:squarederror']\n",
    "    }"
   ]
  },
  {
   "cell_type": "code",
   "execution_count": 10,
   "metadata": {},
   "outputs": [],
   "source": [
    "# Set up the random search with 4-fold cross validation\n",
    "import xgboost\n",
    "xgb_model1 =xgboost.XGBRegressor()\n",
    "\n",
    "xgb_model2 = XGBRegressor()\n",
    "\n",
    "random_cv = RandomizedSearchCV(estimator=xgb_model1,\n",
    "                                param_distributions=hyperparameter_grid,\n",
    "                                cv=5, \n",
    "                                n_iter=50,\n",
    "                                scoring = 'neg_mean_absolute_error',\n",
    "                                n_jobs = -1,\n",
    "                                verbose = 5, \n",
    "                                return_train_score = True,\n",
    "                                random_state=42)\n",
    "\n",
    "\n",
    "gsearch = GridSearchCV(estimator = xgb_model2,\n",
    "                        param_grid = param_tuning,                        \n",
    "                        #scoring = 'neg_mean_absolute_error', #MAE\n",
    "                        #scoring = 'neg_mean_squared_error',  #MSE\n",
    "                        cv = 5,\n",
    "                        n_jobs = -1,\n",
    "                        verbose = 1)\n",
    "\n"
   ]
  },
  {
   "cell_type": "code",
   "execution_count": null,
   "metadata": {},
   "outputs": [],
   "source": [
    "    xgb_model = XGBRegressor()\n",
    "    xgb_model.fit(train_input, train_target, early_stopping_rounds=10, eval_set=[(test_input, test_target)], verbose=False)\n",
    "\n"
   ]
  },
  {
   "cell_type": "code",
   "execution_count": null,
   "metadata": {},
   "outputs": [],
   "source": [
    "    gsearch.fit(train_input, train_target,\n",
    "                eval_set=[(test_input, test_target)],\n",
    "               early_stopping_rounds=10\n",
    "               )"
   ]
  },
  {
   "cell_type": "code",
   "execution_count": null,
   "metadata": {},
   "outputs": [],
   "source": [
    "# Best params\n",
    "gsearch.best_params_"
   ]
  },
  {
   "cell_type": "code",
   "execution_count": 11,
   "metadata": {},
   "outputs": [
    {
     "name": "stdout",
     "output_type": "stream",
     "text": [
      "Fitting 5 folds for each of 50 candidates, totalling 250 fits\n"
     ]
    },
    {
     "name": "stderr",
     "output_type": "stream",
     "text": [
      "[Parallel(n_jobs=-1)]: Using backend LokyBackend with 12 concurrent workers.\n",
      "[Parallel(n_jobs=-1)]: Done  48 tasks      | elapsed:   54.9s\n",
      "[Parallel(n_jobs=-1)]: Done 138 tasks      | elapsed:  2.3min\n"
     ]
    },
    {
     "name": "stdout",
     "output_type": "stream",
     "text": [
      "[0]\tvalidation_0-rmse:1.19026\n",
      "[1]\tvalidation_0-rmse:1.10355\n",
      "[2]\tvalidation_0-rmse:1.02388\n",
      "[3]\tvalidation_0-rmse:0.95071\n",
      "[4]\tvalidation_0-rmse:0.88376\n",
      "[5]\tvalidation_0-rmse:0.82268\n"
     ]
    },
    {
     "name": "stderr",
     "output_type": "stream",
     "text": [
      "[Parallel(n_jobs=-1)]: Done 250 out of 250 | elapsed:  4.0min finished\n"
     ]
    },
    {
     "name": "stdout",
     "output_type": "stream",
     "text": [
      "[6]\tvalidation_0-rmse:0.76647\n",
      "[7]\tvalidation_0-rmse:0.71495\n",
      "[8]\tvalidation_0-rmse:0.66847\n",
      "[9]\tvalidation_0-rmse:0.62575\n",
      "[10]\tvalidation_0-rmse:0.58686\n",
      "[11]\tvalidation_0-rmse:0.55145\n",
      "[12]\tvalidation_0-rmse:0.51854\n",
      "[13]\tvalidation_0-rmse:0.48850\n",
      "[14]\tvalidation_0-rmse:0.46173\n",
      "[15]\tvalidation_0-rmse:0.43766\n",
      "[16]\tvalidation_0-rmse:0.41598\n",
      "[17]\tvalidation_0-rmse:0.39630\n",
      "[18]\tvalidation_0-rmse:0.37835\n",
      "[19]\tvalidation_0-rmse:0.36169\n",
      "[20]\tvalidation_0-rmse:0.34660\n",
      "[21]\tvalidation_0-rmse:0.33303\n",
      "[22]\tvalidation_0-rmse:0.32094\n",
      "[23]\tvalidation_0-rmse:0.31039\n",
      "[24]\tvalidation_0-rmse:0.30042\n",
      "[25]\tvalidation_0-rmse:0.29157\n",
      "[26]\tvalidation_0-rmse:0.28413\n",
      "[27]\tvalidation_0-rmse:0.27760\n",
      "[28]\tvalidation_0-rmse:0.27163\n",
      "[29]\tvalidation_0-rmse:0.26615\n",
      "[30]\tvalidation_0-rmse:0.26117\n",
      "[31]\tvalidation_0-rmse:0.25664\n",
      "[32]\tvalidation_0-rmse:0.25270\n",
      "[33]\tvalidation_0-rmse:0.24910\n",
      "[34]\tvalidation_0-rmse:0.24610\n",
      "[35]\tvalidation_0-rmse:0.24313\n",
      "[36]\tvalidation_0-rmse:0.24058\n",
      "[37]\tvalidation_0-rmse:0.23830\n",
      "[38]\tvalidation_0-rmse:0.23619\n",
      "[39]\tvalidation_0-rmse:0.23432\n",
      "[40]\tvalidation_0-rmse:0.23268\n",
      "[41]\tvalidation_0-rmse:0.23121\n",
      "[42]\tvalidation_0-rmse:0.22983\n",
      "[43]\tvalidation_0-rmse:0.22848\n",
      "[44]\tvalidation_0-rmse:0.22732\n",
      "[45]\tvalidation_0-rmse:0.22635\n",
      "[46]\tvalidation_0-rmse:0.22551\n",
      "[47]\tvalidation_0-rmse:0.22454\n",
      "[48]\tvalidation_0-rmse:0.22363\n",
      "[49]\tvalidation_0-rmse:0.22277\n",
      "[50]\tvalidation_0-rmse:0.22209\n",
      "[51]\tvalidation_0-rmse:0.22151\n",
      "[52]\tvalidation_0-rmse:0.22089\n",
      "[53]\tvalidation_0-rmse:0.22040\n",
      "[54]\tvalidation_0-rmse:0.21994\n",
      "[55]\tvalidation_0-rmse:0.21953\n",
      "[56]\tvalidation_0-rmse:0.21919\n",
      "[57]\tvalidation_0-rmse:0.21886\n",
      "[58]\tvalidation_0-rmse:0.21848\n",
      "[59]\tvalidation_0-rmse:0.21819\n",
      "[60]\tvalidation_0-rmse:0.21791\n",
      "[61]\tvalidation_0-rmse:0.21765\n",
      "[62]\tvalidation_0-rmse:0.21738\n",
      "[63]\tvalidation_0-rmse:0.21708\n",
      "[64]\tvalidation_0-rmse:0.21685\n",
      "[65]\tvalidation_0-rmse:0.21665\n",
      "[66]\tvalidation_0-rmse:0.21641\n",
      "[67]\tvalidation_0-rmse:0.21624\n",
      "[68]\tvalidation_0-rmse:0.21607\n",
      "[69]\tvalidation_0-rmse:0.21595\n",
      "[70]\tvalidation_0-rmse:0.21583\n",
      "[71]\tvalidation_0-rmse:0.21567\n",
      "[72]\tvalidation_0-rmse:0.21557\n",
      "[73]\tvalidation_0-rmse:0.21547\n",
      "[74]\tvalidation_0-rmse:0.21539\n",
      "[75]\tvalidation_0-rmse:0.21532\n",
      "[76]\tvalidation_0-rmse:0.21525\n",
      "[77]\tvalidation_0-rmse:0.21516\n",
      "[78]\tvalidation_0-rmse:0.21506\n",
      "[79]\tvalidation_0-rmse:0.21495\n",
      "[80]\tvalidation_0-rmse:0.21487\n",
      "[81]\tvalidation_0-rmse:0.21481\n",
      "[82]\tvalidation_0-rmse:0.21470\n",
      "[83]\tvalidation_0-rmse:0.21464\n",
      "[84]\tvalidation_0-rmse:0.21458\n",
      "[85]\tvalidation_0-rmse:0.21454\n",
      "[86]\tvalidation_0-rmse:0.21451\n",
      "[87]\tvalidation_0-rmse:0.21445\n",
      "[88]\tvalidation_0-rmse:0.21440\n",
      "[89]\tvalidation_0-rmse:0.21438\n",
      "[90]\tvalidation_0-rmse:0.21434\n",
      "[91]\tvalidation_0-rmse:0.21431\n",
      "[92]\tvalidation_0-rmse:0.21429\n",
      "[93]\tvalidation_0-rmse:0.21425\n",
      "[94]\tvalidation_0-rmse:0.21421\n",
      "[95]\tvalidation_0-rmse:0.21416\n",
      "[96]\tvalidation_0-rmse:0.21415\n",
      "[97]\tvalidation_0-rmse:0.21413\n",
      "[98]\tvalidation_0-rmse:0.21412\n",
      "[99]\tvalidation_0-rmse:0.21409\n"
     ]
    },
    {
     "data": {
      "text/plain": [
       "RandomizedSearchCV(cv=5,\n",
       "                   estimator=XGBRegressor(base_score=None, booster=None,\n",
       "                                          colsample_bylevel=None,\n",
       "                                          colsample_bynode=None,\n",
       "                                          colsample_bytree=None, gamma=None,\n",
       "                                          gpu_id=None, importance_type='gain',\n",
       "                                          interaction_constraints=None,\n",
       "                                          learning_rate=None,\n",
       "                                          max_delta_step=None, max_depth=None,\n",
       "                                          min_child_weight=None, missing=nan,\n",
       "                                          monotone_constraints=None,\n",
       "                                          n_estimators=100, n...\n",
       "                                          verbosity=None),\n",
       "                   n_iter=50, n_jobs=-1,\n",
       "                   param_distributions={'base_score': [0.25, 0.5, 0.75, 1],\n",
       "                                        'booster': ['gbtree', 'gblinear'],\n",
       "                                        'learning_rate': [0.05, 0.01, 0.05,\n",
       "                                                          0.08, 0.095, 0.1,\n",
       "                                                          0.15, 0.2],\n",
       "                                        'max_depth': [2, 3, 5, 10, 15],\n",
       "                                        'min_child_weight': [1, 2, 3, 4, 6, 8,\n",
       "                                                             10],\n",
       "                                        'n_estimators': [100, 500, 900, 1100,\n",
       "                                                         1500]},\n",
       "                   random_state=42, return_train_score=True,\n",
       "                   scoring='neg_mean_absolute_error', verbose=5)"
      ]
     },
     "execution_count": 11,
     "metadata": {},
     "output_type": "execute_result"
    }
   ],
   "source": [
    "random_cv.fit(train_input, train_target,\n",
    "                eval_set=[(test_input, test_target)],\n",
    "               early_stopping_rounds=10\n",
    "               )"
   ]
  },
  {
   "cell_type": "code",
   "execution_count": 12,
   "metadata": {},
   "outputs": [
    {
     "data": {
      "text/plain": [
       "XGBRegressor(base_score=0.75, booster='gbtree', colsample_bylevel=1,\n",
       "             colsample_bynode=1, colsample_bytree=1, gamma=0, gpu_id=-1,\n",
       "             importance_type='gain', interaction_constraints='',\n",
       "             learning_rate=0.08, max_delta_step=0, max_depth=15,\n",
       "             min_child_weight=1, missing=nan, monotone_constraints='()',\n",
       "             n_estimators=100, n_jobs=12, num_parallel_tree=1, random_state=0,\n",
       "             reg_alpha=0, reg_lambda=1, scale_pos_weight=1, subsample=1,\n",
       "             tree_method='exact', validate_parameters=1, verbosity=None)"
      ]
     },
     "execution_count": 12,
     "metadata": {},
     "output_type": "execute_result"
    }
   ],
   "source": [
    "# Best params\n",
    "random_cv.best_estimator_"
   ]
  },
  {
   "cell_type": "code",
   "execution_count": null,
   "metadata": {},
   "outputs": [],
   "source": []
  },
  {
   "cell_type": "code",
   "execution_count": null,
   "metadata": {},
   "outputs": [],
   "source": [
    "#Run only in the first run of the kernel.\n",
    "hyperParameterTuning(train_input, train_target)"
   ]
  },
  {
   "cell_type": "code",
   "execution_count": null,
   "metadata": {},
   "outputs": [],
   "source": [
    "Best Params\n",
    "{'colsample_bytree': 0.7, 'learning_rate': 0.01, 'max_depth': 10, 'min_child_weight': 5, 'n_estimators': 500, 'subsample': 0.5}\n",
    "\n",
    "\n",
    "{'colsample_bytree': 0.7, 'learning_rate': 0.01, 'max_depth': 10, 'min_child_weight': 1, 'n_estimators': 500, 'subsample': 0.7}"
   ]
  },
  {
   "cell_type": "markdown",
   "metadata": {},
   "source": [
    "# Best Fit"
   ]
  },
  {
   "cell_type": "code",
   "execution_count": null,
   "metadata": {},
   "outputs": [],
   "source": [
    "model_Test = XGBRegressor(booster='gbtree',                      \n",
    "                          colsample_bytree= 0.5,\n",
    "                          learning_rate= 0.1,\n",
    "                          max_depth= 3,\n",
    "                          min_child_weight= 5,\n",
    "                          n_estimators= 200,\n",
    "                          objective= 'reg:squarederror',\n",
    "                          subsample= 0.7\n",
    "               \n",
    "                        )\n",
    "model_Test.fit(train_input, train_target,\n",
    "              early_stopping_rounds=10, eval_set=[(test_input, test_target)], verbose=False\n",
    "              )\n",
    "\n",
    "\n"
   ]
  },
  {
   "cell_type": "code",
   "execution_count": 13,
   "metadata": {},
   "outputs": [
    {
     "data": {
      "text/plain": [
       "XGBRegressor(base_score=0.75, booster='gbtree', colsample_bylevel=1,\n",
       "             colsample_bynode=1, colsample_bytree=1, gamma=0, gpu_id=-1,\n",
       "             importance_type='gain', interaction_constraints='',\n",
       "             learning_rate=0.08, max_delta_step=0, max_depth=15,\n",
       "             min_child_weight=1, missing=nan, monotone_constraints='()',\n",
       "             n_estimators=100, n_jobs=12, num_parallel_tree=1, random_state=0,\n",
       "             reg_alpha=0, reg_lambda=1, scale_pos_weight=1, subsample=1,\n",
       "             tree_method='exact', validate_parameters=1, verbosity=None)"
      ]
     },
     "execution_count": 13,
     "metadata": {},
     "output_type": "execute_result"
    }
   ],
   "source": [
    "model_Test2= XGBRegressor(base_score=0.75, booster='gbtree', colsample_bylevel=1,\n",
    "             colsample_bynode=1, colsample_bytree=1, gamma=0, gpu_id=-1,\n",
    "             importance_type='gain', interaction_constraints='',\n",
    "             learning_rate=0.08, max_delta_step=0, max_depth=15,\n",
    "             min_child_weight=1, monotone_constraints='()',\n",
    "             n_estimators=100, n_jobs=12, num_parallel_tree=1, random_state=0,\n",
    "             reg_alpha=0, reg_lambda=1, scale_pos_weight=1, subsample=1,\n",
    "             tree_method='exact', validate_parameters=1, verbosity=None)\n",
    "\n",
    "model_Test2.fit(train_input, train_target,\n",
    "              early_stopping_rounds=10, eval_set=[(test_input, test_target)], verbose=False\n",
    "              )"
   ]
  },
  {
   "cell_type": "markdown",
   "metadata": {},
   "source": [
    "## Plot results"
   ]
  },
  {
   "cell_type": "code",
   "execution_count": 14,
   "metadata": {},
   "outputs": [
    {
     "name": "stderr",
     "output_type": "stream",
     "text": [
      "D:\\anaconda3\\lib\\site-packages\\xgboost\\data.py:112: UserWarning: Use subset (sliced data) of np.ndarray is not recommended because it will generate extra copies and increase memory consumption\n",
      "  warnings.warn(\n"
     ]
    },
    {
     "data": {
      "text/plain": [
       "Text(0, 0.5, 'Predicted')"
      ]
     },
     "execution_count": 14,
     "metadata": {},
     "output_type": "execute_result"
    },
    {
     "data": {
      "image/png": "[encoded data removed]",
      "text/plain": [
       "<Figure size 432x288 with 1 Axes>"
      ]
     },
     "metadata": {
      "needs_background": "light"
     },
     "output_type": "display_data"
    }
   ],
   "source": [
    "predicted = model_Test2.predict(test_input)\n",
    "\n",
    "fig, ax = plt.subplots()\n",
    "ax.scatter(test_target, predicted, alpha=0.5)\n",
    "\n",
    "ax.set_xlabel('True Values')\n",
    "ax.set_ylabel('Predicted')"
   ]
  },
  {
   "cell_type": "code",
   "execution_count": 15,
   "metadata": {},
   "outputs": [
    {
     "name": "stdout",
     "output_type": "stream",
     "text": [
      "r2 score: 0.9564422086965766\n",
      "mse: 0.045836139622607075\n",
      "rmse: 0.21409376362380825\n",
      "mae: 0.13933403328928448\n"
     ]
    }
   ],
   "source": [
    "print(\"r2 score: {}\".format(metrics.r2_score(test_target, predicted)))\n",
    "print(\"mse: {}\".format(metrics.mean_squared_error(test_target, predicted)))\n",
    "print(\"rmse: {}\".format(np.sqrt(metrics.mean_squared_error(test_target, predicted))))\n",
    "print(\"mae: {}\".format(metrics.mean_absolute_error(test_target, predicted)))"
   ]
  },
  {
   "cell_type": "code",
   "execution_count": null,
   "metadata": {},
   "outputs": [],
   "source": []
  },
  {
   "cell_type": "markdown",
   "metadata": {},
   "source": [
    "# PREDICT DIFF WELL"
   ]
  },
  {
   "cell_type": "code",
   "execution_count": null,
   "metadata": {},
   "outputs": [],
   "source": [
    "# Feat_extracts well3\n",
    "\n",
    "xlsx_2 = pd.ExcelFile('Feat_extracts well4.xlsx')\n",
    "df_2 = pd.read_excel(xlsx_2, 'PCAs')\n",
    "dataset_pca_2= df_2.copy()\n",
    "\n",
    "\n",
    "dataset_pca_2.pop('PC3')\n",
    "dataset_pca_2.pop('index')\n",
    "\n",
    "dataset_pca_2"
   ]
  },
  {
   "cell_type": "code",
   "execution_count": null,
   "metadata": {},
   "outputs": [],
   "source": [
    "xlsx_2y = pd.ExcelFile('Feat_extracts well4.xlsx')\n",
    "df_2y = pd.read_excel(xlsx_2y, 'target')\n",
    "pca_target_2y= df_2y.copy()\n",
    "\n",
    "# pca_target_2y.pop('RHOB')\n",
    "pca_target_2y"
   ]
  },
  {
   "cell_type": "code",
   "execution_count": null,
   "metadata": {},
   "outputs": [],
   "source": [
    "predicted_2y = model_Test2.predict(dataset_pca_2)\n",
    "\n",
    "fig, ax = plt.subplots()\n",
    "ax.scatter(pca_target_2y, predicted_2y, alpha=0.5)\n",
    "\n",
    "ax.set_xlabel('True Values')\n",
    "ax.set_ylabel('Predicted')"
   ]
  },
  {
   "cell_type": "code",
   "execution_count": null,
   "metadata": {},
   "outputs": [],
   "source": [
    "print(\"r2 score: {}\".format(metrics.r2_score(pca_target_2y, predicted_2y)))\n",
    "print(\"mse: {}\".format(metrics.mean_squared_error(pca_target_2y, predicted_2y)))\n",
    "print(\"rmse: {}\".format(np.sqrt(metrics.mean_squared_error(pca_target_2y, predicted_2y))))\n",
    "print(\"mae: {}\".format(metrics.mean_absolute_error(pca_target_2y, predicted_2y)))"
   ]
  },
  {
   "cell_type": "code",
   "execution_count": null,
   "metadata": {},
   "outputs": [],
   "source": []
  },
  {
   "cell_type": "code",
   "execution_count": null,
   "metadata": {},
   "outputs": [],
   "source": [
    "# Feat_extracts well3\n",
    "\n",
    "xlsx_4 = pd.ExcelFile('Feat_extracts well4.xlsx')\n",
    "df_4 = pd.read_excel(xlsx_4, 'PCAs')\n",
    "dataset_pca_4= df_4.copy()\n",
    "\n",
    "\n",
    "# dataset_pca_4.pop('PC3')\n",
    "dataset_pca_4.pop('index')\n",
    "\n",
    "dataset_pca_4"
   ]
  },
  {
   "cell_type": "code",
   "execution_count": null,
   "metadata": {},
   "outputs": [],
   "source": [
    "xlsx_4y = pd.ExcelFile('Feat_extracts well4.xlsx')\n",
    "df_4y = pd.read_excel(xlsx_4y, 'target')\n",
    "pca_target_4y= df_4y.copy()\n",
    "\n",
    "pca_target_4y.pop('RHOB')\n",
    "pca_target_4y"
   ]
  },
  {
   "cell_type": "code",
   "execution_count": null,
   "metadata": {},
   "outputs": [],
   "source": [
    "predicted_4y = model_Test2.predict(dataset_pca_4)\n",
    "\n",
    "fig, ax = plt.subplots()\n",
    "ax.scatter(pca_target_4y, predicted_4y, alpha=0.5)\n",
    "\n",
    "ax.set_xlabel('True Values')\n",
    "ax.set_ylabel('Predicted')"
   ]
  },
  {
   "cell_type": "code",
   "execution_count": null,
   "metadata": {},
   "outputs": [],
   "source": [
    "print(\"r2 score: {}\".format(metrics.r2_score(pca_target_4y, predicted_4y)))\n",
    "print(\"mse: {}\".format(metrics.mean_squared_error(pca_target_4y, predicted_4y)))\n",
    "print(\"rmse: {}\".format(np.sqrt(metrics.mean_squared_error(pca_target_4y, predicted_4y))))\n",
    "print(\"mae: {}\".format(metrics.mean_absolute_error(pca_target_4y, predicted_4y)))"
   ]
  },
  {
   "cell_type": "code",
   "execution_count": null,
   "metadata": {},
   "outputs": [],
   "source": []
  },
  {
   "cell_type": "code",
   "execution_count": null,
   "metadata": {},
   "outputs": [],
   "source": [
    "# Feat_extracts well3\n",
    "def predictme(well_name):\n",
    "    xlsx_2 = pd.ExcelFile(well_name)\n",
    "    df_2 = pd.read_excel(xlsx_2, 'PCAs')\n",
    "    dataset_pca_2= df_2.copy()\n",
    "\n",
    "\n",
    "    # dataset_pca.pop('PC3')\n",
    "    dataset_pca_2.pop('index')\n",
    "\n",
    "    dataset_pca_2\n",
    "\n",
    "\n",
    "    xlsx_2y = pd.ExcelFile(well_name)\n",
    "    df_2y = pd.read_excel(xlsx_2y, 'target')\n",
    "    pca_target_2y= df_2y.copy()\n",
    "\n",
    "    # pca_target_2y.pop('RHOB')\n",
    "    pca_target_2y\n",
    "\n",
    "\n",
    "\n",
    "    predicted_2y = model_Test2.predict(dataset_pca_2)\n",
    "\n",
    "    fig, ax = plt.subplots()\n",
    "    ax.scatter(pca_target_2y, predicted_2y, alpha=0.5)\n",
    "\n",
    "    ax.set_xlabel('True Values')\n",
    "    ax.set_ylabel('Predicted')\n",
    "\n",
    "\n",
    "    print(\"r2 score: {}\".format(metrics.r2_score(pca_target_2y, predicted_2y)))\n",
    "    print(\"mse: {}\".format(metrics.mean_squared_error(pca_target_2y, predicted_2y)))\n",
    "    print(\"rmse: {}\".format(np.sqrt(metrics.mean_squared_error(pca_target_2y, predicted_2y))))\n",
    "    print(\"mae: {}\".format(metrics.mean_absolute_error(pca_target_2y, predicted_2y)))\n",
    "    \n",
    "    return \n",
    "\n",
    "predictme(\"Feat_extracts well2.xlsx\")"
   ]
  },
  {
   "cell_type": "code",
   "execution_count": 18,
   "metadata": {},
   "outputs": [
    {
     "name": "stdout",
     "output_type": "stream",
     "text": [
      "r2 score: 0.550335902416184\n",
      "mse: 0.44966409758381587\n",
      "rmse: 0.6705699796321155\n",
      "mae: 0.4749254805607181\n"
     ]
    },
    {
     "name": "stderr",
     "output_type": "stream",
     "text": [
      "D:\\anaconda3\\lib\\site-packages\\xgboost\\data.py:112: UserWarning: Use subset (sliced data) of np.ndarray is not recommended because it will generate extra copies and increase memory consumption\n",
      "  warnings.warn(\n"
     ]
    },
    {
     "data": {
      "image/png": "[encoded data removed]",
      "text/plain": [
       "<Figure size 432x288 with 1 Axes>"
      ]
     },
     "metadata": {
      "needs_background": "light"
     },
     "output_type": "display_data"
    }
   ],
   "source": [
    "# Feat_extracts well3\n",
    "\n",
    "\n",
    "def predictme(wellname):\n",
    "    \n",
    "    xlsx = pd.ExcelFile('./Data/Outlier_thresh1_50.xlsx')\n",
    "    df = pd.read_excel(xlsx, wellname)\n",
    "    dataset_ext= df.copy()\n",
    "\n",
    "\n",
    "    from sklearn.preprocessing import StandardScaler\n",
    "    scaler1 = StandardScaler()\n",
    "    Sd_scaler1 =scaler1.fit(dataset_ext)\n",
    "    data1_Sd= Sd_scaler1.transform(dataset_ext)\n",
    "    # print(data1_Sd)\n",
    "\n",
    "            #convert to dataframe\n",
    "    dataset= pd.DataFrame(data1_Sd, columns=dataset_ext.keys())\n",
    "\n",
    "    # dropping columns\n",
    "#     droppies= ['SFL' , 'NPHI', 'LLS', 'LLD']\n",
    "    dataset.drop(droppies, inplace=True, axis=1)\n",
    "\n",
    "#     print(dataset)\n",
    "    # split datat into input and target\n",
    "\n",
    "    inputs2 = dataset.copy()\n",
    "    target = inputs2.pop('RHOB')\n",
    "\n",
    "\n",
    "    predicted = model_Test2.predict(inputs2)\n",
    "\n",
    "    fig, ax = plt.subplots()\n",
    "    ax.scatter(target, predicted, alpha=0.5)\n",
    "\n",
    "    ax.set_xlabel('True Values')\n",
    "    ax.set_ylabel('Predicted')\n",
    "\n",
    "\n",
    "    print(\"r2 score: {}\".format(metrics.r2_score(target, predicted)))\n",
    "    print(\"mse: {}\".format(metrics.mean_squared_error(target, predicted)))\n",
    "    print(\"rmse: {}\".format(np.sqrt(metrics.mean_squared_error(target, predicted))))\n",
    "    print(\"mae: {}\".format(metrics.mean_absolute_error(target, predicted)))\n",
    "    \n",
    "    return \n",
    "\n",
    "predictme('1S 4X')\n",
    "# predictme(\"Feat_extracts well4.xlsx\")"
   ]
  },
  {
   "cell_type": "code",
   "execution_count": null,
   "metadata": {},
   "outputs": [],
   "source": []
  }
 ],
 "metadata": {
  "kernelspec": {
   "display_name": "Python 3",
   "language": "python",
   "name": "python3"
  },
  "language_info": {
   "codemirror_mode": {
    "name": "ipython",
    "version": 3
   },
   "file_extension": ".py",
   "mimetype": "text/x-python",
   "name": "python",
   "nbconvert_exporter": "python",
   "pygments_lexer": "ipython3",
   "version": "3.8.5"
  },
  "varInspector": {
   "cols": {
    "lenName": 16,
    "lenType": 16,
    "lenVar": 40
   },
   "kernels_config": {
    "python": {
     "delete_cmd_postfix": "",
     "delete_cmd_prefix": "del ",
     "library": "var_list.py",
     "varRefreshCmd": "print(var_dic_list())"
    },
    "r": {
     "delete_cmd_postfix": ") ",
     "delete_cmd_prefix": "rm(",
     "library": "var_list.r",
     "varRefreshCmd": "cat(var_dic_list()) "
    }
   },
   "types_to_exclude": [
    "module",
    "function",
    "builtin_function_or_method",
    "instance",
    "_Feature"
   ],
   "window_display": false
  }
 },
 "nbformat": 4,
 "nbformat_minor": 4
}
