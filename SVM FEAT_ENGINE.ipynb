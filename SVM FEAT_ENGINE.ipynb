{
 "cells": [
  {
   "cell_type": "code",
   "execution_count": 17,
   "metadata": {},
   "outputs": [],
   "source": [
    "%matplotlib inline\n",
    "import matplotlib.pyplot as plt\n",
    "import seaborn as sns\n",
    "import pandas as pd\n",
    "import numpy as np\n",
    "\n",
    "from sklearn import svm, datasets, metrics, model_selection, preprocessing, pipeline"
   ]
  },
  {
   "cell_type": "code",
   "execution_count": null,
   "metadata": {},
   "outputs": [],
   "source": [
    "xlsx = pd.ExcelFile('Feat_extracts well3.xlsx')\n",
    "df = pd.read_excel(xlsx, 'PCAs')\n",
    "dataset_pca= df.copy()\n",
    "dataset_pca"
   ]
  },
  {
   "cell_type": "code",
   "execution_count": null,
   "metadata": {},
   "outputs": [],
   "source": [
    "\n",
    "# convert 3d to 2d\n",
    "# dataset_pca.pop('PC3')\n",
    "\n",
    "\n",
    "\n",
    "\n",
    "dataset_pca.pop('index')\n",
    "\n",
    "\n",
    "dataset_pca"
   ]
  },
  {
   "cell_type": "code",
   "execution_count": null,
   "metadata": {},
   "outputs": [],
   "source": [
    "# import treated data\n",
    "\n",
    "xlsx_3 = pd.ExcelFile('Feat_extracts well3.xlsx')\n",
    "df_3 = pd.read_excel(xlsx_3, 'target')\n",
    "pca_target= df_3.copy()\n",
    "\n",
    "pca_target"
   ]
  },
  {
   "cell_type": "code",
   "execution_count": null,
   "metadata": {},
   "outputs": [],
   "source": []
  },
  {
   "cell_type": "code",
   "execution_count": 54,
   "metadata": {},
   "outputs": [
    {
     "name": "stdout",
     "output_type": "stream",
     "text": [
      "[[-1.73163915  2.51697914  0.14781493 ... -2.87725798 -0.02998333\n",
      "  -3.06763472]\n",
      " [-1.73081574  2.52923055  0.4129627  ... -2.93944911 -0.31479146\n",
      "  -3.7477384 ]\n",
      " [-1.72999232  2.54148197  0.80347369 ... -3.00164023 -0.25737338\n",
      "  -4.21784884]\n",
      " ...\n",
      " [ 1.72999232 -0.57576699 -0.63341287 ...  0.06032096 -0.12310411\n",
      "   1.7543647 ]\n",
      " [ 1.73081574 -0.57596783 -0.60694777 ...  0.14599241 -0.13214277\n",
      "   1.74230317]\n",
      " [ 1.73163915 -0.57616867 -0.90593453 ...  0.15804987 -0.15340622\n",
      "   1.7008101 ]]\n",
      "train samples: 2944\n",
      "test samples 1263\n"
     ]
    }
   ],
   "source": [
    "# non pcas\n",
    "\n",
    "xlsx = pd.ExcelFile('./Data/Outlier_thresh1_50.xlsx')\n",
    "df = pd.read_excel(xlsx, '1S 4X')\n",
    "dataset1= df.copy()\n",
    "\n",
    "\n",
    "\n",
    "\n",
    "from sklearn.preprocessing import StandardScaler\n",
    "scaler1 = StandardScaler()\n",
    "Sd_scaler1 =scaler1.fit(dataset1)\n",
    "data1_Sd= Sd_scaler1.transform(dataset1)\n",
    "print(data1_Sd)\n",
    "    \n",
    "    #convert to dataframe\n",
    "dataset= pd.DataFrame(data1_Sd, columns=dataset1.keys())\n",
    "\n",
    "# dropping columns\n",
    "droppies= ['SFL' , 'NPHI', 'LLS', 'LLD']\n",
    "dataset.drop(droppies, inplace=True, axis=1)\n",
    "\n",
    "# split datat into input and target\n",
    "\n",
    "inputs = dataset.copy()\n",
    "\n",
    "target = inputs.pop('RHOB')\n",
    "\n",
    "\n",
    "train_input, test_input, train_target, test_target = model_selection.train_test_split(inputs, target, train_size=0.7, shuffle=True)\n",
    "\n",
    "print('train samples:', len(train_input))\n",
    "print('test samples', len(test_input))\n"
   ]
  },
  {
   "cell_type": "code",
   "execution_count": null,
   "metadata": {},
   "outputs": [],
   "source": []
  },
  {
   "cell_type": "code",
   "execution_count": 35,
   "metadata": {},
   "outputs": [
    {
     "data": {
      "text/plain": [
       "GridSearchCV(estimator=SVR(),\n",
       "             param_grid={'C': [0.1, 1, 10, 100, 1000],\n",
       "                         'gamma': [5, 1, 0.1, 0.01, 0.001, 0.0001]})"
      ]
     },
     "execution_count": 35,
     "metadata": {},
     "output_type": "execute_result"
    }
   ],
   "source": [
    "from sklearn import svm\n",
    "from sklearn.model_selection import GridSearchCV\n",
    "\n",
    "# defining parameter range\n",
    "param_grid = {'C': [0.1, 1, 10, 100, 1000], \n",
    "              'gamma': [5,1, 0.1,0.5,0.6, 0.01, 0.001, 0.0001],\n",
    "#               'kernel': ['linear', 'rbf']\n",
    "             }\n",
    "\n",
    "svc = svm.SVR()\n",
    "model_cv = GridSearchCV(svc, param_grid)\n",
    "\n",
    "model_cv.fit(train_input, train_target)\n"
   ]
  },
  {
   "cell_type": "code",
   "execution_count": 36,
   "metadata": {},
   "outputs": [
    {
     "data": {
      "text/plain": [
       "{'C': 10, 'gamma': 1}"
      ]
     },
     "execution_count": 36,
     "metadata": {},
     "output_type": "execute_result"
    }
   ],
   "source": [
    "# model.cv_results_\n",
    "\n",
    "model_cv.best_params_"
   ]
  },
  {
   "cell_type": "code",
   "execution_count": null,
   "metadata": {},
   "outputs": [],
   "source": [
    "# sorted(model.cv_results_.keys())"
   ]
  },
  {
   "cell_type": "code",
   "execution_count": 55,
   "metadata": {},
   "outputs": [
    {
     "data": {
      "text/plain": [
       "Pipeline(steps=[('svr', SVR(C=10.0, gamma=1))])"
      ]
     },
     "execution_count": 55,
     "metadata": {},
     "output_type": "execute_result"
    }
   ],
   "source": [
    "model = pipeline.make_pipeline(\n",
    "#     preprocessing.StandardScaler(),\n",
    "    svm.SVR(C=10.0,\n",
    "#             epsilon=0.2\n",
    "            gamma= 1\n",
    "           ))\n",
    "model.fit(train_input, train_target,\n",
    "#                         early_stopping_rounds=10,\n",
    "         \n",
    "         )\n",
    "\n",
    "\n"
   ]
  },
  {
   "cell_type": "code",
   "execution_count": 56,
   "metadata": {},
   "outputs": [
    {
     "data": {
      "text/plain": [
       "Text(0, 0.5, 'Predicted')"
      ]
     },
     "execution_count": 56,
     "metadata": {},
     "output_type": "execute_result"
    },
    {
     "data": {
      "image/png": "[encoded data removed]",
      "text/plain": [
       "<Figure size 432x288 with 1 Axes>"
      ]
     },
     "metadata": {
      "needs_background": "light"
     },
     "output_type": "display_data"
    }
   ],
   "source": [
    "predicted = model.predict(test_input)\n",
    "\n",
    "fig, ax = plt.subplots()\n",
    "ax.scatter(test_target, predicted)\n",
    "\n",
    "ax.set_xlabel('True Values')\n",
    "ax.set_ylabel('Predicted')\n"
   ]
  },
  {
   "cell_type": "code",
   "execution_count": 57,
   "metadata": {},
   "outputs": [
    {
     "name": "stdout",
     "output_type": "stream",
     "text": [
      "r2 score: 0.9490428154242242\n",
      "mse: 0.047734072653537234\n",
      "rmse: 0.21848128673535688\n",
      "mae: 0.1366490075174264\n"
     ]
    }
   ],
   "source": [
    "print(\"r2 score: {}\".format(metrics.r2_score( test_target, predicted)))\n",
    "print(\"mse: {}\".format(metrics.mean_squared_error( test_target, predicted)))\n",
    "print(\"rmse: {}\".format(np.sqrt(metrics.mean_squared_error(test_target, predicted))))\n",
    "print(\"mae: {}\".format(metrics.mean_absolute_error(test_target, predicted)))"
   ]
  },
  {
   "cell_type": "code",
   "execution_count": null,
   "metadata": {},
   "outputs": [],
   "source": []
  },
  {
   "cell_type": "markdown",
   "metadata": {},
   "source": [
    "# TEST ON DIFFERENT WELLS"
   ]
  },
  {
   "cell_type": "code",
   "execution_count": null,
   "metadata": {},
   "outputs": [],
   "source": [
    "# Feat_extracts well3\n",
    "def predictme(well_name):\n",
    "    xlsx_2 = pd.ExcelFile(well_name)\n",
    "    df_2 = pd.read_excel(xlsx_2, 'PCAs')\n",
    "    dataset_pca_2= df_2.copy()\n",
    "\n",
    "\n",
    "    dataset_pca_2.pop('PC3')\n",
    "    dataset_pca_2.pop('index')\n",
    "\n",
    "    dataset_pca_2\n",
    "\n",
    "\n",
    "    xlsx_2y = pd.ExcelFile(well_name)\n",
    "    df_2y = pd.read_excel(xlsx_2y, 'target')\n",
    "    pca_target_2y= df_2y.copy()\n",
    "\n",
    "    # pca_target_2y.pop('RHOB')\n",
    "    pca_target_2y\n",
    "\n",
    "\n",
    "\n",
    "    predicted_2y = model.predict(dataset_pca_2)\n",
    "\n",
    "    fig, ax = plt.subplots()\n",
    "    ax.scatter(pca_target_2y, predicted_2y, alpha=0.5)\n",
    "\n",
    "    ax.set_xlabel('True Values')\n",
    "    ax.set_ylabel('Predicted')\n",
    "\n",
    "\n",
    "    print(\"r2 score: {}\".format(metrics.r2_score(pca_target_2y, predicted_2y)))\n",
    "    print(\"mse: {}\".format(metrics.mean_squared_error(pca_target_2y, predicted_2y)))\n",
    "    print(\"rmse: {}\".format(np.sqrt(metrics.mean_squared_error(pca_target_2y, predicted_2y))))\n",
    "    print(\"mae: {}\".format(metrics.mean_absolute_error(pca_target_2y, predicted_2y)))\n",
    "    \n",
    "    return \n",
    "\n",
    "predictme(\"Feat_extracts well4.xlsx\")"
   ]
  },
  {
   "cell_type": "code",
   "execution_count": null,
   "metadata": {},
   "outputs": [],
   "source": []
  },
  {
   "cell_type": "code",
   "execution_count": null,
   "metadata": {},
   "outputs": [],
   "source": [
    "# Feat_extracts well3\n",
    "\n",
    "\n",
    "def predictme(wellname):\n",
    "    \n",
    "    xlsx = pd.ExcelFile('./Data/Outlier_thresh1_50.xlsx')\n",
    "    df = pd.read_excel(xlsx, wellname)\n",
    "    dataset= df.copy()\n",
    "\n",
    "    def standardizme(dataset, outname):\n",
    "        from sklearn.preprocessing import StandardScaler\n",
    "        scaler1 = StandardScaler()\n",
    "        Sd_scaler1 =scaler1.fit(dataset)\n",
    "        data1_Sd= Sd_scaler1.transform(dataset)\n",
    "        print(data1_Sd)\n",
    "\n",
    "        #convert to dataframe\n",
    "        outname= pd.DataFrame(data1_Sd, columns=dataset.keys())\n",
    "\n",
    "        return outname\n",
    "\n",
    "    standardizme(dataset,dataset)\n",
    "\n",
    "\n",
    "    # split datat into input and target\n",
    "\n",
    "    inputs2 = dataset.copy()\n",
    "    target = inputs2.pop('RHOB')\n",
    "\n",
    "\n",
    "    predicted = model.predict(inputs2)\n",
    "\n",
    "    fig, ax = plt.subplots()\n",
    "    ax.scatter(target, predicted, alpha=0.5)\n",
    "\n",
    "    ax.set_xlabel('True Values')\n",
    "    ax.set_ylabel('Predicted')\n",
    "\n",
    "\n",
    "    print(\"r2 score: {}\".format(metrics.r2_score(target, predicted)))\n",
    "    print(\"mse: {}\".format(metrics.mean_squared_error(target, predicted)))\n",
    "    print(\"rmse: {}\".format(np.sqrt(metrics.mean_squared_error(target, predicted))))\n",
    "    print(\"mae: {}\".format(metrics.mean_absolute_error(target, predicted)))\n",
    "    \n",
    "    return \n",
    "\n",
    "predictme('1S 3X')\n",
    "# predictme(\"Feat_extracts well4.xlsx\")"
   ]
  },
  {
   "cell_type": "code",
   "execution_count": null,
   "metadata": {},
   "outputs": [],
   "source": []
  },
  {
   "cell_type": "code",
   "execution_count": 60,
   "metadata": {},
   "outputs": [
    {
     "name": "stdout",
     "output_type": "stream",
     "text": [
      "r2 score: 0.1594786487842761\n",
      "mse: 0.8405213512157239\n",
      "rmse: 0.9167995152789534\n",
      "mae: 0.680561284565661\n"
     ]
    },
    {
     "data": {
      "image/png": "[encoded data removed]",
      "text/plain": [
       "<Figure size 432x288 with 1 Axes>"
      ]
     },
     "metadata": {
      "needs_background": "light"
     },
     "output_type": "display_data"
    }
   ],
   "source": [
    "# Feat_extracts well3\n",
    "\n",
    "\n",
    "def predictme(wellname):\n",
    "    \n",
    "    xlsx = pd.ExcelFile('./Data/Outlier_thresh1_50.xlsx')\n",
    "    df = pd.read_excel(xlsx, wellname)\n",
    "    dataset_ext= df.copy()\n",
    "\n",
    "\n",
    "    from sklearn.preprocessing import StandardScaler\n",
    "    scaler1 = StandardScaler()\n",
    "    Sd_scaler1 =scaler1.fit(dataset_ext)\n",
    "    data1_Sd= Sd_scaler1.transform(dataset_ext)\n",
    "    # print(data1_Sd)\n",
    "\n",
    "            #convert to dataframe\n",
    "    dataset= pd.DataFrame(data1_Sd, columns=dataset_ext.keys())\n",
    "    \n",
    "    # dropping columns\n",
    "    droppies= ['SFL' , 'NPHI', 'LLS', 'LLD']\n",
    "    dataset.drop(droppies, inplace=True, axis=1)\n",
    "\n",
    "#     print(dataset)\n",
    "    # split datat into input and target\n",
    "\n",
    "    inputs2 = dataset.copy()\n",
    "    target = inputs2.pop('RHOB')\n",
    "\n",
    "\n",
    "    predicted = model.predict(inputs2)\n",
    "\n",
    "    fig, ax = plt.subplots()\n",
    "    ax.scatter(target, predicted, alpha=0.5)\n",
    "\n",
    "    ax.set_xlabel('True Values')\n",
    "    ax.set_ylabel('Predicted')\n",
    "\n",
    "\n",
    "    print(\"r2 score: {}\".format(metrics.r2_score(target, predicted)))\n",
    "    print(\"mse: {}\".format(metrics.mean_squared_error(target, predicted)))\n",
    "    print(\"rmse: {}\".format(np.sqrt(metrics.mean_squared_error(target, predicted))))\n",
    "    print(\"mae: {}\".format(metrics.mean_absolute_error(target, predicted)))\n",
    "    \n",
    "    return \n",
    "\n",
    "predictme('1S 1X')\n",
    "# predictme(\"Feat_extracts well4.xlsx\")"
   ]
  },
  {
   "cell_type": "code",
   "execution_count": null,
   "metadata": {},
   "outputs": [],
   "source": []
  }
 ],
 "metadata": {
  "kernelspec": {
   "display_name": "Python 3",
   "language": "python",
   "name": "python3"
  },
  "language_info": {
   "codemirror_mode": {
    "name": "ipython",
    "version": 3
   },
   "file_extension": ".py",
   "mimetype": "text/x-python",
   "name": "python",
   "nbconvert_exporter": "python",
   "pygments_lexer": "ipython3",
   "version": "3.8.5"
  },
  "varInspector": {
   "cols": {
    "lenName": 16,
    "lenType": 16,
    "lenVar": 40
   },
   "kernels_config": {
    "python": {
     "delete_cmd_postfix": "",
     "delete_cmd_prefix": "del ",
     "library": "var_list.py",
     "varRefreshCmd": "print(var_dic_list())"
    },
    "r": {
     "delete_cmd_postfix": ") ",
     "delete_cmd_prefix": "rm(",
     "library": "var_list.r",
     "varRefreshCmd": "cat(var_dic_list()) "
    }
   },
   "types_to_exclude": [
    "module",
    "function",
    "builtin_function_or_method",
    "instance",
    "_Feature"
   ],
   "window_display": false
  }
 },
 "nbformat": 4,
 "nbformat_minor": 4
}
