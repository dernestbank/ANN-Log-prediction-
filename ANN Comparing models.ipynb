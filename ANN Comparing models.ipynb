{
 "cells": [
  {
   "cell_type": "code",
   "execution_count": null,
   "metadata": {},
   "outputs": [],
   "source": []
  },
  {
   "cell_type": "code",
   "execution_count": null,
   "metadata": {},
   "outputs": [],
   "source": []
  },
  {
   "cell_type": "markdown",
   "metadata": {},
   "source": [
    "# Importing libraries"
   ]
  },
  {
   "cell_type": "code",
   "execution_count": 1,
   "metadata": {},
   "outputs": [],
   "source": [
    "import numpy as np\n",
    "import pandas as pd\n",
    "import matplotlib.pyplot as plt\n",
    "import seaborn as sns"
   ]
  },
  {
   "cell_type": "code",
   "execution_count": 40,
   "metadata": {},
   "outputs": [],
   "source": [
    "import tensorflow as tf\n",
    "\n",
    "from tensorflow import keras\n",
    "from tensorflow.keras import layers\n",
    "from tensorflow.keras.layers.experimental import preprocessing\n",
    "\n",
    "from sklearn import datasets, metrics, model_selection\n"
   ]
  },
  {
   "cell_type": "markdown",
   "metadata": {},
   "source": [
    "#  Reading data"
   ]
  },
  {
   "cell_type": "code",
   "execution_count": 3,
   "metadata": {},
   "outputs": [],
   "source": [
    "xlsx = pd.ExcelFile('./Data/Outliers_out.xlsx')\n",
    "df = pd.read_excel(xlsx, '1x 5s')\n",
    "dataset= df.copy()"
   ]
  },
  {
   "cell_type": "markdown",
   "metadata": {},
   "source": [
    "#  Exploring the data"
   ]
  },
  {
   "cell_type": "code",
   "execution_count": null,
   "metadata": {},
   "outputs": [],
   "source": [
    "dataset.head()\n",
    "dataset.tail()"
   ]
  },
  {
   "cell_type": "code",
   "execution_count": 4,
   "metadata": {},
   "outputs": [],
   "source": [
    "column_names = ['DEPTH', 'SP', 'RHOB', 'NPHI','ILD','GR']"
   ]
  },
  {
   "cell_type": "code",
   "execution_count": null,
   "metadata": {},
   "outputs": [],
   "source": [
    "dataset.describe()"
   ]
  },
  {
   "cell_type": "code",
   "execution_count": null,
   "metadata": {},
   "outputs": [],
   "source": [
    "sns.pairplot(dataset[column_names], diag_kind='kde')"
   ]
  },
  {
   "cell_type": "markdown",
   "metadata": {},
   "source": [
    "### Clean the data"
   ]
  },
  {
   "cell_type": "code",
   "execution_count": null,
   "metadata": {},
   "outputs": [],
   "source": [
    "# If the dataset contains a few unknown values.\n",
    "\n",
    "dataset.isna().sum()\n",
    "\n",
    "#if so Drop those rows to keep this initial tutorial simple.\n",
    "\n",
    "dataset = dataset.dropna()\n",
    "\n",
    "#then confirm drop\n",
    "dataset.isna().sum()\n",
    "\n",
    "# help(dataset.sample)"
   ]
  },
  {
   "cell_type": "code",
   "execution_count": null,
   "metadata": {},
   "outputs": [],
   "source": [
    "#### Split the data into train and test"
   ]
  },
  {
   "cell_type": "code",
   "execution_count": 5,
   "metadata": {},
   "outputs": [],
   "source": [
    "# the 'sample' method takes a certain fraction randomly\n",
    "#Note that we use `random_state` to ensure the reproducibility of the examples.\n",
    "train_dataset = dataset.sample(frac=0.7, random_state=0)\n",
    "test_dataset = dataset.drop(train_dataset.index)"
   ]
  },
  {
   "cell_type": "code",
   "execution_count": null,
   "metadata": {},
   "outputs": [],
   "source": [
    "# Inspect the data\n",
    "# Have a quick look at the joint distribution of a few pairs of columns from the training set.\n",
    "# (   ) is a function of all the other parameters. Looking at the other rows it should be clear that they are functions of each other\n",
    "\n",
    "sns.pairplot(train_dataset[column_names], diag_kind='kde')"
   ]
  },
  {
   "cell_type": "code",
   "execution_count": null,
   "metadata": {},
   "outputs": [],
   "source": [
    "train_dataset.describe().transpose()"
   ]
  },
  {
   "cell_type": "markdown",
   "metadata": {},
   "source": [
    "##### Splitting the train and test data into input and target"
   ]
  },
  {
   "cell_type": "code",
   "execution_count": 6,
   "metadata": {},
   "outputs": [],
   "source": [
    "\n",
    "# split datat into input and target\n",
    "\n",
    "train_input = train_dataset.copy()\n",
    "test_input = test_dataset.copy()\n",
    "\n",
    "train_target = train_input.pop('RHOB')\n",
    "test_target = test_input.pop('RHOB')\n",
    "\n"
   ]
  },
  {
   "cell_type": "code",
   "execution_count": null,
   "metadata": {},
   "outputs": [],
   "source": [
    "\n",
    "train_input.head()\n",
    "# type(train_input)"
   ]
  },
  {
   "cell_type": "markdown",
   "metadata": {},
   "source": [
    "# A DNN regression¶\n",
    "These models will contain a few more layers than the linear model:\n",
    "\n",
    "###     1. The normalization layer.\n",
    "###    2. Two hidden, nonlinear, Dense layers using the relu nonlinearity.\n",
    "###    3. A linear single-output layer."
   ]
  },
  {
   "cell_type": "code",
   "execution_count": null,
   "metadata": {},
   "outputs": [],
   "source": []
  },
  {
   "cell_type": "markdown",
   "metadata": {},
   "source": [
    "### normalization\n",
    "The normalisation layer\n",
    "Normalization layer is a clean and simple way to build that preprocessing into your mode"
   ]
  },
  {
   "cell_type": "code",
   "execution_count": null,
   "metadata": {},
   "outputs": [],
   "source": [
    "train_dataset.describe().transpose()[['mean', 'std']]"
   ]
  },
  {
   "cell_type": "code",
   "execution_count": 7,
   "metadata": {},
   "outputs": [
    {
     "name": "stdout",
     "output_type": "stream",
     "text": [
      "[1.6696866e+03 8.0522705e+01 4.3638378e-01 5.9207983e+00 3.6177189e+01]\n"
     ]
    }
   ],
   "source": [
    "normalizer = preprocessing.Normalization()\n",
    "\n",
    "#then adapt it to the data\n",
    "normalizer.adapt(np.array(train_input))\n",
    "\n",
    "# This calculates the mean and variance, and stores them in the layer.\n",
    "print(normalizer.mean.numpy())"
   ]
  },
  {
   "cell_type": "code",
   "execution_count": null,
   "metadata": {},
   "outputs": [],
   "source": [
    "# When the layer is called it returns the input data, with each feature independently normalized:\n",
    "\n",
    "first = np.array(train_input[:2])\n",
    "\n",
    "with np.printoptions(precision=2, suppress=True):\n",
    "  print('First example:', first)\n",
    "  print()\n",
    "  print('Normalized:', normalizer(first).numpy())"
   ]
  },
  {
   "cell_type": "code",
   "execution_count": null,
   "metadata": {},
   "outputs": [],
   "source": []
  },
  {
   "cell_type": "code",
   "execution_count": 13,
   "metadata": {},
   "outputs": [
    {
     "name": "stdout",
     "output_type": "stream",
     "text": [
      "Model: \"sequential_1\"\n",
      "_________________________________________________________________\n",
      "Layer (type)                 Output Shape              Param #   \n",
      "=================================================================\n",
      "normalization_2 (Normalizati (None, 5)                 11        \n",
      "_________________________________________________________________\n",
      "dense_3 (Dense)              (None, 64)                384       \n",
      "_________________________________________________________________\n",
      "dense_4 (Dense)              (None, 64)                4160      \n",
      "_________________________________________________________________\n",
      "dense_5 (Dense)              (None, 1)                 65        \n",
      "=================================================================\n",
      "Total params: 4,620\n",
      "Trainable params: 4,609\n",
      "Non-trainable params: 11\n",
      "_________________________________________________________________\n"
     ]
    }
   ],
   "source": [
    "# A function to hold preprocessor, layers, model and compiler \n",
    "def FFBackProp(inputs, output):\n",
    "    #normalization\n",
    "    normalizer=preprocessing.Normalization()\n",
    "    #then adapt it to the data\n",
    "    normalizer.adapt(np.array(inputs))\n",
    "    \n",
    "    \n",
    "    #  Create layers\n",
    "    l0=normalizer\n",
    "    #Dense layers using the relu nonlinearity. #with an l2 regularization to reduce overfitting by reducing weight size\n",
    "    l1=tf.keras.layers.Dense(64,activation=\"relu\", input_shape=(5,), kernel_regularizer=\"l2\")\n",
    "    \n",
    "    layers.Dropout(0.1), #a droput layer # an attempt to reduce overfitting\n",
    "    \n",
    "    l2=tf.keras.layers.Dense(64,activation=\"relu\", kernel_regularizer=\"l2\")\n",
    "    \n",
    "    layers.Dropout(0.1),\n",
    "    \n",
    "    #A linear output layer\n",
    "    l3=tf.keras.layers.Dense(1)\n",
    "    \n",
    "    \n",
    "#     create the model with the layers formed\n",
    "    model1 =tf.keras.models.Sequential([l0,l1,l2,l3])\n",
    "    \n",
    "    \n",
    "#     compile the model\n",
    "    model1.compile(optimizer='adam',\n",
    "                loss='mean_absolute_error', #(from_logits=True),\n",
    "                metrics=[\"mse\"]\n",
    "               )\n",
    "    \n",
    "    model1.summary()\n",
    "    \n",
    "    return model1\n",
    "    \n",
    "myFFBP= FFBackProp(train_input,train_target)\n"
   ]
  },
  {
   "cell_type": "markdown",
   "metadata": {},
   "source": [
    "### Train the model"
   ]
  },
  {
   "cell_type": "code",
   "execution_count": 14,
   "metadata": {},
   "outputs": [
    {
     "name": "stdout",
     "output_type": "stream",
     "text": [
      "Wall time: 9.41 s\n"
     ]
    }
   ],
   "source": [
    "%%time\n",
    "tb_callback = tf.keras.callbacks.TensorBoard(log_dir=\"logs/\", histogram_freq=1)\n",
    "\n",
    "myFFBPtraining = myFFBP.fit(\n",
    "    train_input, train_target,\n",
    "    # Calculate validation results on 30% of the training data\n",
    "    validation_split=0.3,\n",
    "     # suppress logging\n",
    "    verbose=0,\n",
    "    epochs=100,\n",
    "    \n",
    "\n",
    "    #early stopping\n",
    "    #an attempt to prevent overfitting\n",
    "    #the fuction to stop the trianing by tracking the validation loss\n",
    "    callbacks= keras.callbacks.EarlyStopping(monitor='val_loss',patience=5)\n",
    "    \n",
    "    #to store callbacks in logs\n",
    "#     callbacks =[tb_callback]\n",
    ")"
   ]
  },
  {
   "cell_type": "code",
   "execution_count": 15,
   "metadata": {},
   "outputs": [
    {
     "data": {
      "text/html": [
       "<div>\n",
       "<style scoped>\n",
       "    .dataframe tbody tr th:only-of-type {\n",
       "        vertical-align: middle;\n",
       "    }\n",
       "\n",
       "    .dataframe tbody tr th {\n",
       "        vertical-align: top;\n",
       "    }\n",
       "\n",
       "    .dataframe thead th {\n",
       "        text-align: right;\n",
       "    }\n",
       "</style>\n",
       "<table border=\"1\" class=\"dataframe\">\n",
       "  <thead>\n",
       "    <tr style=\"text-align: right;\">\n",
       "      <th></th>\n",
       "      <th>loss</th>\n",
       "      <th>mse</th>\n",
       "      <th>val_loss</th>\n",
       "      <th>val_mse</th>\n",
       "      <th>epoch</th>\n",
       "    </tr>\n",
       "  </thead>\n",
       "  <tbody>\n",
       "    <tr>\n",
       "      <th>95</th>\n",
       "      <td>0.075400</td>\n",
       "      <td>0.009732</td>\n",
       "      <td>0.074980</td>\n",
       "      <td>0.009374</td>\n",
       "      <td>95</td>\n",
       "    </tr>\n",
       "    <tr>\n",
       "      <th>96</th>\n",
       "      <td>0.074874</td>\n",
       "      <td>0.009506</td>\n",
       "      <td>0.074931</td>\n",
       "      <td>0.009684</td>\n",
       "      <td>96</td>\n",
       "    </tr>\n",
       "    <tr>\n",
       "      <th>97</th>\n",
       "      <td>0.073627</td>\n",
       "      <td>0.009060</td>\n",
       "      <td>0.073801</td>\n",
       "      <td>0.009191</td>\n",
       "      <td>97</td>\n",
       "    </tr>\n",
       "    <tr>\n",
       "      <th>98</th>\n",
       "      <td>0.074289</td>\n",
       "      <td>0.009256</td>\n",
       "      <td>0.074736</td>\n",
       "      <td>0.009430</td>\n",
       "      <td>98</td>\n",
       "    </tr>\n",
       "    <tr>\n",
       "      <th>99</th>\n",
       "      <td>0.074927</td>\n",
       "      <td>0.009285</td>\n",
       "      <td>0.075096</td>\n",
       "      <td>0.009607</td>\n",
       "      <td>99</td>\n",
       "    </tr>\n",
       "  </tbody>\n",
       "</table>\n",
       "</div>"
      ],
      "text/plain": [
       "        loss       mse  val_loss   val_mse  epoch\n",
       "95  0.075400  0.009732  0.074980  0.009374     95\n",
       "96  0.074874  0.009506  0.074931  0.009684     96\n",
       "97  0.073627  0.009060  0.073801  0.009191     97\n",
       "98  0.074289  0.009256  0.074736  0.009430     98\n",
       "99  0.074927  0.009285  0.075096  0.009607     99"
      ]
     },
     "execution_count": 15,
     "metadata": {},
     "output_type": "execute_result"
    }
   ],
   "source": [
    "# dir(myFFBPtraining.history{'loss'})\n",
    "# help(tf.keras.losses.Loss)\n",
    "\n",
    "\n",
    "\n",
    "# tensorboard dev upload --logdir \\\n",
    "#     'logs/fit'\n",
    "\n",
    "\n",
    "# # Clear any logs from previous runs\n",
    "# rm -rf ./logs/\n",
    "\n",
    "# Load the TensorBoard notebook extension\n",
    "# %load_ext tensorboard\n",
    "# %tensorboard --logdir logs/\n",
    "\n",
    "\n",
    "\n",
    "hist = pd.DataFrame(myFFBPtraining.history)\n",
    "hist['epoch'] = myFFBPtraining.epoch\n",
    "hist.tail()"
   ]
  },
  {
   "cell_type": "code",
   "execution_count": null,
   "metadata": {},
   "outputs": [],
   "source": [
    "# Evaluate\n",
    "\n",
    "### with visualization"
   ]
  },
  {
   "cell_type": "code",
   "execution_count": 16,
   "metadata": {},
   "outputs": [
    {
     "name": "stdout",
     "output_type": "stream",
     "text": [
      "Test loss (mse): 0.07419168204069138\n",
      "Test mae: 0.009076571092009544\n"
     ]
    }
   ],
   "source": [
    "# collect the results in a set\n",
    "test_results={}\n",
    "# test_results['FFBP']\n",
    "\n",
    "test_mse, test_mae= myFFBP.evaluate(test_input, test_target, verbose=0, )\n",
    "print('Test loss (mse):', test_mse)\n",
    "print('Test mae:', test_mae)"
   ]
  },
  {
   "cell_type": "code",
   "execution_count": 12,
   "metadata": {},
   "outputs": [
    {
     "data": {
      "image/png": "[encoded data removed]",
      "text/plain": [
       "<Figure size 432x288 with 1 Axes>"
      ]
     },
     "metadata": {
      "needs_background": "light"
     },
     "output_type": "display_data"
    }
   ],
   "source": [
    "# a function to plot loss \n",
    "def plot_loss(arg):\n",
    "  plt.plot(arg.history['loss'], label='loss')\n",
    "  plt.plot(arg.history['val_loss'], label='val_loss')\n",
    "  plt.ylim([0, 1])\n",
    "  plt.xlabel('Epoch')\n",
    "  plt.ylabel('Error [RHOB]')\n",
    "  plt.legend()\n",
    "  plt.grid(True)\n",
    "\n",
    "\n",
    "plot_loss(myFFBPtraining)"
   ]
  },
  {
   "cell_type": "code",
   "execution_count": null,
   "metadata": {},
   "outputs": [],
   "source": [
    "#Prediction and actual target during training\n",
    "\n",
    "train_target_actual =train_target\n",
    "train_target_predicted = myFFBP.predict(train_input)\n",
    "\n",
    "def plotScatter(x, y):\n",
    "    plt.scatter(x, train_input['DEPTH'],  label='actual')\n",
    "    plt.scatter( y,  train_input['DEPTH'], label='Predicted')\n",
    "    plt.xlabel('RHOB')\n",
    "    plt.ylabel('DEPTH')\n",
    "    plt.legend()\n",
    "\n",
    "\n",
    "\n",
    "plotScatter(train_target_actual,train_target_predicted)\n"
   ]
  },
  {
   "cell_type": "code",
   "execution_count": null,
   "metadata": {},
   "outputs": [],
   "source": [
    "# A function to plot the predicted and actual target against a similar DEPTH using the test data(at validation)\n",
    "\n",
    "\n",
    "test_target_actual=test_target\n",
    "\n",
    "test_target_predicted = myFFBP.predict(test_input).flatten() ##Flattening converts multidimensional lists into one-dimensional lists\n",
    "\n",
    "\n",
    "def plot_Scatter(target1, test_predict):\n",
    "    plt.scatter(target1, test_input['DEPTH'],  label='actual')\n",
    "    plt.scatter( test_predict,  test_input['DEPTH'], label='Predicted')\n",
    "    plt.xlabel('RHOB')\n",
    "    plt.ylabel('DEPTH')\n",
    "    plt.legend()\n",
    "\n",
    "\n",
    "\n",
    "plot_Scatter(test_target_actual,test_target_predicted)"
   ]
  },
  {
   "cell_type": "code",
   "execution_count": 41,
   "metadata": {
    "solution": "hidden",
    "solution_first": true
   },
   "outputs": [
    {
     "data": {
      "image/png": "[encoded data removed]",
      "text/plain": [
       "<Figure size 432x288 with 2 Axes>"
      ]
     },
     "metadata": {
      "needs_background": "light"
     },
     "output_type": "display_data"
    }
   ],
   "source": [
    "# Plot regression between predicted and actual (Validation)\n",
    "# test_predictions = dnn_model.predict(test_input).flatten()\n",
    "def plot_regression(true,predicted):\n",
    "    a = plt.axes(aspect='equal')\n",
    "    plt.scatter(true, predicted)\n",
    "    plt.xlabel('True Values [RHOB]')\n",
    "    plt.ylabel('Predictions [RHOB]')\n",
    "#     lims = [1, 3]\n",
    "    lims =[min(predicted)-0.3,max(true)+0.3]\n",
    "    plt.xlim(lims)\n",
    "    plt.ylim(lims)\n",
    "# #     _ = plt.plot(lims, lims)\n",
    "    x=true\n",
    "    m, b = np.polyfit(true, predicted, 1) #m=slope b=intercept\n",
    "    plt.plot(x, m*x + b) #add line of bestfit\n",
    "    print(\"slope of best fit is\", m)\n",
    "\n",
    "\n",
    "# plot_regression(test_target_actual,test_target_predicted)\n",
    "\n",
    "\n",
    "# a = plt.axes(aspect='equal')\n",
    "# plt.scatter(test_target, test_prediction)\n",
    "# plt.xlabel('True Values [RHOB]')\n",
    "# plt.ylabel('Predictions [RHOB]')\n",
    "# lims = [1, 3]\n",
    "# plt.xlim(lims)\n",
    "# plt.ylim(lims)\n",
    "# _ = plt.plot(lims, lims)\n",
    "\n",
    "def plot_regre_resid(true, predicted):\n",
    "    fig, (ax1,ax2)=plt.subplots(1,2)\n",
    "    ax1.scatter(true, predicted)\n",
    "    ax1.set_xlabel('True values [RHOB]')\n",
    "    ax1.set_ylabel('Predictions [RHOB]')\n",
    "    ax1.set_title(\"Regression plot\")\n",
    "#     _ = ax1.plot([0, true.max()], [0, true.max()], ls='-', color='red')\n",
    "\n",
    "\n",
    "    residual = true - predicted\n",
    "    ax2.scatter(true, residual)\n",
    "    ax2.set_xlabel('actual')\n",
    "    ax2.set_ylabel('residual')\n",
    "    ax2.set_title(\"Residual plot\")\n",
    "    _ = plt.axhline(0, color='red', ls='--')\n",
    "    \n",
    "\n",
    "    \n",
    "    plt.tight_layout()\n",
    "    plt.show\n",
    "    \n",
    "    \n",
    "    \n",
    "\n",
    "test_target_actual=test_target\n",
    "\n",
    "test_target_predicted = myFFBP.predict(test_input).flatten()\n",
    "plot_regre_resid(test_target_actual,test_target_predicted)"
   ]
  },
  {
   "cell_type": "code",
   "execution_count": 37,
   "metadata": {},
   "outputs": [
    {
     "data": {
      "image/png": "[encoded data removed]",
      "text/plain": [
       "<Figure size 360x360 with 1 Axes>"
      ]
     },
     "metadata": {
      "needs_background": "light"
     },
     "output_type": "display_data"
    }
   ],
   "source": [
    "\n",
    "def plot_residual_KDE(true, predicted):\n",
    "    residual = true - predicted\n",
    "    _ = sns.displot(residual, kind=\"kde\");\n",
    "    \n",
    "    \n",
    "plot_residual_KDE(test_target_actual,test_target_predicted)"
   ]
  },
  {
   "cell_type": "code",
   "execution_count": 38,
   "metadata": {},
   "outputs": [
    {
     "data": {
      "image/png": "[encoded data removed]",
      "text/plain": [
       "<Figure size 432x288 with 1 Axes>"
      ]
     },
     "metadata": {
      "needs_background": "light"
     },
     "output_type": "display_data"
    }
   ],
   "source": [
    "# Now take a look at the error distribution:\n",
    "\n",
    "error = test_target_predicted - test_target_actual\n",
    "plt.hist(error, bins=25)\n",
    "plt.xlabel('Prediction Error [RHOB]')\n",
    "_ = plt.ylabel('Count')\n"
   ]
  },
  {
   "cell_type": "code",
   "execution_count": 49,
   "metadata": {},
   "outputs": [
    {
     "name": "stdout",
     "output_type": "stream",
     "text": [
      "from tf mae is 0.06855889409780502\n",
      "from tf mae is 0.009076572023332119\n"
     ]
    }
   ],
   "source": [
    "#MAE\n",
    "\n",
    "# MSE\n",
    "\n",
    "print(\"from tf mae is\", float(tf.keras.losses.MAE(\n",
    "    test_target_actual,test_target_predicted\n",
    ")))\n",
    "print(\"from tf mae is\",float(tf.keras.losses.MSE(\n",
    "    test_target_actual,test_target_predicted\n",
    ") ))"
   ]
  },
  {
   "cell_type": "code",
   "execution_count": null,
   "metadata": {},
   "outputs": [],
   "source": []
  },
  {
   "cell_type": "code",
   "execution_count": 44,
   "metadata": {},
   "outputs": [
    {
     "name": "stdout",
     "output_type": "stream",
     "text": [
      "r2 score: 0.810442956494009\n",
      "mse: 0.009076571224255668\n",
      "rmse: 0.09527104084797053\n",
      "mae: 0.06855889279263566\n"
     ]
    }
   ],
   "source": [
    "# using sklearn\n",
    "print(\"r2 score: {}\".format(metrics.r2_score(test_target_actual, test_target_predicted)))\n",
    "print(\"mse: {}\".format(metrics.mean_squared_error(test_target_actual, test_target_predicted)))\n",
    "print(\"rmse: {}\".format(np.sqrt(metrics.mean_squared_error(test_target_actual, test_target_predicted))))\n",
    "print(\"mae: {}\".format(metrics.mean_absolute_error(test_target_actual, test_target_predicted)))"
   ]
  },
  {
   "cell_type": "code",
   "execution_count": null,
   "metadata": {},
   "outputs": [],
   "source": [
    "\n",
    "# Load the TensorBoard notebook extension\n",
    "%load_ext tensorboard\n",
    "%tensorboard --logdir logs/"
   ]
  },
  {
   "cell_type": "markdown",
   "metadata": {},
   "source": [
    "# Testing model on different wells\n"
   ]
  },
  {
   "cell_type": "code",
   "execution_count": null,
   "metadata": {},
   "outputs": [],
   "source": [
    "# read different sheet from same excel book\n",
    "xlsx = pd.ExcelFile('./Data/Outliers_out.xlsx')\n",
    "df = pd.read_excel(xlsx, '1x 4s')\n",
    "dataset4s= df.copy()"
   ]
  },
  {
   "cell_type": "code",
   "execution_count": null,
   "metadata": {},
   "outputs": [],
   "source": [
    "# Split new data into input and target based on the training given the model\n",
    "\n",
    "trial4s_input= dataset4s.copy() \n",
    "trial4s_target=trial4s_input.pop('RHOB')\n",
    "\n",
    "trial4s_input.head()\n",
    "trial4s_target.head()"
   ]
  },
  {
   "cell_type": "code",
   "execution_count": null,
   "metadata": {},
   "outputs": [],
   "source": [
    "# test new data with model\n",
    "\n",
    "myFFBP.evaluate(trial4s_input,trial4s_target, verbose=0)\n",
    "# help(myFFBP.evaluate)\n"
   ]
  },
  {
   "cell_type": "code",
   "execution_count": null,
   "metadata": {},
   "outputs": [],
   "source": [
    "# A function to plot scatter\n",
    "#where i try to compare the predicted and the actual target against the DEPTH\n",
    "\n",
    "x=trial4s_target\n",
    "prediction4s = myFFBP.predict(trial4s_input)\n",
    "\n",
    "def plot_Scatter4s(target4s, predict4s):\n",
    "    \n",
    "    plt.scatter(target4s, trial4s_input['DEPTH'],  label='actual')\n",
    "    plt.scatter( predict4s, trial4s_input['DEPTH'], label='Predicted')\n",
    "    plt.xlabel('RHOB')\n",
    "    plt.ylabel('DEPTH')\n",
    "    plt.legend()\n",
    "\n",
    "\n",
    "\n",
    "plot_Scatter4s(trial4s_target,prediction4s)"
   ]
  },
  {
   "cell_type": "code",
   "execution_count": null,
   "metadata": {},
   "outputs": [],
   "source": [
    "def plot_Regression4s(target4s, predict4s):\n",
    "    \n",
    "    plt.plot(target4s, predict4s, \"o\") #create the scatter plot\n",
    "    m, b = np.polyfit(target4s, predict4s, 1) #m=slope b=intercept\n",
    "    plt.plot(x, m*x + b) #add line of bestfit\n",
    "    print(\"slope is\" , np.array(b))\n",
    "    \n",
    "    \n",
    "# plot_Regression4s(trial4s_target,prediction4s)    \n"
   ]
  },
  {
   "cell_type": "code",
   "execution_count": null,
   "metadata": {},
   "outputs": [],
   "source": [
    "plot_regression(trial4s_target,prediction4s)"
   ]
  },
  {
   "cell_type": "code",
   "execution_count": null,
   "metadata": {},
   "outputs": [],
   "source": [
    "help(np.polyfit)\n"
   ]
  },
  {
   "cell_type": "code",
   "execution_count": null,
   "metadata": {},
   "outputs": [],
   "source": [
    "\n",
    "# Load the TensorBoard notebook extension\n",
    "%load_ext tensorboard\n",
    "%tensorboard --logdir logs/"
   ]
  },
  {
   "cell_type": "code",
   "execution_count": null,
   "metadata": {},
   "outputs": [],
   "source": []
  },
  {
   "cell_type": "code",
   "execution_count": null,
   "metadata": {},
   "outputs": [],
   "source": []
  }
 ],
 "metadata": {
  "kernelspec": {
   "display_name": "Python 3",
   "language": "python",
   "name": "python3"
  },
  "language_info": {
   "codemirror_mode": {
    "name": "ipython",
    "version": 3
   },
   "file_extension": ".py",
   "mimetype": "text/x-python",
   "name": "python",
   "nbconvert_exporter": "python",
   "pygments_lexer": "ipython3",
   "version": "3.8.5"
  },
  "varInspector": {
   "cols": {
    "lenName": 16,
    "lenType": 16,
    "lenVar": 40
   },
   "kernels_config": {
    "python": {
     "delete_cmd_postfix": "",
     "delete_cmd_prefix": "del ",
     "library": "var_list.py",
     "varRefreshCmd": "print(var_dic_list())"
    },
    "r": {
     "delete_cmd_postfix": ") ",
     "delete_cmd_prefix": "rm(",
     "library": "var_list.r",
     "varRefreshCmd": "cat(var_dic_list()) "
    }
   },
   "types_to_exclude": [
    "module",
    "function",
    "builtin_function_or_method",
    "instance",
    "_Feature"
   ],
   "window_display": false
  }
 },
 "nbformat": 4,
 "nbformat_minor": 4
}
