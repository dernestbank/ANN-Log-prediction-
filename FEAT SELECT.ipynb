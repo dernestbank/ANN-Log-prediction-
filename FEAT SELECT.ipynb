{
 "cells": [
  {
   "cell_type": "code",
   "execution_count": 1,
   "metadata": {},
   "outputs": [],
   "source": [
    "import numpy as np\n",
    "import pandas as pd\n",
    "import matplotlib.pyplot as plt\n",
    "import seaborn as sns"
   ]
  },
  {
   "cell_type": "code",
   "execution_count": 2,
   "metadata": {},
   "outputs": [],
   "source": [
    "# xlsx = pd.ExcelFile('./Data/book1cut.xlsx')\n",
    "\n",
    "xlsx = pd.ExcelFile('./Data/Outlier_thresh1_50.xlsx')\n",
    "df5 = pd.read_excel(xlsx, '1S 5X')\n",
    "dataset5= df5.copy()\n",
    "df4 = pd.read_excel(xlsx, '1S 4X')\n",
    "dataset4= df4.copy()\n",
    "df3 = pd.read_excel(xlsx, '1S 3X')\n",
    "dataset3= df3.copy()\n",
    "df2 = pd.read_excel(xlsx, '1S 2X')\n",
    "dataset2= df2.copy()\n",
    "df1 = pd.read_excel(xlsx, '1S 1X')\n",
    "dataset1= df1.copy()\n",
    "\n"
   ]
  },
  {
   "cell_type": "markdown",
   "metadata": {},
   "source": [
    "# STANDARDIZE"
   ]
  },
  {
   "cell_type": "code",
   "execution_count": 35,
   "metadata": {},
   "outputs": [
    {
     "data": {
      "text/html": [
       "<div>\n",
       "<style scoped>\n",
       "    .dataframe tbody tr th:only-of-type {\n",
       "        vertical-align: middle;\n",
       "    }\n",
       "\n",
       "    .dataframe tbody tr th {\n",
       "        vertical-align: top;\n",
       "    }\n",
       "\n",
       "    .dataframe thead th {\n",
       "        text-align: right;\n",
       "    }\n",
       "</style>\n",
       "<table border=\"1\" class=\"dataframe\">\n",
       "  <thead>\n",
       "    <tr style=\"text-align: right;\">\n",
       "      <th></th>\n",
       "      <th>DEPTH</th>\n",
       "      <th>CALI</th>\n",
       "      <th>GR</th>\n",
       "      <th>ILD</th>\n",
       "      <th>ITT</th>\n",
       "      <th>LLD</th>\n",
       "      <th>LLS</th>\n",
       "      <th>MSFL</th>\n",
       "      <th>NPHI</th>\n",
       "      <th>RHOB</th>\n",
       "      <th>SFL</th>\n",
       "      <th>SP</th>\n",
       "    </tr>\n",
       "  </thead>\n",
       "  <tbody>\n",
       "    <tr>\n",
       "      <th>0</th>\n",
       "      <td>-1.731639</td>\n",
       "      <td>2.516979</td>\n",
       "      <td>0.147815</td>\n",
       "      <td>0.637840</td>\n",
       "      <td>-0.317773</td>\n",
       "      <td>-0.311624</td>\n",
       "      <td>-0.309417</td>\n",
       "      <td>-0.685180</td>\n",
       "      <td>1.331626</td>\n",
       "      <td>-2.877258</td>\n",
       "      <td>-0.029983</td>\n",
       "      <td>-3.067635</td>\n",
       "    </tr>\n",
       "    <tr>\n",
       "      <th>1</th>\n",
       "      <td>-1.730816</td>\n",
       "      <td>2.529231</td>\n",
       "      <td>0.412963</td>\n",
       "      <td>-0.218280</td>\n",
       "      <td>-0.412743</td>\n",
       "      <td>-0.314144</td>\n",
       "      <td>-0.323037</td>\n",
       "      <td>-0.685559</td>\n",
       "      <td>1.492952</td>\n",
       "      <td>-2.939449</td>\n",
       "      <td>-0.314791</td>\n",
       "      <td>-3.747738</td>\n",
       "    </tr>\n",
       "    <tr>\n",
       "      <th>2</th>\n",
       "      <td>-1.729992</td>\n",
       "      <td>2.541482</td>\n",
       "      <td>0.803474</td>\n",
       "      <td>-0.114471</td>\n",
       "      <td>-0.507713</td>\n",
       "      <td>-0.313667</td>\n",
       "      <td>-0.336657</td>\n",
       "      <td>-0.685904</td>\n",
       "      <td>1.654278</td>\n",
       "      <td>-3.001640</td>\n",
       "      <td>-0.257373</td>\n",
       "      <td>-4.217849</td>\n",
       "    </tr>\n",
       "    <tr>\n",
       "      <th>3</th>\n",
       "      <td>-1.729169</td>\n",
       "      <td>2.553733</td>\n",
       "      <td>1.058458</td>\n",
       "      <td>0.136484</td>\n",
       "      <td>-0.602683</td>\n",
       "      <td>-0.307471</td>\n",
       "      <td>-0.350277</td>\n",
       "      <td>-0.685559</td>\n",
       "      <td>1.653294</td>\n",
       "      <td>-3.063831</td>\n",
       "      <td>-0.054320</td>\n",
       "      <td>-4.944131</td>\n",
       "    </tr>\n",
       "    <tr>\n",
       "      <th>4</th>\n",
       "      <td>-1.728345</td>\n",
       "      <td>2.565985</td>\n",
       "      <td>1.026933</td>\n",
       "      <td>0.278547</td>\n",
       "      <td>-0.593186</td>\n",
       "      <td>-0.306495</td>\n",
       "      <td>-0.363896</td>\n",
       "      <td>-0.685870</td>\n",
       "      <td>1.548039</td>\n",
       "      <td>-3.126022</td>\n",
       "      <td>0.148734</td>\n",
       "      <td>-5.242861</td>\n",
       "    </tr>\n",
       "    <tr>\n",
       "      <th>...</th>\n",
       "      <td>...</td>\n",
       "      <td>...</td>\n",
       "      <td>...</td>\n",
       "      <td>...</td>\n",
       "      <td>...</td>\n",
       "      <td>...</td>\n",
       "      <td>...</td>\n",
       "      <td>...</td>\n",
       "      <td>...</td>\n",
       "      <td>...</td>\n",
       "      <td>...</td>\n",
       "      <td>...</td>\n",
       "    </tr>\n",
       "    <tr>\n",
       "      <th>4202</th>\n",
       "      <td>1.728345</td>\n",
       "      <td>-0.575181</td>\n",
       "      <td>-0.686343</td>\n",
       "      <td>-0.077954</td>\n",
       "      <td>-1.386187</td>\n",
       "      <td>-0.057868</td>\n",
       "      <td>0.009181</td>\n",
       "      <td>-0.267572</td>\n",
       "      <td>-0.932841</td>\n",
       "      <td>-0.008639</td>\n",
       "      <td>-0.090701</td>\n",
       "      <td>1.709306</td>\n",
       "    </tr>\n",
       "    <tr>\n",
       "      <th>4203</th>\n",
       "      <td>1.729169</td>\n",
       "      <td>-0.575474</td>\n",
       "      <td>-0.659878</td>\n",
       "      <td>-0.065343</td>\n",
       "      <td>-1.362445</td>\n",
       "      <td>-0.125620</td>\n",
       "      <td>-0.082412</td>\n",
       "      <td>-0.270226</td>\n",
       "      <td>-0.970221</td>\n",
       "      <td>-0.029158</td>\n",
       "      <td>-0.109388</td>\n",
       "      <td>1.746619</td>\n",
       "    </tr>\n",
       "    <tr>\n",
       "      <th>4204</th>\n",
       "      <td>1.729992</td>\n",
       "      <td>-0.575767</td>\n",
       "      <td>-0.633413</td>\n",
       "      <td>-0.044466</td>\n",
       "      <td>-1.343451</td>\n",
       "      <td>-0.147659</td>\n",
       "      <td>-0.157118</td>\n",
       "      <td>-0.272881</td>\n",
       "      <td>-1.007602</td>\n",
       "      <td>0.060321</td>\n",
       "      <td>-0.123104</td>\n",
       "      <td>1.754365</td>\n",
       "    </tr>\n",
       "    <tr>\n",
       "      <th>4205</th>\n",
       "      <td>1.730816</td>\n",
       "      <td>-0.575968</td>\n",
       "      <td>-0.606948</td>\n",
       "      <td>-0.023588</td>\n",
       "      <td>-1.329205</td>\n",
       "      <td>-0.169698</td>\n",
       "      <td>-0.164358</td>\n",
       "      <td>-0.275536</td>\n",
       "      <td>-1.044982</td>\n",
       "      <td>0.145992</td>\n",
       "      <td>-0.132143</td>\n",
       "      <td>1.742303</td>\n",
       "    </tr>\n",
       "    <tr>\n",
       "      <th>4206</th>\n",
       "      <td>1.731639</td>\n",
       "      <td>-0.576169</td>\n",
       "      <td>-0.905935</td>\n",
       "      <td>-0.002710</td>\n",
       "      <td>-1.357696</td>\n",
       "      <td>-0.140328</td>\n",
       "      <td>-0.143169</td>\n",
       "      <td>-0.278190</td>\n",
       "      <td>-1.082362</td>\n",
       "      <td>0.158050</td>\n",
       "      <td>-0.153406</td>\n",
       "      <td>1.700810</td>\n",
       "    </tr>\n",
       "  </tbody>\n",
       "</table>\n",
       "<p>4207 rows × 12 columns</p>\n",
       "</div>"
      ],
      "text/plain": [
       "         DEPTH      CALI        GR       ILD       ITT       LLD       LLS  \\\n",
       "0    -1.731639  2.516979  0.147815  0.637840 -0.317773 -0.311624 -0.309417   \n",
       "1    -1.730816  2.529231  0.412963 -0.218280 -0.412743 -0.314144 -0.323037   \n",
       "2    -1.729992  2.541482  0.803474 -0.114471 -0.507713 -0.313667 -0.336657   \n",
       "3    -1.729169  2.553733  1.058458  0.136484 -0.602683 -0.307471 -0.350277   \n",
       "4    -1.728345  2.565985  1.026933  0.278547 -0.593186 -0.306495 -0.363896   \n",
       "...        ...       ...       ...       ...       ...       ...       ...   \n",
       "4202  1.728345 -0.575181 -0.686343 -0.077954 -1.386187 -0.057868  0.009181   \n",
       "4203  1.729169 -0.575474 -0.659878 -0.065343 -1.362445 -0.125620 -0.082412   \n",
       "4204  1.729992 -0.575767 -0.633413 -0.044466 -1.343451 -0.147659 -0.157118   \n",
       "4205  1.730816 -0.575968 -0.606948 -0.023588 -1.329205 -0.169698 -0.164358   \n",
       "4206  1.731639 -0.576169 -0.905935 -0.002710 -1.357696 -0.140328 -0.143169   \n",
       "\n",
       "          MSFL      NPHI      RHOB       SFL        SP  \n",
       "0    -0.685180  1.331626 -2.877258 -0.029983 -3.067635  \n",
       "1    -0.685559  1.492952 -2.939449 -0.314791 -3.747738  \n",
       "2    -0.685904  1.654278 -3.001640 -0.257373 -4.217849  \n",
       "3    -0.685559  1.653294 -3.063831 -0.054320 -4.944131  \n",
       "4    -0.685870  1.548039 -3.126022  0.148734 -5.242861  \n",
       "...        ...       ...       ...       ...       ...  \n",
       "4202 -0.267572 -0.932841 -0.008639 -0.090701  1.709306  \n",
       "4203 -0.270226 -0.970221 -0.029158 -0.109388  1.746619  \n",
       "4204 -0.272881 -1.007602  0.060321 -0.123104  1.754365  \n",
       "4205 -0.275536 -1.044982  0.145992 -0.132143  1.742303  \n",
       "4206 -0.278190 -1.082362  0.158050 -0.153406  1.700810  \n",
       "\n",
       "[4207 rows x 12 columns]"
      ]
     },
     "execution_count": 35,
     "metadata": {},
     "output_type": "execute_result"
    }
   ],
   "source": [
    "#     using mean of each feature\n",
    "from sklearn.preprocessing import StandardScaler\n",
    "scaler1 = StandardScaler()\n",
    "Sd_scaler1=scaler1.fit(dataset4)\n",
    "data1_Sd= Sd_scaler1.transform(dataset4)\n",
    "# print(data1_Sd)\n",
    "\n",
    "# convert standardized(numpy) datatype to pandas dataframe\n",
    "pd_data1_Sd= pd.DataFrame(data1_Sd, columns=dataset4.keys())\n",
    "\n",
    "pd_data1_Sd"
   ]
  },
  {
   "cell_type": "code",
   "execution_count": null,
   "metadata": {},
   "outputs": [],
   "source": []
  },
  {
   "cell_type": "markdown",
   "metadata": {},
   "source": [
    "# Filter features by correlation"
   ]
  },
  {
   "cell_type": "code",
   "execution_count": 36,
   "metadata": {},
   "outputs": [
    {
     "data": {
      "image/png": "[encoded data removed]",
      "text/plain": [
       "<Figure size 720x432 with 2 Axes>"
      ]
     },
     "metadata": {
      "needs_background": "light"
     },
     "output_type": "display_data"
    }
   ],
   "source": [
    "import seaborn as sn\n",
    "import matplotlib.pyplot as plt\n",
    "\n",
    "fig_dims = (10,6)\n",
    "fig, ax = plt.subplots(figsize = fig_dims)\n",
    "sn.heatmap(dataset2.corr(),ax=ax ,annot=True,\n",
    "          )\n",
    "plt.show()"
   ]
  },
  {
   "cell_type": "code",
   "execution_count": 37,
   "metadata": {},
   "outputs": [
    {
     "data": {
      "text/plain": [
       "DEPTH    0.783340\n",
       "GR       0.672281\n",
       "ITT      0.734752\n",
       "MSFL     0.504259\n",
       "NPHI     0.652063\n",
       "RHOB     1.000000\n",
       "Name: RHOB, dtype: float64"
      ]
     },
     "execution_count": 37,
     "metadata": {},
     "output_type": "execute_result"
    }
   ],
   "source": [
    "abs(dataset2.corr()['RHOB'][abs(dataset2.corr()['RHOB'])>0.5])"
   ]
  },
  {
   "cell_type": "code",
   "execution_count": 110,
   "metadata": {},
   "outputs": [
    {
     "data": {
      "text/plain": [
       "['DEPTH', 'GR', 'ITT', 'MSFL', 'NPHI']"
      ]
     },
     "execution_count": 110,
     "metadata": {},
     "output_type": "execute_result"
    }
   ],
   "source": [
    "# so i want to drop every feature that has a correlation <0.5 against RHOB\n",
    "\n",
    "# keep everything that has a correlation of alt least 0.5\n",
    "\n",
    "drop_lowCor=abs(dataset2.corr()['RHOB'][abs(dataset2.corr()['RHOB'])>0.5].drop('RHOB')).index.tolist()\n",
    "drop_lowCor\n"
   ]
  },
  {
   "cell_type": "code",
   "execution_count": 38,
   "metadata": {},
   "outputs": [
    {
     "data": {
      "text/plain": [
       "DEPTH    0.688033\n",
       "CALI     0.854475\n",
       "ITT      0.854359\n",
       "NPHI     0.725371\n",
       "RHOB     1.000000\n",
       "Name: RHOB, dtype: float64"
      ]
     },
     "execution_count": 38,
     "metadata": {},
     "output_type": "execute_result"
    }
   ],
   "source": [
    "abs(pd_data1_Sd.corr()['RHOB'][abs(pd_data1_Sd.corr()['RHOB'])>0.5])\n"
   ]
  },
  {
   "cell_type": "code",
   "execution_count": 62,
   "metadata": {},
   "outputs": [
    {
     "name": "stdout",
     "output_type": "stream",
     "text": [
      "['DEPTH', 'CALI', 'GR', 'ILD', 'ITT', 'LLD', 'LLS', 'MSFL', 'NPHI', 'SFL', 'SP']\n",
      "RMSE: 0.39\n",
      "R_squared: 0.85\n",
      "['DEPTH', 'CALI', 'GR', 'ILD', 'ITT', 'LLD', 'LLS', 'MSFL', 'NPHI', 'SFL']\n",
      "RMSE: 0.41\n",
      "R_squared: 0.83\n",
      "['DEPTH', 'CALI', 'GR', 'ILD', 'ITT', 'LLD', 'LLS', 'MSFL', 'NPHI', 'SFL']\n",
      "RMSE: 0.41\n",
      "R_squared: 0.83\n",
      "['DEPTH', 'CALI', 'ITT', 'MSFL', 'NPHI']\n",
      "RMSE: 0.43\n",
      "R_squared: 0.82\n",
      "['DEPTH', 'CALI', 'ITT', 'NPHI']\n",
      "RMSE: 0.43\n",
      "R_squared: 0.82\n",
      "['DEPTH', 'CALI', 'ITT', 'NPHI']\n",
      "RMSE: 0.43\n",
      "R_squared: 0.82\n",
      "['CALI', 'ITT', 'NPHI']\n",
      "RMSE: 0.44\n",
      "R_squared: 0.8\n"
     ]
    }
   ],
   "source": [
    "# an iteration to determine which correlation rate provides best R2 squared value\n",
    "from math import sqrt\n",
    "from sklearn.metrics import mean_squared_error, r2_score\n",
    "from sklearn.model_selection import cross_val_predict\n",
    "from sklearn.linear_model import LinearRegression\n",
    "\n",
    "# using linear regression\n",
    "lr = LinearRegression()\n",
    "\n",
    "vals = [0.1,0.2,0.3,0.4,0.5,0.6,0.7]\n",
    "for val in vals:\n",
    "    features =abs(pd_data1_Sd.corr()['RHOB'][abs(pd_data1_Sd.corr()['RHOB'])>val].drop('RHOB')).index.tolist()\n",
    "    \n",
    "    X = pd_data1_Sd.drop(columns='RHOB')\n",
    "    y=pd_data1_Sd['RHOB']\n",
    "    X=X[features]\n",
    "    print(features)\n",
    "\n",
    "\n",
    "    y_pred = cross_val_predict(lr, X, y, cv=cv)\n",
    "    print(\"RMSE: \" + str(round(sqrt(mean_squared_error(y,y_pred)),2)))\n",
    "    print(\"R_squared: \" + str(round(r2_score(y,y_pred),2)))\n"
   ]
  },
  {
   "cell_type": "code",
   "execution_count": 39,
   "metadata": {},
   "outputs": [
    {
     "name": "stdout",
     "output_type": "stream",
     "text": [
      "['DEPTH', 'CALI', 'GR', 'ILD', 'ITT', 'LLD', 'LLS', 'MSFL', 'NPHI', 'SFL', 'SP']\n",
      "Model: \"sequential_7\"\n",
      "_________________________________________________________________\n",
      "Layer (type)                 Output Shape              Param #   \n",
      "=================================================================\n",
      "dense_21 (Dense)             (None, 64)                768       \n",
      "_________________________________________________________________\n",
      "dropout_14 (Dropout)         (None, 64)                0         \n",
      "_________________________________________________________________\n",
      "dense_22 (Dense)             (None, 64)                4160      \n",
      "_________________________________________________________________\n",
      "dropout_15 (Dropout)         (None, 64)                0         \n",
      "_________________________________________________________________\n",
      "dense_23 (Dense)             (None, 1)                 65        \n",
      "=================================================================\n",
      "Total params: 4,993\n",
      "Trainable params: 4,993\n",
      "Non-trainable params: 0\n",
      "_________________________________________________________________\n",
      "r2 score: 0.8853429051534185\n",
      "['DEPTH', 'CALI', 'GR', 'ILD', 'ITT', 'LLD', 'LLS', 'MSFL', 'NPHI', 'SFL']\n",
      "Model: \"sequential_8\"\n",
      "_________________________________________________________________\n",
      "Layer (type)                 Output Shape              Param #   \n",
      "=================================================================\n",
      "dense_24 (Dense)             (None, 64)                704       \n",
      "_________________________________________________________________\n",
      "dropout_16 (Dropout)         (None, 64)                0         \n",
      "_________________________________________________________________\n",
      "dense_25 (Dense)             (None, 64)                4160      \n",
      "_________________________________________________________________\n",
      "dropout_17 (Dropout)         (None, 64)                0         \n",
      "_________________________________________________________________\n",
      "dense_26 (Dense)             (None, 1)                 65        \n",
      "=================================================================\n",
      "Total params: 4,929\n",
      "Trainable params: 4,929\n",
      "Non-trainable params: 0\n",
      "_________________________________________________________________\n",
      "r2 score: 0.8545332987392885\n",
      "['DEPTH', 'CALI', 'GR', 'ILD', 'ITT', 'LLD', 'LLS', 'MSFL', 'NPHI', 'SFL']\n",
      "Model: \"sequential_9\"\n",
      "_________________________________________________________________\n",
      "Layer (type)                 Output Shape              Param #   \n",
      "=================================================================\n",
      "dense_27 (Dense)             (None, 64)                704       \n",
      "_________________________________________________________________\n",
      "dropout_18 (Dropout)         (None, 64)                0         \n",
      "_________________________________________________________________\n",
      "dense_28 (Dense)             (None, 64)                4160      \n",
      "_________________________________________________________________\n",
      "dropout_19 (Dropout)         (None, 64)                0         \n",
      "_________________________________________________________________\n",
      "dense_29 (Dense)             (None, 1)                 65        \n",
      "=================================================================\n",
      "Total params: 4,929\n",
      "Trainable params: 4,929\n",
      "Non-trainable params: 0\n",
      "_________________________________________________________________\n",
      "r2 score: 0.8628867178711371\n",
      "['DEPTH', 'CALI', 'ITT', 'MSFL', 'NPHI']\n",
      "Model: \"sequential_10\"\n",
      "_________________________________________________________________\n",
      "Layer (type)                 Output Shape              Param #   \n",
      "=================================================================\n",
      "dense_30 (Dense)             (None, 64)                384       \n",
      "_________________________________________________________________\n",
      "dropout_20 (Dropout)         (None, 64)                0         \n",
      "_________________________________________________________________\n",
      "dense_31 (Dense)             (None, 64)                4160      \n",
      "_________________________________________________________________\n",
      "dropout_21 (Dropout)         (None, 64)                0         \n",
      "_________________________________________________________________\n",
      "dense_32 (Dense)             (None, 1)                 65        \n",
      "=================================================================\n",
      "Total params: 4,609\n",
      "Trainable params: 4,609\n",
      "Non-trainable params: 0\n",
      "_________________________________________________________________\n",
      "r2 score: 0.8665933339224007\n",
      "['DEPTH', 'CALI', 'ITT', 'NPHI']\n",
      "Model: \"sequential_11\"\n",
      "_________________________________________________________________\n",
      "Layer (type)                 Output Shape              Param #   \n",
      "=================================================================\n",
      "dense_33 (Dense)             (None, 64)                320       \n",
      "_________________________________________________________________\n",
      "dropout_22 (Dropout)         (None, 64)                0         \n",
      "_________________________________________________________________\n",
      "dense_34 (Dense)             (None, 64)                4160      \n",
      "_________________________________________________________________\n",
      "dropout_23 (Dropout)         (None, 64)                0         \n",
      "_________________________________________________________________\n",
      "dense_35 (Dense)             (None, 1)                 65        \n",
      "=================================================================\n",
      "Total params: 4,545\n",
      "Trainable params: 4,545\n",
      "Non-trainable params: 0\n",
      "_________________________________________________________________\n",
      "r2 score: 0.8448317324415298\n",
      "['DEPTH', 'CALI', 'ITT', 'NPHI']\n",
      "Model: \"sequential_12\"\n",
      "_________________________________________________________________\n",
      "Layer (type)                 Output Shape              Param #   \n",
      "=================================================================\n",
      "dense_36 (Dense)             (None, 64)                320       \n",
      "_________________________________________________________________\n",
      "dropout_24 (Dropout)         (None, 64)                0         \n",
      "_________________________________________________________________\n",
      "dense_37 (Dense)             (None, 64)                4160      \n",
      "_________________________________________________________________\n",
      "dropout_25 (Dropout)         (None, 64)                0         \n",
      "_________________________________________________________________\n",
      "dense_38 (Dense)             (None, 1)                 65        \n",
      "=================================================================\n",
      "Total params: 4,545\n",
      "Trainable params: 4,545\n",
      "Non-trainable params: 0\n",
      "_________________________________________________________________\n",
      "r2 score: 0.8193758645935658\n",
      "['CALI', 'ITT', 'NPHI']\n",
      "Model: \"sequential_13\"\n",
      "_________________________________________________________________\n",
      "Layer (type)                 Output Shape              Param #   \n",
      "=================================================================\n",
      "dense_39 (Dense)             (None, 64)                256       \n",
      "_________________________________________________________________\n",
      "dropout_26 (Dropout)         (None, 64)                0         \n",
      "_________________________________________________________________\n",
      "dense_40 (Dense)             (None, 64)                4160      \n",
      "_________________________________________________________________\n",
      "dropout_27 (Dropout)         (None, 64)                0         \n",
      "_________________________________________________________________\n",
      "dense_41 (Dense)             (None, 1)                 65        \n",
      "=================================================================\n",
      "Total params: 4,481\n",
      "Trainable params: 4,481\n",
      "Non-trainable params: 0\n",
      "_________________________________________________________________\n",
      "r2 score: 0.7769489675683604\n"
     ]
    }
   ],
   "source": [
    "from sklearn.preprocessing import StandardScaler\n",
    "from sklearn.pipeline import make_pipeline\n",
    "from sklearn.model_selection import KFold\n",
    "from sklearn.neighbors import KNeighborsRegressor\n",
    "from sklearn.metrics import mean_squared_error, r2_score\n",
    "from sklearn.model_selection import cross_val_predict\n",
    "from sklearn.linear_model import LinearRegression\n",
    "from math import sqrt\n",
    "\n",
    "\n",
    "vals = [0.1,0.2,0.3,0.4,0.5,0.6,0.7]\n",
    "for val in vals:\n",
    "    features =abs(pd_data1_Sd.corr()['RHOB'][abs(pd_data1_Sd.corr()['RHOB'])>val].drop('RHOB')).index.tolist()\n",
    "    \n",
    "    X = pd_data1_Sd.drop(columns='RHOB')\n",
    "    y=pd_data1_Sd['RHOB']\n",
    "    X=X[features]\n",
    "    \n",
    "    print(features)\n",
    "    \n",
    "    \n",
    "#     cv = KFold(n_splits=10, random_state=0, shuffle=False)\n",
    "#     classifier_pipeline = make_pipeline(StandardScaler(), myANN1( X, y))\n",
    "    \n",
    "    myANN1( X, y)\n",
    "#     print(\"r2 score: {}\".format(metrics.r2_score(test_target,predicted)))\n",
    "#     print(\"mae: {}\".format(metrics.mean_absolute_error(test_target, predicted)))\n",
    "\n",
    "    \n",
    "    \n",
    "#     y_pred = cross_val_predict(classifier_pipeline, Wrapper_X, Wrapper_y, cv=cv)\n",
    "    \n",
    "    \n",
    "    \n",
    "\n",
    "#     y_pred = cross_val_predict(classifier_pipeline, X, y, cv=cv)\n",
    "#     print(\"RMSE: \" + str(round(sqrt(mean_squared_error(y,y_pred)),2)))\n",
    "#     print(\"R_squared: \" + str(round(r2_score(y,y_pred),2)))\n"
   ]
  },
  {
   "cell_type": "code",
   "execution_count": null,
   "metadata": {},
   "outputs": [],
   "source": []
  },
  {
   "cell_type": "markdown",
   "metadata": {},
   "source": [
    "## Feature Selection Using a Wrapper"
   ]
  },
  {
   "cell_type": "code",
   "execution_count": 40,
   "metadata": {},
   "outputs": [],
   "source": [
    "dataset2_wrap=dataset4.copy()\n",
    "Wrapper_X = dataset2_wrap.drop(columns='RHOB')\n",
    "\n",
    "Wrapper_y = dataset2_wrap.RHOB"
   ]
  },
  {
   "cell_type": "code",
   "execution_count": 41,
   "metadata": {},
   "outputs": [],
   "source": [
    "from sklearn.preprocessing import StandardScaler\n",
    "from sklearn.pipeline import make_pipeline\n",
    "from sklearn.model_selection import KFold\n",
    "from sklearn.neighbors import KNeighborsRegressor\n",
    "from sklearn.model_selection import cross_val_predict\n",
    "from sklearn.linear_model import LinearRegression\n",
    "\n",
    "cv = KFold(n_splits=10, random_state=0, shuffle=True)\n",
    "reg_pipeline = make_pipeline(StandardScaler(), KNeighborsRegressor(n_neighbors=5))\n",
    "\n",
    "# using linear regression\n",
    "lr = LinearRegression()\n"
   ]
  },
  {
   "cell_type": "markdown",
   "metadata": {},
   "source": [
    "### 1 Forward Feature elemination"
   ]
  },
  {
   "cell_type": "code",
   "execution_count": 42,
   "metadata": {},
   "outputs": [
    {
     "data": {
      "text/plain": [
       "{1: {'feature_idx': (1,),\n",
       "  'cv_scores': array([0.68367984, 0.73631799, 0.74018668, 0.74092223, 0.74931118,\n",
       "         0.7229452 , 0.7401731 , 0.76119132, 0.73616623, 0.67312568]),\n",
       "  'avg_score': 0.7284019462237453,\n",
       "  'feature_names': ('CALI',)},\n",
       " 2: {'feature_idx': (1, 4),\n",
       "  'cv_scores': array([0.75860411, 0.81331571, 0.76741944, 0.80156351, 0.80034839,\n",
       "         0.79580459, 0.80952763, 0.83082123, 0.7688422 , 0.80005849]),\n",
       "  'avg_score': 0.7946305288824956,\n",
       "  'feature_names': ('CALI', 'ITT')},\n",
       " 3: {'feature_idx': (1, 2, 4),\n",
       "  'cv_scores': array([0.79493633, 0.84636932, 0.77164463, 0.82698359, 0.81779226,\n",
       "         0.84172604, 0.85800854, 0.87321208, 0.78801001, 0.83003484]),\n",
       "  'avg_score': 0.824871763304067,\n",
       "  'feature_names': ('CALI', 'GR', 'ITT')},\n",
       " 4: {'feature_idx': (1, 2, 4, 10),\n",
       "  'cv_scores': array([0.79718698, 0.84936547, 0.78463685, 0.83166329, 0.82501347,\n",
       "         0.839605  , 0.85798555, 0.87274217, 0.79884174, 0.82765351]),\n",
       "  'avg_score': 0.8284694016668711,\n",
       "  'feature_names': ('CALI', 'GR', 'ITT', 'SP')},\n",
       " 5: {'feature_idx': (0, 1, 2, 4, 10),\n",
       "  'cv_scores': array([0.81209619, 0.86280485, 0.81256444, 0.84399508, 0.84521059,\n",
       "         0.85434631, 0.86663003, 0.87864824, 0.82090672, 0.83671791]),\n",
       "  'avg_score': 0.8433920362205214,\n",
       "  'feature_names': ('DEPTH', 'CALI', 'GR', 'ITT', 'SP')},\n",
       " 6: {'feature_idx': (0, 1, 2, 4, 8, 10),\n",
       "  'cv_scores': array([0.81339504, 0.8611816 , 0.82653615, 0.84566593, 0.85018363,\n",
       "         0.85648377, 0.86396834, 0.87558749, 0.82996276, 0.84218536]),\n",
       "  'avg_score': 0.8465150065635882,\n",
       "  'feature_names': ('DEPTH', 'CALI', 'GR', 'ITT', 'NPHI', 'SP')},\n",
       " 7: {'feature_idx': (0, 1, 2, 4, 7, 8, 10),\n",
       "  'cv_scores': array([0.81366466, 0.8623601 , 0.82716926, 0.84593941, 0.85073723,\n",
       "         0.85307554, 0.86518315, 0.87687891, 0.82957553, 0.84272287]),\n",
       "  'avg_score': 0.8467306645303045,\n",
       "  'feature_names': ('DEPTH', 'CALI', 'GR', 'ITT', 'MSFL', 'NPHI', 'SP')},\n",
       " 8: {'feature_idx': (0, 1, 2, 4, 6, 7, 8, 10),\n",
       "  'cv_scores': array([0.816551  , 0.86294315, 0.82706423, 0.84658763, 0.85102805,\n",
       "         0.8523478 , 0.86678429, 0.8788892 , 0.82982144, 0.84589026]),\n",
       "  'avg_score': 0.8477907068334849,\n",
       "  'feature_names': ('DEPTH',\n",
       "   'CALI',\n",
       "   'GR',\n",
       "   'ITT',\n",
       "   'LLS',\n",
       "   'MSFL',\n",
       "   'NPHI',\n",
       "   'SP')},\n",
       " 9: {'feature_idx': (0, 1, 2, 4, 5, 6, 7, 8, 10),\n",
       "  'cv_scores': array([0.81796995, 0.86433116, 0.83238864, 0.84808089, 0.8464984 ,\n",
       "         0.85424399, 0.86753077, 0.88015222, 0.83270506, 0.84698774]),\n",
       "  'avg_score': 0.849088883466098,\n",
       "  'feature_names': ('DEPTH',\n",
       "   'CALI',\n",
       "   'GR',\n",
       "   'ITT',\n",
       "   'LLD',\n",
       "   'LLS',\n",
       "   'MSFL',\n",
       "   'NPHI',\n",
       "   'SP')},\n",
       " 10: {'feature_idx': (0, 1, 2, 3, 4, 5, 6, 7, 8, 10),\n",
       "  'cv_scores': array([0.81654622, 0.86427844, 0.83228811, 0.84870041, 0.84624032,\n",
       "         0.8541268 , 0.86810798, 0.88021329, 0.83371359, 0.84717987]),\n",
       "  'avg_score': 0.849139503123246,\n",
       "  'feature_names': ('DEPTH',\n",
       "   'CALI',\n",
       "   'GR',\n",
       "   'ILD',\n",
       "   'ITT',\n",
       "   'LLD',\n",
       "   'LLS',\n",
       "   'MSFL',\n",
       "   'NPHI',\n",
       "   'SP')},\n",
       " 11: {'feature_idx': (0, 1, 2, 3, 4, 5, 6, 7, 8, 9, 10),\n",
       "  'cv_scores': array([0.81740319, 0.86454296, 0.83227253, 0.84887298, 0.8453193 ,\n",
       "         0.85225649, 0.86843496, 0.88093043, 0.83247542, 0.8472778 ]),\n",
       "  'avg_score': 0.8489786051313641,\n",
       "  'feature_names': ('DEPTH',\n",
       "   'CALI',\n",
       "   'GR',\n",
       "   'ILD',\n",
       "   'ITT',\n",
       "   'LLD',\n",
       "   'LLS',\n",
       "   'MSFL',\n",
       "   'NPHI',\n",
       "   'SFL',\n",
       "   'SP')}}"
      ]
     },
     "execution_count": 42,
     "metadata": {},
     "output_type": "execute_result"
    }
   ],
   "source": [
    "\n",
    "\n",
    "from mlxtend.feature_selection import SequentialFeatureSelector as SFS\n",
    "\n",
    "ffs1 = SFS(\n",
    "            lr,\n",
    "#            reg_pipeline, \n",
    "           k_features='best', \n",
    "           forward=True, \n",
    "           scoring='r2',\n",
    "           cv=cv,\n",
    "           n_jobs=1,\n",
    "           \n",
    "          )\n",
    "\n",
    "ffs1.fit(Wrapper_X,Wrapper_y)\n",
    "\n",
    "ffs1.subsets_"
   ]
  },
  {
   "cell_type": "code",
   "execution_count": 43,
   "metadata": {},
   "outputs": [
    {
     "name": "stdout",
     "output_type": "stream",
     "text": [
      "0.849139503123246\n",
      "[0, 1, 2, 3, 4, 5, 6, 7, 8, 10]\n",
      "Index(['DEPTH', 'CALI', 'GR', 'ILD', 'ITT', 'LLD', 'LLS', 'MSFL', 'NPHI',\n",
      "       'SFL', 'SP'],\n",
      "      dtype='object')\n"
     ]
    }
   ],
   "source": [
    "feat_cols=list(ffs1.k_feature_idx_)\n",
    "print(ffs1.k_score_)\n",
    "print(feat_cols)\n",
    "print(Wrapper_X.columns)"
   ]
  },
  {
   "cell_type": "code",
   "execution_count": 44,
   "metadata": {},
   "outputs": [
    {
     "data": {
      "text/html": [
       "<div>\n",
       "<style scoped>\n",
       "    .dataframe tbody tr th:only-of-type {\n",
       "        vertical-align: middle;\n",
       "    }\n",
       "\n",
       "    .dataframe tbody tr th {\n",
       "        vertical-align: top;\n",
       "    }\n",
       "\n",
       "    .dataframe thead th {\n",
       "        text-align: right;\n",
       "    }\n",
       "</style>\n",
       "<table border=\"1\" class=\"dataframe\">\n",
       "  <thead>\n",
       "    <tr style=\"text-align: right;\">\n",
       "      <th></th>\n",
       "      <th>feature_idx</th>\n",
       "      <th>cv_scores</th>\n",
       "      <th>avg_score</th>\n",
       "      <th>feature_names</th>\n",
       "      <th>ci_bound</th>\n",
       "      <th>std_dev</th>\n",
       "      <th>std_err</th>\n",
       "    </tr>\n",
       "  </thead>\n",
       "  <tbody>\n",
       "    <tr>\n",
       "      <th>1</th>\n",
       "      <td>(1,)</td>\n",
       "      <td>[0.6836798388635741, 0.73631798998517, 0.74018...</td>\n",
       "      <td>0.728402</td>\n",
       "      <td>(CALI,)</td>\n",
       "      <td>0.0198664</td>\n",
       "      <td>0.0267484</td>\n",
       "      <td>0.00891615</td>\n",
       "    </tr>\n",
       "    <tr>\n",
       "      <th>2</th>\n",
       "      <td>(1, 4)</td>\n",
       "      <td>[0.7586041077878787, 0.8133157076650194, 0.767...</td>\n",
       "      <td>0.794631</td>\n",
       "      <td>(CALI, ITT)</td>\n",
       "      <td>0.0160945</td>\n",
       "      <td>0.0216698</td>\n",
       "      <td>0.00722327</td>\n",
       "    </tr>\n",
       "    <tr>\n",
       "      <th>3</th>\n",
       "      <td>(1, 2, 4)</td>\n",
       "      <td>[0.7949363269875949, 0.8463693189774371, 0.771...</td>\n",
       "      <td>0.824872</td>\n",
       "      <td>(CALI, GR, ITT)</td>\n",
       "      <td>0.0227109</td>\n",
       "      <td>0.0305783</td>\n",
       "      <td>0.0101928</td>\n",
       "    </tr>\n",
       "    <tr>\n",
       "      <th>4</th>\n",
       "      <td>(1, 2, 4, 10)</td>\n",
       "      <td>[0.7971869765003297, 0.8493654747467013, 0.784...</td>\n",
       "      <td>0.828469</td>\n",
       "      <td>(CALI, GR, ITT, SP)</td>\n",
       "      <td>0.0199186</td>\n",
       "      <td>0.0268187</td>\n",
       "      <td>0.00893956</td>\n",
       "    </tr>\n",
       "    <tr>\n",
       "      <th>5</th>\n",
       "      <td>(0, 1, 2, 4, 10)</td>\n",
       "      <td>[0.8120961935959946, 0.8628048517996825, 0.812...</td>\n",
       "      <td>0.843392</td>\n",
       "      <td>(DEPTH, CALI, GR, ITT, SP)</td>\n",
       "      <td>0.0162099</td>\n",
       "      <td>0.0218253</td>\n",
       "      <td>0.0072751</td>\n",
       "    </tr>\n",
       "    <tr>\n",
       "      <th>6</th>\n",
       "      <td>(0, 1, 2, 4, 8, 10)</td>\n",
       "      <td>[0.813395044626325, 0.861181596357327, 0.82653...</td>\n",
       "      <td>0.846515</td>\n",
       "      <td>(DEPTH, CALI, GR, ITT, NPHI, SP)</td>\n",
       "      <td>0.013425</td>\n",
       "      <td>0.0180757</td>\n",
       "      <td>0.00602523</td>\n",
       "    </tr>\n",
       "    <tr>\n",
       "      <th>7</th>\n",
       "      <td>(0, 1, 2, 4, 7, 8, 10)</td>\n",
       "      <td>[0.8136646611859302, 0.8623600954052667, 0.827...</td>\n",
       "      <td>0.846731</td>\n",
       "      <td>(DEPTH, CALI, GR, ITT, MSFL, NPHI, SP)</td>\n",
       "      <td>0.0135675</td>\n",
       "      <td>0.0182674</td>\n",
       "      <td>0.00608915</td>\n",
       "    </tr>\n",
       "    <tr>\n",
       "      <th>8</th>\n",
       "      <td>(0, 1, 2, 4, 6, 7, 8, 10)</td>\n",
       "      <td>[0.8165510036142976, 0.8629431520657443, 0.827...</td>\n",
       "      <td>0.847791</td>\n",
       "      <td>(DEPTH, CALI, GR, ITT, LLS, MSFL, NPHI, SP)</td>\n",
       "      <td>0.0135373</td>\n",
       "      <td>0.0182268</td>\n",
       "      <td>0.00607561</td>\n",
       "    </tr>\n",
       "    <tr>\n",
       "      <th>9</th>\n",
       "      <td>(0, 1, 2, 4, 5, 6, 7, 8, 10)</td>\n",
       "      <td>[0.8179699484395783, 0.8643311644813959, 0.832...</td>\n",
       "      <td>0.849089</td>\n",
       "      <td>(DEPTH, CALI, GR, ITT, LLD, LLS, MSFL, NPHI, SP)</td>\n",
       "      <td>0.0130595</td>\n",
       "      <td>0.0175835</td>\n",
       "      <td>0.00586117</td>\n",
       "    </tr>\n",
       "    <tr>\n",
       "      <th>10</th>\n",
       "      <td>(0, 1, 2, 3, 4, 5, 6, 7, 8, 10)</td>\n",
       "      <td>[0.8165462222348999, 0.8642784397387218, 0.832...</td>\n",
       "      <td>0.84914</td>\n",
       "      <td>(DEPTH, CALI, GR, ILD, ITT, LLD, LLS, MSFL, NP...</td>\n",
       "      <td>0.0132364</td>\n",
       "      <td>0.0178217</td>\n",
       "      <td>0.00594057</td>\n",
       "    </tr>\n",
       "    <tr>\n",
       "      <th>11</th>\n",
       "      <td>(0, 1, 2, 3, 4, 5, 6, 7, 8, 9, 10)</td>\n",
       "      <td>[0.817403186360754, 0.8645429618966844, 0.8322...</td>\n",
       "      <td>0.848979</td>\n",
       "      <td>(DEPTH, CALI, GR, ILD, ITT, LLD, LLS, MSFL, NP...</td>\n",
       "      <td>0.0133217</td>\n",
       "      <td>0.0179366</td>\n",
       "      <td>0.00597886</td>\n",
       "    </tr>\n",
       "  </tbody>\n",
       "</table>\n",
       "</div>"
      ],
      "text/plain": [
       "                           feature_idx  \\\n",
       "1                                 (1,)   \n",
       "2                               (1, 4)   \n",
       "3                            (1, 2, 4)   \n",
       "4                        (1, 2, 4, 10)   \n",
       "5                     (0, 1, 2, 4, 10)   \n",
       "6                  (0, 1, 2, 4, 8, 10)   \n",
       "7               (0, 1, 2, 4, 7, 8, 10)   \n",
       "8            (0, 1, 2, 4, 6, 7, 8, 10)   \n",
       "9         (0, 1, 2, 4, 5, 6, 7, 8, 10)   \n",
       "10     (0, 1, 2, 3, 4, 5, 6, 7, 8, 10)   \n",
       "11  (0, 1, 2, 3, 4, 5, 6, 7, 8, 9, 10)   \n",
       "\n",
       "                                            cv_scores avg_score  \\\n",
       "1   [0.6836798388635741, 0.73631798998517, 0.74018...  0.728402   \n",
       "2   [0.7586041077878787, 0.8133157076650194, 0.767...  0.794631   \n",
       "3   [0.7949363269875949, 0.8463693189774371, 0.771...  0.824872   \n",
       "4   [0.7971869765003297, 0.8493654747467013, 0.784...  0.828469   \n",
       "5   [0.8120961935959946, 0.8628048517996825, 0.812...  0.843392   \n",
       "6   [0.813395044626325, 0.861181596357327, 0.82653...  0.846515   \n",
       "7   [0.8136646611859302, 0.8623600954052667, 0.827...  0.846731   \n",
       "8   [0.8165510036142976, 0.8629431520657443, 0.827...  0.847791   \n",
       "9   [0.8179699484395783, 0.8643311644813959, 0.832...  0.849089   \n",
       "10  [0.8165462222348999, 0.8642784397387218, 0.832...   0.84914   \n",
       "11  [0.817403186360754, 0.8645429618966844, 0.8322...  0.848979   \n",
       "\n",
       "                                        feature_names   ci_bound    std_dev  \\\n",
       "1                                             (CALI,)  0.0198664  0.0267484   \n",
       "2                                         (CALI, ITT)  0.0160945  0.0216698   \n",
       "3                                     (CALI, GR, ITT)  0.0227109  0.0305783   \n",
       "4                                 (CALI, GR, ITT, SP)  0.0199186  0.0268187   \n",
       "5                          (DEPTH, CALI, GR, ITT, SP)  0.0162099  0.0218253   \n",
       "6                    (DEPTH, CALI, GR, ITT, NPHI, SP)   0.013425  0.0180757   \n",
       "7              (DEPTH, CALI, GR, ITT, MSFL, NPHI, SP)  0.0135675  0.0182674   \n",
       "8         (DEPTH, CALI, GR, ITT, LLS, MSFL, NPHI, SP)  0.0135373  0.0182268   \n",
       "9    (DEPTH, CALI, GR, ITT, LLD, LLS, MSFL, NPHI, SP)  0.0130595  0.0175835   \n",
       "10  (DEPTH, CALI, GR, ILD, ITT, LLD, LLS, MSFL, NP...  0.0132364  0.0178217   \n",
       "11  (DEPTH, CALI, GR, ILD, ITT, LLD, LLS, MSFL, NP...  0.0133217  0.0179366   \n",
       "\n",
       "       std_err  \n",
       "1   0.00891615  \n",
       "2   0.00722327  \n",
       "3    0.0101928  \n",
       "4   0.00893956  \n",
       "5    0.0072751  \n",
       "6   0.00602523  \n",
       "7   0.00608915  \n",
       "8   0.00607561  \n",
       "9   0.00586117  \n",
       "10  0.00594057  \n",
       "11  0.00597886  "
      ]
     },
     "execution_count": 44,
     "metadata": {},
     "output_type": "execute_result"
    }
   ],
   "source": [
    "# Visualizing the results in DataFrames\n",
    "pd.DataFrame.from_dict(ffs1.get_metric_dict()).T"
   ]
  },
  {
   "cell_type": "code",
   "execution_count": 46,
   "metadata": {},
   "outputs": [
    {
     "data": {
      "image/png": "[encoded data removed]",
      "text/plain": [
       "<Figure size 576x720 with 1 Axes>"
      ]
     },
     "metadata": {
      "needs_background": "light"
     },
     "output_type": "display_data"
    }
   ],
   "source": [
    "# Plotting the results\n",
    "\n",
    "from mlxtend.plotting import plot_sequential_feature_selection as plot_sfs\n",
    "import matplotlib.pyplot as plt\n",
    "\n",
    "fig1 = plot_sfs(ffs1.get_metric_dict(), kind='std_dev')\n",
    "\n",
    "plt.ylim([0.8, 1])\n",
    "plt.title('Sequential Forward Selection (w. StdDev)')\n",
    "plt.grid()\n",
    "plt.show()"
   ]
  },
  {
   "cell_type": "code",
   "execution_count": 47,
   "metadata": {},
   "outputs": [
    {
     "name": "stdout",
     "output_type": "stream",
     "text": [
      "best combination (R2: 0.851): (0, 1, 2, 4, 5, 6, 7, 8, 10)\n",
      "\n",
      "all subsets:\n",
      " {1: {'feature_idx': (4,), 'cv_scores': array([0.73207897, 0.74592221, 0.70552637, 0.76353625, 0.75412344]), 'avg_score': 0.7402374445890859, 'feature_names': ('4',)}, 2: {'feature_idx': (2, 4), 'cv_scores': array([0.81365097, 0.82114802, 0.75951967, 0.82909033, 0.84342887]), 'avg_score': 0.813367572314163, 'feature_names': ('2', '4')}, 3: {'feature_idx': (1, 2, 4), 'cv_scores': array([0.82611803, 0.83315353, 0.79904187, 0.85680533, 0.84514207]), 'avg_score': 0.8320521674904633, 'feature_names': ('1', '2', '4')}, 4: {'feature_idx': (0, 1, 2, 4), 'cv_scores': array([0.82951472, 0.83716843, 0.7994109 , 0.85950397, 0.85141237]), 'avg_score': 0.8354020784517129, 'feature_names': ('0', '1', '2', '4')}, 5: {'feature_idx': (0, 1, 2, 4, 10), 'cv_scores': array([0.83567023, 0.84909738, 0.82359283, 0.87423994, 0.85525444]), 'avg_score': 0.8475709630832992, 'feature_names': ('0', '1', '2', '4', '10')}, 6: {'feature_idx': (0, 1, 2, 4, 8, 10), 'cv_scores': array([0.83648484, 0.85099004, 0.82766132, 0.87358691, 0.85511271]), 'avg_score': 0.8487671653073814, 'feature_names': ('0', '1', '2', '4', '8', '10')}, 7: {'feature_idx': (0, 1, 2, 4, 6, 8, 10), 'cv_scores': array([0.83720301, 0.8520875 , 0.82770078, 0.87285198, 0.85611213]), 'avg_score': 0.8491910827450239, 'feature_names': ('0', '1', '2', '4', '6', '8', '10')}, 8: {'feature_idx': (0, 1, 2, 4, 6, 7, 8, 10), 'cv_scores': array([0.84041965, 0.85294591, 0.82814043, 0.87352404, 0.85666879]), 'avg_score': 0.8503397644922576, 'feature_names': ('0', '1', '2', '4', '6', '7', '8', '10')}, 9: {'feature_idx': (0, 1, 2, 4, 5, 6, 7, 8, 10), 'cv_scores': array([0.84188506, 0.85417377, 0.82720094, 0.87484282, 0.85815991]), 'avg_score': 0.8512525013323773, 'feature_names': ('0', '1', '2', '4', '5', '6', '7', '8', '10')}, 10: {'feature_idx': (0, 1, 2, 4, 5, 6, 7, 8, 9, 10), 'cv_scores': array([0.84147609, 0.85455967, 0.82662566, 0.87526042, 0.85825922]), 'avg_score': 0.8512362106486258, 'feature_names': ('0', '1', '2', '4', '5', '6', '7', '8', '9', '10')}, 11: {'feature_idx': (0, 1, 2, 3, 4, 5, 6, 7, 8, 9, 10), 'cv_scores': array([0.84170849, 0.85478042, 0.82694803, 0.8756482 , 0.85635552]), 'avg_score': 0.8510881325554474, 'feature_names': ('0', '1', '2', '3', '4', '5', '6', '7', '8', '9', '10')}}\n"
     ]
    },
    {
     "data": {
      "text/plain": [
       "Text(0.5, 1.0, 'Sequential Forward Selection (w. StdDev)')"
      ]
     },
     "execution_count": 47,
     "metadata": {},
     "output_type": "execute_result"
    },
    {
     "data": {
      "image/png": "[encoded data removed]",
      "text/plain": [
       "<Figure size 576x720 with 1 Axes>"
      ]
     },
     "metadata": {
      "needs_background": "light"
     },
     "output_type": "display_data"
    }
   ],
   "source": [
    "\n",
    "\n",
    "\n",
    "from mlxtend.feature_selection import SequentialFeatureSelector as SFS\n",
    "from sklearn.neighbors import KNeighborsClassifier\n",
    "from mlxtend.data import wine_data\n",
    "from sklearn.model_selection import train_test_split\n",
    "from sklearn.preprocessing import StandardScaler\n",
    "from sklearn.pipeline import make_pipeline\n",
    "\n",
    "X_train, X_test, y_train, y_test= train_test_split(Wrapper_X, Wrapper_y, \n",
    "#                                                    stratify= Wrapper_y,\n",
    "                                                   test_size=0.3,\n",
    "                                                   random_state=1)\n",
    "\n",
    "knn = KNeighborsRegressor(n_neighbors=2)\n",
    "\n",
    "sfs1 = SFS(\n",
    "#            estimator=knn,\n",
    "           estimator=lr,\n",
    "           k_features=  (3, 11),\n",
    "           forward=True, \n",
    "           floating=False, \n",
    "           scoring='r2',\n",
    "           cv=5)\n",
    "\n",
    "pipe = make_pipeline(StandardScaler(), sfs1)\n",
    "\n",
    "pipe.fit(X_train, y_train)\n",
    "\n",
    "print('best combination (R2: %.3f): %s\\n' % (sfs1.k_score_, sfs1.k_feature_idx_))\n",
    "print('all subsets:\\n', sfs1.subsets_)\n",
    "plot_sfs(sfs1.get_metric_dict(), kind='std_err');\n",
    "plt.title('Sequential Forward Selection (w. StdDev)')"
   ]
  },
  {
   "cell_type": "markdown",
   "metadata": {},
   "source": [
    "### 2 Backward Feature elimination"
   ]
  },
  {
   "cell_type": "code",
   "execution_count": 48,
   "metadata": {},
   "outputs": [
    {
     "data": {
      "text/plain": [
       "SequentialFeatureSelector(cv=KFold(n_splits=10, random_state=0, shuffle=True),\n",
       "                          estimator=LinearRegression(), forward=False,\n",
       "                          k_features='best', scoring='r2')"
      ]
     },
     "execution_count": 48,
     "metadata": {},
     "output_type": "execute_result"
    }
   ],
   "source": [
    "from mlxtend.feature_selection import SequentialFeatureSelector as SFS\n",
    "\n",
    "bfs = SFS(\n",
    "        lr,\n",
    "#         reg_pipeline, \n",
    "           k_features='best', \n",
    "           forward=False, \n",
    "           scoring='r2',\n",
    "           cv=cv,\n",
    "           n_jobs=1,\n",
    "           \n",
    "          )\n",
    "\n",
    "bfs.fit(Wrapper_X,Wrapper_y)\n",
    "\n",
    "\n"
   ]
  },
  {
   "cell_type": "code",
   "execution_count": 49,
   "metadata": {},
   "outputs": [
    {
     "data": {
      "text/plain": [
       "{11: {'feature_idx': (0, 1, 2, 3, 4, 5, 6, 7, 8, 9, 10),\n",
       "  'cv_scores': array([0.81740319, 0.86454296, 0.83227253, 0.84887298, 0.8453193 ,\n",
       "         0.85225649, 0.86843496, 0.88093043, 0.83247542, 0.8472778 ]),\n",
       "  'avg_score': 0.8489786051313641,\n",
       "  'feature_names': ('DEPTH',\n",
       "   'CALI',\n",
       "   'GR',\n",
       "   'ILD',\n",
       "   'ITT',\n",
       "   'LLD',\n",
       "   'LLS',\n",
       "   'MSFL',\n",
       "   'NPHI',\n",
       "   'SFL',\n",
       "   'SP')},\n",
       " 10: {'feature_idx': (0, 1, 2, 3, 4, 5, 6, 7, 8, 10),\n",
       "  'cv_scores': array([0.81654622, 0.86427844, 0.83228811, 0.84870041, 0.84624032,\n",
       "         0.8541268 , 0.86810798, 0.88021329, 0.83371359, 0.84717987]),\n",
       "  'avg_score': 0.849139503123246,\n",
       "  'feature_names': ('DEPTH',\n",
       "   'CALI',\n",
       "   'GR',\n",
       "   'ILD',\n",
       "   'ITT',\n",
       "   'LLD',\n",
       "   'LLS',\n",
       "   'MSFL',\n",
       "   'NPHI',\n",
       "   'SP')},\n",
       " 9: {'feature_idx': (0, 1, 2, 4, 5, 6, 7, 8, 10),\n",
       "  'cv_scores': array([0.81796995, 0.86433116, 0.83238864, 0.84808089, 0.8464984 ,\n",
       "         0.85424399, 0.86753077, 0.88015222, 0.83270506, 0.84698774]),\n",
       "  'avg_score': 0.849088883466098,\n",
       "  'feature_names': ('DEPTH',\n",
       "   'CALI',\n",
       "   'GR',\n",
       "   'ITT',\n",
       "   'LLD',\n",
       "   'LLS',\n",
       "   'MSFL',\n",
       "   'NPHI',\n",
       "   'SP')},\n",
       " 8: {'feature_idx': (0, 1, 2, 4, 6, 7, 8, 10),\n",
       "  'cv_scores': array([0.816551  , 0.86294315, 0.82706423, 0.84658763, 0.85102805,\n",
       "         0.8523478 , 0.86678429, 0.8788892 , 0.82982144, 0.84589026]),\n",
       "  'avg_score': 0.8477907068334849,\n",
       "  'feature_names': ('DEPTH',\n",
       "   'CALI',\n",
       "   'GR',\n",
       "   'ITT',\n",
       "   'LLS',\n",
       "   'MSFL',\n",
       "   'NPHI',\n",
       "   'SP')},\n",
       " 7: {'feature_idx': (0, 1, 2, 4, 7, 8, 10),\n",
       "  'cv_scores': array([0.81366466, 0.8623601 , 0.82716926, 0.84593941, 0.85073723,\n",
       "         0.85307554, 0.86518315, 0.87687891, 0.82957553, 0.84272287]),\n",
       "  'avg_score': 0.8467306645303045,\n",
       "  'feature_names': ('DEPTH', 'CALI', 'GR', 'ITT', 'MSFL', 'NPHI', 'SP')},\n",
       " 6: {'feature_idx': (0, 1, 2, 4, 8, 10),\n",
       "  'cv_scores': array([0.81339504, 0.8611816 , 0.82653615, 0.84566593, 0.85018363,\n",
       "         0.85648377, 0.86396834, 0.87558749, 0.82996276, 0.84218536]),\n",
       "  'avg_score': 0.8465150065635882,\n",
       "  'feature_names': ('DEPTH', 'CALI', 'GR', 'ITT', 'NPHI', 'SP')},\n",
       " 5: {'feature_idx': (0, 1, 2, 4, 10),\n",
       "  'cv_scores': array([0.81209619, 0.86280485, 0.81256444, 0.84399508, 0.84521059,\n",
       "         0.85434631, 0.86663003, 0.87864824, 0.82090672, 0.83671791]),\n",
       "  'avg_score': 0.8433920362205214,\n",
       "  'feature_names': ('DEPTH', 'CALI', 'GR', 'ITT', 'SP')},\n",
       " 4: {'feature_idx': (0, 1, 4, 10),\n",
       "  'cv_scores': array([0.8046713 , 0.85637607, 0.82177207, 0.84009088, 0.84362328,\n",
       "         0.84495808, 0.85617806, 0.86516232, 0.82241681, 0.83152582]),\n",
       "  'avg_score': 0.838677469831722,\n",
       "  'feature_names': ('DEPTH', 'CALI', 'ITT', 'SP')},\n",
       " 3: {'feature_idx': (0, 1, 4),\n",
       "  'cv_scores': array([0.77796231, 0.83117185, 0.77374063, 0.81568145, 0.81468341,\n",
       "         0.82471436, 0.83103446, 0.84923956, 0.77962688, 0.81890796]),\n",
       "  'avg_score': 0.8116762860938114,\n",
       "  'feature_names': ('DEPTH', 'CALI', 'ITT')},\n",
       " 2: {'feature_idx': (1, 4),\n",
       "  'cv_scores': array([0.75860411, 0.81331571, 0.76741944, 0.80156351, 0.80034839,\n",
       "         0.79580459, 0.80952763, 0.83082123, 0.7688422 , 0.80005849]),\n",
       "  'avg_score': 0.7946305288824956,\n",
       "  'feature_names': ('CALI', 'ITT')},\n",
       " 1: {'feature_idx': (1,),\n",
       "  'cv_scores': array([0.68367984, 0.73631799, 0.74018668, 0.74092223, 0.74931118,\n",
       "         0.7229452 , 0.7401731 , 0.76119132, 0.73616623, 0.67312568]),\n",
       "  'avg_score': 0.7284019462237453,\n",
       "  'feature_names': ('CALI',)}}"
      ]
     },
     "execution_count": 49,
     "metadata": {},
     "output_type": "execute_result"
    }
   ],
   "source": [
    "bfs.subsets_"
   ]
  },
  {
   "cell_type": "code",
   "execution_count": 50,
   "metadata": {},
   "outputs": [
    {
     "name": "stdout",
     "output_type": "stream",
     "text": [
      "0.849139503123246\n",
      "('DEPTH', 'CALI', 'GR', 'ILD', 'ITT', 'LLD', 'LLS', 'MSFL', 'NPHI', 'SP')\n",
      "[0, 1, 2, 3, 4, 5, 6, 7, 8, 10]\n",
      "Index(['DEPTH', 'CALI', 'GR', 'ILD', 'ITT', 'LLD', 'LLS', 'MSFL', 'NPHI',\n",
      "       'SFL', 'SP'],\n",
      "      dtype='object')\n"
     ]
    }
   ],
   "source": [
    "# dir(bfs)\n",
    "print(bfs.k_score_)\n",
    "#  'k_feature_idx_',\n",
    "print(bfs.k_feature_names_)\n",
    "\n",
    "feat_cols=list(bfs.k_feature_idx_)\n",
    "print(feat_cols)\n",
    "print(Wrapper_X.columns)"
   ]
  },
  {
   "cell_type": "code",
   "execution_count": 51,
   "metadata": {},
   "outputs": [
    {
     "data": {
      "text/html": [
       "<div>\n",
       "<style scoped>\n",
       "    .dataframe tbody tr th:only-of-type {\n",
       "        vertical-align: middle;\n",
       "    }\n",
       "\n",
       "    .dataframe tbody tr th {\n",
       "        vertical-align: top;\n",
       "    }\n",
       "\n",
       "    .dataframe thead th {\n",
       "        text-align: right;\n",
       "    }\n",
       "</style>\n",
       "<table border=\"1\" class=\"dataframe\">\n",
       "  <thead>\n",
       "    <tr style=\"text-align: right;\">\n",
       "      <th></th>\n",
       "      <th>feature_idx</th>\n",
       "      <th>cv_scores</th>\n",
       "      <th>avg_score</th>\n",
       "      <th>feature_names</th>\n",
       "      <th>ci_bound</th>\n",
       "      <th>std_dev</th>\n",
       "      <th>std_err</th>\n",
       "    </tr>\n",
       "  </thead>\n",
       "  <tbody>\n",
       "    <tr>\n",
       "      <th>11</th>\n",
       "      <td>(0, 1, 2, 3, 4, 5, 6, 7, 8, 9, 10)</td>\n",
       "      <td>[0.817403186360754, 0.8645429618966844, 0.8322...</td>\n",
       "      <td>0.848979</td>\n",
       "      <td>(DEPTH, CALI, GR, ILD, ITT, LLD, LLS, MSFL, NP...</td>\n",
       "      <td>0.0133217</td>\n",
       "      <td>0.0179366</td>\n",
       "      <td>0.00597886</td>\n",
       "    </tr>\n",
       "    <tr>\n",
       "      <th>10</th>\n",
       "      <td>(0, 1, 2, 3, 4, 5, 6, 7, 8, 10)</td>\n",
       "      <td>[0.8165462222348999, 0.8642784397387218, 0.832...</td>\n",
       "      <td>0.84914</td>\n",
       "      <td>(DEPTH, CALI, GR, ILD, ITT, LLD, LLS, MSFL, NP...</td>\n",
       "      <td>0.0132364</td>\n",
       "      <td>0.0178217</td>\n",
       "      <td>0.00594057</td>\n",
       "    </tr>\n",
       "    <tr>\n",
       "      <th>9</th>\n",
       "      <td>(0, 1, 2, 4, 5, 6, 7, 8, 10)</td>\n",
       "      <td>[0.8179699484395783, 0.8643311644813959, 0.832...</td>\n",
       "      <td>0.849089</td>\n",
       "      <td>(DEPTH, CALI, GR, ITT, LLD, LLS, MSFL, NPHI, SP)</td>\n",
       "      <td>0.0130595</td>\n",
       "      <td>0.0175835</td>\n",
       "      <td>0.00586117</td>\n",
       "    </tr>\n",
       "    <tr>\n",
       "      <th>8</th>\n",
       "      <td>(0, 1, 2, 4, 6, 7, 8, 10)</td>\n",
       "      <td>[0.8165510036142976, 0.8629431520657443, 0.827...</td>\n",
       "      <td>0.847791</td>\n",
       "      <td>(DEPTH, CALI, GR, ITT, LLS, MSFL, NPHI, SP)</td>\n",
       "      <td>0.0135373</td>\n",
       "      <td>0.0182268</td>\n",
       "      <td>0.00607561</td>\n",
       "    </tr>\n",
       "    <tr>\n",
       "      <th>7</th>\n",
       "      <td>(0, 1, 2, 4, 7, 8, 10)</td>\n",
       "      <td>[0.8136646611859302, 0.8623600954052667, 0.827...</td>\n",
       "      <td>0.846731</td>\n",
       "      <td>(DEPTH, CALI, GR, ITT, MSFL, NPHI, SP)</td>\n",
       "      <td>0.0135675</td>\n",
       "      <td>0.0182674</td>\n",
       "      <td>0.00608915</td>\n",
       "    </tr>\n",
       "    <tr>\n",
       "      <th>6</th>\n",
       "      <td>(0, 1, 2, 4, 8, 10)</td>\n",
       "      <td>[0.813395044626325, 0.861181596357327, 0.82653...</td>\n",
       "      <td>0.846515</td>\n",
       "      <td>(DEPTH, CALI, GR, ITT, NPHI, SP)</td>\n",
       "      <td>0.013425</td>\n",
       "      <td>0.0180757</td>\n",
       "      <td>0.00602523</td>\n",
       "    </tr>\n",
       "    <tr>\n",
       "      <th>5</th>\n",
       "      <td>(0, 1, 2, 4, 10)</td>\n",
       "      <td>[0.8120961935959946, 0.8628048517996825, 0.812...</td>\n",
       "      <td>0.843392</td>\n",
       "      <td>(DEPTH, CALI, GR, ITT, SP)</td>\n",
       "      <td>0.0162099</td>\n",
       "      <td>0.0218253</td>\n",
       "      <td>0.0072751</td>\n",
       "    </tr>\n",
       "    <tr>\n",
       "      <th>4</th>\n",
       "      <td>(0, 1, 4, 10)</td>\n",
       "      <td>[0.8046713006890391, 0.8563760730091079, 0.821...</td>\n",
       "      <td>0.838677</td>\n",
       "      <td>(DEPTH, CALI, ITT, SP)</td>\n",
       "      <td>0.0131706</td>\n",
       "      <td>0.0177331</td>\n",
       "      <td>0.00591104</td>\n",
       "    </tr>\n",
       "    <tr>\n",
       "      <th>3</th>\n",
       "      <td>(0, 1, 4)</td>\n",
       "      <td>[0.7779623093724037, 0.8311718489241277, 0.773...</td>\n",
       "      <td>0.811676</td>\n",
       "      <td>(DEPTH, CALI, ITT)</td>\n",
       "      <td>0.0182171</td>\n",
       "      <td>0.0245277</td>\n",
       "      <td>0.00817591</td>\n",
       "    </tr>\n",
       "    <tr>\n",
       "      <th>2</th>\n",
       "      <td>(1, 4)</td>\n",
       "      <td>[0.7586041077878787, 0.8133157076650194, 0.767...</td>\n",
       "      <td>0.794631</td>\n",
       "      <td>(CALI, ITT)</td>\n",
       "      <td>0.0160945</td>\n",
       "      <td>0.0216698</td>\n",
       "      <td>0.00722327</td>\n",
       "    </tr>\n",
       "    <tr>\n",
       "      <th>1</th>\n",
       "      <td>(1,)</td>\n",
       "      <td>[0.6836798388635741, 0.73631798998517, 0.74018...</td>\n",
       "      <td>0.728402</td>\n",
       "      <td>(CALI,)</td>\n",
       "      <td>0.0198664</td>\n",
       "      <td>0.0267484</td>\n",
       "      <td>0.00891615</td>\n",
       "    </tr>\n",
       "  </tbody>\n",
       "</table>\n",
       "</div>"
      ],
      "text/plain": [
       "                           feature_idx  \\\n",
       "11  (0, 1, 2, 3, 4, 5, 6, 7, 8, 9, 10)   \n",
       "10     (0, 1, 2, 3, 4, 5, 6, 7, 8, 10)   \n",
       "9         (0, 1, 2, 4, 5, 6, 7, 8, 10)   \n",
       "8            (0, 1, 2, 4, 6, 7, 8, 10)   \n",
       "7               (0, 1, 2, 4, 7, 8, 10)   \n",
       "6                  (0, 1, 2, 4, 8, 10)   \n",
       "5                     (0, 1, 2, 4, 10)   \n",
       "4                        (0, 1, 4, 10)   \n",
       "3                            (0, 1, 4)   \n",
       "2                               (1, 4)   \n",
       "1                                 (1,)   \n",
       "\n",
       "                                            cv_scores avg_score  \\\n",
       "11  [0.817403186360754, 0.8645429618966844, 0.8322...  0.848979   \n",
       "10  [0.8165462222348999, 0.8642784397387218, 0.832...   0.84914   \n",
       "9   [0.8179699484395783, 0.8643311644813959, 0.832...  0.849089   \n",
       "8   [0.8165510036142976, 0.8629431520657443, 0.827...  0.847791   \n",
       "7   [0.8136646611859302, 0.8623600954052667, 0.827...  0.846731   \n",
       "6   [0.813395044626325, 0.861181596357327, 0.82653...  0.846515   \n",
       "5   [0.8120961935959946, 0.8628048517996825, 0.812...  0.843392   \n",
       "4   [0.8046713006890391, 0.8563760730091079, 0.821...  0.838677   \n",
       "3   [0.7779623093724037, 0.8311718489241277, 0.773...  0.811676   \n",
       "2   [0.7586041077878787, 0.8133157076650194, 0.767...  0.794631   \n",
       "1   [0.6836798388635741, 0.73631798998517, 0.74018...  0.728402   \n",
       "\n",
       "                                        feature_names   ci_bound    std_dev  \\\n",
       "11  (DEPTH, CALI, GR, ILD, ITT, LLD, LLS, MSFL, NP...  0.0133217  0.0179366   \n",
       "10  (DEPTH, CALI, GR, ILD, ITT, LLD, LLS, MSFL, NP...  0.0132364  0.0178217   \n",
       "9    (DEPTH, CALI, GR, ITT, LLD, LLS, MSFL, NPHI, SP)  0.0130595  0.0175835   \n",
       "8         (DEPTH, CALI, GR, ITT, LLS, MSFL, NPHI, SP)  0.0135373  0.0182268   \n",
       "7              (DEPTH, CALI, GR, ITT, MSFL, NPHI, SP)  0.0135675  0.0182674   \n",
       "6                    (DEPTH, CALI, GR, ITT, NPHI, SP)   0.013425  0.0180757   \n",
       "5                          (DEPTH, CALI, GR, ITT, SP)  0.0162099  0.0218253   \n",
       "4                              (DEPTH, CALI, ITT, SP)  0.0131706  0.0177331   \n",
       "3                                  (DEPTH, CALI, ITT)  0.0182171  0.0245277   \n",
       "2                                         (CALI, ITT)  0.0160945  0.0216698   \n",
       "1                                             (CALI,)  0.0198664  0.0267484   \n",
       "\n",
       "       std_err  \n",
       "11  0.00597886  \n",
       "10  0.00594057  \n",
       "9   0.00586117  \n",
       "8   0.00607561  \n",
       "7   0.00608915  \n",
       "6   0.00602523  \n",
       "5    0.0072751  \n",
       "4   0.00591104  \n",
       "3   0.00817591  \n",
       "2   0.00722327  \n",
       "1   0.00891615  "
      ]
     },
     "execution_count": 51,
     "metadata": {},
     "output_type": "execute_result"
    }
   ],
   "source": [
    "# Visualizing the results in DataFrames\n",
    "pd.DataFrame.from_dict(bfs.get_metric_dict()).T"
   ]
  },
  {
   "cell_type": "code",
   "execution_count": 52,
   "metadata": {},
   "outputs": [
    {
     "data": {
      "image/png": "[encoded data removed]",
      "text/plain": [
       "<Figure size 576x720 with 1 Axes>"
      ]
     },
     "metadata": {
      "needs_background": "light"
     },
     "output_type": "display_data"
    }
   ],
   "source": [
    "# Plotting the results\n",
    "\n",
    "from mlxtend.plotting import plot_sequential_feature_selection as plot_sfs\n",
    "import matplotlib.pyplot as plt\n",
    "\n",
    "fig1 = plot_sfs(bfs.get_metric_dict(), kind='std_dev')\n",
    "\n",
    "plt.ylim([0.8, 1])\n",
    "plt.title('Sequential Forward Selection (w. StdDev)')\n",
    "plt.grid()\n",
    "plt.show()"
   ]
  },
  {
   "cell_type": "code",
   "execution_count": 53,
   "metadata": {},
   "outputs": [
    {
     "name": "stdout",
     "output_type": "stream",
     "text": [
      "best combination (R2: 0.851): (0, 1, 2, 4, 5, 6, 7, 8, 10)\n",
      "\n",
      "all subsets:\n",
      " {11: {'feature_idx': (0, 1, 2, 3, 4, 5, 6, 7, 8, 9, 10), 'cv_scores': array([0.84170849, 0.85478042, 0.82694803, 0.8756482 , 0.85635552]), 'avg_score': 0.8510881325554474, 'feature_names': ('0', '1', '2', '3', '4', '5', '6', '7', '8', '9', '10')}, 10: {'feature_idx': (0, 1, 2, 4, 5, 6, 7, 8, 9, 10), 'cv_scores': array([0.84147609, 0.85455967, 0.82662566, 0.87526042, 0.85825922]), 'avg_score': 0.8512362106486258, 'feature_names': ('0', '1', '2', '4', '5', '6', '7', '8', '9', '10')}, 9: {'feature_idx': (0, 1, 2, 4, 5, 6, 7, 8, 10), 'cv_scores': array([0.84188506, 0.85417377, 0.82720094, 0.87484282, 0.85815991]), 'avg_score': 0.8512525013323773, 'feature_names': ('0', '1', '2', '4', '5', '6', '7', '8', '10')}, 8: {'feature_idx': (0, 1, 2, 4, 5, 6, 7, 10), 'cv_scores': array([0.84204785, 0.85245767, 0.82461992, 0.87666064, 0.85709994]), 'avg_score': 0.8505772035014092, 'feature_names': ('0', '1', '2', '4', '5', '6', '7', '10')}, 7: {'feature_idx': (0, 1, 2, 4, 6, 7, 10), 'cv_scores': array([0.84075359, 0.85162519, 0.82628128, 0.87520318, 0.85587907]), 'avg_score': 0.8499484633453435, 'feature_names': ('0', '1', '2', '4', '6', '7', '10')}, 6: {'feature_idx': (0, 1, 2, 4, 7, 10), 'cv_scores': array([0.83756899, 0.84907599, 0.82631994, 0.87531349, 0.85365263]), 'avg_score': 0.8483862100182868, 'feature_names': ('0', '1', '2', '4', '7', '10')}, 5: {'feature_idx': (0, 1, 2, 4, 10), 'cv_scores': array([0.83567023, 0.84909738, 0.82359283, 0.87423994, 0.85525444]), 'avg_score': 0.8475709630832992, 'feature_names': ('0', '1', '2', '4', '10')}, 4: {'feature_idx': (0, 1, 4, 10), 'cv_scores': array([0.82343148, 0.84183208, 0.82793448, 0.87107096, 0.84314084]), 'avg_score': 0.8414819677394665, 'feature_names': ('0', '1', '4', '10')}, 3: {'feature_idx': (0, 1, 4), 'cv_scores': array([0.80466676, 0.81783   , 0.79218308, 0.8438195 , 0.82839532]), 'avg_score': 0.8173789315792203, 'feature_names': ('0', '1', '4')}, 2: {'feature_idx': (1, 4), 'cv_scores': array([0.78412971, 0.79412812, 0.78462197, 0.82478892, 0.79575772]), 'avg_score': 0.7966852863045863, 'feature_names': ('1', '4')}, 1: {'feature_idx': (4,), 'cv_scores': array([0.73207897, 0.74592221, 0.70552637, 0.76353625, 0.75412344]), 'avg_score': 0.7402374445890859, 'feature_names': ('4',)}}\n"
     ]
    },
    {
     "data": {
      "image/png": "[encoded data removed]",
      "text/plain": [
       "<Figure size 576x720 with 1 Axes>"
      ]
     },
     "metadata": {
      "needs_background": "light"
     },
     "output_type": "display_data"
    }
   ],
   "source": [
    "\n",
    "\n",
    "\n",
    "from mlxtend.feature_selection import SequentialFeatureSelector as SFS\n",
    "from sklearn.neighbors import KNeighborsClassifier\n",
    "from mlxtend.data import wine_data\n",
    "from sklearn.model_selection import train_test_split\n",
    "from sklearn.preprocessing import StandardScaler\n",
    "from sklearn.pipeline import make_pipeline\n",
    "\n",
    "X_train, X_test, y_train, y_test= train_test_split(Wrapper_X, Wrapper_y, \n",
    "#                                                    stratify= Wrapper_y,\n",
    "                                                   test_size=0.3,\n",
    "                                                   random_state=1)\n",
    "\n",
    "# knn = KNeighborsRegressor(n_neighbors=2)\n",
    "\n",
    "sfs1 = SFS(\n",
    "#            estimator=knn,\n",
    "           estimator=lr,\n",
    "           k_features=  (1, 11),\n",
    "           forward=False, \n",
    "           floating=False, \n",
    "           scoring='r2',\n",
    "           cv=5)\n",
    "\n",
    "pipe = make_pipeline(StandardScaler(), sfs1)\n",
    "\n",
    "pipe.fit(X_train, y_train)\n",
    "\n",
    "print('best combination (R2: %.3f): %s\\n' % (sfs1.k_score_, sfs1.k_feature_idx_))\n",
    "print('all subsets:\\n', sfs1.subsets_)\n",
    "plot_sfs(sfs1.get_metric_dict(), kind='std_err');"
   ]
  },
  {
   "cell_type": "markdown",
   "metadata": {},
   "source": [
    "### Toggling between SFS, SBS, SFFS, and SBFS\n",
    "Using the forward and floating parameters, we can toggle between SFS, SBS, SFFS, and SBFS"
   ]
  },
  {
   "cell_type": "code",
   "execution_count": 54,
   "metadata": {},
   "outputs": [
    {
     "name": "stdout",
     "output_type": "stream",
     "text": [
      "\n",
      "Sequential Forward Selection (k=3):\n",
      "(0, 1, 2, 3, 4, 5, 6, 7, 8, 10)\n",
      "CV Score:\n",
      "0.8522903794208386\n",
      "\n",
      "Sequential Backward Selection (k=3):\n",
      "(0, 1, 2, 3, 4, 5, 6, 7, 8, 10)\n",
      "CV Score:\n",
      "0.8522903794208386\n",
      "\n",
      "Sequential Forward Floating Selection (k=3):\n",
      "(0, 1, 2, 3, 4, 5, 6, 7, 8, 10)\n",
      "CV Score:\n",
      "0.8522903794208386\n",
      "\n",
      "Sequential Backward Floating Selection (k=3):\n",
      "(0, 1, 2, 3, 4, 5, 6, 7, 8, 10)\n",
      "CV Score:\n",
      "0.8522903794208386\n"
     ]
    }
   ],
   "source": [
    "# Sequential Forward Selection\n",
    "sfs_x = SFS(lr, \n",
    "          k_features='best', \n",
    "          forward=True, \n",
    "          floating=False, \n",
    "          scoring='r2',\n",
    "          cv=4,\n",
    "          n_jobs=-1)\n",
    "sfs_x = sfs_x.fit(X_train, y_train)\n",
    "\n",
    "print('\\nSequential Forward Selection (k=3):')\n",
    "print(sfs_x.k_feature_idx_)\n",
    "print('CV Score:')\n",
    "print(sfs_x.k_score_)\n",
    "\n",
    "###################################################\n",
    "\n",
    "# Sequential Backward Selection\n",
    "sbs_x = SFS(lr, \n",
    "          k_features='best', \n",
    "          forward=False, \n",
    "          floating=False, \n",
    "          scoring='r2',\n",
    "          cv=4,\n",
    "          n_jobs=-1)\n",
    "sbs_x = sbs_x.fit(X_train, y_train)\n",
    "\n",
    "print('\\nSequential Backward Selection (k=3):')\n",
    "print(sbs_x.k_feature_idx_)\n",
    "print('CV Score:')\n",
    "print(sbs_x.k_score_)\n",
    "\n",
    "###################################################\n",
    "\n",
    "# Sequential Forward Floating Selection\n",
    "sffs = SFS(lr, \n",
    "           k_features='best', \n",
    "           forward=True, \n",
    "           floating=True, \n",
    "           scoring='r2',\n",
    "           cv=4,\n",
    "           n_jobs=-1)\n",
    "sffs = sffs.fit(X_train, y_train)\n",
    "\n",
    "print('\\nSequential Forward Floating Selection (k=3):')\n",
    "print(sffs.k_feature_idx_)\n",
    "print('CV Score:')\n",
    "print(sffs.k_score_)\n",
    "\n",
    "###################################################\n",
    "\n",
    "# Sequential Backward Floating Selection\n",
    "sbfs = SFS(lr, \n",
    "           k_features='best', \n",
    "           forward=False, \n",
    "           floating=True, \n",
    "           scoring='r2',\n",
    "           cv=4,\n",
    "           n_jobs=-1)\n",
    "sbfs = sbfs.fit(X_train, y_train)\n",
    "\n",
    "print('\\nSequential Backward Floating Selection (k=3):')\n",
    "print(sbfs.k_feature_idx_)\n",
    "print('CV Score:')\n",
    "print(sbfs.k_score_)"
   ]
  },
  {
   "cell_type": "code",
   "execution_count": null,
   "metadata": {},
   "outputs": [],
   "source": []
  },
  {
   "cell_type": "code",
   "execution_count": null,
   "metadata": {},
   "outputs": [],
   "source": []
  },
  {
   "cell_type": "markdown",
   "metadata": {},
   "source": [
    "### 3 Exhaustive Feature Selection"
   ]
  },
  {
   "cell_type": "code",
   "execution_count": 100,
   "metadata": {},
   "outputs": [
    {
     "ename": "KeyboardInterrupt",
     "evalue": "",
     "output_type": "error",
     "traceback": [
      "\u001b[1;31m---------------------------------------------------------------------------\u001b[0m",
      "\u001b[1;31mKeyboardInterrupt\u001b[0m                         Traceback (most recent call last)",
      "\u001b[1;32m<ipython-input-100-c9afef523224>\u001b[0m in \u001b[0;36m<module>\u001b[1;34m\u001b[0m\n\u001b[0;32m     21\u001b[0m \u001b[1;33m\u001b[0m\u001b[0m\n\u001b[0;32m     22\u001b[0m \u001b[1;31m# fit to object to the training data\u001b[0m\u001b[1;33m\u001b[0m\u001b[1;33m\u001b[0m\u001b[1;33m\u001b[0m\u001b[0m\n\u001b[1;32m---> 23\u001b[1;33m \u001b[0mefs_RFR\u001b[0m \u001b[1;33m=\u001b[0m\u001b[0mefs_RFR\u001b[0m\u001b[1;33m.\u001b[0m\u001b[0mfit\u001b[0m\u001b[1;33m(\u001b[0m\u001b[0mWrapper_X\u001b[0m\u001b[1;33m,\u001b[0m\u001b[0mWrapper_y\u001b[0m\u001b[1;33m)\u001b[0m\u001b[1;33m\u001b[0m\u001b[1;33m\u001b[0m\u001b[0m\n\u001b[0m\u001b[0;32m     24\u001b[0m \u001b[1;33m\u001b[0m\u001b[0m\n\u001b[0;32m     25\u001b[0m \u001b[1;31m#print the selected features\u001b[0m\u001b[1;33m\u001b[0m\u001b[1;33m\u001b[0m\u001b[1;33m\u001b[0m\u001b[0m\n",
      "\u001b[1;32mD:\\anaconda3\\lib\\site-packages\\mlxtend\\feature_selection\\exhaustive_feature_selector.py\u001b[0m in \u001b[0;36mfit\u001b[1;34m(self, X, y, custom_feature_names, groups, **fit_params)\u001b[0m\n\u001b[0;32m    273\u001b[0m         \u001b[0mn_jobs\u001b[0m \u001b[1;33m=\u001b[0m \u001b[0mmin\u001b[0m\u001b[1;33m(\u001b[0m\u001b[0mself\u001b[0m\u001b[1;33m.\u001b[0m\u001b[0mn_jobs\u001b[0m\u001b[1;33m,\u001b[0m \u001b[0mall_comb\u001b[0m\u001b[1;33m)\u001b[0m\u001b[1;33m\u001b[0m\u001b[1;33m\u001b[0m\u001b[0m\n\u001b[0;32m    274\u001b[0m         \u001b[0mparallel\u001b[0m \u001b[1;33m=\u001b[0m \u001b[0mParallel\u001b[0m\u001b[1;33m(\u001b[0m\u001b[0mn_jobs\u001b[0m\u001b[1;33m=\u001b[0m\u001b[0mn_jobs\u001b[0m\u001b[1;33m,\u001b[0m \u001b[0mpre_dispatch\u001b[0m\u001b[1;33m=\u001b[0m\u001b[0mself\u001b[0m\u001b[1;33m.\u001b[0m\u001b[0mpre_dispatch\u001b[0m\u001b[1;33m)\u001b[0m\u001b[1;33m\u001b[0m\u001b[1;33m\u001b[0m\u001b[0m\n\u001b[1;32m--> 275\u001b[1;33m         work = enumerate(parallel(delayed(_calc_score)\n\u001b[0m\u001b[0;32m    276\u001b[0m                                   \u001b[1;33m(\u001b[0m\u001b[0mself\u001b[0m\u001b[1;33m,\u001b[0m \u001b[0mX_\u001b[0m\u001b[1;33m,\u001b[0m \u001b[0my\u001b[0m\u001b[1;33m,\u001b[0m \u001b[0mc\u001b[0m\u001b[1;33m,\u001b[0m \u001b[0mgroups\u001b[0m\u001b[1;33m=\u001b[0m\u001b[0mgroups\u001b[0m\u001b[1;33m,\u001b[0m \u001b[1;33m**\u001b[0m\u001b[0mfit_params\u001b[0m\u001b[1;33m)\u001b[0m\u001b[1;33m\u001b[0m\u001b[1;33m\u001b[0m\u001b[0m\n\u001b[0;32m    277\u001b[0m                                   for c in candidates))\n",
      "\u001b[1;32mD:\\anaconda3\\lib\\site-packages\\joblib\\parallel.py\u001b[0m in \u001b[0;36m__call__\u001b[1;34m(self, iterable)\u001b[0m\n\u001b[0;32m   1049\u001b[0m                 \u001b[0mself\u001b[0m\u001b[1;33m.\u001b[0m\u001b[0m_iterating\u001b[0m \u001b[1;33m=\u001b[0m \u001b[0mself\u001b[0m\u001b[1;33m.\u001b[0m\u001b[0m_original_iterator\u001b[0m \u001b[1;32mis\u001b[0m \u001b[1;32mnot\u001b[0m \u001b[1;32mNone\u001b[0m\u001b[1;33m\u001b[0m\u001b[1;33m\u001b[0m\u001b[0m\n\u001b[0;32m   1050\u001b[0m \u001b[1;33m\u001b[0m\u001b[0m\n\u001b[1;32m-> 1051\u001b[1;33m             \u001b[1;32mwhile\u001b[0m \u001b[0mself\u001b[0m\u001b[1;33m.\u001b[0m\u001b[0mdispatch_one_batch\u001b[0m\u001b[1;33m(\u001b[0m\u001b[0miterator\u001b[0m\u001b[1;33m)\u001b[0m\u001b[1;33m:\u001b[0m\u001b[1;33m\u001b[0m\u001b[1;33m\u001b[0m\u001b[0m\n\u001b[0m\u001b[0;32m   1052\u001b[0m                 \u001b[1;32mpass\u001b[0m\u001b[1;33m\u001b[0m\u001b[1;33m\u001b[0m\u001b[0m\n\u001b[0;32m   1053\u001b[0m \u001b[1;33m\u001b[0m\u001b[0m\n",
      "\u001b[1;32mD:\\anaconda3\\lib\\site-packages\\joblib\\parallel.py\u001b[0m in \u001b[0;36mdispatch_one_batch\u001b[1;34m(self, iterator)\u001b[0m\n\u001b[0;32m    864\u001b[0m                 \u001b[1;32mreturn\u001b[0m \u001b[1;32mFalse\u001b[0m\u001b[1;33m\u001b[0m\u001b[1;33m\u001b[0m\u001b[0m\n\u001b[0;32m    865\u001b[0m             \u001b[1;32melse\u001b[0m\u001b[1;33m:\u001b[0m\u001b[1;33m\u001b[0m\u001b[1;33m\u001b[0m\u001b[0m\n\u001b[1;32m--> 866\u001b[1;33m                 \u001b[0mself\u001b[0m\u001b[1;33m.\u001b[0m\u001b[0m_dispatch\u001b[0m\u001b[1;33m(\u001b[0m\u001b[0mtasks\u001b[0m\u001b[1;33m)\u001b[0m\u001b[1;33m\u001b[0m\u001b[1;33m\u001b[0m\u001b[0m\n\u001b[0m\u001b[0;32m    867\u001b[0m                 \u001b[1;32mreturn\u001b[0m \u001b[1;32mTrue\u001b[0m\u001b[1;33m\u001b[0m\u001b[1;33m\u001b[0m\u001b[0m\n\u001b[0;32m    868\u001b[0m \u001b[1;33m\u001b[0m\u001b[0m\n",
      "\u001b[1;32mD:\\anaconda3\\lib\\site-packages\\joblib\\parallel.py\u001b[0m in \u001b[0;36m_dispatch\u001b[1;34m(self, batch)\u001b[0m\n\u001b[0;32m    782\u001b[0m         \u001b[1;32mwith\u001b[0m \u001b[0mself\u001b[0m\u001b[1;33m.\u001b[0m\u001b[0m_lock\u001b[0m\u001b[1;33m:\u001b[0m\u001b[1;33m\u001b[0m\u001b[1;33m\u001b[0m\u001b[0m\n\u001b[0;32m    783\u001b[0m             \u001b[0mjob_idx\u001b[0m \u001b[1;33m=\u001b[0m \u001b[0mlen\u001b[0m\u001b[1;33m(\u001b[0m\u001b[0mself\u001b[0m\u001b[1;33m.\u001b[0m\u001b[0m_jobs\u001b[0m\u001b[1;33m)\u001b[0m\u001b[1;33m\u001b[0m\u001b[1;33m\u001b[0m\u001b[0m\n\u001b[1;32m--> 784\u001b[1;33m             \u001b[0mjob\u001b[0m \u001b[1;33m=\u001b[0m \u001b[0mself\u001b[0m\u001b[1;33m.\u001b[0m\u001b[0m_backend\u001b[0m\u001b[1;33m.\u001b[0m\u001b[0mapply_async\u001b[0m\u001b[1;33m(\u001b[0m\u001b[0mbatch\u001b[0m\u001b[1;33m,\u001b[0m \u001b[0mcallback\u001b[0m\u001b[1;33m=\u001b[0m\u001b[0mcb\u001b[0m\u001b[1;33m)\u001b[0m\u001b[1;33m\u001b[0m\u001b[1;33m\u001b[0m\u001b[0m\n\u001b[0m\u001b[0;32m    785\u001b[0m             \u001b[1;31m# A job can complete so quickly than its callback is\u001b[0m\u001b[1;33m\u001b[0m\u001b[1;33m\u001b[0m\u001b[1;33m\u001b[0m\u001b[0m\n\u001b[0;32m    786\u001b[0m             \u001b[1;31m# called before we get here, causing self._jobs to\u001b[0m\u001b[1;33m\u001b[0m\u001b[1;33m\u001b[0m\u001b[1;33m\u001b[0m\u001b[0m\n",
      "\u001b[1;32mD:\\anaconda3\\lib\\site-packages\\joblib\\_parallel_backends.py\u001b[0m in \u001b[0;36mapply_async\u001b[1;34m(self, func, callback)\u001b[0m\n\u001b[0;32m    206\u001b[0m     \u001b[1;32mdef\u001b[0m \u001b[0mapply_async\u001b[0m\u001b[1;33m(\u001b[0m\u001b[0mself\u001b[0m\u001b[1;33m,\u001b[0m \u001b[0mfunc\u001b[0m\u001b[1;33m,\u001b[0m \u001b[0mcallback\u001b[0m\u001b[1;33m=\u001b[0m\u001b[1;32mNone\u001b[0m\u001b[1;33m)\u001b[0m\u001b[1;33m:\u001b[0m\u001b[1;33m\u001b[0m\u001b[1;33m\u001b[0m\u001b[0m\n\u001b[0;32m    207\u001b[0m         \u001b[1;34m\"\"\"Schedule a func to be run\"\"\"\u001b[0m\u001b[1;33m\u001b[0m\u001b[1;33m\u001b[0m\u001b[0m\n\u001b[1;32m--> 208\u001b[1;33m         \u001b[0mresult\u001b[0m \u001b[1;33m=\u001b[0m \u001b[0mImmediateResult\u001b[0m\u001b[1;33m(\u001b[0m\u001b[0mfunc\u001b[0m\u001b[1;33m)\u001b[0m\u001b[1;33m\u001b[0m\u001b[1;33m\u001b[0m\u001b[0m\n\u001b[0m\u001b[0;32m    209\u001b[0m         \u001b[1;32mif\u001b[0m \u001b[0mcallback\u001b[0m\u001b[1;33m:\u001b[0m\u001b[1;33m\u001b[0m\u001b[1;33m\u001b[0m\u001b[0m\n\u001b[0;32m    210\u001b[0m             \u001b[0mcallback\u001b[0m\u001b[1;33m(\u001b[0m\u001b[0mresult\u001b[0m\u001b[1;33m)\u001b[0m\u001b[1;33m\u001b[0m\u001b[1;33m\u001b[0m\u001b[0m\n",
      "\u001b[1;32mD:\\anaconda3\\lib\\site-packages\\joblib\\_parallel_backends.py\u001b[0m in \u001b[0;36m__init__\u001b[1;34m(self, batch)\u001b[0m\n\u001b[0;32m    570\u001b[0m         \u001b[1;31m# Don't delay the application, to avoid keeping the input\u001b[0m\u001b[1;33m\u001b[0m\u001b[1;33m\u001b[0m\u001b[1;33m\u001b[0m\u001b[0m\n\u001b[0;32m    571\u001b[0m         \u001b[1;31m# arguments in memory\u001b[0m\u001b[1;33m\u001b[0m\u001b[1;33m\u001b[0m\u001b[1;33m\u001b[0m\u001b[0m\n\u001b[1;32m--> 572\u001b[1;33m         \u001b[0mself\u001b[0m\u001b[1;33m.\u001b[0m\u001b[0mresults\u001b[0m \u001b[1;33m=\u001b[0m \u001b[0mbatch\u001b[0m\u001b[1;33m(\u001b[0m\u001b[1;33m)\u001b[0m\u001b[1;33m\u001b[0m\u001b[1;33m\u001b[0m\u001b[0m\n\u001b[0m\u001b[0;32m    573\u001b[0m \u001b[1;33m\u001b[0m\u001b[0m\n\u001b[0;32m    574\u001b[0m     \u001b[1;32mdef\u001b[0m \u001b[0mget\u001b[0m\u001b[1;33m(\u001b[0m\u001b[0mself\u001b[0m\u001b[1;33m)\u001b[0m\u001b[1;33m:\u001b[0m\u001b[1;33m\u001b[0m\u001b[1;33m\u001b[0m\u001b[0m\n",
      "\u001b[1;32mD:\\anaconda3\\lib\\site-packages\\joblib\\parallel.py\u001b[0m in \u001b[0;36m__call__\u001b[1;34m(self)\u001b[0m\n\u001b[0;32m    260\u001b[0m         \u001b[1;31m# change the default number of processes to -1\u001b[0m\u001b[1;33m\u001b[0m\u001b[1;33m\u001b[0m\u001b[1;33m\u001b[0m\u001b[0m\n\u001b[0;32m    261\u001b[0m         \u001b[1;32mwith\u001b[0m \u001b[0mparallel_backend\u001b[0m\u001b[1;33m(\u001b[0m\u001b[0mself\u001b[0m\u001b[1;33m.\u001b[0m\u001b[0m_backend\u001b[0m\u001b[1;33m,\u001b[0m \u001b[0mn_jobs\u001b[0m\u001b[1;33m=\u001b[0m\u001b[0mself\u001b[0m\u001b[1;33m.\u001b[0m\u001b[0m_n_jobs\u001b[0m\u001b[1;33m)\u001b[0m\u001b[1;33m:\u001b[0m\u001b[1;33m\u001b[0m\u001b[1;33m\u001b[0m\u001b[0m\n\u001b[1;32m--> 262\u001b[1;33m             return [func(*args, **kwargs)\n\u001b[0m\u001b[0;32m    263\u001b[0m                     for func, args, kwargs in self.items]\n\u001b[0;32m    264\u001b[0m \u001b[1;33m\u001b[0m\u001b[0m\n",
      "\u001b[1;32mD:\\anaconda3\\lib\\site-packages\\joblib\\parallel.py\u001b[0m in \u001b[0;36m<listcomp>\u001b[1;34m(.0)\u001b[0m\n\u001b[0;32m    260\u001b[0m         \u001b[1;31m# change the default number of processes to -1\u001b[0m\u001b[1;33m\u001b[0m\u001b[1;33m\u001b[0m\u001b[1;33m\u001b[0m\u001b[0m\n\u001b[0;32m    261\u001b[0m         \u001b[1;32mwith\u001b[0m \u001b[0mparallel_backend\u001b[0m\u001b[1;33m(\u001b[0m\u001b[0mself\u001b[0m\u001b[1;33m.\u001b[0m\u001b[0m_backend\u001b[0m\u001b[1;33m,\u001b[0m \u001b[0mn_jobs\u001b[0m\u001b[1;33m=\u001b[0m\u001b[0mself\u001b[0m\u001b[1;33m.\u001b[0m\u001b[0m_n_jobs\u001b[0m\u001b[1;33m)\u001b[0m\u001b[1;33m:\u001b[0m\u001b[1;33m\u001b[0m\u001b[1;33m\u001b[0m\u001b[0m\n\u001b[1;32m--> 262\u001b[1;33m             return [func(*args, **kwargs)\n\u001b[0m\u001b[0;32m    263\u001b[0m                     for func, args, kwargs in self.items]\n\u001b[0;32m    264\u001b[0m \u001b[1;33m\u001b[0m\u001b[0m\n",
      "\u001b[1;32mD:\\anaconda3\\lib\\site-packages\\mlxtend\\feature_selection\\exhaustive_feature_selector.py\u001b[0m in \u001b[0;36m_calc_score\u001b[1;34m(selector, X, y, indices, groups, **fit_params)\u001b[0m\n\u001b[0;32m     28\u001b[0m \u001b[1;32mdef\u001b[0m \u001b[0m_calc_score\u001b[0m\u001b[1;33m(\u001b[0m\u001b[0mselector\u001b[0m\u001b[1;33m,\u001b[0m \u001b[0mX\u001b[0m\u001b[1;33m,\u001b[0m \u001b[0my\u001b[0m\u001b[1;33m,\u001b[0m \u001b[0mindices\u001b[0m\u001b[1;33m,\u001b[0m \u001b[0mgroups\u001b[0m\u001b[1;33m=\u001b[0m\u001b[1;32mNone\u001b[0m\u001b[1;33m,\u001b[0m \u001b[1;33m**\u001b[0m\u001b[0mfit_params\u001b[0m\u001b[1;33m)\u001b[0m\u001b[1;33m:\u001b[0m\u001b[1;33m\u001b[0m\u001b[1;33m\u001b[0m\u001b[0m\n\u001b[0;32m     29\u001b[0m     \u001b[1;32mif\u001b[0m \u001b[0mselector\u001b[0m\u001b[1;33m.\u001b[0m\u001b[0mcv\u001b[0m\u001b[1;33m:\u001b[0m\u001b[1;33m\u001b[0m\u001b[1;33m\u001b[0m\u001b[0m\n\u001b[1;32m---> 30\u001b[1;33m         scores = cross_val_score(selector.est_,\n\u001b[0m\u001b[0;32m     31\u001b[0m                                  \u001b[0mX\u001b[0m\u001b[1;33m[\u001b[0m\u001b[1;33m:\u001b[0m\u001b[1;33m,\u001b[0m \u001b[0mindices\u001b[0m\u001b[1;33m]\u001b[0m\u001b[1;33m,\u001b[0m \u001b[0my\u001b[0m\u001b[1;33m,\u001b[0m\u001b[1;33m\u001b[0m\u001b[1;33m\u001b[0m\u001b[0m\n\u001b[0;32m     32\u001b[0m                                  \u001b[0mgroups\u001b[0m\u001b[1;33m=\u001b[0m\u001b[0mgroups\u001b[0m\u001b[1;33m,\u001b[0m\u001b[1;33m\u001b[0m\u001b[1;33m\u001b[0m\u001b[0m\n",
      "\u001b[1;32mD:\\anaconda3\\lib\\site-packages\\sklearn\\utils\\validation.py\u001b[0m in \u001b[0;36minner_f\u001b[1;34m(*args, **kwargs)\u001b[0m\n\u001b[0;32m     70\u001b[0m                           FutureWarning)\n\u001b[0;32m     71\u001b[0m         \u001b[0mkwargs\u001b[0m\u001b[1;33m.\u001b[0m\u001b[0mupdate\u001b[0m\u001b[1;33m(\u001b[0m\u001b[1;33m{\u001b[0m\u001b[0mk\u001b[0m\u001b[1;33m:\u001b[0m \u001b[0marg\u001b[0m \u001b[1;32mfor\u001b[0m \u001b[0mk\u001b[0m\u001b[1;33m,\u001b[0m \u001b[0marg\u001b[0m \u001b[1;32min\u001b[0m \u001b[0mzip\u001b[0m\u001b[1;33m(\u001b[0m\u001b[0msig\u001b[0m\u001b[1;33m.\u001b[0m\u001b[0mparameters\u001b[0m\u001b[1;33m,\u001b[0m \u001b[0margs\u001b[0m\u001b[1;33m)\u001b[0m\u001b[1;33m}\u001b[0m\u001b[1;33m)\u001b[0m\u001b[1;33m\u001b[0m\u001b[1;33m\u001b[0m\u001b[0m\n\u001b[1;32m---> 72\u001b[1;33m         \u001b[1;32mreturn\u001b[0m \u001b[0mf\u001b[0m\u001b[1;33m(\u001b[0m\u001b[1;33m**\u001b[0m\u001b[0mkwargs\u001b[0m\u001b[1;33m)\u001b[0m\u001b[1;33m\u001b[0m\u001b[1;33m\u001b[0m\u001b[0m\n\u001b[0m\u001b[0;32m     73\u001b[0m     \u001b[1;32mreturn\u001b[0m \u001b[0minner_f\u001b[0m\u001b[1;33m\u001b[0m\u001b[1;33m\u001b[0m\u001b[0m\n\u001b[0;32m     74\u001b[0m \u001b[1;33m\u001b[0m\u001b[0m\n",
      "\u001b[1;32mD:\\anaconda3\\lib\\site-packages\\sklearn\\model_selection\\_validation.py\u001b[0m in \u001b[0;36mcross_val_score\u001b[1;34m(estimator, X, y, groups, scoring, cv, n_jobs, verbose, fit_params, pre_dispatch, error_score)\u001b[0m\n\u001b[0;32m    399\u001b[0m     \u001b[0mscorer\u001b[0m \u001b[1;33m=\u001b[0m \u001b[0mcheck_scoring\u001b[0m\u001b[1;33m(\u001b[0m\u001b[0mestimator\u001b[0m\u001b[1;33m,\u001b[0m \u001b[0mscoring\u001b[0m\u001b[1;33m=\u001b[0m\u001b[0mscoring\u001b[0m\u001b[1;33m)\u001b[0m\u001b[1;33m\u001b[0m\u001b[1;33m\u001b[0m\u001b[0m\n\u001b[0;32m    400\u001b[0m \u001b[1;33m\u001b[0m\u001b[0m\n\u001b[1;32m--> 401\u001b[1;33m     cv_results = cross_validate(estimator=estimator, X=X, y=y, groups=groups,\n\u001b[0m\u001b[0;32m    402\u001b[0m                                 \u001b[0mscoring\u001b[0m\u001b[1;33m=\u001b[0m\u001b[1;33m{\u001b[0m\u001b[1;34m'score'\u001b[0m\u001b[1;33m:\u001b[0m \u001b[0mscorer\u001b[0m\u001b[1;33m}\u001b[0m\u001b[1;33m,\u001b[0m \u001b[0mcv\u001b[0m\u001b[1;33m=\u001b[0m\u001b[0mcv\u001b[0m\u001b[1;33m,\u001b[0m\u001b[1;33m\u001b[0m\u001b[1;33m\u001b[0m\u001b[0m\n\u001b[0;32m    403\u001b[0m                                 \u001b[0mn_jobs\u001b[0m\u001b[1;33m=\u001b[0m\u001b[0mn_jobs\u001b[0m\u001b[1;33m,\u001b[0m \u001b[0mverbose\u001b[0m\u001b[1;33m=\u001b[0m\u001b[0mverbose\u001b[0m\u001b[1;33m,\u001b[0m\u001b[1;33m\u001b[0m\u001b[1;33m\u001b[0m\u001b[0m\n",
      "\u001b[1;32mD:\\anaconda3\\lib\\site-packages\\sklearn\\utils\\validation.py\u001b[0m in \u001b[0;36minner_f\u001b[1;34m(*args, **kwargs)\u001b[0m\n\u001b[0;32m     70\u001b[0m                           FutureWarning)\n\u001b[0;32m     71\u001b[0m         \u001b[0mkwargs\u001b[0m\u001b[1;33m.\u001b[0m\u001b[0mupdate\u001b[0m\u001b[1;33m(\u001b[0m\u001b[1;33m{\u001b[0m\u001b[0mk\u001b[0m\u001b[1;33m:\u001b[0m \u001b[0marg\u001b[0m \u001b[1;32mfor\u001b[0m \u001b[0mk\u001b[0m\u001b[1;33m,\u001b[0m \u001b[0marg\u001b[0m \u001b[1;32min\u001b[0m \u001b[0mzip\u001b[0m\u001b[1;33m(\u001b[0m\u001b[0msig\u001b[0m\u001b[1;33m.\u001b[0m\u001b[0mparameters\u001b[0m\u001b[1;33m,\u001b[0m \u001b[0margs\u001b[0m\u001b[1;33m)\u001b[0m\u001b[1;33m}\u001b[0m\u001b[1;33m)\u001b[0m\u001b[1;33m\u001b[0m\u001b[1;33m\u001b[0m\u001b[0m\n\u001b[1;32m---> 72\u001b[1;33m         \u001b[1;32mreturn\u001b[0m \u001b[0mf\u001b[0m\u001b[1;33m(\u001b[0m\u001b[1;33m**\u001b[0m\u001b[0mkwargs\u001b[0m\u001b[1;33m)\u001b[0m\u001b[1;33m\u001b[0m\u001b[1;33m\u001b[0m\u001b[0m\n\u001b[0m\u001b[0;32m     73\u001b[0m     \u001b[1;32mreturn\u001b[0m \u001b[0minner_f\u001b[0m\u001b[1;33m\u001b[0m\u001b[1;33m\u001b[0m\u001b[0m\n\u001b[0;32m     74\u001b[0m \u001b[1;33m\u001b[0m\u001b[0m\n",
      "\u001b[1;32mD:\\anaconda3\\lib\\site-packages\\sklearn\\model_selection\\_validation.py\u001b[0m in \u001b[0;36mcross_validate\u001b[1;34m(estimator, X, y, groups, scoring, cv, n_jobs, verbose, fit_params, pre_dispatch, return_train_score, return_estimator, error_score)\u001b[0m\n\u001b[0;32m    240\u001b[0m     parallel = Parallel(n_jobs=n_jobs, verbose=verbose,\n\u001b[0;32m    241\u001b[0m                         pre_dispatch=pre_dispatch)\n\u001b[1;32m--> 242\u001b[1;33m     scores = parallel(\n\u001b[0m\u001b[0;32m    243\u001b[0m         delayed(_fit_and_score)(\n\u001b[0;32m    244\u001b[0m             \u001b[0mclone\u001b[0m\u001b[1;33m(\u001b[0m\u001b[0mestimator\u001b[0m\u001b[1;33m)\u001b[0m\u001b[1;33m,\u001b[0m \u001b[0mX\u001b[0m\u001b[1;33m,\u001b[0m \u001b[0my\u001b[0m\u001b[1;33m,\u001b[0m \u001b[0mscorers\u001b[0m\u001b[1;33m,\u001b[0m \u001b[0mtrain\u001b[0m\u001b[1;33m,\u001b[0m \u001b[0mtest\u001b[0m\u001b[1;33m,\u001b[0m \u001b[0mverbose\u001b[0m\u001b[1;33m,\u001b[0m \u001b[1;32mNone\u001b[0m\u001b[1;33m,\u001b[0m\u001b[1;33m\u001b[0m\u001b[1;33m\u001b[0m\u001b[0m\n",
      "\u001b[1;32mD:\\anaconda3\\lib\\site-packages\\joblib\\parallel.py\u001b[0m in \u001b[0;36m__call__\u001b[1;34m(self, iterable)\u001b[0m\n\u001b[0;32m   1049\u001b[0m                 \u001b[0mself\u001b[0m\u001b[1;33m.\u001b[0m\u001b[0m_iterating\u001b[0m \u001b[1;33m=\u001b[0m \u001b[0mself\u001b[0m\u001b[1;33m.\u001b[0m\u001b[0m_original_iterator\u001b[0m \u001b[1;32mis\u001b[0m \u001b[1;32mnot\u001b[0m \u001b[1;32mNone\u001b[0m\u001b[1;33m\u001b[0m\u001b[1;33m\u001b[0m\u001b[0m\n\u001b[0;32m   1050\u001b[0m \u001b[1;33m\u001b[0m\u001b[0m\n\u001b[1;32m-> 1051\u001b[1;33m             \u001b[1;32mwhile\u001b[0m \u001b[0mself\u001b[0m\u001b[1;33m.\u001b[0m\u001b[0mdispatch_one_batch\u001b[0m\u001b[1;33m(\u001b[0m\u001b[0miterator\u001b[0m\u001b[1;33m)\u001b[0m\u001b[1;33m:\u001b[0m\u001b[1;33m\u001b[0m\u001b[1;33m\u001b[0m\u001b[0m\n\u001b[0m\u001b[0;32m   1052\u001b[0m                 \u001b[1;32mpass\u001b[0m\u001b[1;33m\u001b[0m\u001b[1;33m\u001b[0m\u001b[0m\n\u001b[0;32m   1053\u001b[0m \u001b[1;33m\u001b[0m\u001b[0m\n",
      "\u001b[1;32mD:\\anaconda3\\lib\\site-packages\\joblib\\parallel.py\u001b[0m in \u001b[0;36mdispatch_one_batch\u001b[1;34m(self, iterator)\u001b[0m\n\u001b[0;32m    864\u001b[0m                 \u001b[1;32mreturn\u001b[0m \u001b[1;32mFalse\u001b[0m\u001b[1;33m\u001b[0m\u001b[1;33m\u001b[0m\u001b[0m\n\u001b[0;32m    865\u001b[0m             \u001b[1;32melse\u001b[0m\u001b[1;33m:\u001b[0m\u001b[1;33m\u001b[0m\u001b[1;33m\u001b[0m\u001b[0m\n\u001b[1;32m--> 866\u001b[1;33m                 \u001b[0mself\u001b[0m\u001b[1;33m.\u001b[0m\u001b[0m_dispatch\u001b[0m\u001b[1;33m(\u001b[0m\u001b[0mtasks\u001b[0m\u001b[1;33m)\u001b[0m\u001b[1;33m\u001b[0m\u001b[1;33m\u001b[0m\u001b[0m\n\u001b[0m\u001b[0;32m    867\u001b[0m                 \u001b[1;32mreturn\u001b[0m \u001b[1;32mTrue\u001b[0m\u001b[1;33m\u001b[0m\u001b[1;33m\u001b[0m\u001b[0m\n\u001b[0;32m    868\u001b[0m \u001b[1;33m\u001b[0m\u001b[0m\n",
      "\u001b[1;32mD:\\anaconda3\\lib\\site-packages\\joblib\\parallel.py\u001b[0m in \u001b[0;36m_dispatch\u001b[1;34m(self, batch)\u001b[0m\n\u001b[0;32m    782\u001b[0m         \u001b[1;32mwith\u001b[0m \u001b[0mself\u001b[0m\u001b[1;33m.\u001b[0m\u001b[0m_lock\u001b[0m\u001b[1;33m:\u001b[0m\u001b[1;33m\u001b[0m\u001b[1;33m\u001b[0m\u001b[0m\n\u001b[0;32m    783\u001b[0m             \u001b[0mjob_idx\u001b[0m \u001b[1;33m=\u001b[0m \u001b[0mlen\u001b[0m\u001b[1;33m(\u001b[0m\u001b[0mself\u001b[0m\u001b[1;33m.\u001b[0m\u001b[0m_jobs\u001b[0m\u001b[1;33m)\u001b[0m\u001b[1;33m\u001b[0m\u001b[1;33m\u001b[0m\u001b[0m\n\u001b[1;32m--> 784\u001b[1;33m             \u001b[0mjob\u001b[0m \u001b[1;33m=\u001b[0m \u001b[0mself\u001b[0m\u001b[1;33m.\u001b[0m\u001b[0m_backend\u001b[0m\u001b[1;33m.\u001b[0m\u001b[0mapply_async\u001b[0m\u001b[1;33m(\u001b[0m\u001b[0mbatch\u001b[0m\u001b[1;33m,\u001b[0m \u001b[0mcallback\u001b[0m\u001b[1;33m=\u001b[0m\u001b[0mcb\u001b[0m\u001b[1;33m)\u001b[0m\u001b[1;33m\u001b[0m\u001b[1;33m\u001b[0m\u001b[0m\n\u001b[0m\u001b[0;32m    785\u001b[0m             \u001b[1;31m# A job can complete so quickly than its callback is\u001b[0m\u001b[1;33m\u001b[0m\u001b[1;33m\u001b[0m\u001b[1;33m\u001b[0m\u001b[0m\n\u001b[0;32m    786\u001b[0m             \u001b[1;31m# called before we get here, causing self._jobs to\u001b[0m\u001b[1;33m\u001b[0m\u001b[1;33m\u001b[0m\u001b[1;33m\u001b[0m\u001b[0m\n",
      "\u001b[1;32mD:\\anaconda3\\lib\\site-packages\\joblib\\_parallel_backends.py\u001b[0m in \u001b[0;36mapply_async\u001b[1;34m(self, func, callback)\u001b[0m\n\u001b[0;32m    206\u001b[0m     \u001b[1;32mdef\u001b[0m \u001b[0mapply_async\u001b[0m\u001b[1;33m(\u001b[0m\u001b[0mself\u001b[0m\u001b[1;33m,\u001b[0m \u001b[0mfunc\u001b[0m\u001b[1;33m,\u001b[0m \u001b[0mcallback\u001b[0m\u001b[1;33m=\u001b[0m\u001b[1;32mNone\u001b[0m\u001b[1;33m)\u001b[0m\u001b[1;33m:\u001b[0m\u001b[1;33m\u001b[0m\u001b[1;33m\u001b[0m\u001b[0m\n\u001b[0;32m    207\u001b[0m         \u001b[1;34m\"\"\"Schedule a func to be run\"\"\"\u001b[0m\u001b[1;33m\u001b[0m\u001b[1;33m\u001b[0m\u001b[0m\n\u001b[1;32m--> 208\u001b[1;33m         \u001b[0mresult\u001b[0m \u001b[1;33m=\u001b[0m \u001b[0mImmediateResult\u001b[0m\u001b[1;33m(\u001b[0m\u001b[0mfunc\u001b[0m\u001b[1;33m)\u001b[0m\u001b[1;33m\u001b[0m\u001b[1;33m\u001b[0m\u001b[0m\n\u001b[0m\u001b[0;32m    209\u001b[0m         \u001b[1;32mif\u001b[0m \u001b[0mcallback\u001b[0m\u001b[1;33m:\u001b[0m\u001b[1;33m\u001b[0m\u001b[1;33m\u001b[0m\u001b[0m\n\u001b[0;32m    210\u001b[0m             \u001b[0mcallback\u001b[0m\u001b[1;33m(\u001b[0m\u001b[0mresult\u001b[0m\u001b[1;33m)\u001b[0m\u001b[1;33m\u001b[0m\u001b[1;33m\u001b[0m\u001b[0m\n",
      "\u001b[1;32mD:\\anaconda3\\lib\\site-packages\\joblib\\_parallel_backends.py\u001b[0m in \u001b[0;36m__init__\u001b[1;34m(self, batch)\u001b[0m\n\u001b[0;32m    570\u001b[0m         \u001b[1;31m# Don't delay the application, to avoid keeping the input\u001b[0m\u001b[1;33m\u001b[0m\u001b[1;33m\u001b[0m\u001b[1;33m\u001b[0m\u001b[0m\n\u001b[0;32m    571\u001b[0m         \u001b[1;31m# arguments in memory\u001b[0m\u001b[1;33m\u001b[0m\u001b[1;33m\u001b[0m\u001b[1;33m\u001b[0m\u001b[0m\n\u001b[1;32m--> 572\u001b[1;33m         \u001b[0mself\u001b[0m\u001b[1;33m.\u001b[0m\u001b[0mresults\u001b[0m \u001b[1;33m=\u001b[0m \u001b[0mbatch\u001b[0m\u001b[1;33m(\u001b[0m\u001b[1;33m)\u001b[0m\u001b[1;33m\u001b[0m\u001b[1;33m\u001b[0m\u001b[0m\n\u001b[0m\u001b[0;32m    573\u001b[0m \u001b[1;33m\u001b[0m\u001b[0m\n\u001b[0;32m    574\u001b[0m     \u001b[1;32mdef\u001b[0m \u001b[0mget\u001b[0m\u001b[1;33m(\u001b[0m\u001b[0mself\u001b[0m\u001b[1;33m)\u001b[0m\u001b[1;33m:\u001b[0m\u001b[1;33m\u001b[0m\u001b[1;33m\u001b[0m\u001b[0m\n",
      "\u001b[1;32mD:\\anaconda3\\lib\\site-packages\\joblib\\parallel.py\u001b[0m in \u001b[0;36m__call__\u001b[1;34m(self)\u001b[0m\n\u001b[0;32m    260\u001b[0m         \u001b[1;31m# change the default number of processes to -1\u001b[0m\u001b[1;33m\u001b[0m\u001b[1;33m\u001b[0m\u001b[1;33m\u001b[0m\u001b[0m\n\u001b[0;32m    261\u001b[0m         \u001b[1;32mwith\u001b[0m \u001b[0mparallel_backend\u001b[0m\u001b[1;33m(\u001b[0m\u001b[0mself\u001b[0m\u001b[1;33m.\u001b[0m\u001b[0m_backend\u001b[0m\u001b[1;33m,\u001b[0m \u001b[0mn_jobs\u001b[0m\u001b[1;33m=\u001b[0m\u001b[0mself\u001b[0m\u001b[1;33m.\u001b[0m\u001b[0m_n_jobs\u001b[0m\u001b[1;33m)\u001b[0m\u001b[1;33m:\u001b[0m\u001b[1;33m\u001b[0m\u001b[1;33m\u001b[0m\u001b[0m\n\u001b[1;32m--> 262\u001b[1;33m             return [func(*args, **kwargs)\n\u001b[0m\u001b[0;32m    263\u001b[0m                     for func, args, kwargs in self.items]\n\u001b[0;32m    264\u001b[0m \u001b[1;33m\u001b[0m\u001b[0m\n",
      "\u001b[1;32mD:\\anaconda3\\lib\\site-packages\\joblib\\parallel.py\u001b[0m in \u001b[0;36m<listcomp>\u001b[1;34m(.0)\u001b[0m\n\u001b[0;32m    260\u001b[0m         \u001b[1;31m# change the default number of processes to -1\u001b[0m\u001b[1;33m\u001b[0m\u001b[1;33m\u001b[0m\u001b[1;33m\u001b[0m\u001b[0m\n\u001b[0;32m    261\u001b[0m         \u001b[1;32mwith\u001b[0m \u001b[0mparallel_backend\u001b[0m\u001b[1;33m(\u001b[0m\u001b[0mself\u001b[0m\u001b[1;33m.\u001b[0m\u001b[0m_backend\u001b[0m\u001b[1;33m,\u001b[0m \u001b[0mn_jobs\u001b[0m\u001b[1;33m=\u001b[0m\u001b[0mself\u001b[0m\u001b[1;33m.\u001b[0m\u001b[0m_n_jobs\u001b[0m\u001b[1;33m)\u001b[0m\u001b[1;33m:\u001b[0m\u001b[1;33m\u001b[0m\u001b[1;33m\u001b[0m\u001b[0m\n\u001b[1;32m--> 262\u001b[1;33m             return [func(*args, **kwargs)\n\u001b[0m\u001b[0;32m    263\u001b[0m                     for func, args, kwargs in self.items]\n\u001b[0;32m    264\u001b[0m \u001b[1;33m\u001b[0m\u001b[0m\n",
      "\u001b[1;32mD:\\anaconda3\\lib\\site-packages\\sklearn\\model_selection\\_validation.py\u001b[0m in \u001b[0;36m_fit_and_score\u001b[1;34m(estimator, X, y, scorer, train, test, verbose, parameters, fit_params, return_train_score, return_parameters, return_n_test_samples, return_times, return_estimator, error_score)\u001b[0m\n\u001b[0;32m    529\u001b[0m             \u001b[0mestimator\u001b[0m\u001b[1;33m.\u001b[0m\u001b[0mfit\u001b[0m\u001b[1;33m(\u001b[0m\u001b[0mX_train\u001b[0m\u001b[1;33m,\u001b[0m \u001b[1;33m**\u001b[0m\u001b[0mfit_params\u001b[0m\u001b[1;33m)\u001b[0m\u001b[1;33m\u001b[0m\u001b[1;33m\u001b[0m\u001b[0m\n\u001b[0;32m    530\u001b[0m         \u001b[1;32melse\u001b[0m\u001b[1;33m:\u001b[0m\u001b[1;33m\u001b[0m\u001b[1;33m\u001b[0m\u001b[0m\n\u001b[1;32m--> 531\u001b[1;33m             \u001b[0mestimator\u001b[0m\u001b[1;33m.\u001b[0m\u001b[0mfit\u001b[0m\u001b[1;33m(\u001b[0m\u001b[0mX_train\u001b[0m\u001b[1;33m,\u001b[0m \u001b[0my_train\u001b[0m\u001b[1;33m,\u001b[0m \u001b[1;33m**\u001b[0m\u001b[0mfit_params\u001b[0m\u001b[1;33m)\u001b[0m\u001b[1;33m\u001b[0m\u001b[1;33m\u001b[0m\u001b[0m\n\u001b[0m\u001b[0;32m    532\u001b[0m \u001b[1;33m\u001b[0m\u001b[0m\n\u001b[0;32m    533\u001b[0m     \u001b[1;32mexcept\u001b[0m \u001b[0mException\u001b[0m \u001b[1;32mas\u001b[0m \u001b[0me\u001b[0m\u001b[1;33m:\u001b[0m\u001b[1;33m\u001b[0m\u001b[1;33m\u001b[0m\u001b[0m\n",
      "\u001b[1;32mD:\\anaconda3\\lib\\site-packages\\sklearn\\ensemble\\_forest.py\u001b[0m in \u001b[0;36mfit\u001b[1;34m(self, X, y, sample_weight)\u001b[0m\n\u001b[0;32m    384\u001b[0m             \u001b[1;31m# parallel_backend contexts set at a higher level,\u001b[0m\u001b[1;33m\u001b[0m\u001b[1;33m\u001b[0m\u001b[1;33m\u001b[0m\u001b[0m\n\u001b[0;32m    385\u001b[0m             \u001b[1;31m# since correctness does not rely on using threads.\u001b[0m\u001b[1;33m\u001b[0m\u001b[1;33m\u001b[0m\u001b[1;33m\u001b[0m\u001b[0m\n\u001b[1;32m--> 386\u001b[1;33m             trees = Parallel(n_jobs=self.n_jobs, verbose=self.verbose,\n\u001b[0m\u001b[0;32m    387\u001b[0m                              \u001b[1;33m**\u001b[0m\u001b[0m_joblib_parallel_args\u001b[0m\u001b[1;33m(\u001b[0m\u001b[0mprefer\u001b[0m\u001b[1;33m=\u001b[0m\u001b[1;34m'threads'\u001b[0m\u001b[1;33m)\u001b[0m\u001b[1;33m)\u001b[0m\u001b[1;33m(\u001b[0m\u001b[1;33m\u001b[0m\u001b[1;33m\u001b[0m\u001b[0m\n\u001b[0;32m    388\u001b[0m                 delayed(_parallel_build_trees)(\n",
      "\u001b[1;32mD:\\anaconda3\\lib\\site-packages\\joblib\\parallel.py\u001b[0m in \u001b[0;36m__call__\u001b[1;34m(self, iterable)\u001b[0m\n\u001b[0;32m   1049\u001b[0m                 \u001b[0mself\u001b[0m\u001b[1;33m.\u001b[0m\u001b[0m_iterating\u001b[0m \u001b[1;33m=\u001b[0m \u001b[0mself\u001b[0m\u001b[1;33m.\u001b[0m\u001b[0m_original_iterator\u001b[0m \u001b[1;32mis\u001b[0m \u001b[1;32mnot\u001b[0m \u001b[1;32mNone\u001b[0m\u001b[1;33m\u001b[0m\u001b[1;33m\u001b[0m\u001b[0m\n\u001b[0;32m   1050\u001b[0m \u001b[1;33m\u001b[0m\u001b[0m\n\u001b[1;32m-> 1051\u001b[1;33m             \u001b[1;32mwhile\u001b[0m \u001b[0mself\u001b[0m\u001b[1;33m.\u001b[0m\u001b[0mdispatch_one_batch\u001b[0m\u001b[1;33m(\u001b[0m\u001b[0miterator\u001b[0m\u001b[1;33m)\u001b[0m\u001b[1;33m:\u001b[0m\u001b[1;33m\u001b[0m\u001b[1;33m\u001b[0m\u001b[0m\n\u001b[0m\u001b[0;32m   1052\u001b[0m                 \u001b[1;32mpass\u001b[0m\u001b[1;33m\u001b[0m\u001b[1;33m\u001b[0m\u001b[0m\n\u001b[0;32m   1053\u001b[0m \u001b[1;33m\u001b[0m\u001b[0m\n",
      "\u001b[1;32mD:\\anaconda3\\lib\\site-packages\\joblib\\parallel.py\u001b[0m in \u001b[0;36mdispatch_one_batch\u001b[1;34m(self, iterator)\u001b[0m\n\u001b[0;32m    864\u001b[0m                 \u001b[1;32mreturn\u001b[0m \u001b[1;32mFalse\u001b[0m\u001b[1;33m\u001b[0m\u001b[1;33m\u001b[0m\u001b[0m\n\u001b[0;32m    865\u001b[0m             \u001b[1;32melse\u001b[0m\u001b[1;33m:\u001b[0m\u001b[1;33m\u001b[0m\u001b[1;33m\u001b[0m\u001b[0m\n\u001b[1;32m--> 866\u001b[1;33m                 \u001b[0mself\u001b[0m\u001b[1;33m.\u001b[0m\u001b[0m_dispatch\u001b[0m\u001b[1;33m(\u001b[0m\u001b[0mtasks\u001b[0m\u001b[1;33m)\u001b[0m\u001b[1;33m\u001b[0m\u001b[1;33m\u001b[0m\u001b[0m\n\u001b[0m\u001b[0;32m    867\u001b[0m                 \u001b[1;32mreturn\u001b[0m \u001b[1;32mTrue\u001b[0m\u001b[1;33m\u001b[0m\u001b[1;33m\u001b[0m\u001b[0m\n\u001b[0;32m    868\u001b[0m \u001b[1;33m\u001b[0m\u001b[0m\n",
      "\u001b[1;32mD:\\anaconda3\\lib\\site-packages\\joblib\\parallel.py\u001b[0m in \u001b[0;36m_dispatch\u001b[1;34m(self, batch)\u001b[0m\n\u001b[0;32m    782\u001b[0m         \u001b[1;32mwith\u001b[0m \u001b[0mself\u001b[0m\u001b[1;33m.\u001b[0m\u001b[0m_lock\u001b[0m\u001b[1;33m:\u001b[0m\u001b[1;33m\u001b[0m\u001b[1;33m\u001b[0m\u001b[0m\n\u001b[0;32m    783\u001b[0m             \u001b[0mjob_idx\u001b[0m \u001b[1;33m=\u001b[0m \u001b[0mlen\u001b[0m\u001b[1;33m(\u001b[0m\u001b[0mself\u001b[0m\u001b[1;33m.\u001b[0m\u001b[0m_jobs\u001b[0m\u001b[1;33m)\u001b[0m\u001b[1;33m\u001b[0m\u001b[1;33m\u001b[0m\u001b[0m\n\u001b[1;32m--> 784\u001b[1;33m             \u001b[0mjob\u001b[0m \u001b[1;33m=\u001b[0m \u001b[0mself\u001b[0m\u001b[1;33m.\u001b[0m\u001b[0m_backend\u001b[0m\u001b[1;33m.\u001b[0m\u001b[0mapply_async\u001b[0m\u001b[1;33m(\u001b[0m\u001b[0mbatch\u001b[0m\u001b[1;33m,\u001b[0m \u001b[0mcallback\u001b[0m\u001b[1;33m=\u001b[0m\u001b[0mcb\u001b[0m\u001b[1;33m)\u001b[0m\u001b[1;33m\u001b[0m\u001b[1;33m\u001b[0m\u001b[0m\n\u001b[0m\u001b[0;32m    785\u001b[0m             \u001b[1;31m# A job can complete so quickly than its callback is\u001b[0m\u001b[1;33m\u001b[0m\u001b[1;33m\u001b[0m\u001b[1;33m\u001b[0m\u001b[0m\n\u001b[0;32m    786\u001b[0m             \u001b[1;31m# called before we get here, causing self._jobs to\u001b[0m\u001b[1;33m\u001b[0m\u001b[1;33m\u001b[0m\u001b[1;33m\u001b[0m\u001b[0m\n",
      "\u001b[1;32mD:\\anaconda3\\lib\\site-packages\\joblib\\_parallel_backends.py\u001b[0m in \u001b[0;36mapply_async\u001b[1;34m(self, func, callback)\u001b[0m\n\u001b[0;32m    206\u001b[0m     \u001b[1;32mdef\u001b[0m \u001b[0mapply_async\u001b[0m\u001b[1;33m(\u001b[0m\u001b[0mself\u001b[0m\u001b[1;33m,\u001b[0m \u001b[0mfunc\u001b[0m\u001b[1;33m,\u001b[0m \u001b[0mcallback\u001b[0m\u001b[1;33m=\u001b[0m\u001b[1;32mNone\u001b[0m\u001b[1;33m)\u001b[0m\u001b[1;33m:\u001b[0m\u001b[1;33m\u001b[0m\u001b[1;33m\u001b[0m\u001b[0m\n\u001b[0;32m    207\u001b[0m         \u001b[1;34m\"\"\"Schedule a func to be run\"\"\"\u001b[0m\u001b[1;33m\u001b[0m\u001b[1;33m\u001b[0m\u001b[0m\n\u001b[1;32m--> 208\u001b[1;33m         \u001b[0mresult\u001b[0m \u001b[1;33m=\u001b[0m \u001b[0mImmediateResult\u001b[0m\u001b[1;33m(\u001b[0m\u001b[0mfunc\u001b[0m\u001b[1;33m)\u001b[0m\u001b[1;33m\u001b[0m\u001b[1;33m\u001b[0m\u001b[0m\n\u001b[0m\u001b[0;32m    209\u001b[0m         \u001b[1;32mif\u001b[0m \u001b[0mcallback\u001b[0m\u001b[1;33m:\u001b[0m\u001b[1;33m\u001b[0m\u001b[1;33m\u001b[0m\u001b[0m\n\u001b[0;32m    210\u001b[0m             \u001b[0mcallback\u001b[0m\u001b[1;33m(\u001b[0m\u001b[0mresult\u001b[0m\u001b[1;33m)\u001b[0m\u001b[1;33m\u001b[0m\u001b[1;33m\u001b[0m\u001b[0m\n",
      "\u001b[1;32mD:\\anaconda3\\lib\\site-packages\\joblib\\_parallel_backends.py\u001b[0m in \u001b[0;36m__init__\u001b[1;34m(self, batch)\u001b[0m\n\u001b[0;32m    570\u001b[0m         \u001b[1;31m# Don't delay the application, to avoid keeping the input\u001b[0m\u001b[1;33m\u001b[0m\u001b[1;33m\u001b[0m\u001b[1;33m\u001b[0m\u001b[0m\n\u001b[0;32m    571\u001b[0m         \u001b[1;31m# arguments in memory\u001b[0m\u001b[1;33m\u001b[0m\u001b[1;33m\u001b[0m\u001b[1;33m\u001b[0m\u001b[0m\n\u001b[1;32m--> 572\u001b[1;33m         \u001b[0mself\u001b[0m\u001b[1;33m.\u001b[0m\u001b[0mresults\u001b[0m \u001b[1;33m=\u001b[0m \u001b[0mbatch\u001b[0m\u001b[1;33m(\u001b[0m\u001b[1;33m)\u001b[0m\u001b[1;33m\u001b[0m\u001b[1;33m\u001b[0m\u001b[0m\n\u001b[0m\u001b[0;32m    573\u001b[0m \u001b[1;33m\u001b[0m\u001b[0m\n\u001b[0;32m    574\u001b[0m     \u001b[1;32mdef\u001b[0m \u001b[0mget\u001b[0m\u001b[1;33m(\u001b[0m\u001b[0mself\u001b[0m\u001b[1;33m)\u001b[0m\u001b[1;33m:\u001b[0m\u001b[1;33m\u001b[0m\u001b[1;33m\u001b[0m\u001b[0m\n",
      "\u001b[1;32mD:\\anaconda3\\lib\\site-packages\\joblib\\parallel.py\u001b[0m in \u001b[0;36m__call__\u001b[1;34m(self)\u001b[0m\n\u001b[0;32m    260\u001b[0m         \u001b[1;31m# change the default number of processes to -1\u001b[0m\u001b[1;33m\u001b[0m\u001b[1;33m\u001b[0m\u001b[1;33m\u001b[0m\u001b[0m\n\u001b[0;32m    261\u001b[0m         \u001b[1;32mwith\u001b[0m \u001b[0mparallel_backend\u001b[0m\u001b[1;33m(\u001b[0m\u001b[0mself\u001b[0m\u001b[1;33m.\u001b[0m\u001b[0m_backend\u001b[0m\u001b[1;33m,\u001b[0m \u001b[0mn_jobs\u001b[0m\u001b[1;33m=\u001b[0m\u001b[0mself\u001b[0m\u001b[1;33m.\u001b[0m\u001b[0m_n_jobs\u001b[0m\u001b[1;33m)\u001b[0m\u001b[1;33m:\u001b[0m\u001b[1;33m\u001b[0m\u001b[1;33m\u001b[0m\u001b[0m\n\u001b[1;32m--> 262\u001b[1;33m             return [func(*args, **kwargs)\n\u001b[0m\u001b[0;32m    263\u001b[0m                     for func, args, kwargs in self.items]\n\u001b[0;32m    264\u001b[0m \u001b[1;33m\u001b[0m\u001b[0m\n",
      "\u001b[1;32mD:\\anaconda3\\lib\\site-packages\\joblib\\parallel.py\u001b[0m in \u001b[0;36m<listcomp>\u001b[1;34m(.0)\u001b[0m\n\u001b[0;32m    260\u001b[0m         \u001b[1;31m# change the default number of processes to -1\u001b[0m\u001b[1;33m\u001b[0m\u001b[1;33m\u001b[0m\u001b[1;33m\u001b[0m\u001b[0m\n\u001b[0;32m    261\u001b[0m         \u001b[1;32mwith\u001b[0m \u001b[0mparallel_backend\u001b[0m\u001b[1;33m(\u001b[0m\u001b[0mself\u001b[0m\u001b[1;33m.\u001b[0m\u001b[0m_backend\u001b[0m\u001b[1;33m,\u001b[0m \u001b[0mn_jobs\u001b[0m\u001b[1;33m=\u001b[0m\u001b[0mself\u001b[0m\u001b[1;33m.\u001b[0m\u001b[0m_n_jobs\u001b[0m\u001b[1;33m)\u001b[0m\u001b[1;33m:\u001b[0m\u001b[1;33m\u001b[0m\u001b[1;33m\u001b[0m\u001b[0m\n\u001b[1;32m--> 262\u001b[1;33m             return [func(*args, **kwargs)\n\u001b[0m\u001b[0;32m    263\u001b[0m                     for func, args, kwargs in self.items]\n\u001b[0;32m    264\u001b[0m \u001b[1;33m\u001b[0m\u001b[0m\n",
      "\u001b[1;32mD:\\anaconda3\\lib\\site-packages\\sklearn\\ensemble\\_forest.py\u001b[0m in \u001b[0;36m_parallel_build_trees\u001b[1;34m(tree, forest, X, y, sample_weight, tree_idx, n_trees, verbose, class_weight, n_samples_bootstrap)\u001b[0m\n\u001b[0;32m    166\u001b[0m                                                         indices=indices)\n\u001b[0;32m    167\u001b[0m \u001b[1;33m\u001b[0m\u001b[0m\n\u001b[1;32m--> 168\u001b[1;33m         \u001b[0mtree\u001b[0m\u001b[1;33m.\u001b[0m\u001b[0mfit\u001b[0m\u001b[1;33m(\u001b[0m\u001b[0mX\u001b[0m\u001b[1;33m,\u001b[0m \u001b[0my\u001b[0m\u001b[1;33m,\u001b[0m \u001b[0msample_weight\u001b[0m\u001b[1;33m=\u001b[0m\u001b[0mcurr_sample_weight\u001b[0m\u001b[1;33m,\u001b[0m \u001b[0mcheck_input\u001b[0m\u001b[1;33m=\u001b[0m\u001b[1;32mFalse\u001b[0m\u001b[1;33m)\u001b[0m\u001b[1;33m\u001b[0m\u001b[1;33m\u001b[0m\u001b[0m\n\u001b[0m\u001b[0;32m    169\u001b[0m     \u001b[1;32melse\u001b[0m\u001b[1;33m:\u001b[0m\u001b[1;33m\u001b[0m\u001b[1;33m\u001b[0m\u001b[0m\n\u001b[0;32m    170\u001b[0m         \u001b[0mtree\u001b[0m\u001b[1;33m.\u001b[0m\u001b[0mfit\u001b[0m\u001b[1;33m(\u001b[0m\u001b[0mX\u001b[0m\u001b[1;33m,\u001b[0m \u001b[0my\u001b[0m\u001b[1;33m,\u001b[0m \u001b[0msample_weight\u001b[0m\u001b[1;33m=\u001b[0m\u001b[0msample_weight\u001b[0m\u001b[1;33m,\u001b[0m \u001b[0mcheck_input\u001b[0m\u001b[1;33m=\u001b[0m\u001b[1;32mFalse\u001b[0m\u001b[1;33m)\u001b[0m\u001b[1;33m\u001b[0m\u001b[1;33m\u001b[0m\u001b[0m\n",
      "\u001b[1;32mD:\\anaconda3\\lib\\site-packages\\sklearn\\tree\\_classes.py\u001b[0m in \u001b[0;36mfit\u001b[1;34m(self, X, y, sample_weight, check_input, X_idx_sorted)\u001b[0m\n\u001b[0;32m   1240\u001b[0m         \"\"\"\n\u001b[0;32m   1241\u001b[0m \u001b[1;33m\u001b[0m\u001b[0m\n\u001b[1;32m-> 1242\u001b[1;33m         super().fit(\n\u001b[0m\u001b[0;32m   1243\u001b[0m             \u001b[0mX\u001b[0m\u001b[1;33m,\u001b[0m \u001b[0my\u001b[0m\u001b[1;33m,\u001b[0m\u001b[1;33m\u001b[0m\u001b[1;33m\u001b[0m\u001b[0m\n\u001b[0;32m   1244\u001b[0m             \u001b[0msample_weight\u001b[0m\u001b[1;33m=\u001b[0m\u001b[0msample_weight\u001b[0m\u001b[1;33m,\u001b[0m\u001b[1;33m\u001b[0m\u001b[1;33m\u001b[0m\u001b[0m\n",
      "\u001b[1;32mD:\\anaconda3\\lib\\site-packages\\sklearn\\tree\\_classes.py\u001b[0m in \u001b[0;36mfit\u001b[1;34m(self, X, y, sample_weight, check_input, X_idx_sorted)\u001b[0m\n\u001b[0;32m    373\u001b[0m                                            min_impurity_split)\n\u001b[0;32m    374\u001b[0m \u001b[1;33m\u001b[0m\u001b[0m\n\u001b[1;32m--> 375\u001b[1;33m         \u001b[0mbuilder\u001b[0m\u001b[1;33m.\u001b[0m\u001b[0mbuild\u001b[0m\u001b[1;33m(\u001b[0m\u001b[0mself\u001b[0m\u001b[1;33m.\u001b[0m\u001b[0mtree_\u001b[0m\u001b[1;33m,\u001b[0m \u001b[0mX\u001b[0m\u001b[1;33m,\u001b[0m \u001b[0my\u001b[0m\u001b[1;33m,\u001b[0m \u001b[0msample_weight\u001b[0m\u001b[1;33m,\u001b[0m \u001b[0mX_idx_sorted\u001b[0m\u001b[1;33m)\u001b[0m\u001b[1;33m\u001b[0m\u001b[1;33m\u001b[0m\u001b[0m\n\u001b[0m\u001b[0;32m    376\u001b[0m \u001b[1;33m\u001b[0m\u001b[0m\n\u001b[0;32m    377\u001b[0m         \u001b[1;32mif\u001b[0m \u001b[0mself\u001b[0m\u001b[1;33m.\u001b[0m\u001b[0mn_outputs_\u001b[0m \u001b[1;33m==\u001b[0m \u001b[1;36m1\u001b[0m \u001b[1;32mand\u001b[0m \u001b[0mis_classifier\u001b[0m\u001b[1;33m(\u001b[0m\u001b[0mself\u001b[0m\u001b[1;33m)\u001b[0m\u001b[1;33m:\u001b[0m\u001b[1;33m\u001b[0m\u001b[1;33m\u001b[0m\u001b[0m\n",
      "\u001b[1;31mKeyboardInterrupt\u001b[0m: "
     ]
    }
   ],
   "source": [
    "from mlxtend.feature_selection import ExhaustiveFeatureSelector as EFS\n",
    "\n",
    "# import the algorithm you want to evaluate on your features\n",
    "from sklearn.ensemble import RandomForestRegressor\n",
    "\n",
    "#create the exhaustiveFeatureSellector object.\n",
    "efs_RFR = EFS(RandomForestRegressor(),\n",
    "         min_features=4,\n",
    "         max_features=10,\n",
    "         scoring='r2',\n",
    "         cv=cv)\n",
    "\n",
    "efs2= EFS(lr, \n",
    "#            k_features='best', \n",
    "#            forward=False, \n",
    "           scoring='neg_mean_squared_error',\n",
    "           cv=cv,\n",
    "           n_jobs=1,\n",
    "           \n",
    "          )\n",
    "\n",
    "# fit to object to the training data\n",
    "efs_RFR =efs_RFR.fit(Wrapper_X,Wrapper_y)\n",
    "\n",
    "#print the selected features\n",
    "selected_features= Wrapper_X.columns[list(efs_RFR.best_idx_)]\n",
    "print(selected_features)\n"
   ]
  },
  {
   "cell_type": "code",
   "execution_count": null,
   "metadata": {},
   "outputs": [],
   "source": []
  },
  {
   "cell_type": "markdown",
   "metadata": {},
   "source": [
    "# embeded methods¶\n",
    "### Lasso regularization"
   ]
  },
  {
   "cell_type": "code",
   "execution_count": 55,
   "metadata": {},
   "outputs": [],
   "source": [
    "pd_data1_Sd_lasso=pd_data1_Sd.copy()\n",
    "embeded_X = pd_data1_Sd_lasso.drop(columns='RHOB')\n",
    "embeded_y = pd_data1_Sd_lasso.RHOB"
   ]
  },
  {
   "cell_type": "code",
   "execution_count": 56,
   "metadata": {},
   "outputs": [
    {
     "name": "stdout",
     "output_type": "stream",
     "text": [
      "Best alpha using built-in LassoCV:0.010534\n",
      "Best score using built-in LassoCV:0.844351\n"
     ]
    }
   ],
   "source": [
    "from sklearn.linear_model import LassoCV\n",
    "reg = LassoCV()\n",
    "reg.fit(embeded_X,embeded_y )\n",
    "print(\"Best alpha using built-in LassoCV:%f\" % reg.alpha_)\n",
    "print(\"Best score using built-in LassoCV:%f\" % reg.score(embeded_X ,embeded_y ))\n",
    "coef =pd.Series(reg.coef_, index = embeded_X.columns)\n"
   ]
  },
  {
   "cell_type": "code",
   "execution_count": 57,
   "metadata": {},
   "outputs": [
    {
     "name": "stdout",
     "output_type": "stream",
     "text": [
      "Lasso picked 7variables and eliminated the other 4variables\n"
     ]
    }
   ],
   "source": [
    "print('Lasso picked '+ str(sum(coef != 0)) + \"variables and eliminated the other \"+ str(sum(coef== 0)) +\"variables\")"
   ]
  },
  {
   "cell_type": "code",
   "execution_count": 58,
   "metadata": {},
   "outputs": [
    {
     "data": {
      "text/plain": [
       "Text(0.5, 1.0, 'Feature importance using Lasso Model')"
      ]
     },
     "execution_count": 58,
     "metadata": {},
     "output_type": "execute_result"
    },
    {
     "data": {
      "image/png": "[encoded data removed]",
      "text/plain": [
       "<Figure size 576x720 with 1 Axes>"
      ]
     },
     "metadata": {
      "needs_background": "light"
     },
     "output_type": "display_data"
    }
   ],
   "source": [
    "imp_coef = coef.sort_values()\n",
    "import matplotlib\n",
    "matplotlib.rcParams['figure.figsize'] = (8.0, 10.0)\n",
    "imp_coef.plot(kind = 'barh')\n",
    "plt.title(\"Feature importance using Lasso Model\")"
   ]
  },
  {
   "cell_type": "code",
   "execution_count": null,
   "metadata": {},
   "outputs": [],
   "source": []
  },
  {
   "cell_type": "markdown",
   "metadata": {},
   "source": [
    "# Random Forest importance"
   ]
  },
  {
   "cell_type": "code",
   "execution_count": 26,
   "metadata": {
    "scrolled": true
   },
   "outputs": [
    {
     "ename": "NameError",
     "evalue": "name 'importances' is not defined",
     "output_type": "error",
     "traceback": [
      "\u001b[1;31m---------------------------------------------------------------------------\u001b[0m",
      "\u001b[1;31mNameError\u001b[0m                                 Traceback (most recent call last)",
      "\u001b[1;32m<ipython-input-26-f9790cba007e>\u001b[0m in \u001b[0;36m<module>\u001b[1;34m\u001b[0m\n\u001b[0;32m     10\u001b[0m \u001b[0mmodel\u001b[0m\u001b[1;33m.\u001b[0m\u001b[0mfit\u001b[0m\u001b[1;33m(\u001b[0m\u001b[0membeded_X\u001b[0m\u001b[1;33m,\u001b[0m\u001b[0membeded_y\u001b[0m\u001b[1;33m)\u001b[0m\u001b[1;33m\u001b[0m\u001b[1;33m\u001b[0m\u001b[0m\n\u001b[0;32m     11\u001b[0m \u001b[1;33m\u001b[0m\u001b[0m\n\u001b[1;32m---> 12\u001b[1;33m \u001b[0mimportances\u001b[0m \u001b[1;33m=\u001b[0m \u001b[0mpd\u001b[0m\u001b[1;33m.\u001b[0m\u001b[0mDataFrame\u001b[0m\u001b[1;33m(\u001b[0m\u001b[1;33m{\u001b[0m\u001b[1;34m\"Features\"\u001b[0m\u001b[1;33m:\u001b[0m \u001b[0mpd\u001b[0m\u001b[1;33m.\u001b[0m\u001b[0mDataFrame\u001b[0m\u001b[1;33m(\u001b[0m\u001b[0membeded_X\u001b[0m\u001b[1;33m)\u001b[0m\u001b[1;33m.\u001b[0m\u001b[0mcolumns\u001b[0m\u001b[1;33m,\u001b[0m \u001b[1;34m\"importances\"\u001b[0m\u001b[1;33m:\u001b[0m\u001b[0mimportances\u001b[0m\u001b[1;33m}\u001b[0m\u001b[1;33m)\u001b[0m\u001b[1;33m\u001b[0m\u001b[1;33m\u001b[0m\u001b[0m\n\u001b[0m\u001b[0;32m     13\u001b[0m \u001b[0mfinal_df\u001b[0m\u001b[1;33m.\u001b[0m\u001b[0mset_index\u001b[0m\u001b[1;33m(\u001b[0m\u001b[1;34m'importances'\u001b[0m\u001b[1;33m)\u001b[0m\u001b[1;33m\u001b[0m\u001b[1;33m\u001b[0m\u001b[0m\n\u001b[0;32m     14\u001b[0m \u001b[1;33m\u001b[0m\u001b[0m\n",
      "\u001b[1;31mNameError\u001b[0m: name 'importances' is not defined"
     ]
    }
   ],
   "source": [
    "# from sklearn.ensemble import RandomForestClassifier\n",
    "\n",
    "# model = RandomForestClassifier(n_estimators=340)\n",
    "\n",
    "\n",
    "from sklearn.ensemble import RandomForestRegressor\n",
    "\n",
    "model = RandomForestRegressor(n_estimators=340)\n",
    "\n",
    "model.fit(embeded_X,embeded_y)\n",
    "\n",
    "importances = pd.DataFrame({\"Features\": pd.DataFrame(embeded_X).columns, \"importances\":importances})\n",
    "final_df.set_index('importances')\n",
    "\n",
    "final_df= final_df.sort_values('Importance')\n",
    "\n",
    "final_df.plot.bar(color = 'teal')"
   ]
  },
  {
   "cell_type": "code",
   "execution_count": 59,
   "metadata": {},
   "outputs": [
    {
     "data": {
      "text/plain": [
       "RandomForestRegressor()"
      ]
     },
     "execution_count": 59,
     "metadata": {},
     "output_type": "execute_result"
    }
   ],
   "source": [
    "# for regression\n",
    "from sklearn.ensemble import RandomForestRegressor\n",
    "from sklearn.datasets import make_regression\n",
    "\n",
    "rf = RandomForestRegressor(n_estimators=100)\n",
    "rf.fit(embeded_X,embeded_y)\n",
    "\n"
   ]
  },
  {
   "cell_type": "code",
   "execution_count": 60,
   "metadata": {},
   "outputs": [
    {
     "data": {
      "text/plain": [
       "array([0.59353895, 0.04138098, 0.01272698, 0.01487969, 0.01071159,\n",
       "       0.01729193, 0.06481584, 0.14572515, 0.08925208, 0.00329674,\n",
       "       0.00638008])"
      ]
     },
     "execution_count": 60,
     "metadata": {},
     "output_type": "execute_result"
    }
   ],
   "source": [
    "rf.feature_importances_\n",
    "\n"
   ]
  },
  {
   "cell_type": "code",
   "execution_count": 61,
   "metadata": {},
   "outputs": [
    {
     "data": {
      "text/plain": [
       "<BarContainer object of 11 artists>"
      ]
     },
     "execution_count": 61,
     "metadata": {},
     "output_type": "execute_result"
    },
    {
     "data": {
      "image/png": "[encoded data removed]",
      "text/plain": [
       "<Figure size 576x720 with 1 Axes>"
      ]
     },
     "metadata": {
      "needs_background": "light"
     },
     "output_type": "display_data"
    }
   ],
   "source": [
    "\n",
    "forest_columns=['DEPTH',\n",
    " 'CALI',\n",
    " 'GR',\n",
    " 'ILD',\n",
    " 'ITT',\n",
    " 'LLD',\n",
    " 'LLS',\n",
    " 'MSFL',\n",
    " 'NPHI',\n",
    " 'SFL',\n",
    " 'SP']\n",
    "plt.barh(forest_columns, rf.feature_importances_)"
   ]
  },
  {
   "cell_type": "code",
   "execution_count": 33,
   "metadata": {},
   "outputs": [
    {
     "ename": "TypeError",
     "evalue": "only integer scalar arrays can be converted to a scalar index",
     "output_type": "error",
     "traceback": [
      "\u001b[1;31m---------------------------------------------------------------------------\u001b[0m",
      "\u001b[1;31mTypeError\u001b[0m                                 Traceback (most recent call last)",
      "\u001b[1;32m<ipython-input-33-37cc406813e6>\u001b[0m in \u001b[0;36m<module>\u001b[1;34m\u001b[0m\n\u001b[0;32m      2\u001b[0m \u001b[0msorted_idx\u001b[0m \u001b[1;33m=\u001b[0m \u001b[0mrf\u001b[0m\u001b[1;33m.\u001b[0m\u001b[0mfeature_importances_\u001b[0m\u001b[1;33m.\u001b[0m\u001b[0margsort\u001b[0m\u001b[1;33m(\u001b[0m\u001b[1;33m)\u001b[0m\u001b[1;33m\u001b[0m\u001b[1;33m\u001b[0m\u001b[0m\n\u001b[0;32m      3\u001b[0m \u001b[0msorted_idx\u001b[0m\u001b[1;33m\u001b[0m\u001b[1;33m\u001b[0m\u001b[0m\n\u001b[1;32m----> 4\u001b[1;33m \u001b[0mplt\u001b[0m\u001b[1;33m.\u001b[0m\u001b[0mbarh\u001b[0m\u001b[1;33m(\u001b[0m\u001b[0mforest_columns\u001b[0m\u001b[1;33m[\u001b[0m\u001b[0msorted_idx\u001b[0m\u001b[1;33m]\u001b[0m\u001b[1;33m,\u001b[0m \u001b[0mrf\u001b[0m\u001b[1;33m.\u001b[0m\u001b[0mfeature_importances_\u001b[0m\u001b[1;33m[\u001b[0m\u001b[0msorted_idx\u001b[0m\u001b[1;33m]\u001b[0m\u001b[1;33m)\u001b[0m\u001b[1;33m\u001b[0m\u001b[1;33m\u001b[0m\u001b[0m\n\u001b[0m\u001b[0;32m      5\u001b[0m \u001b[1;31m# plt.xlabel(\"Random Forest Feature Importance\")\u001b[0m\u001b[1;33m\u001b[0m\u001b[1;33m\u001b[0m\u001b[1;33m\u001b[0m\u001b[0m\n",
      "\u001b[1;31mTypeError\u001b[0m: only integer scalar arrays can be converted to a scalar index"
     ]
    }
   ],
   "source": [
    "# wants to rearrange it to in decrease order\n",
    "sorted_idx = rf.feature_importances_.argsort()\n",
    "sorted_idx\n",
    "plt.barh(forest_columns[sorted_idx], rf.feature_importances_[sorted_idx])\n",
    "# plt.xlabel(\"Random Forest Feature Importance\")\n"
   ]
  },
  {
   "cell_type": "code",
   "execution_count": null,
   "metadata": {},
   "outputs": [],
   "source": []
  },
  {
   "cell_type": "markdown",
   "metadata": {},
   "source": [
    "# models"
   ]
  },
  {
   "cell_type": "code",
   "execution_count": null,
   "metadata": {},
   "outputs": [],
   "source": [
    "# ANN"
   ]
  },
  {
   "cell_type": "code",
   "execution_count": 6,
   "metadata": {},
   "outputs": [],
   "source": [
    "def myANN1( inputs, target):\n",
    "    from sklearn import datasets, metrics, model_selection\n",
    "    import tensorflow as tf\n",
    "    from tensorflow import keras\n",
    "    \n",
    "\n",
    "\n",
    "    train_input, test_input, train_target, test_target = model_selection.train_test_split(inputs, target, train_size=0.7)\n",
    "\n",
    "    \n",
    "    from keras.models import Sequential\n",
    "    from keras.layers import Dense\n",
    "    from keras.layers import Dropout\n",
    "\n",
    "    model1 = Sequential()\n",
    "    model1.add(Dense(64,activation=\"relu\"\n",
    "                              , input_shape=(inputs.shape[1],), \n",
    "                                 ))\n",
    "    model1.add(Dropout(0.2))\n",
    "    model1.add(Dense(64,activation=\"relu\"\n",
    "                                 ))\n",
    "    model1.add(Dropout(0.2))\n",
    "    model1.add(Dense(units = 1))\n",
    "\n",
    "\n",
    "    model1.compile(optimizer = 'adam', loss = 'mae')\n",
    "\n",
    "    model1.summary()\n",
    "    \n",
    "    \n",
    "    \n",
    "\n",
    "    # TRAIN    \n",
    "\n",
    "#     %%time\n",
    "    tb_callback = tf.keras.callbacks.TensorBoard(log_dir=\"logs/\", histogram_freq=1)\n",
    "\n",
    "    model1.fit(\n",
    "        train_input, train_target,\n",
    "        validation_split=0.3,\n",
    "        verbose=0,\n",
    "        batch_size = 3,\n",
    "\n",
    "\n",
    "        #early stopping\n",
    "        callbacks= keras.callbacks.EarlyStopping(monitor='val_loss',patience=10)\n",
    "\n",
    "        #to store callbacks in logs\n",
    "    #     callbacks =[tb_callback]\n",
    "    )\n",
    "\n",
    "    predicted = model1.predict(test_input)\n",
    "    \n",
    "    final= print(\"r2 score: {}\".format(metrics.r2_score(test_target,predicted)))\n",
    "#     print(\"mae: {}\".format(metrics.mean_absolute_error(test_target, predicted)))\n",
    "    \n",
    "    return model1, final\n",
    "\n",
    "\n",
    "\n",
    "# # using sklearn\n",
    "# print(\"r2 score: {}\".format(metrics.r2_score(test_target,predicted)))\n",
    "# print(\"mae: {}\".format(metrics.mean_absolute_error(test_target, predicted)))"
   ]
  },
  {
   "cell_type": "code",
   "execution_count": null,
   "metadata": {},
   "outputs": [],
   "source": [
    "dataset1.shape[1]"
   ]
  },
  {
   "cell_type": "code",
   "execution_count": null,
   "metadata": {},
   "outputs": [],
   "source": [
    "\n",
    "from sklearn import svm, datasets, metrics, model_selection, preprocessing, pipeline\n",
    "from sklearn import svm\n",
    "\n",
    "model2 = pipeline.make_pipeline(\n",
    "#     preprocessing.StandardScaler(),\n",
    "    svm.SVR(C=10.0,\n",
    "#             epsilon=0.2\n",
    "            gamma= 1\n",
    "           ))\n",
    "model2.fit(train_input, train_target)\n",
    "\n",
    "\n",
    "predicted2 = model2.predict(test_input)\n",
    "\n",
    "\n",
    "\n",
    "print(\"r2 score: {}\".format(metrics.r2_score( test_target, predicted2)))\n",
    "print(\"mae: {}\".format(metrics.mean_absolute_error(test_target, predicted2)))"
   ]
  },
  {
   "cell_type": "code",
   "execution_count": null,
   "metadata": {},
   "outputs": [],
   "source": [
    "# Feat_extracts well3\n",
    "\n",
    "\n",
    "def XGBmodel(wellname):\n",
    "\n",
    "    df = pd.read_excel(xlsx, wellname)\n",
    "    dataset_ext= df.copy()\n",
    "\n",
    "\n",
    "    from sklearn.preprocessing import StandardScaler\n",
    "    scaler1 = StandardScaler()\n",
    "    Sd_scaler1 =scaler1.fit(dataset_ext)\n",
    "    data1_Sd= Sd_scaler1.transform(dataset_ext)\n",
    "    # print(data1_Sd)\n",
    "\n",
    "            #convert to dataframe\n",
    "    dataset= pd.DataFrame(data1_Sd, columns=dataset_ext.keys())\n",
    "\n",
    "\n",
    "    print(dataset)\n",
    "    # split datat into input and target\n",
    "\n",
    "    inputs2 = dataset.copy()\n",
    "    target = inputs2.pop('RHOB')\n",
    "\n",
    "    from xgboost import XGBRegressor\n",
    "    from xgboost import XGBRFRegressor\n",
    "\n",
    "    model_Test2= XGBRegressor(base_score=0.25, booster='gbtree', colsample_bylevel=1,\n",
    "             colsample_bynode=1, colsample_bytree=1, gamma=0, gpu_id=-1,\n",
    "             importance_type='gain', interaction_constraints='',\n",
    "             learning_rate=0.05, max_delta_step=0, max_depth=10,\n",
    "             min_child_weight=3, monotone_constraints='()',\n",
    "             n_estimators=500, n_jobs=12, num_parallel_tree=1, random_state=0,\n",
    "             reg_alpha=0, reg_lambda=1, scale_pos_weight=1, subsample=1,\n",
    "             tree_method='exact', validate_parameters=1, verbosity=None)\n",
    "\n",
    "    model_Test2.fit(train_input, train_target,\n",
    "              early_stopping_rounds=10, eval_set=[(test_input, test_target)], verbose=False\n",
    "              )\n",
    "    \n",
    "    \n",
    "    predicted3 = model3.predict(inputs2)\n",
    "\n",
    "\n",
    "    print(\"r2 score: {}\".format(metrics.r2_score(target, predicted)))\n",
    "    print(\"mae: {}\".format(metrics.mean_absolute_error(target, predicted)))\n",
    "    \n",
    "    return \n",
    "\n",
    "predictme('1S 4X')\n",
    "# predictme(\"Feat_extracts well4.xlsx\")"
   ]
  }
 ],
 "metadata": {
  "kernelspec": {
   "display_name": "Python 3",
   "language": "python",
   "name": "python3"
  },
  "language_info": {
   "codemirror_mode": {
    "name": "ipython",
    "version": 3
   },
   "file_extension": ".py",
   "mimetype": "text/x-python",
   "name": "python",
   "nbconvert_exporter": "python",
   "pygments_lexer": "ipython3",
   "version": "3.8.5"
  },
  "varInspector": {
   "cols": {
    "lenName": 16,
    "lenType": 16,
    "lenVar": 40
   },
   "kernels_config": {
    "python": {
     "delete_cmd_postfix": "",
     "delete_cmd_prefix": "del ",
     "library": "var_list.py",
     "varRefreshCmd": "print(var_dic_list())"
    },
    "r": {
     "delete_cmd_postfix": ") ",
     "delete_cmd_prefix": "rm(",
     "library": "var_list.r",
     "varRefreshCmd": "cat(var_dic_list()) "
    }
   },
   "types_to_exclude": [
    "module",
    "function",
    "builtin_function_or_method",
    "instance",
    "_Feature"
   ],
   "window_display": false
  }
 },
 "nbformat": 4,
 "nbformat_minor": 4
}
