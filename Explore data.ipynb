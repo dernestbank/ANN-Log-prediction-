{
 "cells": [
  {
   "cell_type": "code",
   "execution_count": 1,
   "metadata": {},
   "outputs": [],
   "source": [
    "import numpy as np\n",
    "import pandas as pd\n",
    "import matplotlib.pyplot as plt\n",
    "import seaborn as sns"
   ]
  },
  {
   "cell_type": "code",
   "execution_count": 2,
   "metadata": {},
   "outputs": [],
   "source": [
    "# xlsx = pd.ExcelFile('./Data/book1cut.xlsx')\n",
    "\n",
    "xlsx = pd.ExcelFile('./Data/Outlier_thresh1_50.xlsx')\n",
    "df5 = pd.read_excel(xlsx, '1S 5X')\n",
    "dataset5= df5.copy()\n",
    "df4 = pd.read_excel(xlsx, '1S 4X')\n",
    "dataset4= df4.copy()\n",
    "df3 = pd.read_excel(xlsx, '1S 3X')\n",
    "dataset3= df3.copy()\n",
    "df2 = pd.read_excel(xlsx, '1S 2X')\n",
    "dataset2= df2.copy()\n",
    "df1 = pd.read_excel(xlsx, '1S 1X')\n",
    "dataset1= df1.copy()\n",
    "\n"
   ]
  },
  {
   "cell_type": "code",
   "execution_count": 3,
   "metadata": {},
   "outputs": [
    {
     "data": {
      "text/html": [
       "<div>\n",
       "<style scoped>\n",
       "    .dataframe tbody tr th:only-of-type {\n",
       "        vertical-align: middle;\n",
       "    }\n",
       "\n",
       "    .dataframe tbody tr th {\n",
       "        vertical-align: top;\n",
       "    }\n",
       "\n",
       "    .dataframe thead th {\n",
       "        text-align: right;\n",
       "    }\n",
       "</style>\n",
       "<table border=\"1\" class=\"dataframe\">\n",
       "  <thead>\n",
       "    <tr style=\"text-align: right;\">\n",
       "      <th></th>\n",
       "      <th>DEPTH</th>\n",
       "      <th>CALI</th>\n",
       "      <th>GR</th>\n",
       "      <th>ILD</th>\n",
       "      <th>ITT</th>\n",
       "      <th>LLD</th>\n",
       "      <th>LLS</th>\n",
       "      <th>MSFL</th>\n",
       "      <th>NPHI</th>\n",
       "      <th>RHOB</th>\n",
       "      <th>SFL</th>\n",
       "      <th>SP</th>\n",
       "    </tr>\n",
       "  </thead>\n",
       "  <tbody>\n",
       "    <tr>\n",
       "      <th>0</th>\n",
       "      <td>1524.0000</td>\n",
       "      <td>14.35840</td>\n",
       "      <td>54.8415</td>\n",
       "      <td>0.9607</td>\n",
       "      <td>0.1233</td>\n",
       "      <td>1.0149</td>\n",
       "      <td>1.0776</td>\n",
       "      <td>1.4853</td>\n",
       "      <td>0.4159</td>\n",
       "      <td>2.24710</td>\n",
       "      <td>1.2134</td>\n",
       "      <td>40.6607</td>\n",
       "    </tr>\n",
       "    <tr>\n",
       "      <th>1</th>\n",
       "      <td>1524.1524</td>\n",
       "      <td>14.08870</td>\n",
       "      <td>55.8918</td>\n",
       "      <td>0.9660</td>\n",
       "      <td>0.1231</td>\n",
       "      <td>0.9986</td>\n",
       "      <td>1.0821</td>\n",
       "      <td>1.5206</td>\n",
       "      <td>0.4255</td>\n",
       "      <td>2.25870</td>\n",
       "      <td>1.1890</td>\n",
       "      <td>39.9817</td>\n",
       "    </tr>\n",
       "    <tr>\n",
       "      <th>2</th>\n",
       "      <td>1524.3048</td>\n",
       "      <td>13.81900</td>\n",
       "      <td>57.2492</td>\n",
       "      <td>0.9624</td>\n",
       "      <td>0.1238</td>\n",
       "      <td>0.9823</td>\n",
       "      <td>1.0876</td>\n",
       "      <td>1.4323</td>\n",
       "      <td>0.4351</td>\n",
       "      <td>2.25890</td>\n",
       "      <td>1.1610</td>\n",
       "      <td>39.3027</td>\n",
       "    </tr>\n",
       "    <tr>\n",
       "      <th>3</th>\n",
       "      <td>1524.4572</td>\n",
       "      <td>13.73630</td>\n",
       "      <td>58.0199</td>\n",
       "      <td>0.9399</td>\n",
       "      <td>0.1252</td>\n",
       "      <td>0.9660</td>\n",
       "      <td>1.0079</td>\n",
       "      <td>1.3148</td>\n",
       "      <td>0.4352</td>\n",
       "      <td>2.25460</td>\n",
       "      <td>1.1243</td>\n",
       "      <td>38.6237</td>\n",
       "    </tr>\n",
       "    <tr>\n",
       "      <th>4</th>\n",
       "      <td>1524.6096</td>\n",
       "      <td>13.87160</td>\n",
       "      <td>58.2939</td>\n",
       "      <td>0.9146</td>\n",
       "      <td>0.1256</td>\n",
       "      <td>0.9360</td>\n",
       "      <td>1.0188</td>\n",
       "      <td>1.2740</td>\n",
       "      <td>0.4353</td>\n",
       "      <td>2.25150</td>\n",
       "      <td>1.0922</td>\n",
       "      <td>38.2129</td>\n",
       "    </tr>\n",
       "    <tr>\n",
       "      <th>...</th>\n",
       "      <td>...</td>\n",
       "      <td>...</td>\n",
       "      <td>...</td>\n",
       "      <td>...</td>\n",
       "      <td>...</td>\n",
       "      <td>...</td>\n",
       "      <td>...</td>\n",
       "      <td>...</td>\n",
       "      <td>...</td>\n",
       "      <td>...</td>\n",
       "      <td>...</td>\n",
       "      <td>...</td>\n",
       "    </tr>\n",
       "    <tr>\n",
       "      <th>13852</th>\n",
       "      <td>3635.0448</td>\n",
       "      <td>9.00074</td>\n",
       "      <td>115.5579</td>\n",
       "      <td>2.1824</td>\n",
       "      <td>0.0854</td>\n",
       "      <td>2.1704</td>\n",
       "      <td>2.5690</td>\n",
       "      <td>3.1694</td>\n",
       "      <td>0.2211</td>\n",
       "      <td>2.52625</td>\n",
       "      <td>2.6407</td>\n",
       "      <td>11.5939</td>\n",
       "    </tr>\n",
       "    <tr>\n",
       "      <th>13853</th>\n",
       "      <td>3635.1972</td>\n",
       "      <td>9.00007</td>\n",
       "      <td>115.3115</td>\n",
       "      <td>2.2141</td>\n",
       "      <td>0.0859</td>\n",
       "      <td>2.1827</td>\n",
       "      <td>2.5769</td>\n",
       "      <td>2.8899</td>\n",
       "      <td>0.2179</td>\n",
       "      <td>2.52590</td>\n",
       "      <td>2.6294</td>\n",
       "      <td>10.5358</td>\n",
       "    </tr>\n",
       "    <tr>\n",
       "      <th>13854</th>\n",
       "      <td>3635.3496</td>\n",
       "      <td>8.99940</td>\n",
       "      <td>114.8351</td>\n",
       "      <td>2.2159</td>\n",
       "      <td>0.0865</td>\n",
       "      <td>2.1733</td>\n",
       "      <td>2.5695</td>\n",
       "      <td>2.6104</td>\n",
       "      <td>0.2147</td>\n",
       "      <td>2.52555</td>\n",
       "      <td>2.6371</td>\n",
       "      <td>10.2207</td>\n",
       "    </tr>\n",
       "    <tr>\n",
       "      <th>13855</th>\n",
       "      <td>3635.5020</td>\n",
       "      <td>8.98880</td>\n",
       "      <td>115.0071</td>\n",
       "      <td>2.1779</td>\n",
       "      <td>0.0863</td>\n",
       "      <td>2.1579</td>\n",
       "      <td>2.5616</td>\n",
       "      <td>2.3309</td>\n",
       "      <td>0.2115</td>\n",
       "      <td>2.52520</td>\n",
       "      <td>2.6507</td>\n",
       "      <td>10.0463</td>\n",
       "    </tr>\n",
       "    <tr>\n",
       "      <th>13856</th>\n",
       "      <td>3635.6544</td>\n",
       "      <td>8.99450</td>\n",
       "      <td>116.4589</td>\n",
       "      <td>2.1399</td>\n",
       "      <td>0.0856</td>\n",
       "      <td>2.1425</td>\n",
       "      <td>2.5447</td>\n",
       "      <td>2.0514</td>\n",
       "      <td>0.2083</td>\n",
       "      <td>2.53310</td>\n",
       "      <td>2.6584</td>\n",
       "      <td>9.4207</td>\n",
       "    </tr>\n",
       "  </tbody>\n",
       "</table>\n",
       "<p>13857 rows × 12 columns</p>\n",
       "</div>"
      ],
      "text/plain": [
       "           DEPTH      CALI        GR     ILD     ITT     LLD     LLS    MSFL  \\\n",
       "0      1524.0000  14.35840   54.8415  0.9607  0.1233  1.0149  1.0776  1.4853   \n",
       "1      1524.1524  14.08870   55.8918  0.9660  0.1231  0.9986  1.0821  1.5206   \n",
       "2      1524.3048  13.81900   57.2492  0.9624  0.1238  0.9823  1.0876  1.4323   \n",
       "3      1524.4572  13.73630   58.0199  0.9399  0.1252  0.9660  1.0079  1.3148   \n",
       "4      1524.6096  13.87160   58.2939  0.9146  0.1256  0.9360  1.0188  1.2740   \n",
       "...          ...       ...       ...     ...     ...     ...     ...     ...   \n",
       "13852  3635.0448   9.00074  115.5579  2.1824  0.0854  2.1704  2.5690  3.1694   \n",
       "13853  3635.1972   9.00007  115.3115  2.2141  0.0859  2.1827  2.5769  2.8899   \n",
       "13854  3635.3496   8.99940  114.8351  2.2159  0.0865  2.1733  2.5695  2.6104   \n",
       "13855  3635.5020   8.98880  115.0071  2.1779  0.0863  2.1579  2.5616  2.3309   \n",
       "13856  3635.6544   8.99450  116.4589  2.1399  0.0856  2.1425  2.5447  2.0514   \n",
       "\n",
       "         NPHI     RHOB     SFL       SP  \n",
       "0      0.4159  2.24710  1.2134  40.6607  \n",
       "1      0.4255  2.25870  1.1890  39.9817  \n",
       "2      0.4351  2.25890  1.1610  39.3027  \n",
       "3      0.4352  2.25460  1.1243  38.6237  \n",
       "4      0.4353  2.25150  1.0922  38.2129  \n",
       "...       ...      ...     ...      ...  \n",
       "13852  0.2211  2.52625  2.6407  11.5939  \n",
       "13853  0.2179  2.52590  2.6294  10.5358  \n",
       "13854  0.2147  2.52555  2.6371  10.2207  \n",
       "13855  0.2115  2.52520  2.6507  10.0463  \n",
       "13856  0.2083  2.53310  2.6584   9.4207  \n",
       "\n",
       "[13857 rows x 12 columns]"
      ]
     },
     "execution_count": 3,
     "metadata": {},
     "output_type": "execute_result"
    }
   ],
   "source": [
    "dataset1\n",
    "# dataset.tail()\n",
    "\n",
    "# help(dataset)"
   ]
  },
  {
   "cell_type": "code",
   "execution_count": 5,
   "metadata": {},
   "outputs": [
    {
     "name": "stdout",
     "output_type": "stream",
     "text": [
      "<class 'pandas.core.frame.DataFrame'>\n",
      "RangeIndex: 13857 entries, 0 to 13856\n",
      "Data columns (total 12 columns):\n",
      " #   Column  Non-Null Count  Dtype  \n",
      "---  ------  --------------  -----  \n",
      " 0   DEPTH   13857 non-null  float64\n",
      " 1   CALI    13857 non-null  float64\n",
      " 2   GR      13857 non-null  float64\n",
      " 3   ILD     13857 non-null  float64\n",
      " 4   ITT     13857 non-null  float64\n",
      " 5   LLD     13857 non-null  float64\n",
      " 6   LLS     13857 non-null  float64\n",
      " 7   MSFL    13857 non-null  float64\n",
      " 8   NPHI    13857 non-null  float64\n",
      " 9   RHOB    13857 non-null  float64\n",
      " 10  SFL     13857 non-null  float64\n",
      " 11  SP      13857 non-null  float64\n",
      "dtypes: float64(12)\n",
      "memory usage: 1.3 MB\n"
     ]
    }
   ],
   "source": [
    "dataset1.info()"
   ]
  },
  {
   "cell_type": "code",
   "execution_count": null,
   "metadata": {},
   "outputs": [],
   "source": [
    "# # choose column name from row\n",
    "# dataset.columns=dataset.iloc[2]\n",
    "# dataset.columns\n",
    "# units=dataset.iloc[4]"
   ]
  },
  {
   "cell_type": "code",
   "execution_count": null,
   "metadata": {},
   "outputs": [],
   "source": [
    "# # dropped empty rows\n",
    "# dataset1=dataset.drop([0,1,2,3,4,5] ,axis=0)\n",
    "# dataset1"
   ]
  },
  {
   "cell_type": "code",
   "execution_count": 4,
   "metadata": {},
   "outputs": [],
   "source": [
    "column_names= ['DEPTH', 'CALI','GR', 'ILD', 'ITT', 'LLD', 'LLS', 'MSFL','NPHI', 'RHOB', 'SFL', 'SP']"
   ]
  },
  {
   "cell_type": "code",
   "execution_count": null,
   "metadata": {},
   "outputs": [],
   "source": [
    "\n",
    "# dataset1['CILD']"
   ]
  },
  {
   "cell_type": "code",
   "execution_count": null,
   "metadata": {},
   "outputs": [],
   "source": [
    "# pairplots\n",
    "sns.pairplot(dataset1[column_names], diag_kind='hist')"
   ]
  },
  {
   "cell_type": "code",
   "execution_count": null,
   "metadata": {
    "scrolled": true
   },
   "outputs": [],
   "source": [
    "sns.pairplot(dataset1[column_names], diag_kind='kde')\n",
    "\n",
    "\n",
    "# //error may be because data contains strings somewhere/ prop NAN value / let's investigate"
   ]
  },
  {
   "cell_type": "markdown",
   "metadata": {},
   "source": [
    "# Preprocessing"
   ]
  },
  {
   "cell_type": "markdown",
   "metadata": {},
   "source": [
    "## Clean the data"
   ]
  },
  {
   "cell_type": "markdown",
   "metadata": {},
   "source": [
    " I prefer matlab for data cleaning<br>\n",
    "using ugly data app makes it way easier"
   ]
  },
  {
   "cell_type": "code",
   "execution_count": null,
   "metadata": {},
   "outputs": [],
   "source": [
    "#check null values\n",
    "# dataset1.isnull().sum()    #missing values\n",
    "dataset1.isna().sum()"
   ]
  },
  {
   "cell_type": "code",
   "execution_count": null,
   "metadata": {},
   "outputs": [],
   "source": [
    "#if so Drop those rows to keep this initial tutorial simple.\n",
    "\n",
    "dataset1 = dataset1.dropna()\n",
    "\n",
    "#then confirm drop\n",
    "dataset1.isna().sum()\n",
    "\n",
    "# help(dataset.sample)"
   ]
  },
  {
   "cell_type": "code",
   "execution_count": null,
   "metadata": {},
   "outputs": [],
   "source": [
    "#imputing missing values using Iputer in sklearn.preprocessing\n",
    "\n",
    "from sklearn.preprocessing import Imputer\n",
    "\n",
    "# for my data missing data is represented as -999.25\n",
    "imp= Imputer(missing_values=\"NAN\", stategy= \"median\", axis=0)\n",
    "imp.fit(X)\n",
    "X= pd.DataFrame(data=imp.transform(X), columns = X.columns)"
   ]
  },
  {
   "cell_type": "code",
   "execution_count": null,
   "metadata": {},
   "outputs": [],
   "source": []
  },
  {
   "cell_type": "markdown",
   "metadata": {},
   "source": [
    "# visualize data"
   ]
  },
  {
   "cell_type": "code",
   "execution_count": 5,
   "metadata": {},
   "outputs": [
    {
     "data": {
      "text/plain": [
       "<function matplotlib.pyplot.show(close=None, block=None)>"
      ]
     },
     "execution_count": 5,
     "metadata": {},
     "output_type": "execute_result"
    },
    {
     "data": {
      "image/png": "[encoded data removed]",
      "text/plain": [
       "<Figure size 432x288 with 12 Axes>"
      ]
     },
     "metadata": {
      "needs_background": "light"
     },
     "output_type": "display_data"
    }
   ],
   "source": [
    "def plot_data(dataset1, well_name):\n",
    "    \n",
    "    \n",
    "    fig, axs = plt.subplots(2, 6)\n",
    "    fig.suptitle('WELL_NAME:'+ well_name)\n",
    "    axs[0, 0].plot(dataset1['CALI'],dataset1['DEPTH'] )\n",
    "    axs[0, 0].set_title('CALI')\n",
    "    axs[0, 1].plot(dataset1['GR'],dataset1['DEPTH'], 'tab:orange')\n",
    "    axs[0, 1].set_title('GR')\n",
    "    axs[0, 2].plot(dataset1['ILD'],dataset1['DEPTH'], 'tab:green')\n",
    "    axs[0, 2].set_title('ILD')\n",
    "    axs[0, 3].plot(dataset1['ITT'],dataset1['DEPTH'], 'tab:red')\n",
    "    axs[0, 3].set_title('ITT')\n",
    "    axs[0, 4].plot(dataset1['LLD'],dataset1['DEPTH'], 'tab:orange')\n",
    "    axs[0, 4].set_title('LLD')\n",
    "    axs[0, 5].plot(dataset1['LLS'],dataset1['DEPTH'], 'tab:green')\n",
    "    axs[0, 5].set_title('LLS')\n",
    "    axs[1, 0].plot(dataset1['MSFL'],dataset1['DEPTH'], 'tab:red')\n",
    "    axs[1, 0].set_title('MSFL')\n",
    "    axs[1, 1].plot(dataset1['NPHI'],dataset1['DEPTH'], 'tab:orange')\n",
    "    axs[1, 1].set_title('NPHI')\n",
    "    axs[1, 2].plot(dataset1['RHOB'],dataset1['DEPTH'], 'tab:green')\n",
    "    axs[1, 2].set_title('RHOB')\n",
    "    axs[1, 3].plot(dataset1['SFL'],dataset1['DEPTH'], 'tab:red')\n",
    "    axs[1, 3].set_title('SFL')\n",
    "    axs[1, 4].plot(dataset1['SP'],dataset1['DEPTH'], 'tab:blue')\n",
    "    axs[1, 4].set_title('SP')\n",
    "\n",
    "    for ax in axs.flat:\n",
    "        ax.set( ylabel='DEPTH')\n",
    "\n",
    "    # Hide x labels and tick labels for top plots and y ticks for right plots.\n",
    "    for ax in axs.flat:\n",
    "        ax.label_outer()\n",
    "    \n",
    "    return plt.show\n",
    "plot_data(dataset1, '1S 1X')"
   ]
  },
  {
   "cell_type": "code",
   "execution_count": 6,
   "metadata": {},
   "outputs": [
    {
     "data": {
      "text/plain": [
       "<function matplotlib.pyplot.show(close=None, block=None)>"
      ]
     },
     "execution_count": 6,
     "metadata": {},
     "output_type": "execute_result"
    },
    {
     "data": {
      "image/png": "[encoded data removed]",
      "text/plain": [
       "<Figure size 432x288 with 12 Axes>"
      ]
     },
     "metadata": {
      "needs_background": "light"
     },
     "output_type": "display_data"
    }
   ],
   "source": [
    "plot_data(dataset2,'1S 2X')"
   ]
  },
  {
   "cell_type": "code",
   "execution_count": 7,
   "metadata": {},
   "outputs": [
    {
     "data": {
      "text/plain": [
       "<function matplotlib.pyplot.show(close=None, block=None)>"
      ]
     },
     "execution_count": 7,
     "metadata": {},
     "output_type": "execute_result"
    },
    {
     "data": {
      "image/png": "[encoded data removed]",
      "text/plain": [
       "<Figure size 432x288 with 12 Axes>"
      ]
     },
     "metadata": {
      "needs_background": "light"
     },
     "output_type": "display_data"
    }
   ],
   "source": [
    "plot_data(dataset3,'1s 3x')"
   ]
  },
  {
   "cell_type": "code",
   "execution_count": 8,
   "metadata": {},
   "outputs": [
    {
     "data": {
      "text/plain": [
       "<function matplotlib.pyplot.show(close=None, block=None)>"
      ]
     },
     "execution_count": 8,
     "metadata": {},
     "output_type": "execute_result"
    },
    {
     "data": {
      "image/png": "[encoded data removed]",
      "text/plain": [
       "<Figure size 432x288 with 12 Axes>"
      ]
     },
     "metadata": {
      "needs_background": "light"
     },
     "output_type": "display_data"
    }
   ],
   "source": [
    "plot_data(dataset4,'1s 4x')"
   ]
  },
  {
   "cell_type": "markdown",
   "metadata": {},
   "source": [
    "# Outlier detections\n",
    "* Tukey IQR\n",
    "* kernel density estimation"
   ]
  },
  {
   "cell_type": "code",
   "execution_count": null,
   "metadata": {},
   "outputs": [],
   "source": [
    "from IPython.display import Image\n",
    "Image(filename='./images/tukeyiqr.jpg')"
   ]
  },
  {
   "cell_type": "code",
   "execution_count": null,
   "metadata": {},
   "outputs": [],
   "source": [
    "## Tukey IQR\n",
    "#### Q1-1.5(Q3-Q1) or above Q3 +1.5(Q3-Q1)\n",
    "\n",
    "\n",
    "def find_outliers_tukey(x):\n",
    "    q1 = np.percentile(x, 25)\n",
    "    q3 = np.percentile(x, 75)\n",
    "    iqr = q3-q1 \n",
    "    floor = q1 - 1.5*iqr\n",
    "    ceiling = q3 + 1.5*iqr\n",
    "    outlier_indices = list(x.index[(x < floor)|(x > ceiling)])\n",
    "    outlier_values = list(x[outlier_indices])\n",
    "\n",
    "    return outlier_indices, outlier_values\n",
    "\n",
    "tukey_indices, tukey_values = find_outliers_tukey(dataset1['RHOB'])\n",
    "print(np.sort(tukey_values))\n",
    "\n",
    "print(tukey_indices)"
   ]
  },
  {
   "cell_type": "code",
   "execution_count": null,
   "metadata": {},
   "outputs": [],
   "source": [
    "# kernel Density Estimation\n",
    "from sklearn.preprocessing import scale\n",
    "from statsmodels.nonparametric.kde import KDEUnivariate\n",
    "\n",
    "def find_outliers_kde(x):\n",
    "    x_scaled = scale(list(map(float, x)))\n",
    "    kde = KDEUnivariate(x_scaled)\n",
    "    kde.fit(bw=\"scott\", fft=True)\n",
    "    pred = kde.evaluate(x_scaled)\n",
    "    \n",
    "    n = sum(pred < 0.05)\n",
    "    outlier_ind = np.asarray(pred).argsort()[:n]\n",
    "    outlier_value = np.asarray(x)[outlier_ind]\n",
    "\n",
    "    return outlier_ind, outlier_value\n",
    "\n",
    "kde_indices, kde_values = find_outliers_kde(dataset1['RHOB'])\n",
    "print(np.sort(kde_values) )\n",
    "\n",
    "print(kde_indices)"
   ]
  },
  {
   "cell_type": "code",
   "execution_count": null,
   "metadata": {},
   "outputs": [],
   "source": [
    "# Distribution of Features\n"
   ]
  },
  {
   "cell_type": "code",
   "execution_count": null,
   "metadata": {},
   "outputs": [],
   "source": [
    "# know the type of classes present in eature, if classifier\n",
    "dataset1['RHOB'].unique()"
   ]
  },
  {
   "cell_type": "markdown",
   "metadata": {},
   "source": [
    "## standardise data"
   ]
  },
  {
   "cell_type": "code",
   "execution_count": 7,
   "metadata": {},
   "outputs": [
    {
     "name": "stdout",
     "output_type": "stream",
     "text": [
      "[[-1.73192582  0.92328989 -1.24778008 ... -1.52040625 -0.81974287\n",
      "   0.2471976 ]\n",
      " [-1.73167583  0.79296935 -1.20528985 ... -1.41882247 -0.83080071\n",
      "   0.19688167]\n",
      " [-1.73142584  0.66264882 -1.1503758  ... -1.41707103 -0.84349003\n",
      "   0.14656574]\n",
      " ...\n",
      " [ 1.73142584 -1.66620868  1.17928032 ...  0.91804219 -0.17453623\n",
      "  -2.00849727]\n",
      " [ 1.73167583 -1.67133066  1.18623864 ...  0.91497716 -0.16837285\n",
      "  -2.02142083]\n",
      " [ 1.73192582 -1.66857639  1.24497167 ...  0.98415921 -0.16488329\n",
      "  -2.06777966]]\n"
     ]
    }
   ],
   "source": [
    "#     using mean of each feature\n",
    "from sklearn.preprocessing import StandardScaler\n",
    "scaler1 = StandardScaler()\n",
    "Sd_scaler1=scaler1.fit(dataset1)\n",
    "data1_Sd= Sd_scaler1.transform(dataset1)\n",
    "print(data1_Sd)"
   ]
  },
  {
   "cell_type": "code",
   "execution_count": 13,
   "metadata": {},
   "outputs": [
    {
     "name": "stdout",
     "output_type": "stream",
     "text": [
      "[[0.00000000e+00 5.08575991e-01 2.58757907e-01 ... 5.17492711e-01\n",
      "  1.32575495e-02 7.10906273e-01]\n",
      " [7.21709007e-05 4.84382008e-01 2.69545007e-01 ... 5.32865094e-01\n",
      "  1.25813702e-02 6.98541958e-01]\n",
      " [1.44341801e-04 4.60188026e-01 2.83486175e-01 ... 5.33130135e-01\n",
      "  1.18054266e-02 6.86177642e-01]\n",
      " ...\n",
      " [9.99855658e-01 2.78360873e-02 8.74921816e-01 ... 8.86496157e-01\n",
      "  5.27115070e-02 1.56606168e-01]\n",
      " [9.99927829e-01 2.68851930e-02 8.76688341e-01 ... 8.86032335e-01\n",
      "  5.30883938e-02 1.53430415e-01]\n",
      " [1.00000000e+00 2.73965230e-02 8.91599044e-01 ... 8.96501458e-01\n",
      "  5.33017783e-02 1.42038491e-01]]\n"
     ]
    }
   ],
   "source": [
    "# using minmax\n",
    "# places each feature between 1 and 0\n",
    "from sklearn.preprocessing import MinMaxScaler\n",
    "\n",
    "scaler2=MinMaxScaler()\n",
    "MM_scaler1=scaler2.fit(dataset1)\n",
    "data1_MM=MM_scaler1.transform(dataset1)\n",
    "print(data1_MM)"
   ]
  },
  {
   "cell_type": "code",
   "execution_count": 8,
   "metadata": {},
   "outputs": [
    {
     "data": {
      "text/html": [
       "<div>\n",
       "<style scoped>\n",
       "    .dataframe tbody tr th:only-of-type {\n",
       "        vertical-align: middle;\n",
       "    }\n",
       "\n",
       "    .dataframe tbody tr th {\n",
       "        vertical-align: top;\n",
       "    }\n",
       "\n",
       "    .dataframe thead th {\n",
       "        text-align: right;\n",
       "    }\n",
       "</style>\n",
       "<table border=\"1\" class=\"dataframe\">\n",
       "  <thead>\n",
       "    <tr style=\"text-align: right;\">\n",
       "      <th></th>\n",
       "      <th>DEPTH</th>\n",
       "      <th>CALI</th>\n",
       "      <th>GR</th>\n",
       "      <th>ILD</th>\n",
       "      <th>ITT</th>\n",
       "      <th>LLD</th>\n",
       "      <th>LLS</th>\n",
       "      <th>MSFL</th>\n",
       "      <th>NPHI</th>\n",
       "      <th>RHOB</th>\n",
       "      <th>SFL</th>\n",
       "      <th>SP</th>\n",
       "    </tr>\n",
       "  </thead>\n",
       "  <tbody>\n",
       "    <tr>\n",
       "      <th>0</th>\n",
       "      <td>-1.731926</td>\n",
       "      <td>0.923290</td>\n",
       "      <td>-1.247780</td>\n",
       "      <td>-1.023788</td>\n",
       "      <td>1.899557</td>\n",
       "      <td>-0.840172</td>\n",
       "      <td>-0.884799</td>\n",
       "      <td>-0.535242</td>\n",
       "      <td>2.477265</td>\n",
       "      <td>-1.520406</td>\n",
       "      <td>-0.819743</td>\n",
       "      <td>0.247198</td>\n",
       "    </tr>\n",
       "    <tr>\n",
       "      <th>1</th>\n",
       "      <td>-1.731676</td>\n",
       "      <td>0.792969</td>\n",
       "      <td>-1.205290</td>\n",
       "      <td>-1.020444</td>\n",
       "      <td>1.886061</td>\n",
       "      <td>-0.848950</td>\n",
       "      <td>-0.882571</td>\n",
       "      <td>-0.518380</td>\n",
       "      <td>2.625055</td>\n",
       "      <td>-1.418822</td>\n",
       "      <td>-0.830801</td>\n",
       "      <td>0.196882</td>\n",
       "    </tr>\n",
       "    <tr>\n",
       "      <th>2</th>\n",
       "      <td>-1.731426</td>\n",
       "      <td>0.662649</td>\n",
       "      <td>-1.150376</td>\n",
       "      <td>-1.022715</td>\n",
       "      <td>1.933295</td>\n",
       "      <td>-0.857729</td>\n",
       "      <td>-0.879849</td>\n",
       "      <td>-0.560559</td>\n",
       "      <td>2.772844</td>\n",
       "      <td>-1.417071</td>\n",
       "      <td>-0.843490</td>\n",
       "      <td>0.146566</td>\n",
       "    </tr>\n",
       "    <tr>\n",
       "      <th>3</th>\n",
       "      <td>-1.731176</td>\n",
       "      <td>0.622688</td>\n",
       "      <td>-1.119197</td>\n",
       "      <td>-1.036910</td>\n",
       "      <td>2.027763</td>\n",
       "      <td>-0.866508</td>\n",
       "      <td>-0.919305</td>\n",
       "      <td>-0.616686</td>\n",
       "      <td>2.774384</td>\n",
       "      <td>-1.454727</td>\n",
       "      <td>-0.860122</td>\n",
       "      <td>0.096250</td>\n",
       "    </tr>\n",
       "    <tr>\n",
       "      <th>4</th>\n",
       "      <td>-1.730926</td>\n",
       "      <td>0.688065</td>\n",
       "      <td>-1.108112</td>\n",
       "      <td>-1.052872</td>\n",
       "      <td>2.054754</td>\n",
       "      <td>-0.882665</td>\n",
       "      <td>-0.913909</td>\n",
       "      <td>-0.636175</td>\n",
       "      <td>2.775923</td>\n",
       "      <td>-1.481874</td>\n",
       "      <td>-0.874670</td>\n",
       "      <td>0.065808</td>\n",
       "    </tr>\n",
       "    <tr>\n",
       "      <th>...</th>\n",
       "      <td>...</td>\n",
       "      <td>...</td>\n",
       "      <td>...</td>\n",
       "      <td>...</td>\n",
       "      <td>...</td>\n",
       "      <td>...</td>\n",
       "      <td>...</td>\n",
       "      <td>...</td>\n",
       "      <td>...</td>\n",
       "      <td>...</td>\n",
       "      <td>...</td>\n",
       "      <td>...</td>\n",
       "    </tr>\n",
       "    <tr>\n",
       "      <th>13852</th>\n",
       "      <td>1.730926</td>\n",
       "      <td>-1.665561</td>\n",
       "      <td>1.208521</td>\n",
       "      <td>-0.253019</td>\n",
       "      <td>-0.657824</td>\n",
       "      <td>-0.217851</td>\n",
       "      <td>-0.146462</td>\n",
       "      <td>0.269210</td>\n",
       "      <td>-0.521630</td>\n",
       "      <td>0.924172</td>\n",
       "      <td>-0.172905</td>\n",
       "      <td>-1.906739</td>\n",
       "    </tr>\n",
       "    <tr>\n",
       "      <th>13853</th>\n",
       "      <td>1.731176</td>\n",
       "      <td>-1.665885</td>\n",
       "      <td>1.198553</td>\n",
       "      <td>-0.233020</td>\n",
       "      <td>-0.624085</td>\n",
       "      <td>-0.211226</td>\n",
       "      <td>-0.142551</td>\n",
       "      <td>0.135700</td>\n",
       "      <td>-0.570893</td>\n",
       "      <td>0.921107</td>\n",
       "      <td>-0.178026</td>\n",
       "      <td>-1.985147</td>\n",
       "    </tr>\n",
       "    <tr>\n",
       "      <th>13854</th>\n",
       "      <td>1.731426</td>\n",
       "      <td>-1.666209</td>\n",
       "      <td>1.179280</td>\n",
       "      <td>-0.231884</td>\n",
       "      <td>-0.583599</td>\n",
       "      <td>-0.216289</td>\n",
       "      <td>-0.146214</td>\n",
       "      <td>0.002190</td>\n",
       "      <td>-0.620157</td>\n",
       "      <td>0.918042</td>\n",
       "      <td>-0.174536</td>\n",
       "      <td>-2.008497</td>\n",
       "    </tr>\n",
       "    <tr>\n",
       "      <th>13855</th>\n",
       "      <td>1.731676</td>\n",
       "      <td>-1.671331</td>\n",
       "      <td>1.186239</td>\n",
       "      <td>-0.255859</td>\n",
       "      <td>-0.597094</td>\n",
       "      <td>-0.224583</td>\n",
       "      <td>-0.150125</td>\n",
       "      <td>-0.131320</td>\n",
       "      <td>-0.669420</td>\n",
       "      <td>0.914977</td>\n",
       "      <td>-0.168373</td>\n",
       "      <td>-2.021421</td>\n",
       "    </tr>\n",
       "    <tr>\n",
       "      <th>13856</th>\n",
       "      <td>1.731926</td>\n",
       "      <td>-1.668576</td>\n",
       "      <td>1.244972</td>\n",
       "      <td>-0.279833</td>\n",
       "      <td>-0.644328</td>\n",
       "      <td>-0.232877</td>\n",
       "      <td>-0.158492</td>\n",
       "      <td>-0.264830</td>\n",
       "      <td>-0.718683</td>\n",
       "      <td>0.984159</td>\n",
       "      <td>-0.164883</td>\n",
       "      <td>-2.067780</td>\n",
       "    </tr>\n",
       "  </tbody>\n",
       "</table>\n",
       "<p>13857 rows × 12 columns</p>\n",
       "</div>"
      ],
      "text/plain": [
       "          DEPTH      CALI        GR       ILD       ITT       LLD       LLS  \\\n",
       "0     -1.731926  0.923290 -1.247780 -1.023788  1.899557 -0.840172 -0.884799   \n",
       "1     -1.731676  0.792969 -1.205290 -1.020444  1.886061 -0.848950 -0.882571   \n",
       "2     -1.731426  0.662649 -1.150376 -1.022715  1.933295 -0.857729 -0.879849   \n",
       "3     -1.731176  0.622688 -1.119197 -1.036910  2.027763 -0.866508 -0.919305   \n",
       "4     -1.730926  0.688065 -1.108112 -1.052872  2.054754 -0.882665 -0.913909   \n",
       "...         ...       ...       ...       ...       ...       ...       ...   \n",
       "13852  1.730926 -1.665561  1.208521 -0.253019 -0.657824 -0.217851 -0.146462   \n",
       "13853  1.731176 -1.665885  1.198553 -0.233020 -0.624085 -0.211226 -0.142551   \n",
       "13854  1.731426 -1.666209  1.179280 -0.231884 -0.583599 -0.216289 -0.146214   \n",
       "13855  1.731676 -1.671331  1.186239 -0.255859 -0.597094 -0.224583 -0.150125   \n",
       "13856  1.731926 -1.668576  1.244972 -0.279833 -0.644328 -0.232877 -0.158492   \n",
       "\n",
       "           MSFL      NPHI      RHOB       SFL        SP  \n",
       "0     -0.535242  2.477265 -1.520406 -0.819743  0.247198  \n",
       "1     -0.518380  2.625055 -1.418822 -0.830801  0.196882  \n",
       "2     -0.560559  2.772844 -1.417071 -0.843490  0.146566  \n",
       "3     -0.616686  2.774384 -1.454727 -0.860122  0.096250  \n",
       "4     -0.636175  2.775923 -1.481874 -0.874670  0.065808  \n",
       "...         ...       ...       ...       ...       ...  \n",
       "13852  0.269210 -0.521630  0.924172 -0.172905 -1.906739  \n",
       "13853  0.135700 -0.570893  0.921107 -0.178026 -1.985147  \n",
       "13854  0.002190 -0.620157  0.918042 -0.174536 -2.008497  \n",
       "13855 -0.131320 -0.669420  0.914977 -0.168373 -2.021421  \n",
       "13856 -0.264830 -0.718683  0.984159 -0.164883 -2.067780  \n",
       "\n",
       "[13857 rows x 12 columns]"
      ]
     },
     "execution_count": 8,
     "metadata": {},
     "output_type": "execute_result"
    }
   ],
   "source": [
    "# convert standardized(numpy) datatype to pandas dataframe\n",
    "pd_data1_Sd= pd.DataFrame(data1_Sd, columns=dataset1.keys())\n",
    "# print(pd_data1_Sd)\n",
    "\n",
    "# pd_data1_MM=pd.DataFrame(data1_MM, columns= dataset1.keys())\n",
    "# print(pd_data1_MM)\n",
    "\n",
    "pd_data1_Sd"
   ]
  },
  {
   "cell_type": "code",
   "execution_count": 15,
   "metadata": {},
   "outputs": [
    {
     "data": {
      "image/png": "[encoded data removed]",
      "text/plain": [
       "<Figure size 432x288 with 1 Axes>"
      ]
     },
     "metadata": {
      "needs_background": "light"
     },
     "output_type": "display_data"
    },
    {
     "data": {
      "image/png": "[encoded data removed]",
      "text/plain": [
       "<Figure size 432x288 with 1 Axes>"
      ]
     },
     "metadata": {
      "needs_background": "light"
     },
     "output_type": "display_data"
    },
    {
     "data": {
      "image/png": "[encoded data removed]",
      "text/plain": [
       "<Figure size 432x288 with 1 Axes>"
      ]
     },
     "metadata": {
      "needs_background": "light"
     },
     "output_type": "display_data"
    }
   ],
   "source": [
    "# Use pyplot in matplotlib to plot histograms\n",
    "%matplotlib inline\n",
    "import matplotlib.pyplot as plt\n",
    "\n",
    "def plot_histogram(x):\n",
    "    plt.hist(x, color='gray', alpha=0.5)\n",
    "    plt.title(\"Histogram of '{var_name}'\".format(var_name=x.name))\n",
    "    plt.xlabel(\"Value\")\n",
    "    plt.ylabel(\"Frequency\")\n",
    "    plt.show()\n",
    "    \n",
    "    \n",
    "plot_histogram(dataset1['RHOB'])\n",
    "plot_histogram(pd_data1_Sd['RHOB'])\n",
    "plot_histogram(pd_data1_MM['RHOB'])"
   ]
  },
  {
   "cell_type": "code",
   "execution_count": null,
   "metadata": {
    "scrolled": true
   },
   "outputs": [],
   "source": [
    "# Plot histograms to show distribution of features by outcome categories\n",
    "\n",
    "def plot_histogram_dv(x,y):\n",
    "#     plt.hist(list(x[y==0]), alpha=0.5, label='Outcome=0')\n",
    "#     plt.hist(list(x[y==1]), alpha=0.5, label='Outcome=1')\n",
    "    \n",
    "    plt.hist(x, color='gray', alpha=0.5, label='independent')\n",
    "    plt.hist(y, color='blue', alpha=0.5, label='dependent')\n",
    "    plt.title(\"Histogram of '{var_name}' by Outcome Category\".format(var_name=x.name))\n",
    "    plt.xlabel(\"Value\")\n",
    "    plt.ylabel(\"Frequency\")\n",
    "    plt.legend(loc='upper right')\n",
    "    plt.show()\n",
    "\n",
    "\n",
    "    \n",
    "plot_histogram_dv(pd_data1_Sd['NPHI'],pd_data1_Sd['RHOB'])\n",
    "\n",
    "#expectation failed, expected a supperimposition\n",
    "# try standerdizing first so that they can overlap\n",
    "#use sklearn for standardizing"
   ]
  },
  {
   "cell_type": "markdown",
   "metadata": {},
   "source": [
    "# Feature engineering\n"
   ]
  },
  {
   "cell_type": "markdown",
   "metadata": {},
   "source": [
    "# A.\tFilter methods\n",
    "<h2>Filter features by variance</h2>\n",
    "the more the variance the better it is for prediction; \n",
    "the low variance: does not really change much in thier values/ they're pretty much the same/ so close to zero ; so unlikely they are good predictors"
   ]
  },
  {
   "cell_type": "code",
   "execution_count": 18,
   "metadata": {},
   "outputs": [
    {
     "data": {
      "text/plain": [
       "DEPTH    371670.816657\n",
       "CALI          4.283192\n",
       "GR          611.054603\n",
       "ILD           2.512539\n",
       "ITT           0.000220\n",
       "LLD           3.447804\n",
       "LLS           4.080466\n",
       "MSFL          4.382950\n",
       "NPHI          0.004220\n",
       "RHOB          0.013041\n",
       "SFL           4.869346\n",
       "SP          182.120962\n",
       "dtype: float64"
      ]
     },
     "execution_count": 18,
     "metadata": {},
     "output_type": "execute_result"
    }
   ],
   "source": [
    "dataset1.var()\n",
    "\n",
    "# pd_data1_Sd.var()"
   ]
  },
  {
   "cell_type": "code",
   "execution_count": null,
   "metadata": {},
   "outputs": [],
   "source": [
    "# drop insignificant varriations \n",
    "dataset1_vardrop= dataset1.drop(columns = ['ITT'])"
   ]
  },
  {
   "cell_type": "code",
   "execution_count": null,
   "metadata": {},
   "outputs": [],
   "source": [
    "print('original shape is '+ str(dataset1.shape))\n",
    "\n",
    "print('the new shape is ' + str(dataset1_vardrop.shape))"
   ]
  },
  {
   "cell_type": "markdown",
   "metadata": {},
   "source": [
    "## Filter features by correlation"
   ]
  },
  {
   "cell_type": "code",
   "execution_count": 19,
   "metadata": {},
   "outputs": [
    {
     "data": {
      "image/png": "[encoded data removed]",
      "text/plain": [
       "<Figure size 720x432 with 2 Axes>"
      ]
     },
     "metadata": {
      "needs_background": "light"
     },
     "output_type": "display_data"
    }
   ],
   "source": [
    "import seaborn as sn\n",
    "import matplotlib.pyplot as plt\n",
    "\n",
    "fig_dims = (10,6)\n",
    "fig, ax = plt.subplots(figsize = fig_dims)\n",
    "sn.heatmap(dataset1.corr(),ax=ax ,annot=True,\n",
    "          )\n",
    "plt.show()"
   ]
  },
  {
   "cell_type": "code",
   "execution_count": null,
   "metadata": {},
   "outputs": [],
   "source": [
    "abs(dataset1.corr())"
   ]
  },
  {
   "cell_type": "code",
   "execution_count": 20,
   "metadata": {},
   "outputs": [
    {
     "data": {
      "text/plain": [
       "DEPTH    0.661068\n",
       "CALI     0.556758\n",
       "GR       0.607833\n",
       "ITT      0.758000\n",
       "NPHI     0.777646\n",
       "RHOB     1.000000\n",
       "Name: RHOB, dtype: float64"
      ]
     },
     "execution_count": 20,
     "metadata": {},
     "output_type": "execute_result"
    }
   ],
   "source": [
    "# abs(dataset1.corr()['NPHI'][abs(dataset1.corr()['NPHI'])>0.5])\n",
    "\n",
    "abs(dataset1.corr()['RHOB'][abs(dataset1.corr()['RHOB'])>0.5])"
   ]
  },
  {
   "cell_type": "code",
   "execution_count": 21,
   "metadata": {},
   "outputs": [
    {
     "data": {
      "text/plain": [
       "['DEPTH', 'CALI', 'GR', 'ITT', 'NPHI']"
      ]
     },
     "execution_count": 21,
     "metadata": {},
     "output_type": "execute_result"
    }
   ],
   "source": [
    "# so i want to drop every feature that has a correlation <0.5 against RHOB\n",
    "\n",
    "# keep everything that has a correlation of alt least 0.5\n",
    "\n",
    "drop_lowCor=abs(dataset1.corr()['RHOB'][abs(dataset1.corr()['RHOB'])>0.5].drop('RHOB')).index.tolist()\n",
    "drop_lowCor\n"
   ]
  },
  {
   "cell_type": "code",
   "execution_count": null,
   "metadata": {},
   "outputs": [],
   "source": [
    "# an iteration to determine which correlation rate provides best R2 squared value\n",
    "\n",
    "\n",
    "\n",
    "\n",
    "vals = [0.1,0.2,0.3,0.4,0.5,0.6,0.7]\n",
    "for val in vals:\n",
    "    features =abs(dataset1.corr()['RHOB'][abs(dataset1.corr()['RHOB'])>val].drop('RHOB')).index.tolist()\n",
    "    \n",
    "    X = dataset1.drop(columns='RHOB')\n",
    "    y=dataset1['RHOB']\n",
    "    X=X[features]\n",
    "    \n",
    "    print(features)\n",
    "\n",
    "    y_pred = cross_val_predict(classifier_pipeline, X, y, cv=cv)\n",
    "    print(\"RMSE: \" + str(round(sqrt(mean_squared_error(y,y_pred)),2)))\n",
    "    print(\"R_squared: \" + str(round(r2_score(y,y_pred),2)))\n"
   ]
  },
  {
   "cell_type": "code",
   "execution_count": null,
   "metadata": {},
   "outputs": [],
   "source": []
  },
  {
   "cell_type": "markdown",
   "metadata": {},
   "source": [
    "### Feature importance\n",
    "Feature importance gives you a score for each feature of your data, the higher the score more important or relevant is the feature towards your output variable."
   ]
  },
  {
   "cell_type": "code",
   "execution_count": null,
   "metadata": {},
   "outputs": [],
   "source": [
    "# an inbuilt class that comes with Tree Based Classifiers, we will be using Extra Tree Classifier for extracting the top 10 features for the dataset\n",
    "\n",
    "from sklearn.ensemble import ExtraTreesClassifier\n",
    "import matplotlib.pyplot as plt\n",
    "FI_x= dataset1.copy()\n",
    "FI_y= FI_x.pop('RHOB')\n",
    "FI_model = ExtraTreesClassifier()\n",
    "FI_model.fit(FI_x,FI_y)\n"
   ]
  },
  {
   "cell_type": "code",
   "execution_count": null,
   "metadata": {},
   "outputs": [],
   "source": [
    "print(model.feature_importances_) #use inbuilt class feature_importances of tree based classifiers"
   ]
  },
  {
   "cell_type": "code",
   "execution_count": null,
   "metadata": {},
   "outputs": [],
   "source": [
    "#plot graph of feature importances for better visualization\n",
    "feat_importances = pd.Series(model.feature_importances_, index=X.columns)\n",
    "feat_importances.nlargest(10).plot(kind='barh')\n",
    "plt.show()"
   ]
  },
  {
   "cell_type": "code",
   "execution_count": null,
   "metadata": {},
   "outputs": [],
   "source": []
  },
  {
   "cell_type": "markdown",
   "metadata": {},
   "source": [
    "### Univariate Selection\n",
    "Statistical tests can be used to select those features that have the strongest relationship with the output variable.\n",
    "The example below uses the chi-squared (chi²) statistical test for non-negative features to select 10 of the best features\n",
    "\n",
    "#####  Using Chi-Square\n",
    "Chi-square test — Chi-square method (X2) is generally used to test the relationship between categorical variables. It compares the observed values from different attributes of the dataset to its expected value.\n",
    "\n",
    "chi-square test measures dependence between stochastic variables, so using this function “weeds out” the features that are the most likely to be independent of class and therefore irrelevant for classification."
   ]
  },
  {
   "cell_type": "code",
   "execution_count": null,
   "metadata": {},
   "outputs": [],
   "source": [
    "from sklearn.feature_selection import SelectKBest\n",
    "from sklearn.feature_selection import chi2\n",
    "\n",
    "Chi_x = dataset1.copy()\n",
    "Chi_y = Chi_x.pop('RHOB')\n",
    "\n",
    "# Chi_x = Chi_x.to_numpy()\n",
    "# Chi_y = Chi_y.to_numpy()\n",
    "\n",
    "#apply SelectKBest class to extract top 10 best features\n",
    "bestfeatures = SelectKBest(score_func=chi2, k=4)\n",
    "fit = bestfeatures.fit(Chi_x,Chi_y)"
   ]
  },
  {
   "cell_type": "code",
   "execution_count": null,
   "metadata": {
    "scrolled": false
   },
   "outputs": [],
   "source": [
    "dataset1"
   ]
  },
  {
   "cell_type": "code",
   "execution_count": null,
   "metadata": {},
   "outputs": [],
   "source": [
    "dfscores = pd.DataFrame(fit.scores_)\n",
    "dfcolumns = pd.DataFrame(X.columns)"
   ]
  },
  {
   "cell_type": "code",
   "execution_count": null,
   "metadata": {},
   "outputs": [],
   "source": [
    "#concat two dataframes for better visualization \n",
    "featureScores = pd.concat([dfcolumns,dfscores],axis=1)\n",
    "featureScores.columns = ['Specs','Score']  #naming the dataframe columns\n",
    "featureScores"
   ]
  },
  {
   "cell_type": "code",
   "execution_count": null,
   "metadata": {},
   "outputs": [],
   "source": [
    "print(featureScores.nlargest(10,'Score'))  #print 10 best features"
   ]
  },
  {
   "cell_type": "code",
   "execution_count": null,
   "metadata": {},
   "outputs": [],
   "source": []
  },
  {
   "cell_type": "markdown",
   "metadata": {},
   "source": [
    "# Information gain - mutual information In Regression\n",
    "Mutual Information\n",
    "Estimate mutual information for a continuous target variable.\n",
    "Mutual information (MI) between two random variables is a non-negative value, which measures the dependency between the variables. It is equal to zero if and only if two random variables are independent, and higher values mean higher dependency.\n",
    "The function relies on nonparametric methods based on entropy estimation from k-nearest neighbors distances.\n",
    "measures the reduction in uncertainty for one variable given a known value of the other variable.\n",
    "\n",
    "Inshort\n",
    "\n",
    "A quantity called mutual information measures the amount of information one can obtain from one random variable given another.\n",
    "\n",
    "I(X ; Y) = H(X) – H(X | Y) Where I(X ; Y) is the mutual information for X and Y, H(X) is the entropy for X and H(X | Y) is the conditional entropy for X given Y. The result has the units of bits."
   ]
  },
  {
   "cell_type": "code",
   "execution_count": 24,
   "metadata": {},
   "outputs": [
    {
     "ename": "NameError",
     "evalue": "name 'mutual_info_regression' is not defined",
     "output_type": "error",
     "traceback": [
      "\u001b[1;31m---------------------------------------------------------------------------\u001b[0m",
      "\u001b[1;31mNameError\u001b[0m                                 Traceback (most recent call last)",
      "\u001b[1;32m<ipython-input-24-0cecac2a4604>\u001b[0m in \u001b[0;36m<module>\u001b[1;34m\u001b[0m\n\u001b[1;32m----> 1\u001b[1;33m \u001b[0mmutual_info\u001b[0m \u001b[1;33m=\u001b[0m \u001b[0mmutual_info_regression\u001b[0m\u001b[1;33m(\u001b[0m\u001b[0mpd_data1_Sd\u001b[0m\u001b[1;33m.\u001b[0m\u001b[0mdrop\u001b[0m\u001b[1;33m(\u001b[0m\u001b[1;34m'RHOB'\u001b[0m\u001b[1;33m)\u001b[0m\u001b[1;33m,\u001b[0m \u001b[0mpd_data1_Sd\u001b[0m\u001b[1;33m[\u001b[0m\u001b[1;34m'RHOB'\u001b[0m\u001b[1;33m]\u001b[0m\u001b[1;33m)\u001b[0m\u001b[1;33m\u001b[0m\u001b[1;33m\u001b[0m\u001b[0m\n\u001b[0m",
      "\u001b[1;31mNameError\u001b[0m: name 'mutual_info_regression' is not defined"
     ]
    }
   ],
   "source": [
    "mutual_info = mutual_info_regression(pd_data1_Sd.drop('RHOB'), pd_data1_Sd['RHOB'])"
   ]
  },
  {
   "cell_type": "code",
   "execution_count": 25,
   "metadata": {},
   "outputs": [
    {
     "data": {
      "text/plain": [
       "array([1.36300008, 0.58696174, 0.43796992, 0.54540191, 0.59311621,\n",
       "       0.51897583, 0.52001653, 0.34376243, 0.58731957, 0.52227073,\n",
       "       0.49112061])"
      ]
     },
     "execution_count": 25,
     "metadata": {},
     "output_type": "execute_result"
    }
   ],
   "source": [
    "from sklearn.feature_selection import mutual_info_regression\n",
    "# determine the mutual information\n",
    "mutual_X= dataset1.copy()\n",
    "mutual_Y= mutual_X.pop('RHOB')\n",
    "mutual_info = mutual_info_regression(mutual_X, mutual_Y)\n",
    "mutual_info\n"
   ]
  },
  {
   "cell_type": "code",
   "execution_count": 26,
   "metadata": {},
   "outputs": [
    {
     "data": {
      "text/plain": [
       "DEPTH    1.363000\n",
       "ITT      0.593116\n",
       "NPHI     0.587320\n",
       "CALI     0.586962\n",
       "ILD      0.545402\n",
       "SFL      0.522271\n",
       "LLS      0.520017\n",
       "LLD      0.518976\n",
       "SP       0.491121\n",
       "GR       0.437970\n",
       "MSFL     0.343762\n",
       "dtype: float64"
      ]
     },
     "execution_count": 26,
     "metadata": {},
     "output_type": "execute_result"
    }
   ],
   "source": [
    "mutual_info = pd.Series(mutual_info)\n",
    "mutual_info.index = mutual_X.columns\n",
    "mutual_info.sort_values(ascending=False)"
   ]
  },
  {
   "cell_type": "code",
   "execution_count": 27,
   "metadata": {},
   "outputs": [
    {
     "data": {
      "text/plain": [
       "<AxesSubplot:>"
      ]
     },
     "execution_count": 27,
     "metadata": {},
     "output_type": "execute_result"
    },
    {
     "data": {
      "image/png": "[encoded data removed]",
      "text/plain": [
       "<Figure size 1080x360 with 1 Axes>"
      ]
     },
     "metadata": {
      "needs_background": "light"
     },
     "output_type": "display_data"
    }
   ],
   "source": [
    "mutual_info.sort_values(ascending=False).plot.bar(figsize=(15,5))"
   ]
  },
  {
   "cell_type": "code",
   "execution_count": 32,
   "metadata": {},
   "outputs": [
    {
     "data": {
      "text/plain": [
       "SelectPercentile(percentile=40,\n",
       "                 score_func=<function mutual_info_regression at 0x0000020BBEB901F0>)"
      ]
     },
     "execution_count": 32,
     "metadata": {},
     "output_type": "execute_result"
    }
   ],
   "source": [
    "from sklearn.feature_selection import SelectPercentile\n",
    "\n",
    "## Selecting the top 20 percentile\n",
    "selected_top_columns = SelectPercentile(mutual_info_regression, percentile=40)\n",
    "selected_top_columns.fit(mutual_X, mutual_Y)\n"
   ]
  },
  {
   "cell_type": "code",
   "execution_count": 33,
   "metadata": {},
   "outputs": [
    {
     "data": {
      "text/plain": [
       "array([ True,  True, False, False,  True, False, False, False,  True,\n",
       "       False, False])"
      ]
     },
     "execution_count": 33,
     "metadata": {},
     "output_type": "execute_result"
    }
   ],
   "source": [
    "selected_top_columns.get_support()"
   ]
  },
  {
   "cell_type": "code",
   "execution_count": 34,
   "metadata": {},
   "outputs": [
    {
     "data": {
      "text/plain": [
       "Index(['DEPTH', 'CALI', 'ITT', 'NPHI'], dtype='object')"
      ]
     },
     "execution_count": 34,
     "metadata": {},
     "output_type": "execute_result"
    }
   ],
   "source": [
    "mutual_X.columns[selected_top_columns.get_support()]"
   ]
  },
  {
   "cell_type": "markdown",
   "metadata": {},
   "source": [
    "##### Difference Between Information Gain And Mutual Information\n",
    "I(X ; Y) = H(X) – H(X | Y) and IG(S, a) = H(S) – H(S | a)\n",
    "\n",
    "As such, mutual information is sometimes used as a synonym for information gain. Technically, they calculate the same quantity if applied to the same data."
   ]
  },
  {
   "cell_type": "markdown",
   "metadata": {},
   "source": [
    "### Dispersion Ratio"
   ]
  },
  {
   "cell_type": "code",
   "execution_count": null,
   "metadata": {},
   "outputs": [],
   "source": [
    "X=X+1 i"
   ]
  },
  {
   "cell_type": "code",
   "execution_count": null,
   "metadata": {},
   "outputs": [],
   "source": []
  },
  {
   "cell_type": "markdown",
   "metadata": {},
   "source": []
  },
  {
   "cell_type": "code",
   "execution_count": null,
   "metadata": {},
   "outputs": [],
   "source": [
    "from sklearn.feature_selection import SelectKBest\n",
    "from sklearn.feature_selection import chi2\n",
    "\n",
    "\n",
    "X_new =` SelectKBest(k=5, score_func=chi2).fit_transform(df_norm, label)"
   ]
  },
  {
   "cell_type": "code",
   "execution_count": null,
   "metadata": {},
   "outputs": [],
   "source": []
  },
  {
   "cell_type": "markdown",
   "metadata": {},
   "source": [
    "### Fisher’s Score\n"
   ]
  },
  {
   "cell_type": "code",
   "execution_count": null,
   "metadata": {},
   "outputs": [],
   "source": [
    "import scipy.stats as stats\n",
    "\n",
    "# obs = np.array([[1,5], [8,2]])\n",
    "fish_dat=dataset1.copy()\n",
    "fisher_result = stats.fisher_exact(fish_dat['NPHI', 'RHOB'])\n",
    "\n",
    "p_val = fisher_result[1]\n",
    "\n",
    "# print ('Data:')\n",
    "# print (obs)\n",
    "\n",
    "print ('\\nProbability that column does not effect row values:')\n",
    "print (p_val)"
   ]
  },
  {
   "cell_type": "code",
   "execution_count": null,
   "metadata": {},
   "outputs": [],
   "source": []
  },
  {
   "cell_type": "code",
   "execution_count": null,
   "metadata": {},
   "outputs": [],
   "source": []
  },
  {
   "cell_type": "markdown",
   "metadata": {},
   "source": [
    "# Feature Selection Using a Wrapper"
   ]
  },
  {
   "cell_type": "code",
   "execution_count": 35,
   "metadata": {},
   "outputs": [],
   "source": [
    "# boston = pd.DataFrame(boston_data.data, columns=boston_data.feature_names)\n",
    "# boston['MEDV'] = boston_data.target\n",
    "# boston['RAD'] = boston['RAD'].astype('category')\n",
    "# dummies = pd.get_dummies(boston.RAD)\n",
    "# boston = boston.drop(columns='RAD').merge(dummies,left_index=True,right_index=True)\n",
    "Wrapper_X = dataset1.drop(columns='RHOB')\n",
    "\n",
    "Wrapper_y = dataset1.RHOB"
   ]
  },
  {
   "cell_type": "code",
   "execution_count": 36,
   "metadata": {},
   "outputs": [
    {
     "name": "stderr",
     "output_type": "stream",
     "text": [
      "D:\\anaconda3\\lib\\site-packages\\sklearn\\model_selection\\_split.py:293: FutureWarning: Setting a random_state has no effect since shuffle is False. This will raise an error in 0.24. You should leave random_state to its default (None), or set shuffle=True.\n",
      "  warnings.warn(\n"
     ]
    },
    {
     "name": "stdout",
     "output_type": "stream",
     "text": [
      "RMSE: 0.07\n",
      "R_squared: 0.61\n"
     ]
    }
   ],
   "source": [
    "from sklearn.preprocessing import StandardScaler\n",
    "from sklearn.pipeline import make_pipeline\n",
    "from sklearn.model_selection import KFold\n",
    "from sklearn.neighbors import KNeighborsRegressor\n",
    "from sklearn.metrics import mean_squared_error, r2_score\n",
    "from sklearn.model_selection import cross_val_predict\n",
    "from sklearn.linear_model import LinearRegression\n",
    "from math import sqrt\n",
    "\n",
    "\n",
    "\n",
    "cv = KFold(n_splits=10, random_state=0, shuffle=False)\n",
    "classifier_pipeline = make_pipeline(StandardScaler(), KNeighborsRegressor(n_neighbors=10))\n",
    "y_pred = cross_val_predict(classifier_pipeline, Wrapper_X, Wrapper_y, cv=cv)\n",
    "print(\"RMSE: \" + str(round(sqrt(mean_squared_error(Wrapper_y,y_pred)),2)))\n",
    "print(\"R_squared: \" + str(round(r2_score(Wrapper_y,y_pred),2)))"
   ]
  },
  {
   "cell_type": "markdown",
   "metadata": {},
   "source": [
    "## 1 Forward Feature elemination"
   ]
  },
  {
   "cell_type": "code",
   "execution_count": 37,
   "metadata": {},
   "outputs": [
    {
     "data": {
      "text/plain": [
       "{1: {'feature_idx': (4,),\n",
       "  'cv_scores': array([-0.0101957 , -0.01195956, -0.00763884, -0.00490327, -0.00412622,\n",
       "         -0.00413075, -0.00485519, -0.00568748, -0.00788722, -0.00827133]),\n",
       "  'avg_score': -0.006965555802868811,\n",
       "  'feature_names': ('ITT',)},\n",
       " 2: {'feature_idx': (2, 4),\n",
       "  'cv_scores': array([-0.01053435, -0.00597853, -0.00525397, -0.00236496, -0.00372229,\n",
       "         -0.00391599, -0.00471364, -0.00471388, -0.00721817, -0.00655482]),\n",
       "  'avg_score': -0.005497061000156098,\n",
       "  'feature_names': ('GR', 'ITT')},\n",
       " 3: {'feature_idx': (2, 4, 7),\n",
       "  'cv_scores': array([-0.01061388, -0.00740069, -0.00394346, -0.00246429, -0.00439165,\n",
       "         -0.00233389, -0.00367036, -0.00493059, -0.00511562, -0.00565612]),\n",
       "  'avg_score': -0.0050520545146053066,\n",
       "  'feature_names': ('GR', 'ITT', 'MSFL')},\n",
       " 4: {'feature_idx': (2, 3, 4, 7),\n",
       "  'cv_scores': array([-0.01076678, -0.00771993, -0.00319081, -0.00164125, -0.00415392,\n",
       "         -0.00262813, -0.0036291 , -0.00529442, -0.00480907, -0.0059626 ]),\n",
       "  'avg_score': -0.004979601644341223,\n",
       "  'feature_names': ('GR', 'ILD', 'ITT', 'MSFL')},\n",
       " 5: {'feature_idx': (2, 3, 4, 7, 9),\n",
       "  'cv_scores': array([-0.01079481, -0.0081816 , -0.00286697, -0.00183167, -0.00432047,\n",
       "         -0.00263032, -0.00364034, -0.00531411, -0.00503654, -0.00632665]),\n",
       "  'avg_score': -0.0050943481960506335,\n",
       "  'feature_names': ('GR', 'ILD', 'ITT', 'MSFL', 'SFL')},\n",
       " 6: {'feature_idx': (0, 2, 3, 4, 7, 9),\n",
       "  'cv_scores': array([-0.01080593, -0.00837754, -0.00304293, -0.00175034, -0.00432148,\n",
       "         -0.00215555, -0.00254398, -0.00502815, -0.0044417 , -0.00897996]),\n",
       "  'avg_score': -0.005144756697588985,\n",
       "  'feature_names': ('DEPTH', 'GR', 'ILD', 'ITT', 'MSFL', 'SFL')},\n",
       " 7: {'feature_idx': (0, 2, 3, 4, 5, 7, 9),\n",
       "  'cv_scores': array([-0.01086583, -0.00906821, -0.00303794, -0.00174692, -0.00415905,\n",
       "         -0.00221071, -0.00266988, -0.00543162, -0.00443369, -0.00865991]),\n",
       "  'avg_score': -0.005228375202282134,\n",
       "  'feature_names': ('DEPTH', 'GR', 'ILD', 'ITT', 'LLD', 'MSFL', 'SFL')},\n",
       " 8: {'feature_idx': (0, 2, 3, 4, 5, 6, 7, 9),\n",
       "  'cv_scores': array([-0.01089276, -0.00952281, -0.00318918, -0.00172775, -0.00421137,\n",
       "         -0.00231856, -0.00255082, -0.00525012, -0.00444191, -0.00833459]),\n",
       "  'avg_score': -0.005243984939372195,\n",
       "  'feature_names': ('DEPTH', 'GR', 'ILD', 'ITT', 'LLD', 'LLS', 'MSFL', 'SFL')},\n",
       " 9: {'feature_idx': (0, 2, 3, 4, 5, 6, 7, 8, 9),\n",
       "  'cv_scores': array([-0.01580746, -0.00891595, -0.00309475, -0.0015012 , -0.00366166,\n",
       "         -0.0020318 , -0.00253507, -0.00430468, -0.00395224, -0.00799767]),\n",
       "  'avg_score': -0.005380248639536776,\n",
       "  'feature_names': ('DEPTH',\n",
       "   'GR',\n",
       "   'ILD',\n",
       "   'ITT',\n",
       "   'LLD',\n",
       "   'LLS',\n",
       "   'MSFL',\n",
       "   'NPHI',\n",
       "   'SFL')},\n",
       " 10: {'feature_idx': (0, 2, 3, 4, 5, 6, 7, 8, 9, 10),\n",
       "  'cv_scores': array([-0.01121313, -0.01129969, -0.00235902, -0.00130863, -0.00361989,\n",
       "         -0.0020597 , -0.00271575, -0.00427246, -0.00442101, -0.00819383]),\n",
       "  'avg_score': -0.0051463122211210625,\n",
       "  'feature_names': ('DEPTH',\n",
       "   'GR',\n",
       "   'ILD',\n",
       "   'ITT',\n",
       "   'LLD',\n",
       "   'LLS',\n",
       "   'MSFL',\n",
       "   'NPHI',\n",
       "   'SFL',\n",
       "   'SP')},\n",
       " 11: {'feature_idx': (0, 1, 2, 3, 4, 5, 6, 7, 8, 9, 10),\n",
       "  'cv_scores': array([-0.01183647, -0.01044976, -0.00249971, -0.00168813, -0.00445597,\n",
       "         -0.00203965, -0.00438531, -0.0034091 , -0.00430116, -0.00630302]),\n",
       "  'avg_score': -0.005136828137020021,\n",
       "  'feature_names': ('DEPTH',\n",
       "   'CALI',\n",
       "   'GR',\n",
       "   'ILD',\n",
       "   'ITT',\n",
       "   'LLD',\n",
       "   'LLS',\n",
       "   'MSFL',\n",
       "   'NPHI',\n",
       "   'SFL',\n",
       "   'SP')}}"
      ]
     },
     "execution_count": 37,
     "metadata": {},
     "output_type": "execute_result"
    }
   ],
   "source": [
    "from mlxtend.feature_selection import SequentialFeatureSelector as SFS\n",
    "\n",
    "ffs1 = SFS(classifier_pipeline, \n",
    "           k_features='best', \n",
    "           forward=True, \n",
    "           scoring='neg_mean_squared_error',\n",
    "           cv=cv,\n",
    "           n_jobs=1,\n",
    "           \n",
    "          )\n",
    "\n",
    "# X = boston.drop(columns='MEDV')\n",
    "\n",
    "ffs1.fit(Wrapper_X,Wrapper_y)\n",
    "\n",
    "ffs1.subsets_"
   ]
  },
  {
   "cell_type": "code",
   "execution_count": 41,
   "metadata": {},
   "outputs": [
    {
     "name": "stdout",
     "output_type": "stream",
     "text": [
      "-0.004979601644341223\n",
      "[2, 3, 4, 7]\n",
      "Index(['DEPTH', 'CALI', 'GR', 'ILD', 'ITT', 'LLD', 'LLS', 'MSFL', 'NPHI',\n",
      "       'SFL', 'SP'],\n",
      "      dtype='object')\n"
     ]
    }
   ],
   "source": [
    "feat_cols=list(ffs1.k_feature_idx_)\n",
    "print(ffs1.k_score_)\n",
    "print(feat_cols)\n",
    "print(Wrapper_X.columns)"
   ]
  },
  {
   "cell_type": "code",
   "execution_count": null,
   "metadata": {},
   "outputs": [],
   "source": [
    "\n",
    "# import sklearn\n",
    "# sklearn.metrics.SCORERS.keys()"
   ]
  },
  {
   "cell_type": "code",
   "execution_count": null,
   "metadata": {},
   "outputs": [],
   "source": []
  },
  {
   "cell_type": "markdown",
   "metadata": {},
   "source": [
    "### 2 Backward Feature elimination"
   ]
  },
  {
   "cell_type": "code",
   "execution_count": 39,
   "metadata": {},
   "outputs": [
    {
     "data": {
      "text/plain": [
       "SequentialFeatureSelector(cv=KFold(n_splits=10, random_state=0, shuffle=False),\n",
       "                          estimator=Pipeline(steps=[('standardscaler',\n",
       "                                                     StandardScaler()),\n",
       "                                                    ('kneighborsregressor',\n",
       "                                                     KNeighborsRegressor(n_neighbors=10))]),\n",
       "                          forward=False, k_features='best',\n",
       "                          scoring='neg_mean_squared_error')"
      ]
     },
     "execution_count": 39,
     "metadata": {},
     "output_type": "execute_result"
    }
   ],
   "source": [
    "from mlxtend.feature_selection import SequentialFeatureSelector as SFS\n",
    "\n",
    "bfs = SFS(classifier_pipeline, \n",
    "           k_features='best', \n",
    "           forward=False, \n",
    "           scoring='neg_mean_squared_error',\n",
    "           cv=cv,\n",
    "           n_jobs=1,\n",
    "           \n",
    "          )\n",
    "\n",
    "bfs.fit(Wrapper_X,Wrapper_y)\n",
    "\n",
    "\n"
   ]
  },
  {
   "cell_type": "code",
   "execution_count": 40,
   "metadata": {},
   "outputs": [
    {
     "name": "stdout",
     "output_type": "stream",
     "text": [
      "-0.004894853864598333\n",
      "('DEPTH', 'ILD', 'ITT', 'MSFL', 'NPHI', 'SP')\n",
      "[0, 3, 4, 7, 8, 10]\n",
      "Index(['DEPTH', 'CALI', 'GR', 'ILD', 'ITT', 'LLD', 'LLS', 'MSFL', 'NPHI',\n",
      "       'SFL', 'SP'],\n",
      "      dtype='object')\n"
     ]
    }
   ],
   "source": [
    "# dir(bfs)\n",
    "print(bfs.k_score_)\n",
    "#  'k_feature_idx_',\n",
    "print(bfs.k_feature_names_)\n",
    "\n",
    "feat_cols=list(bfs.k_feature_idx_)\n",
    "print(feat_cols)\n",
    "print(Wrapper_X.columns)"
   ]
  },
  {
   "cell_type": "markdown",
   "metadata": {},
   "source": [
    "### 3 Exhaustive Feature Selection"
   ]
  },
  {
   "cell_type": "code",
   "execution_count": 42,
   "metadata": {},
   "outputs": [
    {
     "name": "stderr",
     "output_type": "stream",
     "text": [
      "Features: 11/11"
     ]
    },
    {
     "name": "stdout",
     "output_type": "stream",
     "text": [
      "Index(['ITT'], dtype='object')\n"
     ]
    }
   ],
   "source": [
    "from mlxtend.feature_selection import ExhaustiveFeatureSelector as EFS\n",
    "\n",
    "# import the algorithm you want to evaluate on your features\n",
    "from sklearn.ensemble import RandomForestClassifier\n",
    "\n",
    "#create the exhaustiveFeatureSellector object.\n",
    "efs = EFS(RandomForestClassifier(),\n",
    "         min_features=4,\n",
    "         max_features=8,\n",
    "         scoring='roc_auc',\n",
    "         cv=cv)\n",
    "\n",
    "efs2= EFS(classifier_pipeline, \n",
    "#            k_features='best', \n",
    "#            forward=False, \n",
    "           scoring='neg_mean_squared_error',\n",
    "           cv=cv,\n",
    "           n_jobs=1,\n",
    "           \n",
    "          )\n",
    "\n",
    "# fit to object to the training data\n",
    "efs2 =efs2.fit(Wrapper_X,Wrapper_y)\n",
    "\n",
    "#print the selected features\n",
    "selected_features= Wrapper_X.columns[list(efs2.best_idx_)]\n",
    "print(selected_features)\n"
   ]
  },
  {
   "cell_type": "code",
   "execution_count": 44,
   "metadata": {},
   "outputs": [
    {
     "ename": "AttributeError",
     "evalue": "'ExhaustiveFeatureSelector' object has no attribute 'k_score_'",
     "output_type": "error",
     "traceback": [
      "\u001b[1;31m---------------------------------------------------------------------------\u001b[0m",
      "\u001b[1;31mAttributeError\u001b[0m                            Traceback (most recent call last)",
      "\u001b[1;32m<ipython-input-44-93cf139a1e2f>\u001b[0m in \u001b[0;36m<module>\u001b[1;34m\u001b[0m\n\u001b[1;32m----> 1\u001b[1;33m \u001b[0mprint\u001b[0m\u001b[1;33m(\u001b[0m\u001b[0mefs2\u001b[0m\u001b[1;33m.\u001b[0m\u001b[0mk_score_\u001b[0m\u001b[1;33m)\u001b[0m\u001b[1;33m\u001b[0m\u001b[1;33m\u001b[0m\u001b[0m\n\u001b[0m\u001b[0;32m      2\u001b[0m \u001b[1;31m#  'k_feature_idx_',\u001b[0m\u001b[1;33m\u001b[0m\u001b[1;33m\u001b[0m\u001b[1;33m\u001b[0m\u001b[0m\n\u001b[0;32m      3\u001b[0m \u001b[0mprint\u001b[0m\u001b[1;33m(\u001b[0m\u001b[0mefs\u001b[0m\u001b[1;33m.\u001b[0m\u001b[0mk_feature_names_\u001b[0m\u001b[1;33m)\u001b[0m\u001b[1;33m\u001b[0m\u001b[1;33m\u001b[0m\u001b[0m\n\u001b[0;32m      4\u001b[0m \u001b[1;33m\u001b[0m\u001b[0m\n\u001b[0;32m      5\u001b[0m \u001b[1;31m# feat_cols=list(bfs.k_feature_idx_)\u001b[0m\u001b[1;33m\u001b[0m\u001b[1;33m\u001b[0m\u001b[1;33m\u001b[0m\u001b[0m\n",
      "\u001b[1;31mAttributeError\u001b[0m: 'ExhaustiveFeatureSelector' object has no attribute 'k_score_'"
     ]
    }
   ],
   "source": [
    "print(efs2.k_score_)\n",
    "#  'k_feature_idx_',\n",
    "print(efs.k_feature_names_)\n",
    "\n",
    "# feat_cols=list(bfs.k_feature_idx_)\n",
    "# print(feat_cols)\n",
    "# print(Wrapper_X.columns)\n",
    "# efs2.best_score_"
   ]
  },
  {
   "cell_type": "markdown",
   "metadata": {},
   "source": [
    "### embeded methods\n"
   ]
  },
  {
   "cell_type": "markdown",
   "metadata": {},
   "source": [
    "### Lasso regularization"
   ]
  },
  {
   "cell_type": "code",
   "execution_count": 45,
   "metadata": {},
   "outputs": [],
   "source": [
    "embeded_X = dataset1.drop(columns='RHOB')\n",
    "embeded_y = dataset1.RHOB"
   ]
  },
  {
   "cell_type": "code",
   "execution_count": 46,
   "metadata": {},
   "outputs": [
    {
     "name": "stdout",
     "output_type": "stream",
     "text": [
      "Best alpha using built-in LassoCV:0.046020\n",
      "Best score using built-in LassoCV:0.597732\n"
     ]
    }
   ],
   "source": [
    "from sklearn.linear_model import LassoCV\n",
    "reg = LassoCV()\n",
    "reg.fit(embeded_X,embeded_y )\n",
    "print(\"Best alpha using built-in LassoCV:%f\" % reg.alpha_)\n",
    "print(\"Best score using built-in LassoCV:%f\" % reg.score(embeded_X ,embeded_y ))\n",
    "coef =pd.Series(reg.coef_, index = embeded_X.columns)\n"
   ]
  },
  {
   "cell_type": "code",
   "execution_count": 47,
   "metadata": {},
   "outputs": [
    {
     "name": "stdout",
     "output_type": "stream",
     "text": [
      "Lasso picked 4variables and eliminated the other 7variables\n"
     ]
    }
   ],
   "source": [
    "print('Lasso picked '+ str(sum(coef != 0)) + \"variables and eliminated the other \"+ str(sum(coef== 0)) +\"variables\")\n",
    "\n"
   ]
  },
  {
   "cell_type": "code",
   "execution_count": 48,
   "metadata": {},
   "outputs": [
    {
     "data": {
      "text/plain": [
       "Text(0.5, 1.0, 'Feature importance using Lasso Model')"
      ]
     },
     "execution_count": 48,
     "metadata": {},
     "output_type": "execute_result"
    },
    {
     "data": {
      "image/png": "[encoded data removed]",
      "text/plain": [
       "<Figure size 576x720 with 1 Axes>"
      ]
     },
     "metadata": {
      "needs_background": "light"
     },
     "output_type": "display_data"
    }
   ],
   "source": [
    "imp_coef = coef.sort_values()\n",
    "import matplotlib\n",
    "matplotlib.rcParams['figure.figsize'] = (8.0, 10.0)\n",
    "imp_coef.plot(kind = 'barh')\n",
    "plt.title(\"Feature importance using Lasso Model\")"
   ]
  },
  {
   "cell_type": "markdown",
   "metadata": {},
   "source": [
    "### Random Forest importance"
   ]
  },
  {
   "cell_type": "code",
   "execution_count": null,
   "metadata": {},
   "outputs": [],
   "source": [
    "from sklearn.ensemble import RandomForestClassifier\n",
    "\n",
    "model = RandomForestClassifier(n_estimators=340)\n",
    "\n",
    "model.fit(embeded_X,embeded_y)\n",
    "\n",
    "importances = pd.DataFrame({\"Features\": pd.DataFrame(embeded_X).columns, \"importances\":importances})\n",
    "final_df.set_index('importances')\n",
    "\n",
    "final_df= final_df.sort_values('Importance')\n",
    "\n",
    "final_df.plot.bar(color = 'teal')"
   ]
  },
  {
   "cell_type": "code",
   "execution_count": 54,
   "metadata": {},
   "outputs": [
    {
     "data": {
      "text/plain": [
       "RandomForestRegressor()"
      ]
     },
     "execution_count": 54,
     "metadata": {},
     "output_type": "execute_result"
    }
   ],
   "source": [
    "# for regression\n",
    "from sklearn.ensemble import RandomForestRegressor\n",
    "from sklearn.datasets import make_regression\n",
    "\n",
    "rf = RandomForestRegressor(n_estimators=100)\n",
    "rf.fit(embeded_X,embeded_y)\n",
    "\n"
   ]
  },
  {
   "cell_type": "code",
   "execution_count": 55,
   "metadata": {},
   "outputs": [
    {
     "data": {
      "text/plain": [
       "array([0.66456376, 0.03806616, 0.01448592, 0.00990156, 0.01705524,\n",
       "       0.00810221, 0.00754762, 0.09715014, 0.10047663, 0.00751524,\n",
       "       0.03513552])"
      ]
     },
     "execution_count": 55,
     "metadata": {},
     "output_type": "execute_result"
    }
   ],
   "source": [
    "rf.feature_importances_\n",
    "\n"
   ]
  },
  {
   "cell_type": "code",
   "execution_count": 59,
   "metadata": {},
   "outputs": [
    {
     "data": {
      "text/plain": [
       "<BarContainer object of 11 artists>"
      ]
     },
     "execution_count": 59,
     "metadata": {},
     "output_type": "execute_result"
    },
    {
     "data": {
      "image/png": "[encoded data removed]",
      "text/plain": [
       "<Figure size 576x720 with 1 Axes>"
      ]
     },
     "metadata": {
      "needs_background": "light"
     },
     "output_type": "display_data"
    }
   ],
   "source": [
    "\n",
    "forest_columns=['DEPTH',\n",
    " 'CALI',\n",
    " 'GR',\n",
    " 'ILD',\n",
    " 'ITT',\n",
    " 'LLD',\n",
    " 'LLS',\n",
    " 'MSFL',\n",
    " 'NPHI',\n",
    " 'SFL',\n",
    " 'SP']\n",
    "plt.barh(forest_columns, rf.feature_importances_)"
   ]
  },
  {
   "cell_type": "code",
   "execution_count": 60,
   "metadata": {},
   "outputs": [
    {
     "ename": "TypeError",
     "evalue": "only integer scalar arrays can be converted to a scalar index",
     "output_type": "error",
     "traceback": [
      "\u001b[1;31m---------------------------------------------------------------------------\u001b[0m",
      "\u001b[1;31mTypeError\u001b[0m                                 Traceback (most recent call last)",
      "\u001b[1;32m<ipython-input-60-ed0abb924d3a>\u001b[0m in \u001b[0;36m<module>\u001b[1;34m\u001b[0m\n\u001b[0;32m      1\u001b[0m \u001b[0msorted_idx\u001b[0m \u001b[1;33m=\u001b[0m \u001b[0mrf\u001b[0m\u001b[1;33m.\u001b[0m\u001b[0mfeature_importances_\u001b[0m\u001b[1;33m.\u001b[0m\u001b[0margsort\u001b[0m\u001b[1;33m(\u001b[0m\u001b[1;33m)\u001b[0m\u001b[1;33m\u001b[0m\u001b[1;33m\u001b[0m\u001b[0m\n\u001b[1;32m----> 2\u001b[1;33m \u001b[0mplt\u001b[0m\u001b[1;33m.\u001b[0m\u001b[0mbarh\u001b[0m\u001b[1;33m(\u001b[0m\u001b[0mforest_columns\u001b[0m\u001b[1;33m[\u001b[0m\u001b[0msorted_idx\u001b[0m\u001b[1;33m]\u001b[0m\u001b[1;33m,\u001b[0m \u001b[0mrf\u001b[0m\u001b[1;33m.\u001b[0m\u001b[0mfeature_importances_\u001b[0m\u001b[1;33m[\u001b[0m\u001b[0msorted_idx\u001b[0m\u001b[1;33m]\u001b[0m\u001b[1;33m)\u001b[0m\u001b[1;33m\u001b[0m\u001b[1;33m\u001b[0m\u001b[0m\n\u001b[0m\u001b[0;32m      3\u001b[0m \u001b[0mplt\u001b[0m\u001b[1;33m.\u001b[0m\u001b[0mxlabel\u001b[0m\u001b[1;33m(\u001b[0m\u001b[1;34m\"Random Forest Feature Importance\"\u001b[0m\u001b[1;33m)\u001b[0m\u001b[1;33m\u001b[0m\u001b[1;33m\u001b[0m\u001b[0m\n",
      "\u001b[1;31mTypeError\u001b[0m: only integer scalar arrays can be converted to a scalar index"
     ]
    }
   ],
   "source": [
    "# wants to rearrange it to in decrease order\n",
    "sorted_idx = rf.feature_importances_.argsort()\n",
    "plt.barh(forest_columns[sorted_idx], rf.feature_importances_[sorted_idx])\n",
    "plt.xlabel(\"Random Forest Feature Importance\")\n"
   ]
  },
  {
   "cell_type": "markdown",
   "metadata": {},
   "source": [
    "# Feature extraction"
   ]
  },
  {
   "cell_type": "code",
   "execution_count": null,
   "metadata": {},
   "outputs": [],
   "source": [
    "from IPython.display import Image\n",
    "Image(filename='./images/interactions.jpg')"
   ]
  },
  {
   "cell_type": "code",
   "execution_count": null,
   "metadata": {},
   "outputs": [],
   "source": [
    "# feature extraction \n",
    "\n",
    "# Use PolynomialFeatures in sklearn.preprocessing to create two-way interactions for all features\n",
    "from itertools import combinations\n",
    "from sklearn.preprocessing import PolynomialFeatures\n",
    "\n",
    "def add_interactions(df):\n",
    "    # Get feature names\n",
    "    combos = list(combinations(list(df.columns), 2))\n",
    "    colnames = list(df.columns) + ['_'.join(x) for x in combos]\n",
    "    \n",
    "    # Find interactions\n",
    "    poly = PolynomialFeatures(interaction_only=True, include_bias=False)\n",
    "    df = poly.fit_transform(df)\n",
    "    df = pd.DataFrame(df)\n",
    "    df.columns = colnames\n",
    "    \n",
    "    # Remove interaction terms with all 0 values            \n",
    "    noint_indicies = [i for i, x in enumerate(list((df == 0).all())) if x]\n",
    "    df = df.drop(df.columns[noint_indicies], axis=1)\n",
    "    \n",
    "    return df\n",
    "\n"
   ]
  },
  {
   "cell_type": "code",
   "execution_count": null,
   "metadata": {
    "scrolled": true
   },
   "outputs": [],
   "source": [
    "dataset1_iteracts = add_interactions(pd_data1_Sd)\n",
    "print(dataset1_iteracts.head(5))"
   ]
  },
  {
   "cell_type": "markdown",
   "metadata": {},
   "source": [
    "# Dimensionality reduction using PCA\n",
    "Principal component analysis (PCA) is a technique that transforms a dataset of many features into principal components that \"summarize\" the variance that underlies the data\n",
    "Each principal component is calculated by finding the linear combination of features that maximizes variance, while also ensuring zero correlation with the previously calculated principal components"
   ]
  },
  {
   "cell_type": "code",
   "execution_count": null,
   "metadata": {},
   "outputs": [],
   "source": [
    "from IPython.display import Image\n",
    "Image(filename='./images/pca.jpg')\n",
    "# Imagine taken from: \n",
    "# http://www.mathworks.com/help/stats/quality-of-life-in-u-s-cities.html?requestedDomain=www.mathworks.com"
   ]
  },
  {
   "cell_type": "code",
   "execution_count": null,
   "metadata": {},
   "outputs": [],
   "source": [
    "# Use PCA from sklearn.decompostion to find principal components\n",
    "from sklearn.decomposition import PCA\n",
    "\n",
    "pca = PCA(n_components=2)\n",
    "X_pca_np=pca.fit_transform(dataset1_iteracts)\n",
    "X_pca = pd.DataFrame(pca.fit_transform(dataset1_iteracts))\n",
    "\n",
    "print(X_pca.head(5))\n",
    "\n",
    "principalDf = pd.DataFrame(data =X_pca_np \n",
    "             , columns = ['principal component 1', 'principal component 2'])\n",
    "principalDf"
   ]
  },
  {
   "cell_type": "code",
   "execution_count": null,
   "metadata": {
    "scrolled": true
   },
   "outputs": [],
   "source": [
    "finalDf = pd.concat([principalDf, dataset1[['RHOB']]], axis = 1)\n",
    "finalDf"
   ]
  },
  {
   "cell_type": "code",
   "execution_count": null,
   "metadata": {},
   "outputs": [],
   "source": [
    "dataset1[\"RHOB\"]"
   ]
  },
  {
   "cell_type": "code",
   "execution_count": null,
   "metadata": {},
   "outputs": [],
   "source": [
    "fig, ax = plt.subplots()\n",
    "plt.scatter(finalDf[ 'principal component 1']\n",
    "               , finalDf[ 'principal component 2']\n",
    "              , c=dataset1['RHOB'], cmap='inferno', alpha=0.7)\n",
    "plt.xlabel('Principal Component 1', fontsize = 15)\n",
    "plt.ylabel('Principal Component 2', fontsize = 15)\n",
    "plt.title('2 component PCA', fontsize = 20)\n",
    "\n",
    "# plt.colorbar()\n",
    "cbar = plt.colorbar()\n",
    "cbar.set_label('RHOB')\n",
    "plt.grid('on')\n"
   ]
  },
  {
   "cell_type": "code",
   "execution_count": null,
   "metadata": {},
   "outputs": [],
   "source": [
    "# X_pca\n",
    "\n",
    "# plt.figure(figsize=(8,6))\n",
    "# plt.scatter(X_pca[:,0],X_pca[:,1],c=dataset1['RHOB'])\n",
    "# plt.xlabel('First principle component')\n",
    "# plt.ylabel('Second principle component')\n",
    "\n",
    "\n",
    "fig = plt.figure(figsize = (8,8))\n",
    "ax = fig.add_subplot() \n",
    "ax.set_xlabel('Principal Component 1', fontsize = 15)\n",
    "ax.set_ylabel('Principal Component 2', fontsize = 15)\n",
    "ax.set_title('2 component PCA', fontsize = 20)\n",
    "\n",
    "color = dataset1[\"RHOB\"]\n",
    "ax.scatter(finalDf[ 'principal component 1']\n",
    "               , finalDf[ 'principal component 2']\n",
    "               , c = color\n",
    "#                , s = 50\n",
    "               ,alpha =0.7\n",
    "               ,cmap = 'RdPu'\n",
    "          )\n",
    "\n",
    "cbar = plt.colorbar()\n",
    "cbar.set_label('Color Intensity')\n",
    "# plt.grid('on')\n",
    "\n",
    "# psm = ax.pcolormesh(dataset1['RHOB'], cmap='inferno', rasterized=True,\n",
    "# #                             vmin=-4, vmax=4\n",
    "#                            )\n",
    "# fig.colorbar(psm, ax=ax)\n",
    "\n",
    "# ax.legend(targets)\n",
    "ax.grid()\n",
    "\n",
    "\n",
    "# add target colour map"
   ]
  },
  {
   "cell_type": "code",
   "execution_count": null,
   "metadata": {},
   "outputs": [],
   "source": []
  },
  {
   "cell_type": "code",
   "execution_count": null,
   "metadata": {},
   "outputs": [],
   "source": []
  },
  {
   "cell_type": "markdown",
   "metadata": {},
   "source": [
    "### pca and selecting K values"
   ]
  },
  {
   "cell_type": "code",
   "execution_count": 9,
   "metadata": {},
   "outputs": [],
   "source": [
    "# import plotly.express as px\n",
    "import seaborn as sn\n",
    "\n",
    "%matplotlib inline\n",
    "\n",
    "import plotly.io as pio\n",
    "pio.renderers.default = 'browser'"
   ]
  },
  {
   "cell_type": "code",
   "execution_count": 10,
   "metadata": {},
   "outputs": [
    {
     "data": {
      "text/plain": [
       "0       -1.520406\n",
       "1       -1.418822\n",
       "2       -1.417071\n",
       "3       -1.454727\n",
       "4       -1.481874\n",
       "           ...   \n",
       "13852    0.924172\n",
       "13853    0.921107\n",
       "13854    0.918042\n",
       "13855    0.914977\n",
       "13856    0.984159\n",
       "Name: RHOB, Length: 13857, dtype: float64"
      ]
     },
     "execution_count": 10,
     "metadata": {},
     "output_type": "execute_result"
    }
   ],
   "source": [
    "pd_data1_Sd\n",
    "DR=pd_data1_Sd.copy()\n",
    "DR_X= pd_data1_Sd.drop('RHOB', 1)\n",
    "DR_X\n",
    "DR_Y= pd_data1_Sd.RHOB\n",
    "DR_Y"
   ]
  },
  {
   "cell_type": "markdown",
   "metadata": {},
   "source": [
    "### Step-2 : Computing Covariance Matrix\n",
    "* N-dimensional dataset always gives a N*N order Covariance Matrix.\n",
    "* If both variables tend to increase or decrease together, the coefficient is positive.\n",
    "* If one variable tends to increase as the other decreases, the coefficient is negative."
   ]
  },
  {
   "cell_type": "code",
   "execution_count": 11,
   "metadata": {},
   "outputs": [
    {
     "data": {
      "text/html": [
       "<div>\n",
       "<style scoped>\n",
       "    .dataframe tbody tr th:only-of-type {\n",
       "        vertical-align: middle;\n",
       "    }\n",
       "\n",
       "    .dataframe tbody tr th {\n",
       "        vertical-align: top;\n",
       "    }\n",
       "\n",
       "    .dataframe thead th {\n",
       "        text-align: right;\n",
       "    }\n",
       "</style>\n",
       "<table border=\"1\" class=\"dataframe\">\n",
       "  <thead>\n",
       "    <tr style=\"text-align: right;\">\n",
       "      <th></th>\n",
       "      <th>DEPTH</th>\n",
       "      <th>CALI</th>\n",
       "      <th>GR</th>\n",
       "      <th>ILD</th>\n",
       "      <th>ITT</th>\n",
       "      <th>LLD</th>\n",
       "      <th>LLS</th>\n",
       "      <th>MSFL</th>\n",
       "      <th>NPHI</th>\n",
       "      <th>SFL</th>\n",
       "      <th>SP</th>\n",
       "    </tr>\n",
       "  </thead>\n",
       "  <tbody>\n",
       "    <tr>\n",
       "      <th>DEPTH</th>\n",
       "      <td>1.000</td>\n",
       "      <td>-0.377</td>\n",
       "      <td>0.847</td>\n",
       "      <td>0.023</td>\n",
       "      <td>-0.622</td>\n",
       "      <td>-0.037</td>\n",
       "      <td>0.012</td>\n",
       "      <td>0.005</td>\n",
       "      <td>-0.578</td>\n",
       "      <td>0.004</td>\n",
       "      <td>0.109</td>\n",
       "    </tr>\n",
       "    <tr>\n",
       "      <th>CALI</th>\n",
       "      <td>-0.377</td>\n",
       "      <td>1.000</td>\n",
       "      <td>-0.214</td>\n",
       "      <td>-0.434</td>\n",
       "      <td>0.675</td>\n",
       "      <td>-0.377</td>\n",
       "      <td>-0.401</td>\n",
       "      <td>-0.470</td>\n",
       "      <td>0.641</td>\n",
       "      <td>-0.382</td>\n",
       "      <td>0.126</td>\n",
       "    </tr>\n",
       "    <tr>\n",
       "      <th>GR</th>\n",
       "      <td>0.847</td>\n",
       "      <td>-0.214</td>\n",
       "      <td>1.000</td>\n",
       "      <td>-0.186</td>\n",
       "      <td>-0.466</td>\n",
       "      <td>-0.205</td>\n",
       "      <td>-0.142</td>\n",
       "      <td>-0.160</td>\n",
       "      <td>-0.349</td>\n",
       "      <td>-0.159</td>\n",
       "      <td>0.163</td>\n",
       "    </tr>\n",
       "    <tr>\n",
       "      <th>ILD</th>\n",
       "      <td>0.023</td>\n",
       "      <td>-0.434</td>\n",
       "      <td>-0.186</td>\n",
       "      <td>1.000</td>\n",
       "      <td>-0.553</td>\n",
       "      <td>0.946</td>\n",
       "      <td>0.935</td>\n",
       "      <td>0.822</td>\n",
       "      <td>-0.632</td>\n",
       "      <td>0.949</td>\n",
       "      <td>-0.195</td>\n",
       "    </tr>\n",
       "    <tr>\n",
       "      <th>ITT</th>\n",
       "      <td>-0.622</td>\n",
       "      <td>0.675</td>\n",
       "      <td>-0.466</td>\n",
       "      <td>-0.553</td>\n",
       "      <td>1.000</td>\n",
       "      <td>-0.480</td>\n",
       "      <td>-0.506</td>\n",
       "      <td>-0.477</td>\n",
       "      <td>0.897</td>\n",
       "      <td>-0.490</td>\n",
       "      <td>0.057</td>\n",
       "    </tr>\n",
       "    <tr>\n",
       "      <th>LLD</th>\n",
       "      <td>-0.037</td>\n",
       "      <td>-0.377</td>\n",
       "      <td>-0.205</td>\n",
       "      <td>0.946</td>\n",
       "      <td>-0.480</td>\n",
       "      <td>1.000</td>\n",
       "      <td>0.979</td>\n",
       "      <td>0.818</td>\n",
       "      <td>-0.567</td>\n",
       "      <td>0.959</td>\n",
       "      <td>-0.224</td>\n",
       "    </tr>\n",
       "    <tr>\n",
       "      <th>LLS</th>\n",
       "      <td>0.012</td>\n",
       "      <td>-0.401</td>\n",
       "      <td>-0.142</td>\n",
       "      <td>0.935</td>\n",
       "      <td>-0.506</td>\n",
       "      <td>0.979</td>\n",
       "      <td>1.000</td>\n",
       "      <td>0.853</td>\n",
       "      <td>-0.587</td>\n",
       "      <td>0.972</td>\n",
       "      <td>-0.224</td>\n",
       "    </tr>\n",
       "    <tr>\n",
       "      <th>MSFL</th>\n",
       "      <td>0.005</td>\n",
       "      <td>-0.470</td>\n",
       "      <td>-0.160</td>\n",
       "      <td>0.822</td>\n",
       "      <td>-0.477</td>\n",
       "      <td>0.818</td>\n",
       "      <td>0.853</td>\n",
       "      <td>1.000</td>\n",
       "      <td>-0.570</td>\n",
       "      <td>0.849</td>\n",
       "      <td>-0.230</td>\n",
       "    </tr>\n",
       "    <tr>\n",
       "      <th>NPHI</th>\n",
       "      <td>-0.578</td>\n",
       "      <td>0.641</td>\n",
       "      <td>-0.349</td>\n",
       "      <td>-0.632</td>\n",
       "      <td>0.897</td>\n",
       "      <td>-0.567</td>\n",
       "      <td>-0.587</td>\n",
       "      <td>-0.570</td>\n",
       "      <td>1.000</td>\n",
       "      <td>-0.572</td>\n",
       "      <td>0.091</td>\n",
       "    </tr>\n",
       "    <tr>\n",
       "      <th>SFL</th>\n",
       "      <td>0.004</td>\n",
       "      <td>-0.382</td>\n",
       "      <td>-0.159</td>\n",
       "      <td>0.949</td>\n",
       "      <td>-0.490</td>\n",
       "      <td>0.959</td>\n",
       "      <td>0.972</td>\n",
       "      <td>0.849</td>\n",
       "      <td>-0.572</td>\n",
       "      <td>1.000</td>\n",
       "      <td>-0.214</td>\n",
       "    </tr>\n",
       "    <tr>\n",
       "      <th>SP</th>\n",
       "      <td>0.109</td>\n",
       "      <td>0.126</td>\n",
       "      <td>0.163</td>\n",
       "      <td>-0.195</td>\n",
       "      <td>0.057</td>\n",
       "      <td>-0.224</td>\n",
       "      <td>-0.224</td>\n",
       "      <td>-0.230</td>\n",
       "      <td>0.091</td>\n",
       "      <td>-0.214</td>\n",
       "      <td>1.000</td>\n",
       "    </tr>\n",
       "  </tbody>\n",
       "</table>\n",
       "</div>"
      ],
      "text/plain": [
       "       DEPTH   CALI     GR    ILD    ITT    LLD    LLS   MSFL   NPHI    SFL  \\\n",
       "DEPTH  1.000 -0.377  0.847  0.023 -0.622 -0.037  0.012  0.005 -0.578  0.004   \n",
       "CALI  -0.377  1.000 -0.214 -0.434  0.675 -0.377 -0.401 -0.470  0.641 -0.382   \n",
       "GR     0.847 -0.214  1.000 -0.186 -0.466 -0.205 -0.142 -0.160 -0.349 -0.159   \n",
       "ILD    0.023 -0.434 -0.186  1.000 -0.553  0.946  0.935  0.822 -0.632  0.949   \n",
       "ITT   -0.622  0.675 -0.466 -0.553  1.000 -0.480 -0.506 -0.477  0.897 -0.490   \n",
       "LLD   -0.037 -0.377 -0.205  0.946 -0.480  1.000  0.979  0.818 -0.567  0.959   \n",
       "LLS    0.012 -0.401 -0.142  0.935 -0.506  0.979  1.000  0.853 -0.587  0.972   \n",
       "MSFL   0.005 -0.470 -0.160  0.822 -0.477  0.818  0.853  1.000 -0.570  0.849   \n",
       "NPHI  -0.578  0.641 -0.349 -0.632  0.897 -0.567 -0.587 -0.570  1.000 -0.572   \n",
       "SFL    0.004 -0.382 -0.159  0.949 -0.490  0.959  0.972  0.849 -0.572  1.000   \n",
       "SP     0.109  0.126  0.163 -0.195  0.057 -0.224 -0.224 -0.230  0.091 -0.214   \n",
       "\n",
       "          SP  \n",
       "DEPTH  0.109  \n",
       "CALI   0.126  \n",
       "GR     0.163  \n",
       "ILD   -0.195  \n",
       "ITT    0.057  \n",
       "LLD   -0.224  \n",
       "LLS   -0.224  \n",
       "MSFL  -0.230  \n",
       "NPHI   0.091  \n",
       "SFL   -0.214  \n",
       "SP     1.000  "
      ]
     },
     "execution_count": 11,
     "metadata": {},
     "output_type": "execute_result"
    }
   ],
   "source": [
    "def computeCovarianceMatrix(data):\n",
    "    len_data = data.shape[0]\n",
    "    covariance = data.T.dot(data)/len_data\n",
    "    return covariance\n",
    "\n",
    "cov_mat = computeCovarianceMatrix(DR_X)   # or scaled_df.cov()\n",
    "cov_mat = np.around(cov_mat,3)\n",
    "cov_mat"
   ]
  },
  {
   "cell_type": "code",
   "execution_count": 12,
   "metadata": {},
   "outputs": [
    {
     "data": {
      "image/png": "[encoded data removed]",
      "text/plain": [
       "<Figure size 1152x504 with 2 Axes>"
      ]
     },
     "metadata": {
      "needs_background": "light"
     },
     "output_type": "display_data"
    }
   ],
   "source": [
    "'''Now, Plotting the Covariance Matrix as Heatmap'''\n",
    "\n",
    "fig = plt.figure(figsize=(16,7))\n",
    "'''Annotate each cell with the numeric value using integer formatting'''\n",
    "sn.heatmap(cov_mat, annot=True, fmt='g', linewidths=.1, cmap=\"YlGnBu\")    \n",
    "plt.show()"
   ]
  },
  {
   "cell_type": "markdown",
   "metadata": {},
   "source": [
    "### Step-3 : Eigen Decomposition of Covariance Matrix\n",
    "* NxN order covariance matrix gives \"N\" eigen vectors and their corresponding \"N\" eigen values.\n",
    "* We already know that each PC has two things : 1.) Eigenvector : tells the direction of the PC (or, direction in which the data is dispersed). 2.) Eigenvalues : gives variances explained by each PC and their relative importance. (Higher the eigenvalue, more the variation captured & hence more significant that PC is.)Step-3 : Eigen Decomposition of Covariance Matrix\n",
    "NxN order covariance matrix gives \"N\" eigen vectors and their corresponding \"N\" eigen values.\n",
    "We already know that each PC has two things : 1.) Eigenvector : tells the direction of the PC (or, direction in which the data is dispersed). 2.) Eigenvalues : gives variances explained by each PC and their relative importance. (Higher the eigenvalue, more the variation captured & hence more significant that PC is.)"
   ]
  },
  {
   "cell_type": "code",
   "execution_count": 13,
   "metadata": {},
   "outputs": [
    {
     "name": "stdout",
     "output_type": "stream",
     "text": [
      "\n",
      "Number of Eigenvectors : 11 \n",
      "\n",
      "Eigenvectors : \n",
      "\n",
      "[[ 9.80473085e-02 -5.48983204e-01 -1.30089961e-02 -2.72494586e-01\n",
      "   1.13073190e-01 -2.54512807e-02 -6.80634777e-01  2.91817172e-01\n",
      "  -2.29615887e-01  1.96862822e-03 -1.67427436e-04]\n",
      " [-2.55448994e-01  2.28256270e-01  2.09077561e-01 -7.64736576e-01\n",
      "  -4.06904156e-01 -2.76977119e-01  6.77755102e-02  7.73130275e-02\n",
      "  -3.13073440e-02  1.53505956e-02  5.95802796e-03]\n",
      " [ 1.17155279e-02 -5.44767359e-01  1.36091803e-02 -4.01936938e-01\n",
      "   4.06473103e-01  8.35010526e-02  4.67023057e-01 -2.36302304e-01\n",
      "   2.90801122e-01  9.94320678e-02 -2.75428013e-02]\n",
      " [ 3.85258686e-01  1.45725050e-01  1.08635059e-01 -6.55640829e-02\n",
      "  -1.15672954e-01  2.04180842e-01 -1.46005335e-01  3.46223885e-01\n",
      "   6.83709886e-01  3.36824294e-01  1.92539170e-01]\n",
      " [-3.04681749e-01  3.45920734e-01  3.58608141e-02 -1.23272619e-01\n",
      "   4.36457738e-01  2.03895524e-03 -5.06164814e-01 -4.99495712e-01\n",
      "   2.67842049e-01  5.33237126e-02  1.56416000e-02]\n",
      " [ 3.78013199e-01  1.87897687e-01  1.02093438e-01 -1.55377416e-01\n",
      "   1.70621993e-02  2.86557063e-01 -6.43737145e-03 -1.84276779e-01\n",
      "  -3.43252923e-01  4.68721054e-01 -5.77328185e-01]\n",
      " [ 3.84747596e-01  1.59732205e-01  9.62796085e-02 -1.80725663e-01\n",
      "   1.37130941e-01  1.64281876e-01  5.93286528e-02 -2.01402683e-01\n",
      "  -3.91805194e-01 -2.01945058e-02  7.35342025e-01]\n",
      " [ 3.58873099e-01  1.38751812e-01  1.84904579e-02  5.17529231e-02\n",
      "   3.63732807e-01 -8.24247971e-01  6.49572159e-02  1.20038218e-01\n",
      "  -9.40318393e-03  1.19407561e-01 -6.53934216e-02]\n",
      " [-3.30298933e-01  2.81556249e-01  2.41048483e-02 -8.66672290e-02\n",
      "   5.33662895e-01  2.49639249e-01  1.68198282e-01  6.26358649e-01\n",
      "  -1.79623112e-01  5.93533728e-02 -4.18294857e-03]\n",
      " [ 3.81290051e-01  1.68673099e-01  1.11416673e-01 -1.88118416e-01\n",
      "   1.24067459e-01  1.50950958e-01 -2.06864810e-02  4.70394454e-02\n",
      "   1.35313307e-01 -7.97292910e-01 -2.89067169e-01]\n",
      " [-9.77035314e-02 -1.45091619e-01  9.53842286e-01  2.39780236e-01\n",
      "   3.10016191e-02 -1.93741987e-02 -3.53656378e-03 -1.38454947e-02\n",
      "  -2.31533574e-02 -3.93787184e-03 -7.24013429e-04]]\n",
      "\n",
      "Eigenvalues : \n",
      "\n",
      "[5.88349384 2.71499429 0.93464991 0.62440006 0.30840919 0.2133301\n",
      " 0.14038828 0.07818899 0.05481118 0.0342371  0.01309703]\n"
     ]
    }
   ],
   "source": [
    "# from numpy.linalg import eig\n",
    "eig_values, eig_vectors = np.linalg.eig(cov_mat)\n",
    "print('\\nNumber of Eigenvectors : %s ' %len(eig_vectors))\n",
    "print('\\nEigenvectors : \\n\\n%s' %eig_vectors)\n",
    "print('\\nEigenvalues : \\n\\n%s' %eig_values)"
   ]
  },
  {
   "cell_type": "markdown",
   "metadata": {},
   "source": [
    "#### Visualize above eigenvectors as a dataframe (or coefficient matrix)\n",
    "* Each PC is a linear combination of all the original variables or attributes : image.png - X_i are the original variables, and - Beta_i are the corresponding weights or so called PCA coefficients.\n",
    "* Original Variables : 'fixed acidity', 'volatile acidity', 'citric acid', 'residual sugar', 'chlorides', 'free sulfur dioxide', 'total sulfur dioxide', 'density', 'pH', 'sulphates', 'alcohol'\n",
    "* The first row is the coefficients that generated the first PC. - PC1 = (fixed acidity 0.489314) + (volatile acidity -0.238584) + …....... + (alcohol * -0.113232) - Similary PC2 and so on....."
   ]
  },
  {
   "cell_type": "code",
   "execution_count": 14,
   "metadata": {},
   "outputs": [
    {
     "data": {
      "text/html": [
       "<div>\n",
       "<style scoped>\n",
       "    .dataframe tbody tr th:only-of-type {\n",
       "        vertical-align: middle;\n",
       "    }\n",
       "\n",
       "    .dataframe tbody tr th {\n",
       "        vertical-align: top;\n",
       "    }\n",
       "\n",
       "    .dataframe thead th {\n",
       "        text-align: right;\n",
       "    }\n",
       "</style>\n",
       "<table border=\"1\" class=\"dataframe\">\n",
       "  <thead>\n",
       "    <tr style=\"text-align: right;\">\n",
       "      <th></th>\n",
       "      <th>0</th>\n",
       "      <th>1</th>\n",
       "      <th>2</th>\n",
       "      <th>3</th>\n",
       "      <th>4</th>\n",
       "      <th>5</th>\n",
       "      <th>6</th>\n",
       "      <th>7</th>\n",
       "      <th>8</th>\n",
       "      <th>9</th>\n",
       "      <th>10</th>\n",
       "    </tr>\n",
       "  </thead>\n",
       "  <tbody>\n",
       "    <tr>\n",
       "      <th>eigvec_1</th>\n",
       "      <td>0.098047</td>\n",
       "      <td>-0.255449</td>\n",
       "      <td>0.011716</td>\n",
       "      <td>0.385259</td>\n",
       "      <td>-0.304682</td>\n",
       "      <td>0.378013</td>\n",
       "      <td>0.384748</td>\n",
       "      <td>0.358873</td>\n",
       "      <td>-0.330299</td>\n",
       "      <td>0.381290</td>\n",
       "      <td>-0.097704</td>\n",
       "    </tr>\n",
       "    <tr>\n",
       "      <th>eigvec_2</th>\n",
       "      <td>-0.548983</td>\n",
       "      <td>0.228256</td>\n",
       "      <td>-0.544767</td>\n",
       "      <td>0.145725</td>\n",
       "      <td>0.345921</td>\n",
       "      <td>0.187898</td>\n",
       "      <td>0.159732</td>\n",
       "      <td>0.138752</td>\n",
       "      <td>0.281556</td>\n",
       "      <td>0.168673</td>\n",
       "      <td>-0.145092</td>\n",
       "    </tr>\n",
       "    <tr>\n",
       "      <th>eigvec_3</th>\n",
       "      <td>-0.013009</td>\n",
       "      <td>0.209078</td>\n",
       "      <td>0.013609</td>\n",
       "      <td>0.108635</td>\n",
       "      <td>0.035861</td>\n",
       "      <td>0.102093</td>\n",
       "      <td>0.096280</td>\n",
       "      <td>0.018490</td>\n",
       "      <td>0.024105</td>\n",
       "      <td>0.111417</td>\n",
       "      <td>0.953842</td>\n",
       "    </tr>\n",
       "    <tr>\n",
       "      <th>eigvec_4</th>\n",
       "      <td>-0.272495</td>\n",
       "      <td>-0.764737</td>\n",
       "      <td>-0.401937</td>\n",
       "      <td>-0.065564</td>\n",
       "      <td>-0.123273</td>\n",
       "      <td>-0.155377</td>\n",
       "      <td>-0.180726</td>\n",
       "      <td>0.051753</td>\n",
       "      <td>-0.086667</td>\n",
       "      <td>-0.188118</td>\n",
       "      <td>0.239780</td>\n",
       "    </tr>\n",
       "    <tr>\n",
       "      <th>eigvec_5</th>\n",
       "      <td>0.113073</td>\n",
       "      <td>-0.406904</td>\n",
       "      <td>0.406473</td>\n",
       "      <td>-0.115673</td>\n",
       "      <td>0.436458</td>\n",
       "      <td>0.017062</td>\n",
       "      <td>0.137131</td>\n",
       "      <td>0.363733</td>\n",
       "      <td>0.533663</td>\n",
       "      <td>0.124067</td>\n",
       "      <td>0.031002</td>\n",
       "    </tr>\n",
       "    <tr>\n",
       "      <th>eigvec_6</th>\n",
       "      <td>-0.025451</td>\n",
       "      <td>-0.276977</td>\n",
       "      <td>0.083501</td>\n",
       "      <td>0.204181</td>\n",
       "      <td>0.002039</td>\n",
       "      <td>0.286557</td>\n",
       "      <td>0.164282</td>\n",
       "      <td>-0.824248</td>\n",
       "      <td>0.249639</td>\n",
       "      <td>0.150951</td>\n",
       "      <td>-0.019374</td>\n",
       "    </tr>\n",
       "    <tr>\n",
       "      <th>eigvec_7</th>\n",
       "      <td>-0.680635</td>\n",
       "      <td>0.067776</td>\n",
       "      <td>0.467023</td>\n",
       "      <td>-0.146005</td>\n",
       "      <td>-0.506165</td>\n",
       "      <td>-0.006437</td>\n",
       "      <td>0.059329</td>\n",
       "      <td>0.064957</td>\n",
       "      <td>0.168198</td>\n",
       "      <td>-0.020686</td>\n",
       "      <td>-0.003537</td>\n",
       "    </tr>\n",
       "    <tr>\n",
       "      <th>eigvec_8</th>\n",
       "      <td>0.291817</td>\n",
       "      <td>0.077313</td>\n",
       "      <td>-0.236302</td>\n",
       "      <td>0.346224</td>\n",
       "      <td>-0.499496</td>\n",
       "      <td>-0.184277</td>\n",
       "      <td>-0.201403</td>\n",
       "      <td>0.120038</td>\n",
       "      <td>0.626359</td>\n",
       "      <td>0.047039</td>\n",
       "      <td>-0.013845</td>\n",
       "    </tr>\n",
       "    <tr>\n",
       "      <th>eigvec_9</th>\n",
       "      <td>-0.229616</td>\n",
       "      <td>-0.031307</td>\n",
       "      <td>0.290801</td>\n",
       "      <td>0.683710</td>\n",
       "      <td>0.267842</td>\n",
       "      <td>-0.343253</td>\n",
       "      <td>-0.391805</td>\n",
       "      <td>-0.009403</td>\n",
       "      <td>-0.179623</td>\n",
       "      <td>0.135313</td>\n",
       "      <td>-0.023153</td>\n",
       "    </tr>\n",
       "    <tr>\n",
       "      <th>eigvec_10</th>\n",
       "      <td>0.001969</td>\n",
       "      <td>0.015351</td>\n",
       "      <td>0.099432</td>\n",
       "      <td>0.336824</td>\n",
       "      <td>0.053324</td>\n",
       "      <td>0.468721</td>\n",
       "      <td>-0.020195</td>\n",
       "      <td>0.119408</td>\n",
       "      <td>0.059353</td>\n",
       "      <td>-0.797293</td>\n",
       "      <td>-0.003938</td>\n",
       "    </tr>\n",
       "    <tr>\n",
       "      <th>eigvec_11</th>\n",
       "      <td>-0.000167</td>\n",
       "      <td>0.005958</td>\n",
       "      <td>-0.027543</td>\n",
       "      <td>0.192539</td>\n",
       "      <td>0.015642</td>\n",
       "      <td>-0.577328</td>\n",
       "      <td>0.735342</td>\n",
       "      <td>-0.065393</td>\n",
       "      <td>-0.004183</td>\n",
       "      <td>-0.289067</td>\n",
       "      <td>-0.000724</td>\n",
       "    </tr>\n",
       "  </tbody>\n",
       "</table>\n",
       "</div>"
      ],
      "text/plain": [
       "                 0         1         2         3         4         5   \\\n",
       "eigvec_1   0.098047 -0.255449  0.011716  0.385259 -0.304682  0.378013   \n",
       "eigvec_2  -0.548983  0.228256 -0.544767  0.145725  0.345921  0.187898   \n",
       "eigvec_3  -0.013009  0.209078  0.013609  0.108635  0.035861  0.102093   \n",
       "eigvec_4  -0.272495 -0.764737 -0.401937 -0.065564 -0.123273 -0.155377   \n",
       "eigvec_5   0.113073 -0.406904  0.406473 -0.115673  0.436458  0.017062   \n",
       "eigvec_6  -0.025451 -0.276977  0.083501  0.204181  0.002039  0.286557   \n",
       "eigvec_7  -0.680635  0.067776  0.467023 -0.146005 -0.506165 -0.006437   \n",
       "eigvec_8   0.291817  0.077313 -0.236302  0.346224 -0.499496 -0.184277   \n",
       "eigvec_9  -0.229616 -0.031307  0.290801  0.683710  0.267842 -0.343253   \n",
       "eigvec_10  0.001969  0.015351  0.099432  0.336824  0.053324  0.468721   \n",
       "eigvec_11 -0.000167  0.005958 -0.027543  0.192539  0.015642 -0.577328   \n",
       "\n",
       "                 6         7         8         9         10  \n",
       "eigvec_1   0.384748  0.358873 -0.330299  0.381290 -0.097704  \n",
       "eigvec_2   0.159732  0.138752  0.281556  0.168673 -0.145092  \n",
       "eigvec_3   0.096280  0.018490  0.024105  0.111417  0.953842  \n",
       "eigvec_4  -0.180726  0.051753 -0.086667 -0.188118  0.239780  \n",
       "eigvec_5   0.137131  0.363733  0.533663  0.124067  0.031002  \n",
       "eigvec_6   0.164282 -0.824248  0.249639  0.150951 -0.019374  \n",
       "eigvec_7   0.059329  0.064957  0.168198 -0.020686 -0.003537  \n",
       "eigvec_8  -0.201403  0.120038  0.626359  0.047039 -0.013845  \n",
       "eigvec_9  -0.391805 -0.009403 -0.179623  0.135313 -0.023153  \n",
       "eigvec_10 -0.020195  0.119408  0.059353 -0.797293 -0.003938  \n",
       "eigvec_11  0.735342 -0.065393 -0.004183 -0.289067 -0.000724  "
      ]
     },
     "execution_count": 14,
     "metadata": {},
     "output_type": "execute_result"
    }
   ],
   "source": [
    "eigenvec_df = pd.DataFrame(eig_vectors) \n",
    "eigenvec_df.columns = ['eigvec_'+str(i+1) for i in range(0, len(eig_vectors))]\n",
    "eigenvec_df.T"
   ]
  },
  {
   "cell_type": "markdown",
   "metadata": {},
   "source": [
    "### Step-4 : Sort the eigenvalues in descending order\n"
   ]
  },
  {
   "cell_type": "code",
   "execution_count": 15,
   "metadata": {},
   "outputs": [
    {
     "name": "stdout",
     "output_type": "stream",
     "text": [
      "\n",
      "Sorted Eigen-pairs (descending order) :\n",
      "\n",
      "eigenvec_1 : 5.883\n",
      "eigenvec_2 : 2.715\n",
      "eigenvec_3 : 0.935\n",
      "eigenvec_4 : 0.624\n",
      "eigenvec_5 : 0.308\n",
      "eigenvec_6 : 0.213\n",
      "eigenvec_7 : 0.14\n",
      "eigenvec_8 : 0.078\n",
      "eigenvec_9 : 0.055\n",
      "eigenvec_10 : 0.034\n",
      "eigenvec_11 : 0.013\n",
      "\n",
      "Total Variance (sum of all eigenvalues) :  10.998\n"
     ]
    }
   ],
   "source": [
    "indexes = eig_values.argsort()[::-1]   \n",
    "eig_values = eig_values[indexes] \n",
    "eig_vectors = eig_vectors[:, indexes]\n",
    "sorted_eig_pairs = [(np.around(np.abs(eig_values[i]),3), eig_vectors[:,i]) for i in range(len(eig_values))]\n",
    "print('\\nSorted Eigen-pairs (descending order) :\\n')\n",
    "\n",
    "sorted_eigenValues = []\n",
    "for i in range(0, len(sorted_eig_pairs)):\n",
    "    print(\"eigenvec_{0} : {1}\".format(str(i+1), str(sorted_eig_pairs[i][0])))\n",
    "    sorted_eigenValues.append(sorted_eig_pairs[i][0])\n",
    "    \n",
    "print(\"\\nTotal Variance (sum of all eigenvalues) : \", round(sum(sorted_eigenValues), 3))"
   ]
  },
  {
   "cell_type": "markdown",
   "metadata": {},
   "source": [
    "## Step-5 : Decide the value of \"K\" (optimal no. of PCs)\n",
    "* PCs are the eigenvectors of a covariance matrix,"
   ]
  },
  {
   "cell_type": "markdown",
   "metadata": {},
   "source": [
    "### Method-1 : Kaiser’s Stopping Rule\n",
    "* Simply Choose all PCs whose Eigenvalues are greater than 1."
   ]
  },
  {
   "cell_type": "code",
   "execution_count": 16,
   "metadata": {},
   "outputs": [
    {
     "name": "stdout",
     "output_type": "stream",
     "text": [
      "\n",
      "According to Kaiser's Stopping Rule :\n",
      "Number of PCs to be considered for PCA is : 2\n",
      "Their Eigenvalues are : [5.883, 2.715]\n"
     ]
    }
   ],
   "source": [
    "best_eig_pairs = [sorted_eig_pairs[i][0] for i in range(0, len(sorted_eig_pairs)) if sorted_eig_pairs[i][0] > 1.0]\n",
    "print(\"\\nAccording to Kaiser's Stopping Rule :\")\n",
    "print(\"Number of PCs to be considered for PCA is : {}\".format(str(len(best_eig_pairs))))\n",
    "print(\"Their Eigenvalues are : {}\".format(str(best_eig_pairs)))"
   ]
  },
  {
   "cell_type": "markdown",
   "metadata": {},
   "source": [
    "### Method-2 : Scree Plot\n",
    "* We plot a graph b/w PCs Number (X-axis) and its captured Variance or eigenvalues (Y-axis).\n",
    "* And then we pick the K-value (number of components) where the slope starts flattening."
   ]
  },
  {
   "cell_type": "code",
   "execution_count": 17,
   "metadata": {},
   "outputs": [
    {
     "data": {
      "text/plain": [
       "<matplotlib.legend.Legend at 0x19807f80a90>"
      ]
     },
     "execution_count": 17,
     "metadata": {},
     "output_type": "execute_result"
    },
    {
     "data": {
      "image/png": "[encoded data removed]",
      "text/plain": [
       "<Figure size 720x432 with 1 Axes>"
      ]
     },
     "metadata": {
      "needs_background": "light"
     },
     "output_type": "display_data"
    }
   ],
   "source": [
    "fig = plt.figure(figsize=(10, 6))\n",
    "plt.title(\"Scree Plot (components variance)\", color='Red', fontsize=20)\n",
    "plt.xticks(np.arange(1, 12, 1))\n",
    "plt.xlim(0, 12)\n",
    "plt.ylim(0, 3.5)\n",
    "plt.ylabel(\"Eigenvalues\", fontsize=17, color='blue')\n",
    "plt.xlabel(\"Component Number (K-values)\", fontsize=17, color='blue')\n",
    "plt.grid(linestyle='--')\n",
    "plt.plot(range(1, 12), sorted_eigenValues, linestyle='-', label=\"Eigenvalues\", marker='o', markersize=8)\n",
    "plt.plot([5.6, 6.4], [0.65, 0.65], color='red', linestyle='-', lw=3, label=\"Optimal K value to be Considered\")\n",
    "plt.legend(loc=1, prop={'size': 13})"
   ]
  },
  {
   "cell_type": "markdown",
   "metadata": {},
   "source": [
    "### Method-3 : Cumulative Variance Plot\n",
    "* To find the variance explained by each component : We should divide each component’s eigenvalue by the sum of all eigenvalues.\n",
    "\n",
    "* To find the cumulative variance explained by a component C3 : We should add the variance explained by components (C1, C2, C3). image.png"
   ]
  },
  {
   "cell_type": "code",
   "execution_count": 18,
   "metadata": {},
   "outputs": [
    {
     "name": "stdout",
     "output_type": "stream",
     "text": [
      "\n",
      "Cumulative Variance Percentage : \n"
     ]
    },
    {
     "data": {
      "text/plain": [
       "{'1': 53.492,\n",
       " '2': 78.178,\n",
       " '3': 86.679,\n",
       " '4': 92.353,\n",
       " '5': 95.154,\n",
       " '6': 97.09,\n",
       " '7': 98.363,\n",
       " '8': 99.073,\n",
       " '9': 99.573,\n",
       " '10': 99.882,\n",
       " '11': 100.0}"
      ]
     },
     "execution_count": 18,
     "metadata": {},
     "output_type": "execute_result"
    }
   ],
   "source": [
    "cumulative_variance = {}\n",
    "ith_cumulative_variance = 0\n",
    "for i in range(0, len(sorted_eig_pairs)):\n",
    "    ith_explained_variance = sorted_eig_pairs[i][0]/sum(sorted_eigenValues)\n",
    "    # print(ith_explained_variance)\n",
    "    ith_cumulative_variance += ith_explained_variance\n",
    "    cumulative_variance[str(i+1)] = round(ith_cumulative_variance*100, 3)\n",
    "\n",
    "print(\"\\nCumulative Variance Percentage : \")\n",
    "cumulative_variance"
   ]
  },
  {
   "cell_type": "code",
   "execution_count": 19,
   "metadata": {},
   "outputs": [
    {
     "data": {
      "text/plain": [
       "<matplotlib.legend.Legend at 0x198081252b0>"
      ]
     },
     "execution_count": 19,
     "metadata": {},
     "output_type": "execute_result"
    },
    {
     "data": {
      "image/png": "[encoded data removed]",
      "text/plain": [
       "<Figure size 720x432 with 1 Axes>"
      ]
     },
     "metadata": {
      "needs_background": "light"
     },
     "output_type": "display_data"
    }
   ],
   "source": [
    "fig = plt.figure(figsize=(10, 6))\n",
    "plt.title(\" % of Cumulative Variance Explained \", color='Red', fontsize=20)\n",
    "plt.xticks(np.arange(1, 12, 1))\n",
    "plt.xlim(0.5, 12)\n",
    "plt.ylim(20, 109) #0.2, 1.2)\n",
    "plt.ylabel(\"% of Cumulative Variance\", fontsize=17, color='blue')\n",
    "plt.xlabel(\"Component Number (K-values)\", fontsize=17, color='blue')\n",
    "plt.grid(linestyle='--')\n",
    "plt.plot(range(1, 12),sorted(cumulative_variance.values()), linestyle='-', label=\"Cumulative Variance Explained\", marker='o', markersize=8)\n",
    "# plt.plot([5.6, 6.4], [0.65, 0.65], color='red', linestyle='-', lw=3, label=\"Optimal K value to be Considered\")\n",
    "plt.legend(loc=1, prop={'size': 13})"
   ]
  },
  {
   "cell_type": "markdown",
   "metadata": {},
   "source": [
    "### Step-6 : Projection matrix construction\n",
    "* Based on decided \"K\" value, the \"K\" number of eigen vectors placed together will give us Projection matrix.(Pm)"
   ]
  },
  {
   "cell_type": "code",
   "execution_count": 20,
   "metadata": {},
   "outputs": [
    {
     "name": "stdout",
     "output_type": "stream",
     "text": [
      "\n",
      "Projection-Matrix Dimension ...  (3, 11)\n"
     ]
    },
    {
     "data": {
      "text/plain": [
       "array([[ 0.09804731, -0.25544899,  0.01171553,  0.38525869, -0.30468175,\n",
       "         0.3780132 ,  0.3847476 ,  0.3588731 , -0.33029893,  0.38129005,\n",
       "        -0.09770353],\n",
       "       [-0.5489832 ,  0.22825627, -0.54476736,  0.14572505,  0.34592073,\n",
       "         0.18789769,  0.15973221,  0.13875181,  0.28155625,  0.1686731 ,\n",
       "        -0.14509162],\n",
       "       [-0.013009  ,  0.20907756,  0.01360918,  0.10863506,  0.03586081,\n",
       "         0.10209344,  0.09627961,  0.01849046,  0.02410485,  0.11141667,\n",
       "         0.95384229]])"
      ]
     },
     "execution_count": 20,
     "metadata": {},
     "output_type": "execute_result"
    }
   ],
   "source": [
    "K = 3\n",
    "projection_matrix = np.array([list(np.hstack(i[1].reshape(11,1))) for i in sorted_eig_pairs[:]])\n",
    "projection_matrix = projection_matrix[:K]\n",
    "print(\"\\nProjection-Matrix Dimension ... \", projection_matrix.shape)\n",
    "projection_matrix"
   ]
  },
  {
   "cell_type": "markdown",
   "metadata": {},
   "source": [
    "## Projection Matrix as Dataframe\n",
    "Each PC in Projection Matrox depicts an axis of new feature space where we would be projecting our original dataset."
   ]
  },
  {
   "cell_type": "code",
   "execution_count": 21,
   "metadata": {},
   "outputs": [
    {
     "data": {
      "text/html": [
       "<div>\n",
       "<style scoped>\n",
       "    .dataframe tbody tr th:only-of-type {\n",
       "        vertical-align: middle;\n",
       "    }\n",
       "\n",
       "    .dataframe tbody tr th {\n",
       "        vertical-align: top;\n",
       "    }\n",
       "\n",
       "    .dataframe thead th {\n",
       "        text-align: right;\n",
       "    }\n",
       "</style>\n",
       "<table border=\"1\" class=\"dataframe\">\n",
       "  <thead>\n",
       "    <tr style=\"text-align: right;\">\n",
       "      <th></th>\n",
       "      <th>1</th>\n",
       "      <th>2</th>\n",
       "      <th>3</th>\n",
       "      <th>4</th>\n",
       "      <th>5</th>\n",
       "      <th>6</th>\n",
       "      <th>7</th>\n",
       "      <th>8</th>\n",
       "      <th>9</th>\n",
       "      <th>10</th>\n",
       "      <th>11</th>\n",
       "    </tr>\n",
       "  </thead>\n",
       "  <tbody>\n",
       "    <tr>\n",
       "      <th>PC1</th>\n",
       "      <td>0.098047</td>\n",
       "      <td>-0.255449</td>\n",
       "      <td>0.011716</td>\n",
       "      <td>0.385259</td>\n",
       "      <td>-0.304682</td>\n",
       "      <td>0.378013</td>\n",
       "      <td>0.384748</td>\n",
       "      <td>0.358873</td>\n",
       "      <td>-0.330299</td>\n",
       "      <td>0.381290</td>\n",
       "      <td>-0.097704</td>\n",
       "    </tr>\n",
       "    <tr>\n",
       "      <th>PC2</th>\n",
       "      <td>-0.548983</td>\n",
       "      <td>0.228256</td>\n",
       "      <td>-0.544767</td>\n",
       "      <td>0.145725</td>\n",
       "      <td>0.345921</td>\n",
       "      <td>0.187898</td>\n",
       "      <td>0.159732</td>\n",
       "      <td>0.138752</td>\n",
       "      <td>0.281556</td>\n",
       "      <td>0.168673</td>\n",
       "      <td>-0.145092</td>\n",
       "    </tr>\n",
       "    <tr>\n",
       "      <th>PC3</th>\n",
       "      <td>-0.013009</td>\n",
       "      <td>0.209078</td>\n",
       "      <td>0.013609</td>\n",
       "      <td>0.108635</td>\n",
       "      <td>0.035861</td>\n",
       "      <td>0.102093</td>\n",
       "      <td>0.096280</td>\n",
       "      <td>0.018490</td>\n",
       "      <td>0.024105</td>\n",
       "      <td>0.111417</td>\n",
       "      <td>0.953842</td>\n",
       "    </tr>\n",
       "  </tbody>\n",
       "</table>\n",
       "</div>"
      ],
      "text/plain": [
       "            1         2         3         4         5         6         7  \\\n",
       "PC1  0.098047 -0.255449  0.011716  0.385259 -0.304682  0.378013  0.384748   \n",
       "PC2 -0.548983  0.228256 -0.544767  0.145725  0.345921  0.187898  0.159732   \n",
       "PC3 -0.013009  0.209078  0.013609  0.108635  0.035861  0.102093  0.096280   \n",
       "\n",
       "            8         9        10        11  \n",
       "PC1  0.358873 -0.330299  0.381290 -0.097704  \n",
       "PC2  0.138752  0.281556  0.168673 -0.145092  \n",
       "PC3  0.018490  0.024105  0.111417  0.953842  "
      ]
     },
     "execution_count": 21,
     "metadata": {},
     "output_type": "execute_result"
    }
   ],
   "source": [
    "projection_matrix_df = pd.DataFrame(projection_matrix) \n",
    "projection_matrix_df.columns = [str(i+1) for i in range(0, len(eig_vectors))]\n",
    "projection_matrix_df = projection_matrix_df.set_index([pd.Index(['PC1', 'PC2', 'PC3'])])#, 'PC4', 'PC5', 'PC6'\n",
    "projection_matrix_df"
   ]
  },
  {
   "cell_type": "markdown",
   "metadata": {},
   "source": [
    "## Step-7 : Transformation of original dataset to new feature space\n",
    "* We will transform \"N\" dimensional orginal dataset \"X\" to project it into new feature space \"Y\".\n",
    "* This will be done using projection matrix \"Pm\" obtained above.\n",
    "* Formula :  Y= X  ∗ (Pm)\n",
    "* Transformed Data = Feature matrix( or Original dataset) * top k eigenvectors"
   ]
  },
  {
   "cell_type": "code",
   "execution_count": 22,
   "metadata": {},
   "outputs": [
    {
     "data": {
      "text/html": [
       "<div>\n",
       "<style scoped>\n",
       "    .dataframe tbody tr th:only-of-type {\n",
       "        vertical-align: middle;\n",
       "    }\n",
       "\n",
       "    .dataframe tbody tr th {\n",
       "        vertical-align: top;\n",
       "    }\n",
       "\n",
       "    .dataframe thead th {\n",
       "        text-align: right;\n",
       "    }\n",
       "</style>\n",
       "<table border=\"1\" class=\"dataframe\">\n",
       "  <thead>\n",
       "    <tr style=\"text-align: right;\">\n",
       "      <th></th>\n",
       "      <th>PC1</th>\n",
       "      <th>PC2</th>\n",
       "      <th>PC3</th>\n",
       "    </tr>\n",
       "  </thead>\n",
       "  <tbody>\n",
       "    <tr>\n",
       "      <th>0</th>\n",
       "      <td>-3.398520</td>\n",
       "      <td>2.499091</td>\n",
       "      <td>0.178797</td>\n",
       "    </tr>\n",
       "    <tr>\n",
       "      <th>1</th>\n",
       "      <td>-3.403833</td>\n",
       "      <td>2.489971</td>\n",
       "      <td>0.105971</td>\n",
       "    </tr>\n",
       "    <tr>\n",
       "      <th>2</th>\n",
       "      <td>-3.451285</td>\n",
       "      <td>2.485884</td>\n",
       "      <td>0.033656</td>\n",
       "    </tr>\n",
       "    <tr>\n",
       "      <th>3</th>\n",
       "      <td>-3.515515</td>\n",
       "      <td>2.479439</td>\n",
       "      <td>-0.027975</td>\n",
       "    </tr>\n",
       "    <tr>\n",
       "      <th>4</th>\n",
       "      <td>-3.560541</td>\n",
       "      <td>2.492715</td>\n",
       "      <td>-0.047035</td>\n",
       "    </tr>\n",
       "    <tr>\n",
       "      <th>...</th>\n",
       "      <td>...</td>\n",
       "      <td>...</td>\n",
       "      <td>...</td>\n",
       "    </tr>\n",
       "    <tr>\n",
       "      <th>13852</th>\n",
       "      <td>0.962859</td>\n",
       "      <td>-2.179569</td>\n",
       "      <td>-2.287310</td>\n",
       "    </tr>\n",
       "    <tr>\n",
       "      <th>13853</th>\n",
       "      <td>0.938350</td>\n",
       "      <td>-2.179777</td>\n",
       "      <td>-2.362097</td>\n",
       "    </tr>\n",
       "    <tr>\n",
       "      <th>13854</th>\n",
       "      <td>0.894981</td>\n",
       "      <td>-2.185274</td>\n",
       "      <td>-2.387264</td>\n",
       "    </tr>\n",
       "    <tr>\n",
       "      <th>13855</th>\n",
       "      <td>0.858602</td>\n",
       "      <td>-2.230196</td>\n",
       "      <td>-2.407852</td>\n",
       "    </tr>\n",
       "    <tr>\n",
       "      <th>13856</th>\n",
       "      <td>0.831630</td>\n",
       "      <td>-2.309509</td>\n",
       "      <td>-2.459917</td>\n",
       "    </tr>\n",
       "  </tbody>\n",
       "</table>\n",
       "<p>13857 rows × 3 columns</p>\n",
       "</div>"
      ],
      "text/plain": [
       "            PC1       PC2       PC3\n",
       "0     -3.398520  2.499091  0.178797\n",
       "1     -3.403833  2.489971  0.105971\n",
       "2     -3.451285  2.485884  0.033656\n",
       "3     -3.515515  2.479439 -0.027975\n",
       "4     -3.560541  2.492715 -0.047035\n",
       "...         ...       ...       ...\n",
       "13852  0.962859 -2.179569 -2.287310\n",
       "13853  0.938350 -2.179777 -2.362097\n",
       "13854  0.894981 -2.185274 -2.387264\n",
       "13855  0.858602 -2.230196 -2.407852\n",
       "13856  0.831630 -2.309509 -2.459917\n",
       "\n",
       "[13857 rows x 3 columns]"
      ]
     },
     "execution_count": 22,
     "metadata": {},
     "output_type": "execute_result"
    }
   ],
   "source": [
    "DR_X.shape\n",
    "transformedData = (DR_X).dot(projection_matrix.T)\n",
    "transformedData.columns = ['PC'+str(i+1) for i in range(0, K)]\n",
    "transformedData"
   ]
  },
  {
   "cell_type": "code",
   "execution_count": 23,
   "metadata": {},
   "outputs": [
    {
     "data": {
      "image/png": "[encoded data removed]",
      "text/plain": [
       "<Figure size 432x288 with 2 Axes>"
      ]
     },
     "metadata": {
      "needs_background": "light"
     },
     "output_type": "display_data"
    }
   ],
   "source": [
    "# two dimensions\n",
    "\n",
    "fig, ax = plt.subplots()\n",
    "plt.scatter(transformedData[ 'PC1']\n",
    "               , transformedData[ 'PC2']\n",
    "              , c=dataset1['RHOB'], cmap='inferno', alpha=0.7)\n",
    "plt.xlabel('Principal Component 1', fontsize = 15)\n",
    "plt.ylabel('Principal Component 2', fontsize = 15)\n",
    "plt.title('2 component PCA', fontsize = 20)\n",
    "\n",
    "# plt.colorbar()\n",
    "cbar = plt.colorbar()\n",
    "cbar.set_label('RHOB')\n",
    "plt.grid('on')\n"
   ]
  },
  {
   "cell_type": "code",
   "execution_count": 24,
   "metadata": {},
   "outputs": [
    {
     "data": {
      "image/png": "[encoded data removed]",
      "text/plain": [
       "<Figure size 432x288 with 2 Axes>"
      ]
     },
     "metadata": {
      "needs_background": "light"
     },
     "output_type": "display_data"
    }
   ],
   "source": [
    "# two dimensions\n",
    "\n",
    "fig, ax = plt.subplots()\n",
    "plt.scatter(transformedData[ 'PC2']\n",
    "               , transformedData[ 'PC3']\n",
    "              , c=dataset1['RHOB'], cmap='inferno', alpha=0.7)\n",
    "plt.xlabel('Principal Component 1', fontsize = 15)\n",
    "plt.ylabel('Principal Component 2', fontsize = 15)\n",
    "plt.title('2 component PCA', fontsize = 20)\n",
    "\n",
    "# plt.colorbar()\n",
    "cbar = plt.colorbar()\n",
    "cbar.set_label('RHOB')\n",
    "plt.grid('on')\n"
   ]
  },
  {
   "cell_type": "code",
   "execution_count": 43,
   "metadata": {},
   "outputs": [
    {
     "data": {
      "image/png": "[encoded data removed]",
      "text/plain": [
       "<Figure size 576x576 with 1 Axes>"
      ]
     },
     "metadata": {
      "needs_background": "light"
     },
     "output_type": "display_data"
    }
   ],
   "source": [
    "# for a 3 dimension\n",
    "\n",
    "fig = plt.figure(figsize = (8,8))\n",
    "ax = plt.axes(projection=\"3d\")\n",
    "# ax = fig.add_subplot() \n",
    "ax.set_xlabel('Principal Component 1', fontsize = 15)\n",
    "ax.set_ylabel('Principal Component 2', fontsize = 15)\n",
    "ax.set_zlabel('Principal Component 3', fontsize = 15)\n",
    "ax.set_title('3 component PCA', fontsize = 20)\n",
    "ax.scatter3D(transformedData[ 'PC1'],transformedData[ 'PC2'], transformedData[ 'PC3'], 'gray')\n",
    "plt.show()"
   ]
  },
  {
   "cell_type": "code",
   "execution_count": 44,
   "metadata": {},
   "outputs": [],
   "source": [
    "# datframe to excel\n",
    "transformedData.to_excel('Feature_extracts.xlsx',sheet_name='PCAs')"
   ]
  },
  {
   "cell_type": "code",
   "execution_count": 36,
   "metadata": {},
   "outputs": [],
   "source": [
    "vertical_concat = pd.concat([pd_data1_Sd['RHOB'], dataset1['RHOB']], axis=1)\n",
    "\n",
    "vertical_concat.to_excel('Feature_targets.xlsx',sheet_name='RHOB')"
   ]
  },
  {
   "cell_type": "code",
   "execution_count": 34,
   "metadata": {},
   "outputs": [
    {
     "ename": "ValueError",
     "evalue": "Append mode is not supported with xlsxwriter!",
     "output_type": "error",
     "traceback": [
      "\u001b[1;31m---------------------------------------------------------------------------\u001b[0m",
      "\u001b[1;31mValueError\u001b[0m                                Traceback (most recent call last)",
      "\u001b[1;32m<ipython-input-34-c0ebd6df9d2d>\u001b[0m in \u001b[0;36m<module>\u001b[1;34m\u001b[0m\n\u001b[0;32m     15\u001b[0m \u001b[0mvertical_concat\u001b[0m\u001b[1;33m\u001b[0m\u001b[1;33m\u001b[0m\u001b[0m\n\u001b[0;32m     16\u001b[0m \u001b[1;33m\u001b[0m\u001b[0m\n\u001b[1;32m---> 17\u001b[1;33m with pd.ExcelWriter('Feature_extracts.xlsx',\n\u001b[0m\u001b[0;32m     18\u001b[0m                     mode='a') as writer:  \n\u001b[0;32m     19\u001b[0m     vertical_concat.to_excel(#writer,\n",
      "\u001b[1;32mD:\\anaconda3\\lib\\site-packages\\pandas\\io\\excel\\_xlsxwriter.py\u001b[0m in \u001b[0;36m__init__\u001b[1;34m(self, path, engine, date_format, datetime_format, mode, **engine_kwargs)\u001b[0m\n\u001b[0;32m    174\u001b[0m \u001b[1;33m\u001b[0m\u001b[0m\n\u001b[0;32m    175\u001b[0m         \u001b[1;32mif\u001b[0m \u001b[0mmode\u001b[0m \u001b[1;33m==\u001b[0m \u001b[1;34m\"a\"\u001b[0m\u001b[1;33m:\u001b[0m\u001b[1;33m\u001b[0m\u001b[1;33m\u001b[0m\u001b[0m\n\u001b[1;32m--> 176\u001b[1;33m             \u001b[1;32mraise\u001b[0m \u001b[0mValueError\u001b[0m\u001b[1;33m(\u001b[0m\u001b[1;34m\"Append mode is not supported with xlsxwriter!\"\u001b[0m\u001b[1;33m)\u001b[0m\u001b[1;33m\u001b[0m\u001b[1;33m\u001b[0m\u001b[0m\n\u001b[0m\u001b[0;32m    177\u001b[0m \u001b[1;33m\u001b[0m\u001b[0m\n\u001b[0;32m    178\u001b[0m         super().__init__(\n",
      "\u001b[1;31mValueError\u001b[0m: Append mode is not supported with xlsxwriter!"
     ]
    }
   ],
   "source": [
    "# ExcelWriter can also be used to append to an existing Excel file:\n",
    "\n",
    "# pd_data1_Sd['RHOB']\n",
    "# to_target= dataset1['RHOB'].concatenat\n",
    "\n",
    "\n",
    "to_target = pd_data1_Sd['RHOB'] + dataset1['RHOB']\n",
    "\n",
    "\n",
    "# concatenating df1 and df2 along rows\n",
    "vertical_concat = pd.concat([pd_data1_Sd['RHOB'], dataset1['RHOB']], axis=1)\n",
    "\n",
    "# = pd.DataFrame(pd_data1_Sd['RHOB'], dataset1['RHOB'])\n",
    "\n",
    "vertical_concat\n",
    "\n",
    "with pd.ExcelWriter('Feature_extracts.xlsx',\n",
    "                    mode='a') as writer:  \n",
    "    vertical_concat.to_excel(#writer,\n",
    "                             sheet_name='target' ,engine='xlsxwriter')\n",
    "\n",
    "# dataset1['RHOB']\n",
    "\n",
    "# pd_data1_Sd['RHOB']"
   ]
  },
  {
   "cell_type": "code",
   "execution_count": null,
   "metadata": {},
   "outputs": [],
   "source": []
  },
  {
   "cell_type": "code",
   "execution_count": null,
   "metadata": {},
   "outputs": [],
   "source": []
  },
  {
   "cell_type": "markdown",
   "metadata": {},
   "source": [
    "# Data selection\n",
    "### Split the data into train and test"
   ]
  },
  {
   "cell_type": "code",
   "execution_count": null,
   "metadata": {},
   "outputs": [],
   "source": [
    "# the 'sample' method takes a certain fraction randomly\n",
    "#Note that we use `random_state` to ensure the reproducibility of the examples.\n",
    "train_dataset = dataset.sample(frac=0.7, random_state=0)\n",
    "test_dataset = dataset.drop(train_dataset.index)"
   ]
  },
  {
   "cell_type": "code",
   "execution_count": null,
   "metadata": {},
   "outputs": [],
   "source": [
    "# Inspect the data\n",
    "# Have a quick look at the joint distribution of a few pairs of columns from the training set.\n",
    "# (   ) is a function of all the other parameters. Looking at the other rows it should be clear that they are functions of each other\n",
    "\n",
    "sns.pairplot(train_dataset[column_names], diag_kind='kde')"
   ]
  },
  {
   "cell_type": "code",
   "execution_count": null,
   "metadata": {},
   "outputs": [],
   "source": [
    "train_dataset.describe().transpose()"
   ]
  },
  {
   "cell_type": "code",
   "execution_count": null,
   "metadata": {},
   "outputs": [],
   "source": []
  },
  {
   "cell_type": "code",
   "execution_count": null,
   "metadata": {},
   "outputs": [],
   "source": [
    "Splitting the train and test data into input and target"
   ]
  },
  {
   "cell_type": "code",
   "execution_count": null,
   "metadata": {},
   "outputs": [],
   "source": [
    "\n",
    "# split datat into input and target\n",
    "\n",
    "\n",
    "\n",
    "train_input = train_dataset.copy()\n",
    "test_input = test_dataset.copy()\n",
    "\n",
    "train_target = train_input.pop('RHOB')\n",
    "test_target = test_input.pop('RHOB')\n",
    "\n",
    "\n"
   ]
  },
  {
   "cell_type": "code",
   "execution_count": null,
   "metadata": {},
   "outputs": [],
   "source": [
    "\n",
    "train_input.head()\n",
    "# type(train_input)"
   ]
  },
  {
   "cell_type": "code",
   "execution_count": null,
   "metadata": {},
   "outputs": [],
   "source": [
    "# let's invitigate the kde in the target and trainings\n",
    "\n",
    "df_train = pd.DataFrame(train_target, columns=['RHOB'])\n",
    "df_train['type'] = 'train'\n",
    "\n",
    "df_test = pd.DataFrame(test_target, columns=['RHOB'])\n",
    "df_test['type'] = 'test'\n",
    "\n",
    "df_set = df_train.append(df_test)\n",
    "\n",
    "_ = sns.displot(df_set, x=\"RHOB\" ,hue=\"type\", kind=\"kde\", log_scale=False)"
   ]
  },
  {
   "cell_type": "code",
   "execution_count": null,
   "metadata": {},
   "outputs": [],
   "source": []
  },
  {
   "cell_type": "code",
   "execution_count": null,
   "metadata": {},
   "outputs": [],
   "source": []
  },
  {
   "cell_type": "markdown",
   "metadata": {},
   "source": [
    "# auxillarys\n"
   ]
  },
  {
   "cell_type": "code",
   "execution_count": null,
   "metadata": {},
   "outputs": [],
   "source": [
    "# open images in notebook\n",
    "from IPython.display import Image\n",
    "Image(filename ='./images/metricsFormulae.PNG')"
   ]
  },
  {
   "cell_type": "code",
   "execution_count": null,
   "metadata": {},
   "outputs": [],
   "source": []
  }
 ],
 "metadata": {
  "kernelspec": {
   "display_name": "Python 3",
   "language": "python",
   "name": "python3"
  },
  "language_info": {
   "codemirror_mode": {
    "name": "ipython",
    "version": 3
   },
   "file_extension": ".py",
   "mimetype": "text/x-python",
   "name": "python",
   "nbconvert_exporter": "python",
   "pygments_lexer": "ipython3",
   "version": "3.8.5"
  },
  "varInspector": {
   "cols": {
    "lenName": 16,
    "lenType": 16,
    "lenVar": 40
   },
   "kernels_config": {
    "python": {
     "delete_cmd_postfix": "",
     "delete_cmd_prefix": "del ",
     "library": "var_list.py",
     "varRefreshCmd": "print(var_dic_list())"
    },
    "r": {
     "delete_cmd_postfix": ") ",
     "delete_cmd_prefix": "rm(",
     "library": "var_list.r",
     "varRefreshCmd": "cat(var_dic_list()) "
    }
   },
   "types_to_exclude": [
    "module",
    "function",
    "builtin_function_or_method",
    "instance",
    "_Feature"
   ],
   "window_display": false
  }
 },
 "nbformat": 4,
 "nbformat_minor": 4
}
