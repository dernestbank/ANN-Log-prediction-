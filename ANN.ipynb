{
 "cells": [
  {
   "cell_type": "code",
   "execution_count": null,
   "metadata": {},
   "outputs": [],
   "source": []
  },
  {
   "cell_type": "code",
   "execution_count": 1,
   "metadata": {},
   "outputs": [],
   "source": [
    "import numpy as np\n",
    "import pandas as pd\n",
    "import matplotlib.pyplot as plt\n",
    "import seaborn as sns\n",
    "\n",
    "import tensorflow as tf\n",
    "\n",
    "from tensorflow import keras\n",
    "from tensorflow.keras import layers\n",
    "from tensorflow.keras.layers.experimental import preprocessing\n",
    "\n",
    "from sklearn import datasets, metrics, model_selection\n"
   ]
  },
  {
   "cell_type": "code",
   "execution_count": 2,
   "metadata": {},
   "outputs": [],
   "source": [
    "# Load the TensorBoard notebook extension\n",
    "%load_ext tensorboard\n",
    "\n",
    "import datetime\n",
    "\n",
    "log_folder = \"logs/ANN/fit/\" + datetime.datetime.now().strftime(\"%Y%m%d-%H%M%S\")\n"
   ]
  },
  {
   "cell_type": "code",
   "execution_count": 3,
   "metadata": {},
   "outputs": [],
   "source": [
    "# read data\n",
    "\n",
    "xlsx = pd.ExcelFile('./Data/Outliers_out.xlsx')\n",
    "df = pd.read_excel(xlsx, '1x 5s')\n",
    "dataset= df.copy()"
   ]
  },
  {
   "cell_type": "markdown",
   "metadata": {},
   "source": [
    "#### Split the data into train and test"
   ]
  },
  {
   "cell_type": "code",
   "execution_count": 4,
   "metadata": {},
   "outputs": [],
   "source": [
    "# the 'sample' method takes a certain fraction randomly\n",
    "#Note that we use `random_state` to ensure the reproducibility of the examples.\n",
    "train_dataset = dataset.sample(frac=0.7, random_state=0)\n",
    "test_dataset = dataset.drop(train_dataset.index)"
   ]
  },
  {
   "cell_type": "code",
   "execution_count": 5,
   "metadata": {},
   "outputs": [],
   "source": [
    "\n",
    "# split datat into input and target\n",
    "\n",
    "train_input = train_dataset.copy()\n",
    "test_input = test_dataset.copy()\n",
    "\n",
    "train_target = train_input.pop('RHOB')\n",
    "test_target = test_input.pop('RHOB')\n",
    "\n"
   ]
  },
  {
   "cell_type": "markdown",
   "metadata": {},
   "source": [
    " normalizer = preprocessing.Normalization()\n",
    "\n",
    " #then adapt it to the data\n",
    " normalizer.adapt(np.array(train_input))\n",
    "\n",
    "  #This calculates the mean and variance, and stores them in the layer.\n",
    " print(normalizer.mean.numpy())\n",
    "\n",
    "# Create Model"
   ]
  },
  {
   "cell_type": "code",
   "execution_count": 6,
   "metadata": {},
   "outputs": [
    {
     "name": "stdout",
     "output_type": "stream",
     "text": [
      "Model: \"sequential\"\n",
      "_________________________________________________________________\n",
      "Layer (type)                 Output Shape              Param #   \n",
      "=================================================================\n",
      "normalization (Normalization (None, 5)                 11        \n",
      "_________________________________________________________________\n",
      "dense (Dense)                (None, 64)                384       \n",
      "_________________________________________________________________\n",
      "dense_1 (Dense)              (None, 64)                4160      \n",
      "_________________________________________________________________\n",
      "dense_2 (Dense)              (None, 1)                 65        \n",
      "=================================================================\n",
      "Total params: 4,620\n",
      "Trainable params: 4,609\n",
      "Non-trainable params: 11\n",
      "_________________________________________________________________\n"
     ]
    }
   ],
   "source": [
    "# A function to hold preprocessor, layers, model and compiler \n",
    "def FFBackProp(inputs, output):\n",
    "    #normalization\n",
    "    normalizer=preprocessing.Normalization()\n",
    "    #then adapt it to the data\n",
    "    normalizer.adapt(np.array(inputs))\n",
    "    \n",
    "    \n",
    "    #  Create layers\n",
    "    l0=normalizer\n",
    "    #Dense layers using the relu nonlinearity. #with an l2 regularization to reduce overfitting by reducing weight size\n",
    "    l1=tf.keras.layers.Dense(64,activation=\"relu\", input_shape=(5,), kernel_regularizer=\"l2\")\n",
    "    \n",
    "    d0=layers.Dropout(0.1), #a droput layer # an attempt to reduce overfitting\n",
    "    \n",
    "    l2=tf.keras.layers.Dense(64,activation=\"relu\", kernel_regularizer=\"l2\")\n",
    "    \n",
    "    d1=layers.Dropout(0.1),\n",
    "    \n",
    "    #A linear output layer\n",
    "    l3=tf.keras.layers.Dense(1)\n",
    "    \n",
    "    \n",
    "#     create the model with the layers formed\n",
    "    model1 =tf.keras.models.Sequential([l0,l1,d0,l2,d1,l3])\n",
    "    \n",
    "    \n",
    "#     compile the model\n",
    "    model1.compile(optimizer='adam',\n",
    "                loss='mean_absolute_error', #(from_logits=True),\n",
    "                metrics=[\"mse\"]\n",
    "               )\n",
    "    \n",
    "    model1.summary()\n",
    "    \n",
    "    return model1\n",
    "    \n",
    "myFFBP= FFBackProp(train_input,train_target)\n"
   ]
  },
  {
   "cell_type": "markdown",
   "metadata": {},
   "source": [
    "# Training"
   ]
  },
  {
   "cell_type": "code",
   "execution_count": 7,
   "metadata": {},
   "outputs": [
    {
     "name": "stdout",
     "output_type": "stream",
     "text": [
      "Wall time: 20.5 s\n"
     ]
    }
   ],
   "source": [
    "%%time\n",
    "# tb_callback = tf.keras.callbacks.TensorBoard(log_dir=\"log_folder/ANN\", histogram_freq=1)\n",
    "\n",
    "tb_callback = tf.keras.callbacks.TensorBoard(log_dir=log_folder,\n",
    "                                            histogram_freq=1,\n",
    "                                            write_graph=True,\n",
    "                                            write_images=True,\n",
    "                                            update_freq='epoch',\n",
    "                                            profile_batch=2,\n",
    "                                            embeddings_freq=1)\n",
    "\n",
    "\n",
    "myFFBPtraining = myFFBP.fit(\n",
    "    train_input, train_target,\n",
    "    # Calculate validation results on 30% of the training data\n",
    "    validation_split=0.3,\n",
    "     \n",
    "    \n",
    "    validation_data=(test_input, test_target)\n",
    "    \n",
    "    \n",
    "    # suppress logging\n",
    "    verbose=0,\n",
    "    epochs=100,\n",
    "    \n",
    "\n",
    "    #early stopping\n",
    "    #an attempt to prevent overfitting\n",
    "    #the fuction to stop the trianing by tracking the validation loss\n",
    "    #callbacks= keras.callbacks.EarlyStopping(monitor='val_loss',patience=5)\n",
    "    \n",
    "    #to store callbacks in logs\n",
    "    callbacks =[tb_callback]\n",
    ")"
   ]
  },
  {
   "cell_type": "code",
   "execution_count": 8,
   "metadata": {},
   "outputs": [
    {
     "data": {
      "text/plain": [
       "[0.07640989869832993, 0.009657801128923893]"
      ]
     },
     "execution_count": 8,
     "metadata": {},
     "output_type": "execute_result"
    }
   ],
   "source": [
    "myFFBP.evaluate(test_input, test_target, callbacks=[tb_callback], verbose=0, )"
   ]
  },
  {
   "cell_type": "code",
   "execution_count": 9,
   "metadata": {},
   "outputs": [
    {
     "data": {
      "text/html": [
       "<div>\n",
       "<style scoped>\n",
       "    .dataframe tbody tr th:only-of-type {\n",
       "        vertical-align: middle;\n",
       "    }\n",
       "\n",
       "    .dataframe tbody tr th {\n",
       "        vertical-align: top;\n",
       "    }\n",
       "\n",
       "    .dataframe thead th {\n",
       "        text-align: right;\n",
       "    }\n",
       "</style>\n",
       "<table border=\"1\" class=\"dataframe\">\n",
       "  <thead>\n",
       "    <tr style=\"text-align: right;\">\n",
       "      <th></th>\n",
       "      <th>loss</th>\n",
       "      <th>mse</th>\n",
       "      <th>val_loss</th>\n",
       "      <th>val_mse</th>\n",
       "      <th>epoch</th>\n",
       "    </tr>\n",
       "  </thead>\n",
       "  <tbody>\n",
       "    <tr>\n",
       "      <th>95</th>\n",
       "      <td>0.073971</td>\n",
       "      <td>0.009590</td>\n",
       "      <td>0.076705</td>\n",
       "      <td>0.010224</td>\n",
       "      <td>95</td>\n",
       "    </tr>\n",
       "    <tr>\n",
       "      <th>96</th>\n",
       "      <td>0.074605</td>\n",
       "      <td>0.009456</td>\n",
       "      <td>0.075391</td>\n",
       "      <td>0.009689</td>\n",
       "      <td>96</td>\n",
       "    </tr>\n",
       "    <tr>\n",
       "      <th>97</th>\n",
       "      <td>0.074373</td>\n",
       "      <td>0.009476</td>\n",
       "      <td>0.075664</td>\n",
       "      <td>0.009912</td>\n",
       "      <td>97</td>\n",
       "    </tr>\n",
       "    <tr>\n",
       "      <th>98</th>\n",
       "      <td>0.073872</td>\n",
       "      <td>0.009309</td>\n",
       "      <td>0.074540</td>\n",
       "      <td>0.009459</td>\n",
       "      <td>98</td>\n",
       "    </tr>\n",
       "    <tr>\n",
       "      <th>99</th>\n",
       "      <td>0.073912</td>\n",
       "      <td>0.009414</td>\n",
       "      <td>0.077340</td>\n",
       "      <td>0.010073</td>\n",
       "      <td>99</td>\n",
       "    </tr>\n",
       "  </tbody>\n",
       "</table>\n",
       "</div>"
      ],
      "text/plain": [
       "        loss       mse  val_loss   val_mse  epoch\n",
       "95  0.073971  0.009590  0.076705  0.010224     95\n",
       "96  0.074605  0.009456  0.075391  0.009689     96\n",
       "97  0.074373  0.009476  0.075664  0.009912     97\n",
       "98  0.073872  0.009309  0.074540  0.009459     98\n",
       "99  0.073912  0.009414  0.077340  0.010073     99"
      ]
     },
     "execution_count": 9,
     "metadata": {},
     "output_type": "execute_result"
    }
   ],
   "source": [
    "\n",
    "hist = pd.DataFrame(myFFBPtraining.history)\n",
    "hist['epoch'] = myFFBPtraining.epoch\n",
    "hist.tail()"
   ]
  },
  {
   "cell_type": "code",
   "execution_count": 10,
   "metadata": {},
   "outputs": [
    {
     "data": {
      "image/png": "[encoded data removed]",
      "text/plain": [
       "<Figure size 432x288 with 1 Axes>"
      ]
     },
     "metadata": {
      "needs_background": "light"
     },
     "output_type": "display_data"
    }
   ],
   "source": [
    "# a function to plot loss \n",
    "def plot_loss(arg):\n",
    "  plt.plot(arg.history['loss'], label='loss')\n",
    "  plt.plot(arg.history['val_loss'], label='val_loss')\n",
    "  plt.ylim([0, 1])\n",
    "  plt.xlabel('Epoch')\n",
    "  plt.ylabel('Error [RHOB]')\n",
    "  plt.legend()\n",
    "  plt.grid(True)\n",
    "\n",
    "\n",
    "plot_loss(myFFBPtraining)"
   ]
  },
  {
   "cell_type": "code",
   "execution_count": 11,
   "metadata": {},
   "outputs": [
    {
     "data": {
      "image/png": "[encoded data removed]",
      "text/plain": [
       "<Figure size 432x288 with 2 Axes>"
      ]
     },
     "metadata": {
      "needs_background": "light"
     },
     "output_type": "display_data"
    }
   ],
   "source": [
    "# Plot regression between predicted and actual (Validation)\n",
    "# test_predictions = dnn_model.predict(test_input).flatten()\n",
    "\n",
    "\n",
    "def plot_regre_resid(true, predicted):\n",
    "    fig, (ax1,ax2)=plt.subplots(1,2)\n",
    "    ax1.scatter(true, predicted)\n",
    "    ax1.set_xlabel('True values [RHOB]')\n",
    "    ax1.set_ylabel('Predictions [RHOB]')\n",
    "    ax1.set_title(\"Regression plot\")\n",
    "#     _ = ax1.plot([0, true.max()], [0, true.max()], ls='-', color='red')\n",
    "\n",
    "    residual = true - predicted\n",
    "    ax2.scatter(true, residual)\n",
    "    ax2.set_xlabel('actual')\n",
    "    ax2.set_ylabel('residual')\n",
    "    ax2.set_title(\"Residual plot\")\n",
    "    _ = plt.axhline(0, color='red', ls='--')\n",
    "        \n",
    "    plt.tight_layout()\n",
    "    plt.show\n",
    "    \n",
    "        \n",
    "\n",
    "test_target_actual=test_target\n",
    "\n",
    "test_target_predicted = myFFBP.predict(test_input).flatten()\n",
    "plot_regre_resid(test_target_actual,test_target_predicted)"
   ]
  },
  {
   "cell_type": "code",
   "execution_count": 12,
   "metadata": {},
   "outputs": [
    {
     "data": {
      "image/png": "[encoded data removed]",
      "text/plain": [
       "<Figure size 360x360 with 1 Axes>"
      ]
     },
     "metadata": {
      "needs_background": "light"
     },
     "output_type": "display_data"
    }
   ],
   "source": [
    "\n",
    "def plot_residual_KDE(true, predicted):\n",
    "    residual = true - predicted\n",
    "    _ = sns.displot(residual, kind=\"kde\");\n",
    "    \n",
    "    \n",
    "plot_residual_KDE(test_target_actual,test_target_predicted)"
   ]
  },
  {
   "cell_type": "code",
   "execution_count": 13,
   "metadata": {},
   "outputs": [
    {
     "name": "stdout",
     "output_type": "stream",
     "text": [
      "r2 score: 0.798304432757057\n",
      "mse: 0.009657800880605957\n",
      "rmse: 0.09827411093775389\n",
      "mae: 0.07109970869181055\n"
     ]
    }
   ],
   "source": [
    "# using sklearn\n",
    "print(\"r2 score: {}\".format(metrics.r2_score(test_target_actual, test_target_predicted)))\n",
    "print(\"mse: {}\".format(metrics.mean_squared_error(test_target_actual, test_target_predicted)))\n",
    "print(\"rmse: {}\".format(np.sqrt(metrics.mean_squared_error(test_target_actual, test_target_predicted))))\n",
    "print(\"mae: {}\".format(metrics.mean_absolute_error(test_target_actual, test_target_predicted)))"
   ]
  },
  {
   "cell_type": "markdown",
   "metadata": {},
   "source": [
    "# Predict a different well"
   ]
  },
  {
   "cell_type": "code",
   "execution_count": 14,
   "metadata": {},
   "outputs": [],
   "source": [
    "# read different sheet from same excel book\n",
    "xlsx = pd.ExcelFile('./Data/Outliers_out.xlsx')\n",
    "df = pd.read_excel(xlsx, '1x 4s')\n",
    "dataset2= df.copy()\n",
    "\n",
    "\n",
    "# split data into input and target\n",
    "\n",
    "inputs2 = dataset2.copy()\n",
    "target2 = inputs2.pop('RHOB')"
   ]
  },
  {
   "cell_type": "code",
   "execution_count": 16,
   "metadata": {},
   "outputs": [
    {
     "data": {
      "text/plain": [
       "Text(0, 0.5, 'predicted')"
      ]
     },
     "execution_count": 16,
     "metadata": {},
     "output_type": "execute_result"
    },
    {
     "data": {
      "image/png": "[encoded data removed]",
      "text/plain": [
       "<Figure size 432x288 with 1 Axes>"
      ]
     },
     "metadata": {
      "needs_background": "light"
     },
     "output_type": "display_data"
    }
   ],
   "source": [
    "predicted2 = myFFBP.predict(inputs2, callbacks=[tb_callback] )\n",
    "fig, ax= plt.subplots()\n",
    "ax.scatter(target2,predicted2)\n",
    "ax.set_xlabel(\"True\")\n",
    "ax.set_ylabel(\"predicted\")"
   ]
  },
  {
   "cell_type": "code",
   "execution_count": 17,
   "metadata": {},
   "outputs": [
    {
     "name": "stdout",
     "output_type": "stream",
     "text": [
      "r2 score: -0.06459339602515946\n",
      "mse: 0.025208412261582446\n",
      "rmse: 0.15877157258647545\n",
      "mae: 0.11803603278268096\n"
     ]
    }
   ],
   "source": [
    "print(\"r2 score: {}\".format(metrics.r2_score( target2, predicted2)))\n",
    "print(\"mse: {}\".format(metrics.mean_squared_error( target2, predicted2)))\n",
    "print(\"rmse: {}\".format(np.sqrt(metrics.mean_squared_error( target2, predicted2))))\n",
    "print(\"mae: {}\".format(metrics.mean_absolute_error( target2, predicted2)))"
   ]
  },
  {
   "cell_type": "code",
   "execution_count": 18,
   "metadata": {},
   "outputs": [
    {
     "data": {
      "text/plain": [
       "Text(0.5, 0, 'RHOB')"
      ]
     },
     "execution_count": 18,
     "metadata": {},
     "output_type": "execute_result"
    },
    {
     "data": {
      "image/png": "[encoded data removed]",
      "text/plain": [
       "<Figure size 432x288 with 3 Axes>"
      ]
     },
     "metadata": {
      "needs_background": "light"
     },
     "output_type": "display_data"
    }
   ],
   "source": [
    "#plot subplots of predicted and actual\n",
    "inputs2 = dataset2.copy()\n",
    "Depth2= inputs2.pop(\"DEPTH\")\n",
    "\n",
    "\n",
    "fig, (ax1,ax2,ax3)=plt.subplots(1,3,sharey=True)\n",
    "fig.suptitle('A comparism of the predicted against the actual')\n",
    "ax1.set_ylabel(\"Depth\")\n",
    "ax1.plot(predicted2,Depth2)\n",
    "ax1.set_xlabel('predicted2')\n",
    "\n",
    "ax2.plot(target2,Depth2)\n",
    "ax2.set_xlabel(\"target2\")\n",
    "\n",
    "ax3.plot(predicted2,Depth2)\n",
    "ax3.plot(target2, Depth2)\n",
    "ax3.set_xlabel(\"RHOB\")"
   ]
  },
  {
   "cell_type": "code",
   "execution_count": null,
   "metadata": {},
   "outputs": [],
   "source": [
    "rm -rvf logs"
   ]
  },
  {
   "cell_type": "code",
   "execution_count": null,
   "metadata": {},
   "outputs": [],
   "source": [
    "# TENSORBOARD\n"
   ]
  },
  {
   "cell_type": "code",
   "execution_count": 20,
   "metadata": {},
   "outputs": [
    {
     "data": {
      "text/plain": [
       "Reusing TensorBoard on port 6006 (pid 27656), started 0:02:04 ago. (Use '!kill 27656' to kill it.)"
      ]
     },
     "metadata": {},
     "output_type": "display_data"
    },
    {
     "data": {
      "text/html": [
       "\n",
       "      <iframe id=\"tensorboard-frame-846ace7fd5c8f25\" width=\"100%\" height=\"800\" frameborder=\"0\">\n",
       "      </iframe>\n",
       "      <script>\n",
       "        (function() {\n",
       "          const frame = document.getElementById(\"tensorboard-frame-846ace7fd5c8f25\");\n",
       "          const url = new URL(\"/\", window.location);\n",
       "          const port = 6006;\n",
       "          if (port) {\n",
       "            url.port = port;\n",
       "          }\n",
       "          frame.src = url;\n",
       "        })();\n",
       "      </script>\n",
       "    "
      ],
      "text/plain": [
       "<IPython.core.display.HTML object>"
      ]
     },
     "metadata": {},
     "output_type": "display_data"
    }
   ],
   "source": [
    "# Load the tensorboard\n",
    "%tensorboard --logdir logs/ANN/fit/\n",
    "# !kill 25184\n",
    "# %tensorboard -- logdir={log_folder}\n",
    "\n",
    "# %tensorboard --logdir /cont"
   ]
  },
  {
   "cell_type": "markdown",
   "metadata": {},
   "source": [
    "#  Hyperparameter Tunning"
   ]
  },
  {
   "cell_type": "code",
   "execution_count": 27,
   "metadata": {},
   "outputs": [
    {
     "ename": "SyntaxError",
     "evalue": "invalid syntax (<ipython-input-27-35595d33ceac>, line 5)",
     "output_type": "error",
     "traceback": [
      "\u001b[1;36m  File \u001b[1;32m\"<ipython-input-27-35595d33ceac>\"\u001b[1;36m, line \u001b[1;32m5\u001b[0m\n\u001b[1;33m    rm -rf 'logs/ANN/fit/'\u001b[0m\n\u001b[1;37m           ^\u001b[0m\n\u001b[1;31mSyntaxError\u001b[0m\u001b[1;31m:\u001b[0m invalid syntax\n"
     ]
    }
   ],
   "source": [
    "# clear previous log\n",
    "# rm -rvf logs\n",
    "\n",
    "# Clear any logs from previous runs\n",
    "rm -rf 'logs/ANN/fit/'"
   ]
  },
  {
   "cell_type": "code",
   "execution_count": null,
   "metadata": {},
   "outputs": [],
   "source": []
  },
  {
   "cell_type": "code",
   "execution_count": 28,
   "metadata": {},
   "outputs": [],
   "source": [
    "# help(myFFBP.evaluate)\n",
    "# help(myFFBP.predict)\n"
   ]
  },
  {
   "cell_type": "code",
   "execution_count": 29,
   "metadata": {},
   "outputs": [],
   "source": [
    "# Load the TensorBoard notebook extension\n",
    "%reload_ext tensorboard"
   ]
  },
  {
   "cell_type": "code",
   "execution_count": null,
   "metadata": {},
   "outputs": [],
   "source": [
    "# Clear any logs from previous runs\n",
    "# rm -rf ./logs/\n",
    "\n",
    "rm -rvf logs"
   ]
  },
  {
   "cell_type": "code",
   "execution_count": 31,
   "metadata": {},
   "outputs": [],
   "source": [
    "import tensorflow as tf\n",
    "from tensorboard.plugins.hparams import api as hp"
   ]
  },
  {
   "cell_type": "markdown",
   "metadata": {},
   "source": [
    "Experiment setup and the HParams experiment summary\n",
    "\n",
    "Experiment with  hyperparameters in the model:\n",
    "\n",
    "1. Number of units in the first dense layer\n",
    "2. Dropout rate in the dropout layer\n",
    "3. Optimizer"
   ]
  },
  {
   "cell_type": "code",
   "execution_count": 46,
   "metadata": {},
   "outputs": [],
   "source": [
    "# HP_NUM_UNITS = hp.HParam('num_units', hp.Discrete([300, 200,512]))\n",
    "HP_NUM_UNITS = hp.HParam('num_units', hp.Discrete([16, 32]))\n",
    "HP_DROPOUT = hp.HParam('dropout', hp.RealInterval(0.1,0.5))\n",
    "HP_OPTIMIZER = hp.HParam('optimizer', hp.Discrete(['adam', 'sgd', 'rmsprop']))"
   ]
  },
  {
   "cell_type": "code",
   "execution_count": 47,
   "metadata": {},
   "outputs": [],
   "source": [
    "METRIC = \"mse\"\n",
    "\n",
    "with tf.summary.create_file_writer('logs/ANN/hparam_tuning').as_default():\n",
    "  hp.hparams_config(\n",
    "    hparams=[HP_NUM_UNITS, HP_DROPOUT, HP_OPTIMIZER],\n",
    "    metrics=[hp.Metric(METRIC, display_name='mae')],\n",
    "  )"
   ]
  },
  {
   "cell_type": "code",
   "execution_count": 53,
   "metadata": {},
   "outputs": [],
   "source": [
    "# Adapt TensorFlow runs to log hyperparameters and metrics\n",
    "\n",
    "def create_model(hparams):\n",
    "  model = tf.keras.models.Sequential([\n",
    "    tf.keras.layers.Flatten(),\n",
    "    tf.keras.layers.Dense(hparams[HP_NUM_UNITS], activation='relu'),\n",
    "    tf.keras.layers.Dropout(hparams[HP_DROPOUT]),\n",
    "    tf.keras.layers.Dense(10, activation='softmax'),\n",
    "  ])\n",
    "  model.compile(\n",
    "      optimizer=hparams[HP_OPTIMIZER],\n",
    "      loss='mean_absolute_error',\n",
    "      metrics=['mse'],\n",
    "  )\n",
    "\n",
    "  model.fit(train_input, train_target, epochs=5) # Run with a few epoch to speed things up for demo purposes\n",
    "  loss, mse = model.evaluate(test_input, test_target)\n",
    "  return loss, mse\n",
    "\n",
    "\n"
   ]
  },
  {
   "cell_type": "code",
   "execution_count": 54,
   "metadata": {},
   "outputs": [],
   "source": [
    "# For each run, log an hparams summary with the hyperparameters and final accuracy:\n",
    "\n",
    "def experiment(experiment_dir, hparams):\n",
    "     with tf.summary.create_file_writer(experiment_dir).as_default():\n",
    "        hp.hparams(hparams)\n",
    "        mse = create_model(hparams)\n",
    "        tf.summary.scalar(METRIC, mse, step=1)\n"
   ]
  },
  {
   "cell_type": "code",
   "execution_count": 55,
   "metadata": {},
   "outputs": [
    {
     "name": "stdout",
     "output_type": "stream",
     "text": [
      "Starting Experiment: Experiment 0\n",
      "{'num_units': 16, 'dropout': 0.1, 'optimizer': 'adam'}\n",
      "Epoch 1/5\n",
      "109/109 [==============================] - 0s 581us/step - loss: 2.1220 - mse: 4.6386\n",
      "Epoch 2/5\n",
      "109/109 [==============================] - 0s 545us/step - loss: 2.1230 - mse: 4.6461\n",
      "Epoch 3/5\n",
      "109/109 [==============================] - 0s 621us/step - loss: 2.1218 - mse: 4.6408\n",
      "Epoch 4/5\n",
      "109/109 [==============================] - 0s 720us/step - loss: 2.1268 - mse: 4.6604\n",
      "Epoch 5/5\n",
      "109/109 [==============================] - 0s 751us/step - loss: 2.1187 - mse: 4.6254\n",
      "47/47 [==============================] - 0s 514us/step - loss: 2.1251 - mse: 4.6541\n"
     ]
    },
    {
     "ename": "ValueError",
     "evalue": "Expected scalar shape, saw shape: (2,).",
     "output_type": "error",
     "traceback": [
      "\u001b[1;31m---------------------------------------------------------------------------\u001b[0m",
      "\u001b[1;31mValueError\u001b[0m                                Traceback (most recent call last)",
      "\u001b[1;32m<ipython-input-55-66f1475c15cf>\u001b[0m in \u001b[0;36m<module>\u001b[1;34m\u001b[0m\n\u001b[0;32m     12\u001b[0m             \u001b[0mprint\u001b[0m\u001b[1;33m(\u001b[0m\u001b[1;34mf'Starting Experiment: {experiment_name}'\u001b[0m\u001b[1;33m)\u001b[0m\u001b[1;33m\u001b[0m\u001b[1;33m\u001b[0m\u001b[0m\n\u001b[0;32m     13\u001b[0m             \u001b[0mprint\u001b[0m\u001b[1;33m(\u001b[0m\u001b[1;33m{\u001b[0m\u001b[0mh\u001b[0m\u001b[1;33m.\u001b[0m\u001b[0mname\u001b[0m\u001b[1;33m:\u001b[0m \u001b[0mhparams\u001b[0m\u001b[1;33m[\u001b[0m\u001b[0mh\u001b[0m\u001b[1;33m]\u001b[0m \u001b[1;32mfor\u001b[0m \u001b[0mh\u001b[0m \u001b[1;32min\u001b[0m \u001b[0mhparams\u001b[0m\u001b[1;33m}\u001b[0m\u001b[1;33m)\u001b[0m\u001b[1;33m\u001b[0m\u001b[1;33m\u001b[0m\u001b[0m\n\u001b[1;32m---> 14\u001b[1;33m             \u001b[0mexperiment\u001b[0m\u001b[1;33m(\u001b[0m\u001b[1;34m'logs/ANN/hparam_tuning/'\u001b[0m \u001b[1;33m+\u001b[0m \u001b[0mexperiment_name\u001b[0m\u001b[1;33m,\u001b[0m \u001b[0mhparams\u001b[0m\u001b[1;33m)\u001b[0m\u001b[1;33m\u001b[0m\u001b[1;33m\u001b[0m\u001b[0m\n\u001b[0m\u001b[0;32m     15\u001b[0m             \u001b[0mexperiment_no\u001b[0m \u001b[1;33m+=\u001b[0m \u001b[1;36m1\u001b[0m\u001b[1;33m\u001b[0m\u001b[1;33m\u001b[0m\u001b[0m\n",
      "\u001b[1;32m<ipython-input-54-f6916762fd93>\u001b[0m in \u001b[0;36mexperiment\u001b[1;34m(experiment_dir, hparams)\u001b[0m\n\u001b[0;32m      5\u001b[0m         \u001b[0mhp\u001b[0m\u001b[1;33m.\u001b[0m\u001b[0mhparams\u001b[0m\u001b[1;33m(\u001b[0m\u001b[0mhparams\u001b[0m\u001b[1;33m)\u001b[0m\u001b[1;33m\u001b[0m\u001b[1;33m\u001b[0m\u001b[0m\n\u001b[0;32m      6\u001b[0m         \u001b[0mmse\u001b[0m \u001b[1;33m=\u001b[0m \u001b[0mcreate_model\u001b[0m\u001b[1;33m(\u001b[0m\u001b[0mhparams\u001b[0m\u001b[1;33m)\u001b[0m\u001b[1;33m\u001b[0m\u001b[1;33m\u001b[0m\u001b[0m\n\u001b[1;32m----> 7\u001b[1;33m         \u001b[0mtf\u001b[0m\u001b[1;33m.\u001b[0m\u001b[0msummary\u001b[0m\u001b[1;33m.\u001b[0m\u001b[0mscalar\u001b[0m\u001b[1;33m(\u001b[0m\u001b[0mMETRIC\u001b[0m\u001b[1;33m,\u001b[0m \u001b[0mmse\u001b[0m\u001b[1;33m,\u001b[0m \u001b[0mstep\u001b[0m\u001b[1;33m=\u001b[0m\u001b[1;36m1\u001b[0m\u001b[1;33m)\u001b[0m\u001b[1;33m\u001b[0m\u001b[1;33m\u001b[0m\u001b[0m\n\u001b[0m",
      "\u001b[1;32mD:\\anaconda3\\lib\\site-packages\\tensorboard\\plugins\\scalar\\summary_v2.py\u001b[0m in \u001b[0;36mscalar\u001b[1;34m(name, data, step, description)\u001b[0m\n\u001b[0;32m     61\u001b[0m     )\n\u001b[0;32m     62\u001b[0m     \u001b[1;32mwith\u001b[0m \u001b[0msummary_scope\u001b[0m\u001b[1;33m(\u001b[0m\u001b[0mname\u001b[0m\u001b[1;33m,\u001b[0m \u001b[1;34m\"scalar_summary\"\u001b[0m\u001b[1;33m,\u001b[0m \u001b[0mvalues\u001b[0m\u001b[1;33m=\u001b[0m\u001b[1;33m[\u001b[0m\u001b[0mdata\u001b[0m\u001b[1;33m,\u001b[0m \u001b[0mstep\u001b[0m\u001b[1;33m]\u001b[0m\u001b[1;33m)\u001b[0m \u001b[1;32mas\u001b[0m \u001b[1;33m(\u001b[0m\u001b[0mtag\u001b[0m\u001b[1;33m,\u001b[0m \u001b[0m_\u001b[0m\u001b[1;33m)\u001b[0m\u001b[1;33m:\u001b[0m\u001b[1;33m\u001b[0m\u001b[1;33m\u001b[0m\u001b[0m\n\u001b[1;32m---> 63\u001b[1;33m         \u001b[0mtf\u001b[0m\u001b[1;33m.\u001b[0m\u001b[0mdebugging\u001b[0m\u001b[1;33m.\u001b[0m\u001b[0massert_scalar\u001b[0m\u001b[1;33m(\u001b[0m\u001b[0mdata\u001b[0m\u001b[1;33m)\u001b[0m\u001b[1;33m\u001b[0m\u001b[1;33m\u001b[0m\u001b[0m\n\u001b[0m\u001b[0;32m     64\u001b[0m         return tf.summary.write(\n\u001b[0;32m     65\u001b[0m             \u001b[0mtag\u001b[0m\u001b[1;33m=\u001b[0m\u001b[0mtag\u001b[0m\u001b[1;33m,\u001b[0m\u001b[1;33m\u001b[0m\u001b[1;33m\u001b[0m\u001b[0m\n",
      "\u001b[1;32mD:\\anaconda3\\lib\\site-packages\\tensorflow\\python\\util\\dispatch.py\u001b[0m in \u001b[0;36mwrapper\u001b[1;34m(*args, **kwargs)\u001b[0m\n\u001b[0;32m    199\u001b[0m     \u001b[1;34m\"\"\"Call target, and fall back on dispatchers if there is a TypeError.\"\"\"\u001b[0m\u001b[1;33m\u001b[0m\u001b[1;33m\u001b[0m\u001b[0m\n\u001b[0;32m    200\u001b[0m     \u001b[1;32mtry\u001b[0m\u001b[1;33m:\u001b[0m\u001b[1;33m\u001b[0m\u001b[1;33m\u001b[0m\u001b[0m\n\u001b[1;32m--> 201\u001b[1;33m       \u001b[1;32mreturn\u001b[0m \u001b[0mtarget\u001b[0m\u001b[1;33m(\u001b[0m\u001b[1;33m*\u001b[0m\u001b[0margs\u001b[0m\u001b[1;33m,\u001b[0m \u001b[1;33m**\u001b[0m\u001b[0mkwargs\u001b[0m\u001b[1;33m)\u001b[0m\u001b[1;33m\u001b[0m\u001b[1;33m\u001b[0m\u001b[0m\n\u001b[0m\u001b[0;32m    202\u001b[0m     \u001b[1;32mexcept\u001b[0m \u001b[1;33m(\u001b[0m\u001b[0mTypeError\u001b[0m\u001b[1;33m,\u001b[0m \u001b[0mValueError\u001b[0m\u001b[1;33m)\u001b[0m\u001b[1;33m:\u001b[0m\u001b[1;33m\u001b[0m\u001b[1;33m\u001b[0m\u001b[0m\n\u001b[0;32m    203\u001b[0m       \u001b[1;31m# Note: convert_to_eager_tensor currently raises a ValueError, not a\u001b[0m\u001b[1;33m\u001b[0m\u001b[1;33m\u001b[0m\u001b[1;33m\u001b[0m\u001b[0m\n",
      "\u001b[1;32mD:\\anaconda3\\lib\\site-packages\\tensorflow\\python\\ops\\check_ops.py\u001b[0m in \u001b[0;36massert_scalar_v2\u001b[1;34m(tensor, message, name)\u001b[0m\n\u001b[0;32m   2179\u001b[0m       \u001b[0munknown\u001b[0m\u001b[1;33m.\u001b[0m\u001b[1;33m\u001b[0m\u001b[1;33m\u001b[0m\u001b[0m\n\u001b[0;32m   2180\u001b[0m   \"\"\"\n\u001b[1;32m-> 2181\u001b[1;33m   \u001b[0massert_scalar\u001b[0m\u001b[1;33m(\u001b[0m\u001b[0mtensor\u001b[0m\u001b[1;33m=\u001b[0m\u001b[0mtensor\u001b[0m\u001b[1;33m,\u001b[0m \u001b[0mmessage\u001b[0m\u001b[1;33m=\u001b[0m\u001b[0mmessage\u001b[0m\u001b[1;33m,\u001b[0m \u001b[0mname\u001b[0m\u001b[1;33m=\u001b[0m\u001b[0mname\u001b[0m\u001b[1;33m)\u001b[0m\u001b[1;33m\u001b[0m\u001b[1;33m\u001b[0m\u001b[0m\n\u001b[0m\u001b[0;32m   2182\u001b[0m \u001b[1;33m\u001b[0m\u001b[0m\n\u001b[0;32m   2183\u001b[0m \u001b[1;33m\u001b[0m\u001b[0m\n",
      "\u001b[1;32mD:\\anaconda3\\lib\\site-packages\\tensorflow\\python\\util\\dispatch.py\u001b[0m in \u001b[0;36mwrapper\u001b[1;34m(*args, **kwargs)\u001b[0m\n\u001b[0;32m    199\u001b[0m     \u001b[1;34m\"\"\"Call target, and fall back on dispatchers if there is a TypeError.\"\"\"\u001b[0m\u001b[1;33m\u001b[0m\u001b[1;33m\u001b[0m\u001b[0m\n\u001b[0;32m    200\u001b[0m     \u001b[1;32mtry\u001b[0m\u001b[1;33m:\u001b[0m\u001b[1;33m\u001b[0m\u001b[1;33m\u001b[0m\u001b[0m\n\u001b[1;32m--> 201\u001b[1;33m       \u001b[1;32mreturn\u001b[0m \u001b[0mtarget\u001b[0m\u001b[1;33m(\u001b[0m\u001b[1;33m*\u001b[0m\u001b[0margs\u001b[0m\u001b[1;33m,\u001b[0m \u001b[1;33m**\u001b[0m\u001b[0mkwargs\u001b[0m\u001b[1;33m)\u001b[0m\u001b[1;33m\u001b[0m\u001b[1;33m\u001b[0m\u001b[0m\n\u001b[0m\u001b[0;32m    202\u001b[0m     \u001b[1;32mexcept\u001b[0m \u001b[1;33m(\u001b[0m\u001b[0mTypeError\u001b[0m\u001b[1;33m,\u001b[0m \u001b[0mValueError\u001b[0m\u001b[1;33m)\u001b[0m\u001b[1;33m:\u001b[0m\u001b[1;33m\u001b[0m\u001b[1;33m\u001b[0m\u001b[0m\n\u001b[0;32m    203\u001b[0m       \u001b[1;31m# Note: convert_to_eager_tensor currently raises a ValueError, not a\u001b[0m\u001b[1;33m\u001b[0m\u001b[1;33m\u001b[0m\u001b[1;33m\u001b[0m\u001b[0m\n",
      "\u001b[1;32mD:\\anaconda3\\lib\\site-packages\\tensorflow\\python\\ops\\check_ops.py\u001b[0m in \u001b[0;36massert_scalar\u001b[1;34m(tensor, name, message)\u001b[0m\n\u001b[0;32m   2209\u001b[0m     \u001b[1;32mif\u001b[0m \u001b[0mshape\u001b[0m\u001b[1;33m.\u001b[0m\u001b[0mndims\u001b[0m \u001b[1;33m!=\u001b[0m \u001b[1;36m0\u001b[0m\u001b[1;33m:\u001b[0m\u001b[1;33m\u001b[0m\u001b[1;33m\u001b[0m\u001b[0m\n\u001b[0;32m   2210\u001b[0m       \u001b[1;32mif\u001b[0m \u001b[0mcontext\u001b[0m\u001b[1;33m.\u001b[0m\u001b[0mexecuting_eagerly\u001b[0m\u001b[1;33m(\u001b[0m\u001b[1;33m)\u001b[0m\u001b[1;33m:\u001b[0m\u001b[1;33m\u001b[0m\u001b[1;33m\u001b[0m\u001b[0m\n\u001b[1;32m-> 2211\u001b[1;33m         raise ValueError('%sExpected scalar shape, saw shape: %s.'\n\u001b[0m\u001b[0;32m   2212\u001b[0m                          % (message or '', shape,))\n\u001b[0;32m   2213\u001b[0m       \u001b[1;32melse\u001b[0m\u001b[1;33m:\u001b[0m\u001b[1;33m\u001b[0m\u001b[1;33m\u001b[0m\u001b[0m\n",
      "\u001b[1;31mValueError\u001b[0m: Expected scalar shape, saw shape: (2,)."
     ]
    }
   ],
   "source": [
    "experiment_no = 0\n",
    "\n",
    "for num_units in HP_NUM_UNITS.domain.values:\n",
    "    for dropout_rate in (HP_DROPOUT.domain.min_value, HP_DROPOUT.domain.max_value):\n",
    "        for optimizer in HP_OPTIMIZER.domain.values:\n",
    "            hparams = {\n",
    "                HP_NUM_UNITS: num_units,\n",
    "                HP_DROPOUT: dropout_rate,\n",
    "                HP_OPTIMIZER: optimizer,}\n",
    "\n",
    "            experiment_name = f'Experiment {experiment_no}'\n",
    "            print(f'Starting Experiment: {experiment_name}')\n",
    "            print({h.name: hparams[h] for h in hparams})\n",
    "            experiment('logs/ANN/hparam_tuning/' + experiment_name, hparams)\n",
    "            experiment_no += 1"
   ]
  },
  {
   "cell_type": "code",
   "execution_count": 36,
   "metadata": {},
   "outputs": [],
   "source": [
    "# import datetime\n",
    "\n",
    "# log_folder = \"logs/ANN/fit/Hparams\" + datetime.datetime.now().strftime(\"%Y%m%d-%H%M%S\")\n",
    "# logdirHparams=log_folder\n",
    "\n"
   ]
  },
  {
   "cell_type": "code",
   "execution_count": 37,
   "metadata": {},
   "outputs": [
    {
     "ename": "NameError",
     "evalue": "name 'model' is not defined",
     "output_type": "error",
     "traceback": [
      "\u001b[1;31m---------------------------------------------------------------------------\u001b[0m",
      "\u001b[1;31mNameError\u001b[0m                                 Traceback (most recent call last)",
      "\u001b[1;32m<ipython-input-37-7e00845f70f3>\u001b[0m in \u001b[0;36m<module>\u001b[1;34m\u001b[0m\n\u001b[0;32m      1\u001b[0m \u001b[0mlog_dir\u001b[0m\u001b[1;33m=\u001b[0m\u001b[0mlog_folder\u001b[0m\u001b[1;33m,\u001b[0m\u001b[1;33m\u001b[0m\u001b[1;33m\u001b[0m\u001b[0m\n\u001b[0;32m      2\u001b[0m \u001b[1;33m\u001b[0m\u001b[0m\n\u001b[1;32m----> 3\u001b[1;33m model.fit(\n\u001b[0m\u001b[0;32m      4\u001b[0m     \u001b[1;33m...\u001b[0m\u001b[1;33m,\u001b[0m\u001b[1;33m\u001b[0m\u001b[1;33m\u001b[0m\u001b[0m\n\u001b[0;32m      5\u001b[0m     callbacks=[\n",
      "\u001b[1;31mNameError\u001b[0m: name 'model' is not defined"
     ]
    }
   ],
   "source": [
    "log_dir=log_folder,\n",
    "\n",
    "model.fit(\n",
    "    ...,\n",
    "    callbacks=[\n",
    "        tf.keras.callbacks.TensorBoard(logdirHparams),  # log metrics\n",
    "        hp.KerasCallback(logdirHparams, hparams),  # log hparams\n",
    "    ],\n",
    ")"
   ]
  },
  {
   "cell_type": "code",
   "execution_count": null,
   "metadata": {},
   "outputs": [],
   "source": []
  },
  {
   "cell_type": "code",
   "execution_count": null,
   "metadata": {},
   "outputs": [],
   "source": [
    "4. Visualize the results in TensorBoard's HParams plugin"
   ]
  },
  {
   "cell_type": "code",
   "execution_count": 39,
   "metadata": {},
   "outputs": [
    {
     "data": {
      "text/plain": [
       "ERROR: Timed out waiting for TensorBoard to start. It may still be running as pid 27188."
      ]
     },
     "metadata": {},
     "output_type": "display_data"
    }
   ],
   "source": [
    "%tensorboard --logdir logs/hparam_tuning"
   ]
  },
  {
   "cell_type": "code",
   "execution_count": null,
   "metadata": {},
   "outputs": [],
   "source": []
  }
 ],
 "metadata": {
  "kernelspec": {
   "display_name": "Python 3",
   "language": "python",
   "name": "python3"
  },
  "language_info": {
   "codemirror_mode": {
    "name": "ipython",
    "version": 3
   },
   "file_extension": ".py",
   "mimetype": "text/x-python",
   "name": "python",
   "nbconvert_exporter": "python",
   "pygments_lexer": "ipython3",
   "version": "3.8.5"
  },
  "varInspector": {
   "cols": {
    "lenName": 16,
    "lenType": 16,
    "lenVar": 40
   },
   "kernels_config": {
    "python": {
     "delete_cmd_postfix": "",
     "delete_cmd_prefix": "del ",
     "library": "var_list.py",
     "varRefreshCmd": "print(var_dic_list())"
    },
    "r": {
     "delete_cmd_postfix": ") ",
     "delete_cmd_prefix": "rm(",
     "library": "var_list.r",
     "varRefreshCmd": "cat(var_dic_list()) "
    }
   },
   "types_to_exclude": [
    "module",
    "function",
    "builtin_function_or_method",
    "instance",
    "_Feature"
   ],
   "window_display": false
  }
 },
 "nbformat": 4,
 "nbformat_minor": 4
}
