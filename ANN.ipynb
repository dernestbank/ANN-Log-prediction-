{
 "cells": [
  {
   "cell_type": "markdown",
   "metadata": {},
   "source": [
    "# Neural Network for <em> well Log</em> Prediction"
   ]
  },
  {
   "cell_type": "code",
   "execution_count": 1,
   "metadata": {},
   "outputs": [],
   "source": [
    "import numpy as np\n",
    "import pandas as pd\n",
    "import matplotlib.pyplot as plt\n",
    "import seaborn as sns\n",
    "\n",
    "import tensorflow as tf\n",
    "\n",
    "from tensorflow import keras\n",
    "from tensorflow.keras import layers\n",
    "from tensorflow.keras.layers.experimental import preprocessing\n",
    "\n",
    "from sklearn import datasets, metrics, model_selection\n"
   ]
  },
  {
   "cell_type": "code",
   "execution_count": 2,
   "metadata": {},
   "outputs": [],
   "source": [
    "# Load the TensorBoard notebook extension\n",
    "%load_ext tensorboard\n",
    "\n",
    "import datetime\n",
    "\n",
    "log_folder = \"logs/ANN/fit/\" + datetime.datetime.now().strftime(\"%Y%m%d-%H%M%S\")\n"
   ]
  },
  {
   "cell_type": "code",
   "execution_count": 3,
   "metadata": {},
   "outputs": [],
   "source": [
    "# read data\n",
    "\n",
    "xlsx = pd.ExcelFile('./Data/Outliers_out.xlsx')\n",
    "df = pd.read_excel(xlsx, '1x 5s')\n",
    "dataset= df.copy()"
   ]
  },
  {
   "cell_type": "markdown",
   "metadata": {},
   "source": [
    "#### Split the data into train and test"
   ]
  },
  {
   "cell_type": "code",
   "execution_count": 4,
   "metadata": {},
   "outputs": [],
   "source": [
    "# the 'sample' method takes a certain fraction randomly\n",
    "#Note that we use `random_state` to ensure the reproducibility of the examples.\n",
    "train_dataset = dataset.sample(frac=0.7, random_state=0)\n",
    "test_dataset = dataset.drop(train_dataset.index)"
   ]
  },
  {
   "cell_type": "code",
   "execution_count": 5,
   "metadata": {},
   "outputs": [],
   "source": [
    "\n",
    "# split datat into input and target\n",
    "\n",
    "train_input = train_dataset.copy()\n",
    "test_input = test_dataset.copy()\n",
    "\n",
    "train_target = train_input.pop('RHOB')\n",
    "test_target = test_input.pop('RHOB')\n",
    "\n"
   ]
  },
  {
   "cell_type": "markdown",
   "metadata": {},
   "source": [
    " normalizer = preprocessing.Normalization()\n",
    "\n",
    " #then adapt it to the data\n",
    " normalizer.adapt(np.array(train_input))\n",
    "\n",
    "  #This calculates the mean and variance, and stores them in the layer.\n",
    " print(normalizer.mean.numpy())\n",
    "\n",
    "# Create Model"
   ]
  },
  {
   "cell_type": "code",
   "execution_count": 6,
   "metadata": {},
   "outputs": [],
   "source": [
    "#     #  Create layers\n",
    "#     l0=normalizer\n",
    "#     #Dense layers using the relu nonlinearity. #with an l2 regularization to reduce overfitting by reducing weight size\n",
    "#     l1=tf.keras.layers.Dense(64,activation=\"relu\", input_shape=(5,), kernel_regularizer=\"l2\")\n",
    "    \n",
    "#     d0=layers.Dropout(0.1), #a droput layer # an attempt to reduce overfitting\n",
    "    \n",
    "#     l2=tf.keras.layers.Dense(64,activation=\"relu\", kernel_regularizer=\"l2\")\n",
    "    \n",
    "#     d1=layers.Dropout(0.1),\n",
    "    \n",
    "#     #A linear output layer\n",
    "#     l3=tf.keras.layers.Dense(1)\n",
    "    \n",
    "    \n",
    "# #     create the model with the layers formed\n",
    "#     model1 =tf.keras.models.Sequential([l0,l1,d0,l2,d1,l3])"
   ]
  },
  {
   "cell_type": "code",
   "execution_count": 7,
   "metadata": {},
   "outputs": [
    {
     "name": "stdout",
     "output_type": "stream",
     "text": [
      "Model: \"sequential\"\n",
      "_________________________________________________________________\n",
      "Layer (type)                 Output Shape              Param #   \n",
      "=================================================================\n",
      "dense (Dense)                (None, 64)                384       \n",
      "_________________________________________________________________\n",
      "dropout (Dropout)            (None, 64)                0         \n",
      "_________________________________________________________________\n",
      "dense_1 (Dense)              (None, 64)                4160      \n",
      "_________________________________________________________________\n",
      "dropout_1 (Dropout)          (None, 64)                0         \n",
      "_________________________________________________________________\n",
      "dense_2 (Dense)              (None, 1)                 65        \n",
      "=================================================================\n",
      "Total params: 4,609\n",
      "Trainable params: 4,609\n",
      "Non-trainable params: 0\n",
      "_________________________________________________________________\n"
     ]
    }
   ],
   "source": [
    "# A function to hold preprocessor, layers, model and compiler \n",
    "def FFBackProp(inputs, output):\n",
    "   \n",
    "\n",
    "    #normalization\n",
    "    normalizer=preprocessing.Normalization()\n",
    "    #then adapt it to the data\n",
    "    normalizer.adapt(np.array(inputs))\n",
    "    \n",
    "    \n",
    "    model1 = tf.keras.models.Sequential([\n",
    "    #tf.keras.layers.Flatten(),\n",
    "    tf.keras.layers.Dense(64,activation=\"relu\", input_shape=(5,), kernel_regularizer=\"l2\"),\n",
    "    tf.keras.layers.Dropout(0.1),\n",
    "    tf.keras.layers.Dense(64,activation=\"relu\", kernel_regularizer=\"l2\"),\n",
    "    tf.keras.layers.Dropout(0.2),\n",
    "    tf.keras.layers.Dense(1),\n",
    "  ])\n",
    "    \n",
    "    \n",
    "#     compile the model\n",
    "    model1.compile(optimizer='adam',\n",
    "                loss='mean_absolute_error', #(from_logits=True),\n",
    "                metrics=[\"mse\"]\n",
    "               )\n",
    "    \n",
    "    model1.summary()\n",
    "    \n",
    "    return model1\n",
    "    \n",
    "myFFBP= FFBackProp(train_input,train_target)\n"
   ]
  },
  {
   "cell_type": "markdown",
   "metadata": {},
   "source": [
    "# Training"
   ]
  },
  {
   "cell_type": "code",
   "execution_count": 8,
   "metadata": {},
   "outputs": [
    {
     "name": "stdout",
     "output_type": "stream",
     "text": [
      "Wall time: 19.8 s\n"
     ]
    }
   ],
   "source": [
    "%%time\n",
    "# tb_callback = tf.keras.callbacks.TensorBoard(log_dir=\"log_folder/ANN\", histogram_freq=1)\n",
    "\n",
    "tb_callback = tf.keras.callbacks.TensorBoard(log_dir=log_folder,\n",
    "                                            histogram_freq=1,\n",
    "                                            write_graph=True,\n",
    "                                            write_images=True,\n",
    "                                            update_freq='epoch',\n",
    "                                            profile_batch=2,\n",
    "                                            embeddings_freq=1)\n",
    "\n",
    "\n",
    "myFFBPtraining = myFFBP.fit(\n",
    "    train_input, train_target,\n",
    "    # Calculate validation results on 30% of the training data\n",
    "    validation_split=0.3,\n",
    "     \n",
    "    \n",
    "    validation_data=(test_input, test_target),\n",
    "    \n",
    "    \n",
    "    # suppress logging\n",
    "    verbose=0,\n",
    "    \n",
    "    epochs=100,\n",
    "    \n",
    "\n",
    "    #early stopping\n",
    "    #an attempt to prevent overfitting\n",
    "    #the fuction to stop the trianing by tracking the validation loss\n",
    "    #callbacks= keras.callbacks.EarlyStopping(monitor='val_loss',patience=5)\n",
    "    \n",
    "    #to store callbacks in logs\n",
    "    callbacks =[tb_callback]\n",
    ")"
   ]
  },
  {
   "cell_type": "code",
   "execution_count": 9,
   "metadata": {},
   "outputs": [
    {
     "data": {
      "text/plain": [
       "[0.15398293733596802, 0.03139942139387131]"
      ]
     },
     "execution_count": 9,
     "metadata": {},
     "output_type": "execute_result"
    }
   ],
   "source": [
    "myFFBP.evaluate(test_input, test_target,\n",
    "                callbacks=[tb_callback],\n",
    "                verbose=0, )"
   ]
  },
  {
   "cell_type": "code",
   "execution_count": 10,
   "metadata": {},
   "outputs": [
    {
     "data": {
      "text/html": [
       "<div>\n",
       "<style scoped>\n",
       "    .dataframe tbody tr th:only-of-type {\n",
       "        vertical-align: middle;\n",
       "    }\n",
       "\n",
       "    .dataframe tbody tr th {\n",
       "        vertical-align: top;\n",
       "    }\n",
       "\n",
       "    .dataframe thead th {\n",
       "        text-align: right;\n",
       "    }\n",
       "</style>\n",
       "<table border=\"1\" class=\"dataframe\">\n",
       "  <thead>\n",
       "    <tr style=\"text-align: right;\">\n",
       "      <th></th>\n",
       "      <th>loss</th>\n",
       "      <th>mse</th>\n",
       "      <th>val_loss</th>\n",
       "      <th>val_mse</th>\n",
       "      <th>epoch</th>\n",
       "    </tr>\n",
       "  </thead>\n",
       "  <tbody>\n",
       "    <tr>\n",
       "      <th>95</th>\n",
       "      <td>0.180770</td>\n",
       "      <td>0.037166</td>\n",
       "      <td>0.162921</td>\n",
       "      <td>0.029786</td>\n",
       "      <td>95</td>\n",
       "    </tr>\n",
       "    <tr>\n",
       "      <th>96</th>\n",
       "      <td>0.178829</td>\n",
       "      <td>0.037247</td>\n",
       "      <td>0.175753</td>\n",
       "      <td>0.031436</td>\n",
       "      <td>96</td>\n",
       "    </tr>\n",
       "    <tr>\n",
       "      <th>97</th>\n",
       "      <td>0.176831</td>\n",
       "      <td>0.036260</td>\n",
       "      <td>0.159870</td>\n",
       "      <td>0.028889</td>\n",
       "      <td>97</td>\n",
       "    </tr>\n",
       "    <tr>\n",
       "      <th>98</th>\n",
       "      <td>0.174758</td>\n",
       "      <td>0.036445</td>\n",
       "      <td>0.160599</td>\n",
       "      <td>0.029435</td>\n",
       "      <td>98</td>\n",
       "    </tr>\n",
       "    <tr>\n",
       "      <th>99</th>\n",
       "      <td>0.174483</td>\n",
       "      <td>0.037054</td>\n",
       "      <td>0.152061</td>\n",
       "      <td>0.029747</td>\n",
       "      <td>99</td>\n",
       "    </tr>\n",
       "  </tbody>\n",
       "</table>\n",
       "</div>"
      ],
      "text/plain": [
       "        loss       mse  val_loss   val_mse  epoch\n",
       "95  0.180770  0.037166  0.162921  0.029786     95\n",
       "96  0.178829  0.037247  0.175753  0.031436     96\n",
       "97  0.176831  0.036260  0.159870  0.028889     97\n",
       "98  0.174758  0.036445  0.160599  0.029435     98\n",
       "99  0.174483  0.037054  0.152061  0.029747     99"
      ]
     },
     "execution_count": 10,
     "metadata": {},
     "output_type": "execute_result"
    }
   ],
   "source": [
    "\n",
    "hist = pd.DataFrame(myFFBPtraining.history)\n",
    "hist['epoch'] = myFFBPtraining.epoch\n",
    "hist.tail()"
   ]
  },
  {
   "cell_type": "code",
   "execution_count": 11,
   "metadata": {},
   "outputs": [
    {
     "data": {
      "image/png": "[encoded data removed]",
      "text/plain": [
       "<Figure size 432x288 with 1 Axes>"
      ]
     },
     "metadata": {
      "needs_background": "light"
     },
     "output_type": "display_data"
    }
   ],
   "source": [
    "# a function to plot loss \n",
    "def plot_loss(arg):\n",
    "  plt.plot(arg.history['loss'], label='loss')\n",
    "  plt.plot(arg.history['val_loss'], label='val_loss')\n",
    "  plt.ylim([0, 1])\n",
    "  plt.xlabel('Epoch')\n",
    "  plt.ylabel('Error [RHOB]')\n",
    "  plt.legend()\n",
    "  plt.grid(True)\n",
    "\n",
    "\n",
    "plot_loss(myFFBPtraining)"
   ]
  },
  {
   "cell_type": "code",
   "execution_count": 12,
   "metadata": {},
   "outputs": [
    {
     "data": {
      "image/png": "[encoded data removed]",
      "text/plain": [
       "<Figure size 432x288 with 2 Axes>"
      ]
     },
     "metadata": {
      "needs_background": "light"
     },
     "output_type": "display_data"
    }
   ],
   "source": [
    "# Plot regression between predicted and actual (Validation)\n",
    "# test_predictions = dnn_model.predict(test_input).flatten()\n",
    "\n",
    "\n",
    "def plot_regre_resid(true, predicted):\n",
    "    fig, (ax1,ax2)=plt.subplots(1,2)\n",
    "    ax1.scatter(true, predicted)\n",
    "    ax1.set_xlabel('True values [RHOB]')\n",
    "    ax1.set_ylabel('Predictions [RHOB]')\n",
    "    ax1.set_title(\"Regression plot\")\n",
    "#     _ = ax1.plot([0, true.max()], [0, true.max()], ls='-', color='red')\n",
    "\n",
    "    residual = true - predicted\n",
    "    ax2.scatter(true, residual)\n",
    "    ax2.set_xlabel('actual')\n",
    "    ax2.set_ylabel('residual')\n",
    "    ax2.set_title(\"Residual plot\")\n",
    "    _ = plt.axhline(0, color='red', ls='--')\n",
    "        \n",
    "    plt.tight_layout()\n",
    "    plt.show\n",
    "    \n",
    "        \n",
    "\n",
    "test_target_actual=test_target\n",
    "\n",
    "test_target_predicted = myFFBP.predict(test_input).flatten()\n",
    "plot_regre_resid(test_target_actual,test_target_predicted)"
   ]
  },
  {
   "cell_type": "code",
   "execution_count": 13,
   "metadata": {},
   "outputs": [
    {
     "data": {
      "image/png": "[encoded data removed]",
      "text/plain": [
       "<Figure size 360x360 with 1 Axes>"
      ]
     },
     "metadata": {
      "needs_background": "light"
     },
     "output_type": "display_data"
    }
   ],
   "source": [
    "\n",
    "def plot_residual_KDE(true, predicted):\n",
    "    residual = true - predicted\n",
    "    _ = sns.displot(residual, kind=\"kde\");\n",
    "    \n",
    "    \n",
    "plot_residual_KDE(test_target_actual,test_target_predicted)"
   ]
  },
  {
   "cell_type": "code",
   "execution_count": 14,
   "metadata": {},
   "outputs": [
    {
     "name": "stdout",
     "output_type": "stream",
     "text": [
      "r2 score: 0.34424758466625227\n",
      "mse: 0.031399432029368686\n",
      "rmse: 0.17719884883759457\n",
      "mae: 0.10776161085460999\n"
     ]
    }
   ],
   "source": [
    "# using sklearn\n",
    "print(\"r2 score: {}\".format(metrics.r2_score(test_target_actual, test_target_predicted)))\n",
    "print(\"mse: {}\".format(metrics.mean_squared_error(test_target_actual, test_target_predicted)))\n",
    "print(\"rmse: {}\".format(np.sqrt(metrics.mean_squared_error(test_target_actual, test_target_predicted))))\n",
    "print(\"mae: {}\".format(metrics.mean_absolute_error(test_target_actual, test_target_predicted)))"
   ]
  },
  {
   "cell_type": "markdown",
   "metadata": {},
   "source": [
    "# Predict a different well"
   ]
  },
  {
   "cell_type": "code",
   "execution_count": 21,
   "metadata": {},
   "outputs": [],
   "source": [
    "# read different sheet from same excel book\n",
    "xlsx = pd.ExcelFile('./Data/Outliers_out.xlsx')\n",
    "df = pd.read_excel(xlsx, '1x 4s')\n",
    "dataset2= df.copy()\n",
    "\n",
    "\n",
    "# split data into input and target\n",
    "\n",
    "inputs2 = dataset2.copy()\n",
    "target2 = inputs2.pop('RHOB')"
   ]
  },
  {
   "cell_type": "code",
   "execution_count": 22,
   "metadata": {},
   "outputs": [
    {
     "data": {
      "text/plain": [
       "Text(0, 0.5, 'predicted')"
      ]
     },
     "execution_count": 22,
     "metadata": {},
     "output_type": "execute_result"
    },
    {
     "data": {
      "image/png": "[encoded data removed]",
      "text/plain": [
       "<Figure size 432x288 with 1 Axes>"
      ]
     },
     "metadata": {
      "needs_background": "light"
     },
     "output_type": "display_data"
    }
   ],
   "source": [
    "predicted2 = myFFBP.predict(inputs2, callbacks=[tb_callback] )\n",
    "fig, ax= plt.subplots()\n",
    "ax.scatter(target2,predicted2)\n",
    "ax.set_xlabel(\"True\")\n",
    "ax.set_ylabel(\"predicted\")"
   ]
  },
  {
   "cell_type": "code",
   "execution_count": 23,
   "metadata": {},
   "outputs": [
    {
     "name": "stdout",
     "output_type": "stream",
     "text": [
      "r2 score: 0.2549326412056695\n",
      "mse: 0.017642383668038438\n",
      "rmse: 0.13282463501940608\n",
      "mae: 0.0933590199835801\n"
     ]
    }
   ],
   "source": [
    "print(\"r2 score: {}\".format(metrics.r2_score( target2, predicted2)))\n",
    "print(\"mse: {}\".format(metrics.mean_squared_error( target2, predicted2)))\n",
    "print(\"rmse: {}\".format(np.sqrt(metrics.mean_squared_error( target2, predicted2))))\n",
    "print(\"mae: {}\".format(metrics.mean_absolute_error( target2, predicted2)))"
   ]
  },
  {
   "cell_type": "code",
   "execution_count": 18,
   "metadata": {},
   "outputs": [
    {
     "data": {
      "text/plain": [
       "Text(0.5, 0, 'RHOB')"
      ]
     },
     "execution_count": 18,
     "metadata": {},
     "output_type": "execute_result"
    },
    {
     "data": {
      "image/png": "[encoded data removed]",
      "text/plain": [
       "<Figure size 432x288 with 3 Axes>"
      ]
     },
     "metadata": {
      "needs_background": "light"
     },
     "output_type": "display_data"
    }
   ],
   "source": [
    "#plot subplots of predicted and actual\n",
    "inputs2 = dataset2.copy()\n",
    "Depth2= inputs2.pop(\"DEPTH\")\n",
    "\n",
    "\n",
    "fig, (ax1,ax2,ax3)=plt.subplots(1,3,sharey=True)\n",
    "fig.suptitle('A comparism of the predicted against the actual')\n",
    "ax1.set_ylabel(\"Depth\")\n",
    "ax1.plot(predicted2,Depth2)\n",
    "ax1.set_xlabel('predicted2')\n",
    "\n",
    "ax2.plot(target2,Depth2)\n",
    "ax2.set_xlabel(\"target2\")\n",
    "\n",
    "ax3.plot(predicted2,Depth2)\n",
    "ax3.plot(target2, Depth2)\n",
    "ax3.set_xlabel(\"RHOB\")"
   ]
  },
  {
   "cell_type": "code",
   "execution_count": 19,
   "metadata": {},
   "outputs": [
    {
     "ename": "SyntaxError",
     "evalue": "invalid syntax (<ipython-input-19-11f445507089>, line 1)",
     "output_type": "error",
     "traceback": [
      "\u001b[1;36m  File \u001b[1;32m\"<ipython-input-19-11f445507089>\"\u001b[1;36m, line \u001b[1;32m1\u001b[0m\n\u001b[1;33m    rm -rvf logs\u001b[0m\n\u001b[1;37m            ^\u001b[0m\n\u001b[1;31mSyntaxError\u001b[0m\u001b[1;31m:\u001b[0m invalid syntax\n"
     ]
    }
   ],
   "source": [
    "rm -rvf logs"
   ]
  },
  {
   "cell_type": "markdown",
   "metadata": {},
   "source": [
    "# TENSORBOARD VISUALISATION\n"
   ]
  },
  {
   "cell_type": "code",
   "execution_count": 26,
   "metadata": {},
   "outputs": [
    {
     "data": {
      "text/plain": [
       "Reusing TensorBoard on port 6006 (pid 27656), started 7 days, 21:43:45 ago. (Use '!kill 27656' to kill it.)"
      ]
     },
     "metadata": {},
     "output_type": "display_data"
    },
    {
     "data": {
      "text/html": [
       "\n",
       "      <iframe id=\"tensorboard-frame-c9f883e97715a89a\" width=\"100%\" height=\"800\" frameborder=\"0\">\n",
       "      </iframe>\n",
       "      <script>\n",
       "        (function() {\n",
       "          const frame = document.getElementById(\"tensorboard-frame-c9f883e97715a89a\");\n",
       "          const url = new URL(\"/\", window.location);\n",
       "          const port = 6006;\n",
       "          if (port) {\n",
       "            url.port = port;\n",
       "          }\n",
       "          frame.src = url;\n",
       "        })();\n",
       "      </script>\n",
       "    "
      ],
      "text/plain": [
       "<IPython.core.display.HTML object>"
      ]
     },
     "metadata": {},
     "output_type": "display_data"
    }
   ],
   "source": [
    "# Load the tensorboard\n",
    "%tensorboard --logdir logs/ANN/fit/\n",
    "# !kill 25184\n",
    "# %tensorboard -- logdir={log_folder}\n",
    "\n",
    "# %tensorboard --logdir /cont"
   ]
  },
  {
   "cell_type": "code",
   "execution_count": 28,
   "metadata": {},
   "outputs": [
    {
     "ename": "SyntaxError",
     "evalue": "invalid syntax (<ipython-input-28-da86704496c2>, line 1)",
     "output_type": "error",
     "traceback": [
      "\u001b[1;36m  File \u001b[1;32m\"<ipython-input-28-da86704496c2>\"\u001b[1;36m, line \u001b[1;32m1\u001b[0m\n\u001b[1;33m    kill 27656\u001b[0m\n\u001b[1;37m         ^\u001b[0m\n\u001b[1;31mSyntaxError\u001b[0m\u001b[1;31m:\u001b[0m invalid syntax\n"
     ]
    }
   ],
   "source": [
    "kill 27656"
   ]
  },
  {
   "cell_type": "markdown",
   "metadata": {},
   "source": []
  }
 ],
 "metadata": {
  "kernelspec": {
   "display_name": "Python 3",
   "language": "python",
   "name": "python3"
  },
  "language_info": {
   "codemirror_mode": {
    "name": "ipython",
    "version": 3
   },
   "file_extension": ".py",
   "mimetype": "text/x-python",
   "name": "python",
   "nbconvert_exporter": "python",
   "pygments_lexer": "ipython3",
   "version": "3.8.5"
  },
  "varInspector": {
   "cols": {
    "lenName": 16,
    "lenType": 16,
    "lenVar": 40
   },
   "kernels_config": {
    "python": {
     "delete_cmd_postfix": "",
     "delete_cmd_prefix": "del ",
     "library": "var_list.py",
     "varRefreshCmd": "print(var_dic_list())"
    },
    "r": {
     "delete_cmd_postfix": ") ",
     "delete_cmd_prefix": "rm(",
     "library": "var_list.r",
     "varRefreshCmd": "cat(var_dic_list()) "
    }
   },
   "types_to_exclude": [
    "module",
    "function",
    "builtin_function_or_method",
    "instance",
    "_Feature"
   ],
   "window_display": false
  }
 },
 "nbformat": 4,
 "nbformat_minor": 4
}
